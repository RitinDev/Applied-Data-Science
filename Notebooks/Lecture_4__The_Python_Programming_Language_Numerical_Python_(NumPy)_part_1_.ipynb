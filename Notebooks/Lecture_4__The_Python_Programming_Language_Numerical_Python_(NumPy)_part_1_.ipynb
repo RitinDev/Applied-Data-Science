{
  "cells": [
    {
      "cell_type": "markdown",
      "metadata": {
        "collapsed": true,
        "id": "H5SOOuWZeB9P"
      },
      "source": [
        "-----\n",
        "# Numerical Python (NumPy) - Part 1\n",
        "-----"
      ]
    },
    {
      "cell_type": "markdown",
      "metadata": {
        "id": "WqCeaMXUDcXL"
      },
      "source": [
        "*NumPy* is the fundamental package for numeric computing with Python. It is widely used in the data science community, as it works efficiently with arrays (another iterable data structure) and matrices. It also provides powerful ways to create, store, and/or manipulate data, which makes it able to seamlessly and speedily integrate with a wide variety of databases. This is also the foundation that Pandas is built on, which is a high-performance data-centric package that we will learn later in the course.\n",
        "\n",
        "When studying NumPy, we will talk about creating arrays with certain data types, manipulating arrays, selecting elements from arrays, and loading datasets into arrays. Such functions are useful for manipulating data and understanding the functionalities of other common Python data packages."
      ]
    },
    {
      "cell_type": "code",
      "execution_count": 2,
      "metadata": {
        "id": "pGZsAWojeB9R"
      },
      "outputs": [],
      "source": [
        "import numpy as np"
      ]
    },
    {
      "cell_type": "markdown",
      "metadata": {
        "id": "jdENmQiweB9S"
      },
      "source": [
        "## Creating Arrays\n",
        "\n",
        "An array is a data structure that stores a collection of items. Like lists, arrays are ordered, mutable (you can add and remove items to it), enclosed in square brackets, and able to store non-unique items.\n",
        "\n",
        "So, what's the difference between arrays and lists?\n",
        "\n",
        "(1) **Arrays need to be declared** using `np.array()`, lists don't.\n",
        "\n",
        "(2) **Arrays can store data very compactly** and are more efficient for storing large amounts of data.\n",
        "\n",
        "(3) **Arrays are great for numerical operations**; lists cannot directly handle math operations.\n",
        "\n"
      ]
    },
    {
      "cell_type": "markdown",
      "metadata": {
        "id": "hedB5ImaeB9S"
      },
      "source": [
        "To create an array, you can create a list and convert it to a numpy array..."
      ]
    },
    {
      "cell_type": "code",
      "execution_count": null,
      "metadata": {
        "id": "8SLT8u1SeB9S"
      },
      "outputs": [],
      "source": [
        "mylist = [1, 2, 3]\n",
        "x = np.array(mylist)\n",
        "x"
      ]
    },
    {
      "cell_type": "markdown",
      "metadata": {
        "id": "8Y7_CrwOeB9U"
      },
      "source": [
        "... Or just pass in a list directly"
      ]
    },
    {
      "cell_type": "code",
      "execution_count": null,
      "metadata": {
        "id": "DDQNvAmEeB9U"
      },
      "outputs": [],
      "source": [
        "y = np.array([4, 5, 6])\n",
        "y"
      ]
    },
    {
      "cell_type": "markdown",
      "metadata": {
        "id": "T1NZ3kleeB9V"
      },
      "source": [
        "To create a \"multidimensional\" array (such as a matrix), we can pass in a list of lists."
      ]
    },
    {
      "cell_type": "code",
      "execution_count": 3,
      "metadata": {
        "id": "YugzDwRSeB9V"
      },
      "outputs": [
        {
          "data": {
            "text/plain": [
              "array([[ 7,  8,  9],\n",
              "       [10, 11, 12]])"
            ]
          },
          "execution_count": 3,
          "metadata": {},
          "output_type": "execute_result"
        }
      ],
      "source": [
        "m = np.array([[7, 8, 9], [10, 11, 12]])\n",
        "m"
      ]
    },
    {
      "cell_type": "markdown",
      "metadata": {
        "id": "VtLXditA4iCb"
      },
      "source": [
        "To know the number of dimensions in a list, we use the `ndim` attribute."
      ]
    },
    {
      "cell_type": "code",
      "execution_count": 4,
      "metadata": {
        "id": "Z346_Pjs4iYC"
      },
      "outputs": [
        {
          "data": {
            "text/plain": [
              "2"
            ]
          },
          "execution_count": 4,
          "metadata": {},
          "output_type": "execute_result"
        }
      ],
      "source": [
        "m.ndim"
      ]
    },
    {
      "cell_type": "markdown",
      "metadata": {
        "id": "AejtSaC5eB9W"
      },
      "source": [
        "To find out the length of each dimension in the array (the number of rows and columns in a 2D array / matrix), we can use the `shape` attribute."
      ]
    },
    {
      "cell_type": "code",
      "execution_count": 5,
      "metadata": {
        "id": "oWMrIM8yeB9W"
      },
      "outputs": [
        {
          "data": {
            "text/plain": [
              "(2, 3)"
            ]
          },
          "execution_count": 5,
          "metadata": {},
          "output_type": "execute_result"
        }
      ],
      "source": [
        "m.shape"
      ]
    },
    {
      "cell_type": "markdown",
      "metadata": {
        "id": "G6Jw4hY5LpoV"
      },
      "source": [
        "Finally, we can use `dtype` to check the type of items in the array."
      ]
    },
    {
      "cell_type": "code",
      "execution_count": 6,
      "metadata": {
        "id": "jF8rGuCQL8Xr"
      },
      "outputs": [
        {
          "data": {
            "text/plain": [
              "dtype('float64')"
            ]
          },
          "execution_count": 6,
          "metadata": {},
          "output_type": "execute_result"
        }
      ],
      "source": [
        "c = np.array([2.2, 5, 1.1])\n",
        "c.dtype"
      ]
    },
    {
      "cell_type": "markdown",
      "metadata": {
        "id": "_TLNx3GfMMli"
      },
      "source": [
        "Let's look at the data in `c`:"
      ]
    },
    {
      "cell_type": "code",
      "execution_count": 7,
      "metadata": {
        "id": "i45E3TuxMM6o"
      },
      "outputs": [
        {
          "data": {
            "text/plain": [
              "array([2.2, 5. , 1.1])"
            ]
          },
          "execution_count": 7,
          "metadata": {},
          "output_type": "execute_result"
        }
      ],
      "source": [
        "c"
      ]
    },
    {
      "cell_type": "markdown",
      "metadata": {
        "id": "yxqtD7KANRbb"
      },
      "source": [
        "Note that numpy automatically converts integers, like 5, up to floats, since there is no loss of prescision. Numpy will try and give you the best data type format possible to keep your data types homogeneous, which means all the same, in the array"
      ]
    },
    {
      "cell_type": "markdown",
      "metadata": {
        "id": "LKlvu8GgMaG7"
      },
      "source": [
        "We can also create a sequence of numbers in an array with the `arange()` function. The first argument is the *starting bound* and the second argument is the *ending bound*, and the third argument is the *difference between each consecutive numbers*."
      ]
    },
    {
      "cell_type": "code",
      "execution_count": 8,
      "metadata": {
        "id": "16bG3PINeB9Y"
      },
      "outputs": [
        {
          "data": {
            "text/plain": [
              "array([ 0,  2,  4,  6,  8, 10, 12, 14, 16, 18, 20, 22, 24, 26, 28])"
            ]
          },
          "execution_count": 8,
          "metadata": {},
          "output_type": "execute_result"
        }
      ],
      "source": [
        "n = np.arange(0, 30, 2) # start at 0 count up by 2, stop before 30\n",
        "n"
      ]
    },
    {
      "cell_type": "markdown",
      "metadata": {
        "id": "_6nM2k1A8bYS"
      },
      "source": [
        "Note that NumPy's `np.arange()` function is very similar to Python's built-in `range()` function. The main difference is that `.arange()` is a function of NumPy and returns an `ndarray` class (which stands for n-dimensional array), whereas Python's `range()` is actually an object and returns a range object.\n",
        "\n",
        "While both are very similar, and serve the same purpose, I do have to highlight the two main differences between them:\n",
        "\n",
        "  1. If you need to work with floating numbers (say iterate with half a step difference), then you can only do that with `np.arange()` as Python's `range()` doesn't work except with integers.\n",
        "\n",
        "  2. `np.arange()` is much faster in creating sequences because of the way that the `np.ndarray` class is actually implemented and works under the hood. However, if you need to work with numbers on demand and you are concerned that you might have issues with the memory, then `range()` is a better choice if you can work with integers."
      ]
    },
    {
      "cell_type": "markdown",
      "metadata": {
        "id": "arV3Pf17eB9Z"
      },
      "source": [
        "### Useful Functions (for creating arrays)\n",
        "\n",
        "1. `reshape` returns an array with the same data but with a new shape. (Note that `reshape` is a function of the array and not numpy)"
      ]
    },
    {
      "cell_type": "code",
      "execution_count": 9,
      "metadata": {
        "id": "4aPPRvk4eB9Z"
      },
      "outputs": [
        {
          "data": {
            "text/plain": [
              "array([[ 0,  2,  4,  6,  8],\n",
              "       [10, 12, 14, 16, 18],\n",
              "       [20, 22, 24, 26, 28]])"
            ]
          },
          "execution_count": 9,
          "metadata": {},
          "output_type": "execute_result"
        }
      ],
      "source": [
        "n = n.reshape(3, 5) # reshape array to be 3x5\n",
        "n"
      ]
    },
    {
      "cell_type": "markdown",
      "metadata": {
        "id": "YO1jEyVjeB9a"
      },
      "source": [
        "2. `linspace` returns evenly spaced numbers over a specified interval."
      ]
    },
    {
      "cell_type": "code",
      "execution_count": 15,
      "metadata": {
        "id": "9fnmsyeZeB9a"
      },
      "outputs": [
        {
          "data": {
            "text/plain": [
              "array([0. , 0.5, 1. , 1.5, 2. , 2.5, 3. , 3.5, 4. ])"
            ]
          },
          "execution_count": 15,
          "metadata": {},
          "output_type": "execute_result"
        }
      ],
      "source": [
        "o = np.linspace(0, 4, 9) # returns 9 evenly spaced values from 0 to 4\n",
        "o"
      ]
    },
    {
      "cell_type": "markdown",
      "metadata": {
        "id": "577rUes-eB9b"
      },
      "source": [
        "3. `resize` changes the shape and size of array in-place.\n",
        "\n",
        "(The difference between `.reshape()` and `.resize()` is that the first does not change the original array but only returns the changed array, whereas the `.resize()` method returns nothing and directly changes the original array.)"
      ]
    },
    {
      "cell_type": "code",
      "execution_count": 11,
      "metadata": {
        "id": "s95T8iiieB9b"
      },
      "outputs": [
        {
          "data": {
            "text/plain": [
              "array([[0. , 0.5, 1. ],\n",
              "       [1.5, 2. , 2.5],\n",
              "       [3. , 3.5, 4. ]])"
            ]
          },
          "execution_count": 11,
          "metadata": {},
          "output_type": "execute_result"
        }
      ],
      "source": [
        "o.resize(3, 3)\n",
        "o"
      ]
    },
    {
      "cell_type": "markdown",
      "metadata": {
        "id": "I-7V5JA2OXB7"
      },
      "source": [
        "Sometimes we know the shape of an array that we want to create, but not what we want to be in it. NumPy offers several functions to create arrays with initial placeholders, such as zero's or one's."
      ]
    },
    {
      "cell_type": "markdown",
      "metadata": {
        "id": "tFarIAXkeB9d"
      },
      "source": [
        "4. `ones` returns a new array of given shape and type, filled with ones."
      ]
    },
    {
      "cell_type": "code",
      "execution_count": 12,
      "metadata": {
        "id": "dP3Q3j9QeB9d"
      },
      "outputs": [
        {
          "data": {
            "text/plain": [
              "array([[1., 1.],\n",
              "       [1., 1.],\n",
              "       [1., 1.]])"
            ]
          },
          "execution_count": 12,
          "metadata": {},
          "output_type": "execute_result"
        }
      ],
      "source": [
        "np.ones((3, 2))"
      ]
    },
    {
      "cell_type": "markdown",
      "metadata": {
        "id": "s5qHYUKHeB9e"
      },
      "source": [
        "5. `zeros` returns a new array of given shape and type, filled with zeros.\n",
        "\n"
      ]
    },
    {
      "cell_type": "code",
      "execution_count": 13,
      "metadata": {
        "id": "FKFgOnv2eB9e"
      },
      "outputs": [
        {
          "data": {
            "text/plain": [
              "array([[0., 0., 0.],\n",
              "       [0., 0., 0.]])"
            ]
          },
          "execution_count": 13,
          "metadata": {},
          "output_type": "execute_result"
        }
      ],
      "source": [
        "np.zeros((2, 3))"
      ]
    },
    {
      "cell_type": "markdown",
      "metadata": {
        "id": "bYXdL4-1OsP0"
      },
      "source": [
        "6. `random.rand()` returns an array with random numbers."
      ]
    },
    {
      "cell_type": "code",
      "execution_count": 16,
      "metadata": {
        "id": "uETuxTEgOvA5"
      },
      "outputs": [
        {
          "data": {
            "text/plain": [
              "array([[0.25886987, 0.30521197, 0.01322924],\n",
              "       [0.62400233, 0.37402184, 0.27072583]])"
            ]
          },
          "execution_count": 16,
          "metadata": {},
          "output_type": "execute_result"
        }
      ],
      "source": [
        "np.random.rand(2,3)"
      ]
    },
    {
      "cell_type": "markdown",
      "metadata": {
        "id": "ipPk0e7DROUT"
      },
      "source": [
        "Note: You'll see `zeros`, `ones`, and `rand` used quite often to create example arrays, especially in stack overflow posts and other forums."
      ]
    },
    {
      "cell_type": "markdown",
      "metadata": {
        "id": "JVk9A6KaeB9f"
      },
      "source": [
        "7. `eye` returns a 2-D array with ones on the diagonal and zeros elsewhere, also known as an \"identity matrix\"."
      ]
    },
    {
      "cell_type": "code",
      "execution_count": 17,
      "metadata": {
        "id": "eOw2k2iFeB9g"
      },
      "outputs": [
        {
          "data": {
            "text/plain": [
              "array([[1., 0., 0.],\n",
              "       [0., 1., 0.],\n",
              "       [0., 0., 1.]])"
            ]
          },
          "execution_count": 17,
          "metadata": {},
          "output_type": "execute_result"
        }
      ],
      "source": [
        "np.eye(3)"
      ]
    },
    {
      "cell_type": "markdown",
      "metadata": {
        "id": "EzDTV52aeB9h"
      },
      "source": [
        "8. `diag` extracts a diagonal or constructs a diagonal array."
      ]
    },
    {
      "cell_type": "code",
      "execution_count": 18,
      "metadata": {
        "id": "9mgfUnR4eB9h"
      },
      "outputs": [
        {
          "data": {
            "text/plain": [
              "array([[2, 0, 0, 0],\n",
              "       [0, 5, 0, 0],\n",
              "       [0, 0, 3, 0],\n",
              "       [0, 0, 0, 5]])"
            ]
          },
          "execution_count": 18,
          "metadata": {},
          "output_type": "execute_result"
        }
      ],
      "source": [
        "x = np.array([2, 5, 3, 5])\n",
        "\n",
        "np.diag(x)"
      ]
    },
    {
      "cell_type": "markdown",
      "metadata": {
        "id": "jg-lEEvgeB9i"
      },
      "source": [
        "9. Create an array with a repeated sequence using the repeating list property using the `*` (or see `np.tile`)."
      ]
    },
    {
      "cell_type": "code",
      "execution_count": 20,
      "metadata": {
        "id": "6bRdn3dkeB9i"
      },
      "outputs": [
        {
          "data": {
            "text/plain": [
              "array([1, 2, 3, 1, 2, 3, 1, 2, 3])"
            ]
          },
          "execution_count": 20,
          "metadata": {},
          "output_type": "execute_result"
        }
      ],
      "source": [
        "np.array([1, 2, 3] * 3)"
      ]
    },
    {
      "cell_type": "markdown",
      "metadata": {
        "id": "OVm6E5TNeB9j"
      },
      "source": [
        "10. `repeat` repeats elements of an array."
      ]
    },
    {
      "cell_type": "code",
      "execution_count": 21,
      "metadata": {
        "id": "H2ismEgBeB9k"
      },
      "outputs": [
        {
          "data": {
            "text/plain": [
              "array([1, 1, 1, 2, 2, 2, 3, 3, 3])"
            ]
          },
          "execution_count": 21,
          "metadata": {},
          "output_type": "execute_result"
        }
      ],
      "source": [
        "np.repeat([1, 2, 3], 3)"
      ]
    },
    {
      "cell_type": "markdown",
      "metadata": {
        "id": "4fq0uVh_eB9l"
      },
      "source": [
        "### Combining Arrays"
      ]
    },
    {
      "cell_type": "markdown",
      "metadata": {
        "id": "d_11cM8Glg3S"
      },
      "source": [
        "Say we have 2 two-dimensional arrays as follows, and wish to combine them into a single two-dimensional array."
      ]
    },
    {
      "cell_type": "code",
      "execution_count": 22,
      "metadata": {
        "id": "f_snq-8ceB9l"
      },
      "outputs": [
        {
          "name": "stdout",
          "output_type": "stream",
          "text": [
            "[[1 1 1]\n",
            " [1 1 1]]\n",
            "[[0.57952484 0.07027974 0.3974206 ]\n",
            " [0.55875023 0.01255678 0.55301728]]\n"
          ]
        }
      ],
      "source": [
        "p = np.ones([2, 3], int)\n",
        "print(p)\n",
        "\n",
        "r = np.random.rand(2,3)\n",
        "print(r)"
      ]
    },
    {
      "cell_type": "markdown",
      "metadata": {
        "id": "WNP2qGQ6eB9n"
      },
      "source": [
        "Use `vstack` to stack arrays in sequence vertically (row wise)."
      ]
    },
    {
      "cell_type": "code",
      "execution_count": 23,
      "metadata": {
        "id": "oMJST9A0eB9o"
      },
      "outputs": [
        {
          "data": {
            "text/plain": [
              "array([[1.        , 1.        , 1.        ],\n",
              "       [1.        , 1.        , 1.        ],\n",
              "       [0.57952484, 0.07027974, 0.3974206 ],\n",
              "       [0.55875023, 0.01255678, 0.55301728]])"
            ]
          },
          "execution_count": 23,
          "metadata": {},
          "output_type": "execute_result"
        }
      ],
      "source": [
        "np.vstack([p, r])"
      ]
    },
    {
      "cell_type": "markdown",
      "metadata": {
        "id": "MB0SqHW4eB9p"
      },
      "source": [
        "Use `hstack` to stack arrays in sequence horizontally (column wise)."
      ]
    },
    {
      "cell_type": "code",
      "execution_count": 24,
      "metadata": {
        "id": "kS7WkkrmeB9p"
      },
      "outputs": [
        {
          "data": {
            "text/plain": [
              "array([[1.        , 1.        , 1.        , 0.57952484, 0.07027974,\n",
              "        0.3974206 ],\n",
              "       [1.        , 1.        , 1.        , 0.55875023, 0.01255678,\n",
              "        0.55301728]])"
            ]
          },
          "execution_count": 24,
          "metadata": {},
          "output_type": "execute_result"
        }
      ],
      "source": [
        "np.hstack([p, r])"
      ]
    },
    {
      "cell_type": "markdown",
      "metadata": {
        "id": "CtLPxHJCeB9q"
      },
      "source": [
        "## Array Operations\n",
        "We can do many things on arrays, such as mathematical manipulation (addition, subtraction, square, exponents) as well as use boolean arrays. We can also do matrix manipulation such as product, transpose, inverse, and so forth."
      ]
    },
    {
      "cell_type": "markdown",
      "metadata": {
        "id": "sDuTRBlNeB9q"
      },
      "source": [
        "###Mathematical Manipulation\n",
        "\n",
        "Unlike lists, arrays can directly handle math operations.\n",
        "\n",
        "For example, let's create a couple of arrays. Now, let's use `+`, `-`, `*`, `/` and `**` to perform element-wise addition, subtraction, multiplication, division and power."
      ]
    },
    {
      "cell_type": "code",
      "execution_count": 25,
      "metadata": {
        "id": "sd41worfeB9r"
      },
      "outputs": [
        {
          "name": "stdout",
          "output_type": "stream",
          "text": [
            "[1 2 3]\n",
            "[4 5 6]\n",
            "[5 7 9]\n",
            "[-3 -3 -3]\n"
          ]
        }
      ],
      "source": [
        "x = np.array([1,2,3])\n",
        "y = np.array([4,5,6])\n",
        "\n",
        "print(x)\n",
        "print(y)\n",
        "print(x + y) # elementwise addition     [1 2 3] + [4 5 6] = [5  7  9]\n",
        "print(x - y) # elementwise subtraction  [1 2 3] - [4 5 6] = [-3 -3 -3]"
      ]
    },
    {
      "cell_type": "code",
      "execution_count": 26,
      "metadata": {
        "id": "bTJnjaEKeB9s"
      },
      "outputs": [
        {
          "name": "stdout",
          "output_type": "stream",
          "text": [
            "[ 4 10 18]\n",
            "[0.25 0.4  0.5 ]\n"
          ]
        }
      ],
      "source": [
        "print(x * y) # elementwise multiplication  [1 2 3] * [4 5 6] = [4  10  18]\n",
        "print(x / y) # elementwise divison         [1 2 3] / [4 5 6] = [0.25  0.4  0.5]"
      ]
    },
    {
      "cell_type": "code",
      "execution_count": 27,
      "metadata": {
        "id": "7qVi9jFDeB9t"
      },
      "outputs": [
        {
          "name": "stdout",
          "output_type": "stream",
          "text": [
            "[  1  32 729]\n"
          ]
        }
      ],
      "source": [
        "print(x**y) # elementwise power  [1 2 3] ^[4 5 6] =  [1^4 2^5 3^6] = [1 32 729]"
      ]
    },
    {
      "cell_type": "markdown",
      "metadata": {
        "id": "dpbfVMYelCCf"
      },
      "source": [
        "And also unlike lists, it can even handle math manipulations with scalars.\n",
        "\n",
        "Let's create a list and an array and see how an array handles `+` and `*` vs how we know lists handle them:"
      ]
    },
    {
      "cell_type": "code",
      "execution_count": 28,
      "metadata": {
        "id": "NGwRT2UglDcf"
      },
      "outputs": [
        {
          "name": "stdout",
          "output_type": "stream",
          "text": [
            "[1, 2, 3, 3]\n",
            "[4 5 6]\n"
          ]
        }
      ],
      "source": [
        "x = [1,2,3]\n",
        "y = np.array([1,2,3])\n",
        "\n",
        "print(x+[3]) #addition can only be done to concatenate another list\n",
        "print(y+[3]) #addition is elementwise, be it scalar or list or array"
      ]
    },
    {
      "cell_type": "code",
      "execution_count": 29,
      "metadata": {
        "id": "1yMFUjW7l8i6"
      },
      "outputs": [
        {
          "name": "stdout",
          "output_type": "stream",
          "text": [
            "[1, 2, 3, 1, 2, 3, 1, 2, 3]\n",
            "[3 6 9]\n"
          ]
        }
      ],
      "source": [
        "print(x*3) # * is requivalent to repeat in lists\n",
        "print(y*3) # * is elementwise multiplication in arrays"
      ]
    },
    {
      "cell_type": "markdown",
      "metadata": {
        "id": "FTWw6kdJnjXD"
      },
      "source": [
        "Arrays can also handle `-`, '/', and '**' with scalars, while lists would just return errors."
      ]
    },
    {
      "cell_type": "markdown",
      "metadata": {
        "id": "of6t271peB97"
      },
      "source": [
        "### Math Functions"
      ]
    },
    {
      "cell_type": "markdown",
      "metadata": {
        "id": "HxBe4WOxeB97"
      },
      "source": [
        "NumPy also has many built in math functions that can be performed on arrays.\n",
        "\n",
        "Let's look at examples of the commonly used ones:"
      ]
    },
    {
      "cell_type": "code",
      "execution_count": 30,
      "metadata": {
        "id": "EYIIN62ueB97"
      },
      "outputs": [],
      "source": [
        "a = np.array([-4, -2, 1, 3, 5])"
      ]
    },
    {
      "cell_type": "code",
      "execution_count": 31,
      "metadata": {
        "id": "Sp4gJ_RoeB99"
      },
      "outputs": [
        {
          "data": {
            "text/plain": [
              "3"
            ]
          },
          "execution_count": 31,
          "metadata": {},
          "output_type": "execute_result"
        }
      ],
      "source": [
        "a.sum()"
      ]
    },
    {
      "cell_type": "code",
      "execution_count": 32,
      "metadata": {
        "id": "VnhP3EkpeB9-"
      },
      "outputs": [
        {
          "data": {
            "text/plain": [
              "5"
            ]
          },
          "execution_count": 32,
          "metadata": {},
          "output_type": "execute_result"
        }
      ],
      "source": [
        "a.max()"
      ]
    },
    {
      "cell_type": "code",
      "execution_count": 34,
      "metadata": {
        "id": "QAynu8IReB9_"
      },
      "outputs": [
        {
          "data": {
            "text/plain": [
              "-4"
            ]
          },
          "execution_count": 34,
          "metadata": {},
          "output_type": "execute_result"
        }
      ],
      "source": [
        "a.min()"
      ]
    },
    {
      "cell_type": "code",
      "execution_count": 33,
      "metadata": {
        "id": "W3u3e0PjeB-A"
      },
      "outputs": [
        {
          "data": {
            "text/plain": [
              "0.6"
            ]
          },
          "execution_count": 33,
          "metadata": {},
          "output_type": "execute_result"
        }
      ],
      "source": [
        "a.mean()"
      ]
    },
    {
      "cell_type": "code",
      "execution_count": 35,
      "metadata": {
        "id": "tz08LlCCeB-B"
      },
      "outputs": [
        {
          "data": {
            "text/plain": [
              "3.2619012860600183"
            ]
          },
          "execution_count": 35,
          "metadata": {},
          "output_type": "execute_result"
        }
      ],
      "source": [
        "a.std()"
      ]
    },
    {
      "cell_type": "markdown",
      "metadata": {
        "id": "VS5xkJoyeB-C"
      },
      "source": [
        "NumPy also has other functions, `argmax` and `argmin`, that return the index of the maximum and minimum values in the array.\n",
        "\n",
        "Remember, indexing always starts at 0."
      ]
    },
    {
      "cell_type": "code",
      "execution_count": 36,
      "metadata": {
        "id": "6WAs55ggeB-C"
      },
      "outputs": [
        {
          "data": {
            "text/plain": [
              "4"
            ]
          },
          "execution_count": 36,
          "metadata": {},
          "output_type": "execute_result"
        }
      ],
      "source": [
        "a.argmax()"
      ]
    },
    {
      "cell_type": "code",
      "execution_count": 37,
      "metadata": {
        "id": "nyOnDXj7eB-D"
      },
      "outputs": [
        {
          "data": {
            "text/plain": [
              "0"
            ]
          },
          "execution_count": 37,
          "metadata": {},
          "output_type": "execute_result"
        }
      ],
      "source": [
        "a.argmin()"
      ]
    },
    {
      "cell_type": "markdown",
      "metadata": {
        "id": "QXvGWWips-Cr"
      },
      "source": [
        "### Matrix Functions"
      ]
    },
    {
      "cell_type": "markdown",
      "metadata": {
        "id": "MdfCsMWqypPF"
      },
      "source": [
        "Besides elementwise manipulation, it is important to know that numpy supports matrix manipulation as well.\n",
        "\n",
        "Let's look at matrix product. If we want to do elementwise product, we use the \"*\" sign."
      ]
    },
    {
      "cell_type": "code",
      "execution_count": 38,
      "metadata": {
        "id": "UrTDgAmkw6a4"
      },
      "outputs": [
        {
          "name": "stdout",
          "output_type": "stream",
          "text": [
            "[[2 0]\n",
            " [0 4]]\n"
          ]
        }
      ],
      "source": [
        "A = np.array([[1,1],[0,1]])\n",
        "B = np.array([[2,0],[3,4]])\n",
        "\n",
        "print(A*B)"
      ]
    },
    {
      "cell_type": "markdown",
      "metadata": {
        "id": "7DBzLxMyeB9u"
      },
      "source": [
        "If we want to do matrix dot product, we can use the \"@\" sign or use the `.dot()` function\n",
        "\n",
        "$ \\begin{bmatrix}x_1 \\ x_2 \\ x_3\\end{bmatrix}\n",
        "\\cdot\n",
        "\\begin{bmatrix}y_1 \\\\ y_2 \\\\ y_3\\end{bmatrix}\n",
        "= x_1 y_1 + x_2 y_2 + x_3 y_3$"
      ]
    },
    {
      "cell_type": "code",
      "execution_count": 39,
      "metadata": {
        "id": "z5kQFhtleB9u"
      },
      "outputs": [
        {
          "name": "stdout",
          "output_type": "stream",
          "text": [
            "32\n",
            "32\n"
          ]
        }
      ],
      "source": [
        "x = np.array([1,2,3])\n",
        "y = np.array([4,5,6])\n",
        "\n",
        "print(x@y) # dot product  1*4 + 2*5 + 3*6\n",
        "\n",
        "print(x.dot(y)) #same result"
      ]
    },
    {
      "cell_type": "markdown",
      "metadata": {
        "id": "qkDi6yA5eB9w"
      },
      "source": [
        "Let's look at transposing arrays. Transposing permutes the dimensions of the array, i.e. switches the rows and columns."
      ]
    },
    {
      "cell_type": "code",
      "execution_count": 40,
      "metadata": {
        "id": "Ia2gxUKpeB9w"
      },
      "outputs": [
        {
          "data": {
            "text/plain": [
              "array([[ 4,  5,  6],\n",
              "       [16, 25, 36]])"
            ]
          },
          "execution_count": 40,
          "metadata": {},
          "output_type": "execute_result"
        }
      ],
      "source": [
        "#Let's create a two dimensional array where the second row is the the squared values of the first\n",
        "z = np.array([y, y**2])\n",
        "z"
      ]
    },
    {
      "cell_type": "markdown",
      "metadata": {
        "id": "olLkrBVWeB9x"
      },
      "source": [
        "Just like in a two dimensional list, we can use `.shape` to find the size of the dimensions of an array.\n",
        "\n",
        "The shape of array `z` is `(2,3)` before transposing."
      ]
    },
    {
      "cell_type": "code",
      "execution_count": 41,
      "metadata": {
        "id": "t_OjtRKseB9x"
      },
      "outputs": [
        {
          "data": {
            "text/plain": [
              "(2, 3)"
            ]
          },
          "execution_count": 41,
          "metadata": {},
          "output_type": "execute_result"
        }
      ],
      "source": [
        "z.shape"
      ]
    },
    {
      "cell_type": "markdown",
      "metadata": {
        "id": "9meJsFj5eB9y"
      },
      "source": [
        "You can transpose using `.T` (i.e. row 1 becomes col 1, row 2 become col 2, etc)"
      ]
    },
    {
      "cell_type": "code",
      "execution_count": 42,
      "metadata": {
        "id": "bdpHL3H0eB9z"
      },
      "outputs": [
        {
          "data": {
            "text/plain": [
              "array([[ 4, 16],\n",
              "       [ 5, 25],\n",
              "       [ 6, 36]])"
            ]
          },
          "execution_count": 42,
          "metadata": {},
          "output_type": "execute_result"
        }
      ],
      "source": [
        "z.T"
      ]
    },
    {
      "cell_type": "markdown",
      "metadata": {
        "id": "fo_OaWTAeB91"
      },
      "source": [
        "You can see that the number of rows has swapped with the number of columns."
      ]
    },
    {
      "cell_type": "code",
      "execution_count": 43,
      "metadata": {
        "id": "S4fRXpw3eB91"
      },
      "outputs": [
        {
          "data": {
            "text/plain": [
              "(3, 2)"
            ]
          },
          "execution_count": 43,
          "metadata": {},
          "output_type": "execute_result"
        }
      ],
      "source": [
        "z.T.shape"
      ]
    },
    {
      "cell_type": "markdown",
      "metadata": {
        "id": "EM0DwcfqxIrs"
      },
      "source": [
        "This is just a taste of how NumPy deals with matrix manipulation. You don't have to worry about complex matrix operations for this course, but it's important to know that numpy is the underpinning of scientific computing libraries in python, and that it is capable of doing both element-wise operations as well as matrix-level operations."
      ]
    }
  ],
  "metadata": {
    "colab": {
      "provenance": [],
      "toc_visible": true
    },
    "kernelspec": {
      "display_name": "Python 3",
      "language": "python",
      "name": "python3"
    },
    "language_info": {
      "codemirror_mode": {
        "name": "ipython",
        "version": 3
      },
      "file_extension": ".py",
      "mimetype": "text/x-python",
      "name": "python",
      "nbconvert_exporter": "python",
      "pygments_lexer": "ipython3",
      "version": "3.11.0"
    }
  },
  "nbformat": 4,
  "nbformat_minor": 0
}
