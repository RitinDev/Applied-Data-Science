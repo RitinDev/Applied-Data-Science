{
  "cells": [
    {
      "cell_type": "markdown",
      "metadata": {
        "id": "YVrHhtc1eB69"
      },
      "source": [
        "<br>\n",
        "\n",
        "---\n",
        "# Types and Sequences\n",
        "---"
      ]
    },
    {
      "cell_type": "markdown",
      "metadata": {
        "id": "HJveh0fewHTq"
      },
      "source": [
        "The absence of static typing (i.e. formally defining a variable type) in Python doesn't mean that types don't exist. Python has a built in function called `type()` which shows you the type a given reference is."
      ]
    },
    {
      "cell_type": "markdown",
      "metadata": {
        "id": "aQQN1j0geB69"
      },
      "source": [
        "##Common types\n",
        "Some of the common types include: strings (`str`), integers (`int`), floating point variables (`float`), and the none type (`NoneType`). And as we've seen in the last lecture, you can even assign a function to a variable, making `function` type also exist.\n",
        "\n"
      ]
    },
    {
      "cell_type": "code",
      "execution_count": 2,
      "metadata": {
        "id": "AChHI-oWeB6-"
      },
      "outputs": [
        {
          "data": {
            "text/plain": [
              "str"
            ]
          },
          "execution_count": 2,
          "metadata": {},
          "output_type": "execute_result"
        }
      ],
      "source": [
        "type(\"This is a string\")"
      ]
    },
    {
      "cell_type": "code",
      "execution_count": 3,
      "metadata": {
        "id": "sZKh7SX0eB7C"
      },
      "outputs": [
        {
          "data": {
            "text/plain": [
              "int"
            ]
          },
          "execution_count": 3,
          "metadata": {},
          "output_type": "execute_result"
        }
      ],
      "source": [
        "type(1)"
      ]
    },
    {
      "cell_type": "code",
      "execution_count": 4,
      "metadata": {
        "id": "JFvgPrmbeB7F"
      },
      "outputs": [
        {
          "data": {
            "text/plain": [
              "float"
            ]
          },
          "execution_count": 4,
          "metadata": {},
          "output_type": "execute_result"
        }
      ],
      "source": [
        "type(1.0)"
      ]
    },
    {
      "cell_type": "code",
      "execution_count": 5,
      "metadata": {
        "id": "81G5ZbFceB7A"
      },
      "outputs": [
        {
          "data": {
            "text/plain": [
              "NoneType"
            ]
          },
          "execution_count": 5,
          "metadata": {},
          "output_type": "execute_result"
        }
      ],
      "source": [
        "type(None)"
      ]
    },
    {
      "cell_type": "code",
      "execution_count": null,
      "metadata": {
        "id": "Xd1nAnzleB7I"
      },
      "outputs": [],
      "source": [
        "def add_numbers(x,y):\n",
        "  return x+y\n",
        "\n",
        "type(add_numbers)"
      ]
    },
    {
      "cell_type": "markdown",
      "metadata": {
        "id": "Xof-BZFOUNrq"
      },
      "source": [
        "A lot of Python's built around different kinds of **sequences** or **collection types**. Three native kinds of collections are: tuples, lists, and dictionaries."
      ]
    },
    {
      "cell_type": "markdown",
      "metadata": {
        "id": "L6PI4djMeB7K"
      },
      "source": [
        "##Tuples\n",
        "A tuple is a sequence of variables which are **immutable**. That means that a tuple has items in a certain order, but that it *cannot be changed once created*.\n",
        "\n",
        "We write tuples using parentheses, `()`, and we can mix types for the contents of the tuple. Here's a tuple which has four items. Two are numbers, and two are strings.\n",
        "\n",
        "*Note:* I've used single quotes for a string, whereas previously I've used double quotes. In Python, either single or double quotes\n",
        "can be used to denote string values."
      ]
    },
    {
      "cell_type": "code",
      "execution_count": 6,
      "metadata": {
        "id": "8KdbuGGAeB7L"
      },
      "outputs": [
        {
          "data": {
            "text/plain": [
              "tuple"
            ]
          },
          "execution_count": 6,
          "metadata": {},
          "output_type": "execute_result"
        }
      ],
      "source": [
        "x = (1, 'a', 2, 'b')\n",
        "type(x)"
      ]
    },
    {
      "cell_type": "markdown",
      "metadata": {
        "id": "U1pk-47YeB7N"
      },
      "source": [
        "## Lists\n",
        "Lists are very similar to tuples, but are a **mutable** data structure. This means that you can change their length, number of elements, and the element values.\n",
        "\n",
        "A list is declared using the square brackets, `[]`."
      ]
    },
    {
      "cell_type": "code",
      "execution_count": 7,
      "metadata": {
        "id": "m2qcwcnteB7O"
      },
      "outputs": [
        {
          "data": {
            "text/plain": [
              "list"
            ]
          },
          "execution_count": 7,
          "metadata": {},
          "output_type": "execute_result"
        }
      ],
      "source": [
        "x = [1, 'a', 2, 'b']\n",
        "type(x)"
      ]
    },
    {
      "cell_type": "markdown",
      "metadata": {
        "id": "zUM_TddkeB7Q"
      },
      "source": [
        "Since lists are mutable, there are different ways to change the contents of a list.\n",
        "\n",
        "We can use Python's built-in `.append()` function to append an new object to the end of a list."
      ]
    },
    {
      "cell_type": "code",
      "execution_count": null,
      "metadata": {
        "id": "NUWSf1-6eB7R"
      },
      "outputs": [],
      "source": [
        "x.append(3.3)\n",
        "print(x)"
      ]
    },
    {
      "cell_type": "markdown",
      "metadata": {
        "id": "wSkvhIaWSz1I"
      },
      "source": [
        "We can also use `.remove()` to remove an item from the list\n",
        "\n"
      ]
    },
    {
      "cell_type": "code",
      "execution_count": null,
      "metadata": {
        "id": "9eCX_tPLS0F3"
      },
      "outputs": [],
      "source": [
        "x.remove(2)\n",
        "print(x)"
      ]
    },
    {
      "cell_type": "markdown",
      "metadata": {
        "id": "dHjUhLxJhy0C"
      },
      "source": [
        "What do you think `.pop()` does?"
      ]
    },
    {
      "cell_type": "code",
      "execution_count": null,
      "metadata": {
        "id": "aYWmOZAX-Nqi"
      },
      "outputs": [],
      "source": [
        "x.pop()\n",
        "x"
      ]
    },
    {
      "cell_type": "markdown",
      "metadata": {
        "id": "Ja6mR1x-eB7T"
      },
      "source": [
        "Both lists and tuples are \"**iterable**\" types, so you can write loops to go\n",
        "through every value they hold.\n",
        "\n",
        "The norm, if you want to look each item in the list is to use a `for` loop."
      ]
    },
    {
      "cell_type": "code",
      "execution_count": null,
      "metadata": {
        "id": "KQNmrXcQeB7T"
      },
      "outputs": [],
      "source": [
        "for item in x:\n",
        "    print(item)"
      ]
    },
    {
      "cell_type": "markdown",
      "metadata": {
        "id": "AuviPLOqeB7W"
      },
      "source": [
        "... Or using the indexing operator with a `while` loop"
      ]
    },
    {
      "cell_type": "code",
      "execution_count": null,
      "metadata": {
        "id": "sYXX5rZOeB7W"
      },
      "outputs": [],
      "source": [
        "i=0\n",
        "\n",
        "#what do you think len() does?\n",
        "while( i != len(x)):\n",
        "    print(x[i]) #x[i] returns the element in x, we'll talk about it in a bit\n",
        "    i = i + 1"
      ]
    },
    {
      "cell_type": "markdown",
      "metadata": {
        "id": "diSDKhOGXT38"
      },
      "source": [
        "There are some other common functions that you might expect like `min()` and `max()` which will find the minimum or maximum values in a given list or tuple, and `sum()` will find the sum of all numerical values in a list."
      ]
    },
    {
      "cell_type": "code",
      "execution_count": null,
      "metadata": {
        "id": "2ePiHhNdR8Yc"
      },
      "outputs": [],
      "source": [
        "print(min([4,3,2,6]))\n",
        "print(max([4,3,2,6]))\n",
        "print(sum([4,3,2,1]))"
      ]
    },
    {
      "cell_type": "markdown",
      "metadata": {
        "id": "ASJNi9G9R6my"
      },
      "source": [
        "\n",
        "Python lists and tuples also have some basic mathematical operations that can be allowed on them, such as:\n",
        "\n",
        "1. the `+` to concatenate lists.\n",
        "\n"
      ]
    },
    {
      "cell_type": "code",
      "execution_count": null,
      "metadata": {
        "id": "1LhMn6T5eB7Z"
      },
      "outputs": [],
      "source": [
        "[1,2] + [3,4]"
      ]
    },
    {
      "cell_type": "markdown",
      "metadata": {
        "id": "-LhT5iSWeB7d"
      },
      "source": [
        "2. the `*` to repeat values of a list."
      ]
    },
    {
      "cell_type": "code",
      "execution_count": null,
      "metadata": {
        "id": "8iRbb25veB7e"
      },
      "outputs": [],
      "source": [
        "[1,2]*3"
      ]
    },
    {
      "cell_type": "markdown",
      "metadata": {
        "id": "R_t7isD0eB7g"
      },
      "source": [
        "3. the `in` operator to check if something is inside a list. It returns a boolean value of `True` or `False` depending on whether one item is in a given list."
      ]
    },
    {
      "cell_type": "code",
      "execution_count": null,
      "metadata": {
        "id": "2d_v5T8IeB7g"
      },
      "outputs": [],
      "source": [
        "6 in [1, 2, 3]"
      ]
    },
    {
      "cell_type": "markdown",
      "metadata": {
        "id": "sDMHR-gOYhab"
      },
      "source": [
        "Perhaps the most interesting operation you can do with lists is called **slicing**, where the square bracket array syntax for accessing an element might look fairly similar to that which you've seen in other languages. But before we go into that, we need to understand the concept of indexing.\n",
        "\n",
        "\n",
        "\n",
        "\n"
      ]
    },
    {
      "cell_type": "markdown",
      "metadata": {
        "id": "ILhF7jMPZCmK"
      },
      "source": [
        "**Quick segue to indexing:**\n",
        "\n",
        "Lists and tuples can also be accessed as arrays might in other languages, by using the square bracket operator, `[]`, which is called the **indexing operator**. The first item of the list starts at position zero and to get the length of the list, we use the built-in `len()` function.\n",
        "\n",
        "```\n",
        "  list →   ['a','b','c','d','e']\n",
        "             |   |   |   |   |  \n",
        " index →     0   1   2   3   4\n",
        "```\n",
        "Note that in python (and most other programming languages), indexing begins at 0 instead of 1. This would mean that in the above list \"`a`\" is at position 0 and not 1, and would be accessed using the indexing operator as we have seen above: `x[0]`\n",
        "\n",
        "In Python, however, the indexing operator, `[]`, allows you to submit multiple values within it separated by a `:`, where:\n",
        "- The first parameter is the starting location, if this is the only element then one item is returned from the list, which is the item indexed by that location.\n",
        "- The second (optional) parameter is the end of the slice (not inclusive). Default = length of list\n",
        "- The third (optional) parameter is the step size you want to take between items. Default = 1"
      ]
    },
    {
      "cell_type": "code",
      "execution_count": null,
      "metadata": {
        "id": "VRy43Xddcz7L"
      },
      "outputs": [],
      "source": [
        "x = [5,6,12,'s',34,2,'hello',3.5]\n",
        "\n",
        "print(x[0])\n",
        "print(x[1:5])\n",
        "print(x[2:6:2])\n",
        "print(x[1::2])"
      ]
    },
    {
      "cell_type": "markdown",
      "metadata": {
        "id": "jaWQPw_meB7i"
      },
      "source": [
        "## Strings\n",
        "One handy aspect of Python is that all strings are also considered an iterable type. What does this mean?\n",
        "\n",
        "This means that Python views string as a \"lists of characters\". As such, each character would have it's own index.\n",
        "\n",
        "```\n",
        "string → ' H  e  l  l  o  ! '\n",
        "           |  |  |  |  |  |\n",
        " index →   0  1  2  3  4  5\n",
        "```\n",
        "\n",
        "As a result, slicing also works wonderfully on them!\n",
        "\n",
        "Let's use bracket notation to slice a string."
      ]
    },
    {
      "cell_type": "code",
      "execution_count": null,
      "metadata": {
        "id": "JZ8MIUaOeB7j"
      },
      "outputs": [],
      "source": [
        "x = 'This is a string'\n",
        "\n",
        "print(x[0]) #first character\n",
        "print(x[0:1]) #first character, but we have explicitly set the end character (exclusive)\n",
        "print(x[0:2]) #first two characters"
      ]
    },
    {
      "cell_type": "markdown",
      "metadata": {
        "id": "Tpczl02IeB7l"
      },
      "source": [
        "Moving on with slicing, our indexing values can also be negative (which is really cool!). This means you can index from the back of the string.\n",
        "\n",
        "```\n",
        "string → ' H  e  l  l  o  ! '\n",
        "           |  |  |  |  |  |\n",
        " index →  -6 -5 -4 -3 -2 -1\n",
        "```\n",
        "\n",
        "For example, this will return the last element of the string."
      ]
    },
    {
      "cell_type": "code",
      "execution_count": null,
      "metadata": {
        "id": "bsh9SBWJeB7n"
      },
      "outputs": [],
      "source": [
        "x[-1]"
      ]
    },
    {
      "cell_type": "markdown",
      "metadata": {
        "id": "zQCAY3-jeB7q"
      },
      "source": [
        "This will return the slice starting from the 4th element from the end and stopping before the 2nd element from the end."
      ]
    },
    {
      "cell_type": "code",
      "execution_count": null,
      "metadata": {
        "id": "SFaN8zyEeB7q"
      },
      "outputs": [],
      "source": [
        "x[-4:-2]"
      ]
    },
    {
      "cell_type": "markdown",
      "metadata": {
        "id": "ql98UpF_eB7s"
      },
      "source": [
        "Finally if we want to reference the start or the end of the string implicitly, one other way we can do that is by just leaving the parameter empty.\n",
        "\n",
        "For example, this is a slice from the beginning of the string that stops before the 3rd element."
      ]
    },
    {
      "cell_type": "code",
      "execution_count": null,
      "metadata": {
        "id": "KartFVJWeB7t"
      },
      "outputs": [],
      "source": [
        "x[:3]"
      ]
    },
    {
      "cell_type": "markdown",
      "metadata": {
        "id": "AjtRVLdJeB7v"
      },
      "source": [
        "And this is a slice starting from the 3rd element of the string that goes all the way to the end."
      ]
    },
    {
      "cell_type": "code",
      "execution_count": null,
      "metadata": {
        "id": "_bd_O-WBeB7w"
      },
      "outputs": [],
      "source": [
        "x[3:]"
      ]
    },
    {
      "cell_type": "markdown",
      "metadata": {
        "id": "ooPIpfLBa5wd"
      },
      "source": [
        "**Question:** What would be an appropriate slice to extract my firstname from the string \"Dr. Bedoor AlShebli\"?"
      ]
    },
    {
      "cell_type": "code",
      "execution_count": null,
      "metadata": {
        "id": "nKtU6L77a6PG"
      },
      "outputs": [],
      "source": [
        "x = \"Dr. Bedoor AlShebli\"\n",
        "\n",
        "#answer here"
      ]
    },
    {
      "cell_type": "markdown",
      "metadata": {
        "id": "JRy6TvphQ824"
      },
      "source": [
        "Remember, strings are simply lists of characters. Therefore, any operation you can do on a list you can do on a string.\n",
        "\n",
        "With this in mind, what do you think the below will output?"
      ]
    },
    {
      "cell_type": "code",
      "execution_count": null,
      "metadata": {
        "id": "vQReCUcfeB7x"
      },
      "outputs": [],
      "source": [
        "firstname = 'Johnathan'\n",
        "lastname = 'Smith'\n",
        "\n",
        "print(firstname + ' ' + lastname)\n",
        "print(firstname*3)\n",
        "print('John' in firstname)"
      ]
    },
    {
      "cell_type": "markdown",
      "metadata": {
        "id": "CuR-uoAweB70"
      },
      "source": [
        "Slicing isn't the only way to manipulate strings. The string type has an associated function called `.split()`. This function breaks the string up into substrings based on a simple pattern.\n",
        "\n",
        "Here for instance, I'll just split my daughter's full name based on the presence of a space character, `' '`. The result is a list of four elements."
      ]
    },
    {
      "cell_type": "code",
      "execution_count": null,
      "metadata": {
        "id": "qCbeL34zeB70"
      },
      "outputs": [],
      "source": [
        "'Bayan Hussain Adel AlEssa'.split(' ')"
      ]
    },
    {
      "cell_type": "markdown",
      "metadata": {
        "id": "vwyNZ4V0RZXQ"
      },
      "source": [
        "What if you wants to extract just the first or last name?\n",
        "\n",
        "Since we know that `.split()` returns a list, we can use the indexing operator, `[]`, to extract individual items in the string."
      ]
    },
    {
      "cell_type": "code",
      "execution_count": null,
      "metadata": {
        "id": "m0L_HAWeRZ38"
      },
      "outputs": [],
      "source": [
        "firstname = 'Bayan Hussain Adel AlEssa'.split(' ')[0] # [0] selects the first element of the list\n",
        "lastname = 'Bayan Hussain Adel AlEssa'.split(' ')[-1] # [-1] selects the last element of the list\n",
        "print(firstname)\n",
        "print(lastname)"
      ]
    },
    {
      "cell_type": "markdown",
      "metadata": {
        "id": "qr3jII80eB72"
      },
      "source": [
        "What if you wanted to concatenate a name with a number?"
      ]
    },
    {
      "cell_type": "code",
      "execution_count": null,
      "metadata": {
        "id": "dBo8tVvleB72"
      },
      "outputs": [],
      "source": [
        "'Bayan' + 2"
      ]
    },
    {
      "cell_type": "markdown",
      "metadata": {
        "id": "-13VHibIRu-c"
      },
      "source": [
        "Make sure you convert objects to strings before concatenating. You can do that using the `str()` function."
      ]
    },
    {
      "cell_type": "code",
      "execution_count": null,
      "metadata": {
        "id": "SK5becbueB74"
      },
      "outputs": [],
      "source": [
        "'Bayan' + str(2)"
      ]
    },
    {
      "cell_type": "markdown",
      "metadata": {
        "id": "kgku_FaKeB76"
      },
      "source": [
        "## Dictionaries\n",
        "\n",
        "Before we continue with strings, I want to talk about dictionaries.\n",
        "\n",
        "Dictionaries are similar to lists and tuples in that they hold a collection of items, but they're *labeled* collections which do not have an ordering. This means that for each value you insert into the dictionary, you must also give a **key** to get that value out.\n",
        "\n",
        "Also, unlike lists and tuples, ordering doesn't matter.\n",
        "\n",
        "Reminder: An easy way to distinguish between the different sequence types, is that Tuples use `( )`, Lists use `[ ]`, and Dictionaries use `{ }`.\n",
        "\n",
        "\\\\\n",
        "\\\n",
        "Here is an example where we might link names to email addresses. You can see that we indicate each item of the dictionary when creating it using a pair of values separated by colons. These pairs are the `<key>:<value>`. You can retrieve a value for a given key (or label) using the indexing operator.\n",
        "\n",
        "The types you use for indices or values in the dictionary can be anything. It could even be a mixture of types if you prefer.\n"
      ]
    },
    {
      "cell_type": "code",
      "execution_count": null,
      "metadata": {
        "id": "6LH89byEeB77"
      },
      "outputs": [],
      "source": [
        "x = {'Bedoor AlShebli': 'bedoor@nyu.edu',\n",
        "     'Anahit Sargsyan': 'anahit.sargsyan@nyu.edu'}\n",
        "\n",
        "x['Bedoor AlShebli'] # Retrieve a value by using the indexing operator [] and the key"
      ]
    },
    {
      "cell_type": "markdown",
      "metadata": {
        "id": "tv7S14KFOtyc"
      },
      "source": [
        "We can add new items to the dictionary using the same indexing operator we are used to."
      ]
    },
    {
      "cell_type": "code",
      "execution_count": null,
      "metadata": {
        "id": "mtlAGiCgeB79"
      },
      "outputs": [],
      "source": [
        "x['Bayan AlEssa'] = None\n",
        "x['John Smith'] = \"john.smith@nyu.edu\"\n",
        "\n",
        "x"
      ]
    },
    {
      "cell_type": "markdown",
      "metadata": {
        "id": "M3uvDP5ZeB7_"
      },
      "source": [
        "You an iterate over all of the items in a dictionary in a number of ways.\n",
        "\n",
        "First you can iterate over all of the keys and just pull the contents out as you see fit."
      ]
    },
    {
      "cell_type": "code",
      "execution_count": null,
      "metadata": {
        "id": "p4MZovOTeB8A",
        "scrolled": true
      },
      "outputs": [],
      "source": [
        "for name in x:\n",
        "    print(name) #key\n",
        "    print(x[name]) #value"
      ]
    },
    {
      "cell_type": "markdown",
      "metadata": {
        "id": "GMDF-JwPeB8B"
      },
      "source": [
        "... or you can iterate over the values (using the `.values()` function) and just ignore the keys."
      ]
    },
    {
      "cell_type": "code",
      "execution_count": null,
      "metadata": {
        "id": "4dPYeBK2eB8C"
      },
      "outputs": [],
      "source": [
        "for email in x.values():\n",
        "    print(email)"
      ]
    },
    {
      "cell_type": "markdown",
      "metadata": {
        "id": "fLUgKYqweB8E"
      },
      "source": [
        "... or you can iterate over both the values and the keys at once using the `.items()` function.\n",
        "\n",
        "Iterate over all of the keys:"
      ]
    },
    {
      "cell_type": "code",
      "execution_count": null,
      "metadata": {
        "id": "O8PjcFlUeB8F"
      },
      "outputs": [],
      "source": [
        "#this is an example of unpacking a sequence, which we'll look at in a bit\n",
        "for name, email in x.items():\n",
        "    print(name)\n",
        "    print(email)"
      ]
    },
    {
      "cell_type": "markdown",
      "metadata": {
        "id": "0tPTar42eB8H"
      },
      "source": [
        "## Unpacking a Sequence\n",
        "\n",
        "In Python you can \"**unpack**\" the items in sequence type (like a list of a tuple) into different variables through assignment (i.e. using `=`) in one statement.\n",
        "\n",
        "Here's an example of that, where we have a tuple that has my first name, last name, and email address. Python can unpacked the tuple, and assigned each of these variables in order."
      ]
    },
    {
      "cell_type": "code",
      "execution_count": null,
      "metadata": {
        "id": "0HabQ9DqeB8I"
      },
      "outputs": [],
      "source": [
        "x = ('Bedoor', 'AlShebli', 'bedoor@nyu.edu')\n",
        "\n",
        "fname, lname, email = x"
      ]
    },
    {
      "cell_type": "code",
      "execution_count": null,
      "metadata": {
        "id": "lkzRlk1PeB8K"
      },
      "outputs": [],
      "source": [
        "fname"
      ]
    },
    {
      "cell_type": "code",
      "execution_count": null,
      "metadata": {
        "id": "fJBuu38_eB8M"
      },
      "outputs": [],
      "source": [
        "email"
      ]
    },
    {
      "cell_type": "markdown",
      "metadata": {
        "id": "oXOGHZPHeB8O"
      },
      "source": [
        "Make sure the number of values you are unpacking matches the number of variables being assigned."
      ]
    },
    {
      "cell_type": "code",
      "execution_count": null,
      "metadata": {
        "id": "Qr0mRSYNeB8P"
      },
      "outputs": [],
      "source": [
        "x = ('Bedoor', 'AlShebli', 'bedoor@nyu.edu', 'NYUAD')\n",
        "fname, lname, email = x"
      ]
    },
    {
      "cell_type": "markdown",
      "metadata": {
        "id": "iV5H4V22mrsQ"
      },
      "source": [
        "**Question:** Will each of the below work? If so, what would the output be?"
      ]
    },
    {
      "cell_type": "code",
      "execution_count": null,
      "metadata": {
        "id": "bbV3N5Mwm2r4"
      },
      "outputs": [],
      "source": [
        "#Example A - a list\n",
        "x = [1,2,3]\n",
        "first, second, last = x\n",
        "print (first)\n",
        "\n",
        "#Example B - a string\n",
        "x = \"Hi!\"\n",
        "first, second, last = x\n",
        "print (second)\n",
        "\n",
        "#Example C - a dictionary\n",
        "x = {'Bedoor AlShebli': 'bedoor@nyu.edu', 'Anahit Sargsyan': 'anahit.sargsyan@nyu.edu'}\n",
        "first, second = x\n",
        "print (first)"
      ]
    },
    {
      "cell_type": "markdown",
      "metadata": {
        "id": "dd0CM5qqo4ar"
      },
      "source": [
        "Let's assume you have the following function..."
      ]
    },
    {
      "cell_type": "code",
      "execution_count": null,
      "metadata": {
        "id": "4B4Gfb1_odyf"
      },
      "outputs": [],
      "source": [
        "def updateStudentDetail(name, phone, address):\n",
        "    print(\"Student Name : \", name)\n",
        "    print(\"Student phone : \", phone)\n",
        "    print(\"Student address : \", address)\n",
        "\n",
        "#you can pass arguments directly\n",
        "updateStudentDetail(\"Sara\",\"055555555\",\"Abu Dhabi\")"
      ]
    },
    {
      "cell_type": "markdown",
      "metadata": {
        "id": "44QRf-XLshlI"
      },
      "source": [
        "You can also pass arguments as a `list` or a `tuple`, and unpack the them into function arguments using `*`."
      ]
    },
    {
      "cell_type": "code",
      "execution_count": null,
      "metadata": {
        "id": "defD5S-psiDE"
      },
      "outputs": [],
      "source": [
        "#run below then try converting it to a tuple and see if it works!\n",
        "details = [\"John\",\"0566666666\",'Abu Dhabi']\n",
        "\n",
        "updateStudentDetail(*details)"
      ]
    },
    {
      "cell_type": "markdown",
      "metadata": {
        "id": "CRg43gap6-nC"
      },
      "source": [
        "**Question:** What if we pass the arguments as a dictionary? What do you think the output would be?\n"
      ]
    },
    {
      "cell_type": "code",
      "execution_count": null,
      "metadata": {
        "id": "bH6l14Pc6_J-"
      },
      "outputs": [],
      "source": [
        "details = {\n",
        "    'name' : 'Sam' ,\n",
        "    'phone' : '057777777' ,\n",
        "    'address' : 'Dubai'\n",
        "    }\n",
        "\n",
        "updateStudentDetail(*details)"
      ]
    },
    {
      "cell_type": "markdown",
      "metadata": {
        "id": "OEYbYKBh7x2W"
      },
      "source": [
        "To unpack arguments passed into a function as a `dictionary`, use `**`."
      ]
    },
    {
      "cell_type": "code",
      "execution_count": null,
      "metadata": {
        "id": "f-l5tqtL7yZn"
      },
      "outputs": [],
      "source": [
        "#keys must have the same name as the function arguments!\n",
        "updateStudentDetail(**details)"
      ]
    },
    {
      "cell_type": "markdown",
      "metadata": {
        "id": "hjrjWhN4eB8Q"
      },
      "source": [
        "## More on Strings\n",
        "\n",
        "Early computing languages used to rely on ASCII code which limited string to 256 characters only. Python uses UTF (Unicode Transformationn Format) as a default, which supports non-English characters as well as mathematical notations and emojis too.\n",
        "\n",
        "Python also uses a special language for formatting the output of `string`, which might force you to do type conversion yourself."
      ]
    },
    {
      "cell_type": "code",
      "execution_count": null,
      "metadata": {
        "id": "gDr_VT5peB8R"
      },
      "outputs": [],
      "source": [
        "print('Chris' + 2)"
      ]
    },
    {
      "cell_type": "code",
      "execution_count": null,
      "metadata": {
        "id": "C4-68eCdeB8T"
      },
      "outputs": [],
      "source": [
        "print('Chris' + str(2))"
      ]
    },
    {
      "cell_type": "markdown",
      "metadata": {
        "id": "4lkoCXKreB8V"
      },
      "source": [
        "To avoid having to wrap every operator you wish to concatenate with the `str` function, Python has a built-in method for convenient string formatting.\n",
        "\n",
        "The Python string formatting mini language allows you to write a string statement indicating placeholders in the form of curly brackets (`{}`) for variables to be evaluated. You then pass these variables in either named or in order arguments in the `.format()` function, and Python handles the string manipulation for you."
      ]
    },
    {
      "cell_type": "code",
      "execution_count": null,
      "metadata": {
        "id": "pLPn6QNXeB8V"
      },
      "outputs": [],
      "source": [
        "sales_record = {\n",
        "  'price': 3.24,\n",
        "  'num_items': 4,\n",
        "  'person': 'Nora'\n",
        "}\n",
        "\n",
        "sales_statement = '{} bought {} item(s) at a price of {} each for a total of {}'\n",
        "\n",
        "print(sales_statement.format(sales_record['person'],\n",
        "                             sales_record['num_items'],\n",
        "                             sales_record['price'],\n",
        "                             sales_record['num_items']*sales_record['price']))\n"
      ]
    },
    {
      "cell_type": "markdown",
      "metadata": {
        "id": "icYpALoS8uPq"
      },
      "source": [
        "---\n",
        "#Exercises\n",
        "---"
      ]
    },
    {
      "cell_type": "markdown",
      "metadata": {
        "id": "5_pZbutNNC3Q"
      },
      "source": [
        "**Question 1:** Assume you have a list of names in the following format \"Lastname, Firstname\", and you would like to edit the list so that the format of the names in it is now as follows \"Firstname Lastname\". How would you do so?"
      ]
    },
    {
      "cell_type": "code",
      "execution_count": 9,
      "metadata": {
        "id": "UziBeyQxNChG"
      },
      "outputs": [
        {
          "data": {
            "text/plain": [
              "['Bedoor AlShebli', 'Bayan AlEssa', 'Anna Sargsyan']"
            ]
          },
          "execution_count": 9,
          "metadata": {},
          "output_type": "execute_result"
        }
      ],
      "source": [
        "names = [\"AlShebli, Bedoor\", \"AlEssa, Bayan\", \"Sargsyan, Anna\"]\n",
        "\n",
        "#type answer here\n",
        "for i, name in enumerate(names):\n",
        "    names[i] = name.split(', ')[1] + ' ' + name.split(', ')[0]\n",
        "\n",
        "names"
      ]
    },
    {
      "cell_type": "markdown",
      "metadata": {
        "id": "ZaWG7qhHiWDC"
      },
      "source": [
        "**Question 2:** Write a function that will take a filename, and using string formatting prints the following string: \"The extension of the file ... is ...\".\n",
        "\n",
        "For example, if you pass the following string to the function \"project.py\", the output should be \"The extension of the file project is py\"."
      ]
    },
    {
      "cell_type": "code",
      "execution_count": 12,
      "metadata": {
        "id": "xCpX3N6uddm4"
      },
      "outputs": [
        {
          "name": "stdout",
          "output_type": "stream",
          "text": [
            "The extension of the file project is py\n"
          ]
        }
      ],
      "source": [
        "input = \"project.py\"\n",
        "\n",
        "def extension_extracter(filename):\n",
        "  #type answer here\n",
        "  file, extension = filename.split('.')\n",
        "  print(f'The extension of the file {file} is {extension}')\n",
        "\n",
        "extension_extracter(input)"
      ]
    },
    {
      "cell_type": "markdown",
      "metadata": {
        "id": "NHnXGG2phLo1"
      },
      "source": [
        "**Question 3:** Define a function which will take in a tuple that includes a name, NetID, and email as a parameter, unpack it, and add it to a dictionary after checking that the email is valid.\n",
        "\n",
        "A email is considered valid if it has a `'@'` in the middle of the string.\n",
        "\n",
        "If the email is valid, print the newly generated dictionary.\n",
        "\n",
        "If the email is invalid, assign `None` as the email value, and print the following error message: \"Invalid email address\" along with the generated dictionary."
      ]
    },
    {
      "cell_type": "code",
      "execution_count": 13,
      "metadata": {
        "id": "Bttj3GgcR6G_"
      },
      "outputs": [
        {
          "name": "stdout",
          "output_type": "stream",
          "text": [
            "{'name': ['Bedoor'], 'netid': ['bka3'], 'email': ['bka3@nyu.edu']}\n",
            "The email as12831nyu.edu is not valid\n",
            "{'name': ['Bedoor', 'Anna'], 'netid': ['bka3', 'as12831'], 'email': ['bka3@nyu.edu', None]}\n",
            "{'name': ['Bedoor', 'Anna', 'Anna'], 'netid': ['bka3', 'as12831', 'as12831'], 'email': ['bka3@nyu.edu', None, 'as12831@nyu.edu']}\n"
          ]
        }
      ],
      "source": [
        "# a sample list for personal details\n",
        "person_details1 = ('Bedoor', 'bka3', \"bka3@nyu.edu\")\n",
        "person_details2 = ('Anna', 'as12831', \"as12831nyu.edu\")\n",
        "person_details3 = ('Anna', 'as12831', \"as12831@nyu.edu\")\n",
        "\n",
        "# this is a placeholder for the dictionary to add the personal data\n",
        "people ={\n",
        "    'name': [],\n",
        "    'netid': [],\n",
        "    'email': []\n",
        "}\n",
        "\n",
        "def valid_email(email: str):\n",
        "    #type answer here\n",
        "    if not '@' in email:\n",
        "        return False\n",
        "    \n",
        "    if email.startswith('@'):\n",
        "        return False\n",
        "    \n",
        "    if email.endswith('@'):\n",
        "        return False\n",
        "    \n",
        "    return True\n",
        "\n",
        "def convert_to_dict(x, y):\n",
        "  #type answer here\n",
        "  name, netid, email = x\n",
        "  if valid_email(email):\n",
        "    y['name'].append(name)\n",
        "    y['netid'].append(netid)\n",
        "    y['email'].append(email)\n",
        "  else:\n",
        "    print(f'The email {email} is not valid')\n",
        "    y['name'].append(name)\n",
        "    y['netid'].append(netid)\n",
        "    y['email'].append(None)\n",
        "  \n",
        "  print(y)\n",
        "  \n",
        "\n",
        "convert_to_dict(person_details1, people)\n",
        "convert_to_dict(person_details2, people)\n",
        "convert_to_dict(person_details3, people)"
      ]
    },
    {
      "cell_type": "markdown",
      "metadata": {
        "id": "8isZRLwYbFTk"
      },
      "source": [
        "**Question 4:** Given a list of tuples, sum the numbers within each tuple. If the tuple is empty, set the sum value to be `None`. Return the list of sums."
      ]
    },
    {
      "cell_type": "code",
      "execution_count": 16,
      "metadata": {
        "id": "vvvLWic8bick"
      },
      "outputs": [
        {
          "name": "stdout",
          "output_type": "stream",
          "text": [
            "[None, 61, 5, None, 36, 44, None]\n"
          ]
        }
      ],
      "source": [
        "number_list = [(), (2,6,8,12,33), (3,2), (), (2, 2, 18, -1, 15), (9, 54, -19), ()]\n",
        "\n",
        "def calc_sums(x):\n",
        "  #type answer here\n",
        "  for i, tup in enumerate(x):\n",
        "    if len(tup) == 0:\n",
        "      x[i] = None\n",
        "    else:\n",
        "      x[i] = sum(tup)\n",
        "  \n",
        "  print(x)\n",
        "\n",
        "calc_sums(number_list)"
      ]
    }
  ],
  "metadata": {
    "colab": {
      "provenance": [],
      "toc_visible": true
    },
    "kernelspec": {
      "display_name": "Python 3",
      "language": "python",
      "name": "python3"
    },
    "language_info": {
      "codemirror_mode": {
        "name": "ipython",
        "version": 3
      },
      "file_extension": ".py",
      "mimetype": "text/x-python",
      "name": "python",
      "nbconvert_exporter": "python",
      "pygments_lexer": "ipython3",
      "version": "3.11.0"
    }
  },
  "nbformat": 4,
  "nbformat_minor": 0
}
