{
  "cells": [
    {
      "cell_type": "markdown",
      "metadata": {
        "id": "PUxdctIdxU6B"
      },
      "source": [
        "---\n",
        "# Regular Expressions\n",
        "---\n",
        "\n",
        "In general, you can think of a **regular expression**, or *regex*, as a **\"pattern\"** which you give to a regex processor with some source data. The processor then parses that source data using that pattern, and returns chunks of text back to the a data scientist or programmer for further manipulation.\n",
        "\n",
        "\n",
        "There's really three main reasons you would want to do this:\n",
        "1. to check whether a pattern exists within some source data\n",
        "2. to get all instances of a complex pattern from some source data\n",
        "3. to clean your source data using a pattern generally through string splitting.\n",
        "\n",
        "Regexes are not trivial, but they are a foundational technique for data cleaning in data science applications, and a solid understanding of regexs will help you quickly and efficiently manipulate text data for further data science application.\n",
        "\n",
        "Note that there are full courses taught on regular expressions alone. In this lecture, however, I want to give you a basic understanding of how regex works - enough knowledge that, with a little directed sleuthing, you'll be able to make sense of the regex patterns you see others use, and you can build up your practical knowledge of how to use regexes to improve your data cleaning. By the end of this lecture and the next, you will understand the basics of regular expressions, how to define patterns for matching, how to apply these patterns to strings, and how to use the results of those patterns in data processing."
      ]
    },
    {
      "cell_type": "code",
      "execution_count": 1,
      "metadata": {
        "id": "5lHr1i-Eq2ID"
      },
      "outputs": [],
      "source": [
        "# First we'll import the re module, which is where python stores regular expression libraries.\n",
        "import re"
      ]
    },
    {
      "cell_type": "markdown",
      "metadata": {
        "id": "o5J0UprU9lBV"
      },
      "source": [
        "There are several main processing functions in `re` that you might use. The first, `search()`, checks for a match anywhere in the string, and returns a boolean.\n"
      ]
    },
    {
      "cell_type": "code",
      "execution_count": 4,
      "metadata": {
        "id": "x4k1tU9Zq2II"
      },
      "outputs": [
        {
          "name": "stdout",
          "output_type": "stream",
          "text": [
            "Wonderful!\n"
          ]
        }
      ],
      "source": [
        "# Lets create some text for an example\n",
        "text = \"This is a good day.\"\n",
        "\n",
        "# Now, lets see if it's a good day or not:\n",
        "if re.search(\"good\", text): # the first parameter here is the pattern\n",
        "    print(\"Wonderful!\")\n",
        "else:\n",
        "    print(\"Alas :(\")"
      ]
    },
    {
      "cell_type": "markdown",
      "metadata": {
        "id": "k-CI-GFw9yrH"
      },
      "source": [
        "In addition to checking for conditionals, we can **segment a string**. The work that regex does here is called **tokenizing**, where the string is separated into substrings based on patterns. Note that tokenizing is a core activity in natural language processing (NLP).\n",
        "\n",
        "The `findall()` and `split()` functions will parse the string for us and return chunks of the string in a list.\n",
        "\n",
        "Let's try an example:"
      ]
    },
    {
      "cell_type": "code",
      "execution_count": 6,
      "metadata": {
        "id": "wEt6Nmbyq2IO"
      },
      "outputs": [
        {
          "name": "stdout",
          "output_type": "stream",
          "text": [
            "['', ' works diligently. ', ' gets good grades. Our student ', ' is successful.']\n"
          ]
        }
      ],
      "source": [
        "text = \"Amy works diligently. Amy gets good grades. Our student Amy is successful.\"\n",
        "\n",
        "# This is a bit of a fabricated example, but lets split this on all instances of Amy\n",
        "print(re.split(\"Amy\", text))"
      ]
    },
    {
      "cell_type": "markdown",
      "metadata": {
        "id": "2x_1s3jP-k2O"
      },
      "source": [
        "You'll notice that split has returned an empty string, followed by a number of statements about Amy, all as elements of a list.\n",
        "\n",
        "Now, if we wanted to count how many times we have talked about Amy, we could use `re.findall()`. It returns all instances of the pattern in the text."
      ]
    },
    {
      "cell_type": "code",
      "execution_count": 7,
      "metadata": {
        "id": "3w1N9HBAq2IS"
      },
      "outputs": [
        {
          "data": {
            "text/plain": [
              "['Amy', 'Amy', 'Amy']"
            ]
          },
          "execution_count": 7,
          "metadata": {},
          "output_type": "execute_result"
        }
      ],
      "source": [
        "re.findall(\"Amy\", text)"
      ]
    },
    {
      "cell_type": "markdown",
      "metadata": {
        "id": "fX20avz5_INJ"
      },
      "source": [
        "Ok, so we've seen that:\n",
        "- `.search()` looks for some pattern and returns a boolean\n",
        "- `.split()` will use a pattern to tokensize text into a list of substrings\n",
        "- `.findall()` will look for a pattern and pull out all occurences.\n",
        "\n",
        "Let's move on to more complex patterns. The regex specification standard defines a markup language to describe patterns in text."
      ]
    },
    {
      "cell_type": "markdown",
      "metadata": {
        "id": "hSXnPgLFq2Ir"
      },
      "source": [
        "## Patterns and Character Classes\n",
        "\n",
        "**Anchors** specify the start and/or the end of the string that you are trying to match.\n",
        "\n",
        "- If you put the caret character, `^`, before a string, the regex processor will retrieve text that **start** with the string you specify.\n",
        "\n",
        "- If you put the dollar sign character, `$`, after the string, the regex processor will retrieve text that **ends** with the string you specify."
      ]
    },
    {
      "cell_type": "code",
      "execution_count": 8,
      "metadata": {
        "id": "d-VprtQjq2Id"
      },
      "outputs": [
        {
          "name": "stdout",
          "output_type": "stream",
          "text": [
            "<re.Match object; span=(0, 3), match='Amy'>\n"
          ]
        }
      ],
      "source": [
        "# Here's an example\n",
        "text = \"Amy works diligently. Amy gets good grades. Our student Amy is successful!\"\n",
        "\n",
        "# Lets see if this begins with Amy\n",
        "print(re.search(\"^Amy\",text))"
      ]
    },
    {
      "cell_type": "code",
      "execution_count": 9,
      "metadata": {
        "id": "4AK0RFU1Gwd8"
      },
      "outputs": [
        {
          "name": "stdout",
          "output_type": "stream",
          "text": [
            "<re.Match object; span=(73, 74), match='!'>\n"
          ]
        }
      ],
      "source": [
        "# ... and if it ends with an exclamation mark!\n",
        "print(re.search(\"!$\", text))"
      ]
    },
    {
      "cell_type": "markdown",
      "metadata": {
        "id": "pQRBwKTUPWaE"
      },
      "source": [
        "Notice that `re.search()` actually returns a new object, called `re.Match` object. **An `re.Match` object always has a boolean value of True**, as something was found, so you can always evaluate it in an if statement as we did earlier.\n",
        "\n",
        "The rendering of the match object also tells you what pattern was matched, in the first case it was the word Amy, and the location the match was in, as the span."
      ]
    },
    {
      "cell_type": "markdown",
      "metadata": {
        "id": "04CVrZYlQLnU"
      },
      "source": [
        "Let's talk more about patterns and start with **\"character classes\"**, also known as **character sets**. Let's create a string of a single student's grades over a semester in one course across all of her assignments, in the order they were provided to her.\n",
        "\n",
        "Let's say we want to answer the question \"How many B's were in the grade list?\""
      ]
    },
    {
      "cell_type": "code",
      "execution_count": 10,
      "metadata": {
        "colab": {
          "base_uri": "https://localhost:8080/"
        },
        "id": "rcD5uifnq2It",
        "outputId": "b65354dd-a602-49ce-b416-9785fa910e83"
      },
      "outputs": [
        {
          "data": {
            "text/plain": [
              "['B', 'B', 'B']"
            ]
          },
          "execution_count": 10,
          "metadata": {},
          "output_type": "execute_result"
        }
      ],
      "source": [
        "grades=\"ACAAAABCBCBAAD\"\n",
        "\n",
        "re.findall(\"B\",grades)"
      ]
    },
    {
      "cell_type": "markdown",
      "metadata": {
        "id": "EuFsihfDo9yD"
      },
      "source": [
        "If we wanted to count the number of A's or B's in the list, we can't use \"AB\" since it would consider it an \"as is\" pattern, and would only match all A's followed immediately by a B. Instead, we put the characters A and B inside square brackets `[]`. By doing so, you created a \"set of characters\", and are telling it to retreive any character in the square brackets.\n",
        "\n",
        "*Note:* square brackets inside a regex pattern is not a list, but representative of a set."
      ]
    },
    {
      "cell_type": "code",
      "execution_count": 12,
      "metadata": {
        "id": "U0CQ7RnZq2Iy"
      },
      "outputs": [
        {
          "name": "stdout",
          "output_type": "stream",
          "text": [
            "ACAAAABCBCBAAD\n"
          ]
        },
        {
          "data": {
            "text/plain": [
              "['A', 'A', 'A', 'A', 'A', 'B', 'B', 'B', 'A', 'A']"
            ]
          },
          "execution_count": 12,
          "metadata": {},
          "output_type": "execute_result"
        }
      ],
      "source": [
        "print(grades)\n",
        "\n",
        "re.findall(\"[AB]\",grades)"
      ]
    },
    {
      "cell_type": "markdown",
      "metadata": {
        "id": "WCSX_LkgpOWk"
      },
      "source": [
        "This is called the **set operator**. You can also include a range of characters, which are ordered alphanumerically. For instance, if we want to refer to all lower case letters we could use `\"[a-z]\"`.\n",
        "\n",
        "Let's build a simple regex to parse out all instances where this student received an A followed by a B or a C:"
      ]
    },
    {
      "cell_type": "code",
      "execution_count": 13,
      "metadata": {
        "id": "vtRcX_jYq2I3"
      },
      "outputs": [
        {
          "name": "stdout",
          "output_type": "stream",
          "text": [
            "ACAAAABCBCBAAD\n"
          ]
        },
        {
          "data": {
            "text/plain": [
              "['AC', 'AB']"
            ]
          },
          "execution_count": 13,
          "metadata": {},
          "output_type": "execute_result"
        }
      ],
      "source": [
        "print(grades)\n",
        "\n",
        "re.findall(\"[A][B-C]\",grades)"
      ]
    },
    {
      "cell_type": "markdown",
      "metadata": {
        "id": "bLJg3YchrhBu"
      },
      "source": [
        "Notice how the `[AB]` pattern describes a set of possible characters which could be either (A OR B), while the `[A][B-C]` pattern denoted two sets of characters which must have been matched back to back.\n",
        "\n",
        "An alternative way to achieving the same result is to write this pattern by using the pipe operator, `|`, which means OR."
      ]
    },
    {
      "cell_type": "code",
      "execution_count": 14,
      "metadata": {
        "id": "s-2kAtwzq2I8"
      },
      "outputs": [
        {
          "name": "stdout",
          "output_type": "stream",
          "text": [
            "ACAAAABCBCBAAD\n"
          ]
        },
        {
          "data": {
            "text/plain": [
              "['AC', 'AB']"
            ]
          },
          "execution_count": 14,
          "metadata": {},
          "output_type": "execute_result"
        }
      ],
      "source": [
        "print(grades)\n",
        "\n",
        "re.findall(\"AB|AC\",grades)"
      ]
    },
    {
      "cell_type": "markdown",
      "metadata": {
        "id": "tpv4jfxErtsP"
      },
      "source": [
        "We can use the caret with the set operator to negate our results. For instance, if we want to parse out only the grades which were not A's"
      ]
    },
    {
      "cell_type": "code",
      "execution_count": 15,
      "metadata": {
        "id": "VH4RFlmLq2JC"
      },
      "outputs": [
        {
          "name": "stdout",
          "output_type": "stream",
          "text": [
            "ACAAAABCBCBAAD\n"
          ]
        },
        {
          "data": {
            "text/plain": [
              "['C', 'B', 'C', 'B', 'C', 'B', 'D']"
            ]
          },
          "execution_count": 15,
          "metadata": {},
          "output_type": "execute_result"
        }
      ],
      "source": [
        "print(grades)\n",
        "\n",
        "re.findall(\"[^A]\",grades)"
      ]
    },
    {
      "cell_type": "markdown",
      "metadata": {
        "id": "acczfU55uAIj"
      },
      "source": [
        "Note this carefully - the caret was previously matched to the beginning of a string as an anchor point, but **inside of the set operator the caret, and the other special characters we will be talking about, lose their meaning**.\n",
        "\n",
        "With that in mind, what do you think the result would be of this?"
      ]
    },
    {
      "cell_type": "code",
      "execution_count": 16,
      "metadata": {
        "id": "6b-QEjNKq2JI"
      },
      "outputs": [
        {
          "data": {
            "text/plain": [
              "[]"
            ]
          },
          "execution_count": 16,
          "metadata": {},
          "output_type": "execute_result"
        }
      ],
      "source": [
        "re.findall(\"^[^A]\",grades)"
      ]
    },
    {
      "cell_type": "markdown",
      "metadata": {
        "id": "LekirMCd1yo8"
      },
      "source": [
        "It's an empty list, because the regex says that we want to match any value at the beginning of the string which is not an A. Our string though starts with an A, so there is no match found. And remember when you are using the set operator you are doing character-based matching. So you are matching individual characters in an OR method."
      ]
    },
    {
      "cell_type": "markdown",
      "metadata": {
        "id": "g_rPPLfzq2JR"
      },
      "source": [
        "## Quantifiers\n",
        "\n",
        "Quantifiers are the number of times you want a pattern to be matched in order to match. The most basic quantifier is expressed as `e{m,n}`, where `e` is the expression or character we are matching, `m` is the minimum number of times you want it to matched, and `n` is the maximum number of times the item could be matched.\n",
        "\n",
        "Let's use the `grades` variables again as an example. How many times has this student been on a back-to-back A's streak?"
      ]
    },
    {
      "cell_type": "code",
      "execution_count": 17,
      "metadata": {
        "colab": {
          "base_uri": "https://localhost:8080/"
        },
        "id": "IZ3FVVosq2JU",
        "outputId": "ff58ac04-6e83-40f5-e368-72b08dece895"
      },
      "outputs": [
        {
          "name": "stdout",
          "output_type": "stream",
          "text": [
            "ACAAAABCBCBAAD\n"
          ]
        },
        {
          "data": {
            "text/plain": [
              "['AAAA', 'AA']"
            ]
          },
          "execution_count": 17,
          "metadata": {},
          "output_type": "execute_result"
        }
      ],
      "source": [
        "print(grades)\n",
        "# we'll use 2 as our min, but ten as our max (inclusive)\n",
        "re.findall(\"A{2,10}\",grades)"
      ]
    },
    {
      "cell_type": "markdown",
      "metadata": {
        "id": "J8CfhS1e65N6"
      },
      "source": [
        "So we see that there were two streaks, one where the student had four A's, and one where they had only two A's."
      ]
    },
    {
      "cell_type": "markdown",
      "metadata": {
        "id": "5pV7LEJg_b8h"
      },
      "source": [
        "It's important to note that **the regex quantifier syntax does not allow you to deviate from the `{m,n}` pattern**. In particular, if you have an extra space in between the braces you'll get an empty result."
      ]
    },
    {
      "cell_type": "code",
      "execution_count": 20,
      "metadata": {
        "id": "S9BreaCBq2Jb"
      },
      "outputs": [
        {
          "data": {
            "text/plain": [
              "['AA', 'AA', 'AA']"
            ]
          },
          "execution_count": 20,
          "metadata": {},
          "output_type": "execute_result"
        }
      ],
      "source": [
        "#try running it with and without the space and see what happens\n",
        "re.findall(\"A{2,2}\",grades)"
      ]
    },
    {
      "cell_type": "markdown",
      "metadata": {
        "id": "tkXsQW-iAKRJ"
      },
      "source": [
        "If you just have one number in the braces, it's considered to be both `m` and `n`"
      ]
    },
    {
      "cell_type": "code",
      "execution_count": 18,
      "metadata": {
        "id": "oDt18kw2q2Jh"
      },
      "outputs": [
        {
          "data": {
            "text/plain": [
              "['AA', 'AA', 'AA']"
            ]
          },
          "execution_count": 18,
          "metadata": {},
          "output_type": "execute_result"
        }
      ],
      "source": [
        "re.findall(\"A{2}\",grades)"
      ]
    },
    {
      "cell_type": "code",
      "execution_count": 22,
      "metadata": {
        "id": "kELhRbsfq2Jm"
      },
      "outputs": [
        {
          "name": "stdout",
          "output_type": "stream",
          "text": [
            "ACAAAABCBCBAAD\n"
          ]
        },
        {
          "data": {
            "text/plain": [
              "['AAAABC']"
            ]
          },
          "execution_count": 22,
          "metadata": {},
          "output_type": "execute_result"
        }
      ],
      "source": [
        "print(grades)\n",
        "# Using this, we could find a decreasing trend in a student's grades\n",
        "re.findall(\"A{1,10}B{1,10}C{1,10}\",grades)"
      ]
    },
    {
      "cell_type": "markdown",
      "metadata": {
        "id": "SDAumXGyAtXQ"
      },
      "source": [
        "Let's look at a more complex example, and load some data scraped from wikipedia.\n",
        "\n",
        "Before we do so, let's take a detour on how to read files in Google Colaboratory:\n",
        "1. Save the data file in your Google Drive, and remember the path. For example, I uploaded the data file into my google drive in a folder called \"datasets\" inside my \"Applied Data Science in Python\" folder under my \"Courses\" folder in my Google Drive. As such the path to my data file would be `Drive/Courses/Applied\\ Data\\ Science\\ in\\ Python/datasets/`\n",
        "\n",
        "2. Mount the drive to be able to access the file. Use the code below to do so, but edit the datafile path to reflect your file's location before running the code. (Note: A pop-up window will appear asking you to grant permission to mount your drive. Allow it.)\n",
        "\n",
        "3. You will now be able to see a list of all your mounted files, including our `ferpa.txt` file."
      ]
    },
    {
      "cell_type": "code",
      "execution_count": null,
      "metadata": {
        "id": "dgIWBV0yLPPh"
      },
      "outputs": [],
      "source": [
        "# In Google colab, you need to mount your drive to be access your files. If you are running jupyter notebook locally no need to do this step.\n",
        "from google.colab import drive\n",
        "\n",
        "drive.mount('/content/drive')\n",
        "!ls /content/drive/My\\ Drive/Courses/Applied\\ Data\\ Science\\ in\\ Python/datasets/  # Running a line with a \"!\" in the start is identical to running a bash script"
      ]
    },
    {
      "cell_type": "markdown",
      "metadata": {
        "id": "q_v3YC0EUxGX"
      },
      "source": [
        "Now that we've mounted the drive, let's access the file `ferpa.txt` and see what's in it. In order to access the file, we use Python's built-in function `open()` which opens the file and returns it as a file object.\n",
        "\n",
        "We then call a file object's function `.read()` which helps you read the content of the file, be it all or parts. By passing along no arguments, it will retreive all the content of the file. If you pass a number, say 10, it will retreive the first 10 bytes in the file."
      ]
    },
    {
      "cell_type": "code",
      "execution_count": 24,
      "metadata": {
        "id": "9TQCvrYNq2Jq"
      },
      "outputs": [
        {
          "name": "stdout",
          "output_type": "stream",
          "text": [
            "Overview[edit]\n",
            "FERPA gives parents access to their child's education records, an opportunity to seek to have the records amended, and some control over the disclosure of information from the records. With several exceptions, schools must have a student's consent prior to the disclosure of education records after that student is 18 years old. The law applies only to educational agencies and institutions that receive funds under a program administered by the U.S. Department of Education.\n",
            "\n",
            "Other regulations under this act, effective starting January 3, 2012, allow for greater disclosures of personal and directory student identifying information and regulate student IDs and e-mail addresses.[2] For example, schools may provide external companies with a student's personally identifiable information without the student's consent.[2]\n",
            "\n",
            "Examples of situations affected by FERPA include school employees divulging information to anyone other than the student about the student's grades or behavior, and school work posted on a bulletin board with a grade. Generally, schools must have written permission from the parent or eligible student in order to release any information from a student's education record.\n",
            "\n",
            "This privacy policy also governs how state agencies transmit testing data to federal agencies, such as the Education Data Exchange Network.\n",
            "\n",
            "This U.S. federal law also gave students 18 years of age or older, or students of any age if enrolled in any post-secondary educational institution, the right of privacy regarding grades, enrollment, and even billing information unless the school has specific permission from the student to share that specific type of information.\n",
            "\n",
            "FERPA also permits a school to disclose personally identifiable information from education records of an \"eligible student\" (a student age 18 or older or enrolled in a postsecondary institution at any age) to his or her parents if the student is a \"dependent student\" as that term is defined in Section 152 of the Internal Revenue Code. Generally, if either parent has claimed the student as a dependent on the parent's most recent income tax statement, the school may non-consensually disclose the student's education records to both parents.[3]\n",
            "\n",
            "The law allowed students who apply to an educational institution such as graduate school permission to view recommendations submitted by others as part of the application. However, on standard application forms, students are given the option to waive this right.\n",
            "\n",
            "FERPA specifically excludes employees of an educational institution if they are not students.\n",
            "\n",
            "The act is also referred to as the Buckley Amendment, for one of its proponents, Senator James L. Buckley of New York.\n",
            "\n",
            "Access to public records[edit]\n",
            "The citing of FERPA to conceal public records that are not \"educational\" in nature has been widely criticized, including by the act's primary Senate sponsor.[4] For example, in the Owasso Independent School District v. Falvo case, an important part of the debate was determining the relationship between peer-grading and \"education records\" as defined in FERPA. In the Court of Appeals, it was ruled that students placing grades on the work of other students made such work into an \"education record.\" Thus, peer-grading was determined as a violation of FERPA privacy policies because students had access to other students' academic performance without full consent.[5] However, when the case went to the Supreme Court, it was officially ruled that peer-grading was not a violation of FERPA. This is because a grade written on a student's work does not become an \"education record\" until the teacher writes the final grade into a grade book.[6]\n",
            "\n",
            "Student medical records[edit]\n",
            "Legal experts have debated the issue of whether student medical records (for example records of therapy sessions with a therapist at an on-campus counseling center) might be released to the school administration under certain triggering events, such as when a student sued his college or university.[7][8]\n",
            "\n",
            "Usually, student medical treatment records will remain under the protection of FERPA, not the Health Insurance Portability and Accountability Act (HIPAA). This is due to the \"FERPA Exception\" written within HIPAA.[9]\n"
          ]
        }
      ],
      "source": [
        "file = open(\"ferpa.txt\",\"r\")\n",
        "# we'll read that into a variable called wiki\n",
        "wiki = file.read()\n",
        "\n",
        "# and lets print that variable out to the screen\n",
        "print(wiki)"
      ]
    },
    {
      "cell_type": "markdown",
      "metadata": {
        "id": "-SGAt0sjRiKX"
      },
      "source": [
        "Now that we've read the file, let's go back to regular expressions.\n",
        "\n",
        "Scanning through this document one of the things we notice is that the headers all have the words `[edit]` behind them, followed by a newline character. So if we wanted to get a list of all of the headers in this article we could do so using the `re.findall()` function."
      ]
    },
    {
      "cell_type": "code",
      "execution_count": 25,
      "metadata": {
        "id": "Fylo35jNq2Ju"
      },
      "outputs": [
        {
          "data": {
            "text/plain": [
              "['Overview[edit]', 'records[edit]', 'records[edit]']"
            ]
          },
          "execution_count": 25,
          "metadata": {},
          "output_type": "execute_result"
        }
      ],
      "source": [
        "#If you wish to use any special character literally, such as [ or ^ or *, simply add \\ before it.\n",
        "re.findall(\"[a-zA-Z]{1,100}\\[edit\\]\",wiki)"
      ]
    },
    {
      "cell_type": "markdown",
      "metadata": {
        "id": "PmahemrrTZ0o"
      },
      "source": [
        "Ok, that didn't quite work. It got all of the headers, but only the last word of the header. So how can we fix and improve this?\n",
        "\n",
        "Firstly, we can use a **metacharacter** `\\w` to match any letter, including digits and numbers. (A list of the different metacharacters can be found in the [regex documentation](https://docs.python.org/3/library/re.html))"
      ]
    },
    {
      "cell_type": "code",
      "execution_count": 26,
      "metadata": {
        "id": "OqL8L5CNq2Jy"
      },
      "outputs": [
        {
          "data": {
            "text/plain": [
              "['Overview[edit]', 'records[edit]', 'records[edit]']"
            ]
          },
          "execution_count": 26,
          "metadata": {},
          "output_type": "execute_result"
        }
      ],
      "source": [
        "re.findall(\"[\\w]{1,100}\\[edit\\]\",wiki)"
      ]
    },
    {
      "cell_type": "markdown",
      "metadata": {
        "id": "Foo858_3jjAb"
      },
      "source": [
        "Secondly, looking at the quantifier, the maximum is arbitrarily large. How can we select a reasonable max?\n",
        "\n",
        "There are three other quantifiers that can be used as short hand instead:\n",
        "- `*`: an asterix to match 0 or more times\n",
        "- `+`: a plus sign to match 1 or more times\n",
        "- `?`: a question mark to match 0 or 1 time"
      ]
    },
    {
      "cell_type": "code",
      "execution_count": 27,
      "metadata": {
        "id": "PUCo7zxPq2J4"
      },
      "outputs": [
        {
          "data": {
            "text/plain": [
              "['Overview[edit]', 'records[edit]', 'records[edit]']"
            ]
          },
          "execution_count": 27,
          "metadata": {},
          "output_type": "execute_result"
        }
      ],
      "source": [
        "re.findall(\"[\\w]+\\[edit\\]\",wiki)"
      ]
    },
    {
      "cell_type": "markdown",
      "metadata": {
        "id": "1HdHdZbnoSx0"
      },
      "source": [
        "Now that we have shortened the regex, let's improve it a little bit. We can add in a spaces using the space character"
      ]
    },
    {
      "cell_type": "code",
      "execution_count": 28,
      "metadata": {
        "id": "Af8dBatdq2J-"
      },
      "outputs": [
        {
          "data": {
            "text/plain": [
              "['Overview[edit]',\n",
              " 'Access to public records[edit]',\n",
              " 'Student medical records[edit]']"
            ]
          },
          "execution_count": 28,
          "metadata": {},
          "output_type": "execute_result"
        }
      ],
      "source": [
        "re.findall(\"[\\w ]+\\[edit\\]\",wiki)"
      ]
    },
    {
      "cell_type": "markdown",
      "metadata": {
        "id": "VLoN88yGolo7"
      },
      "source": [
        "Ok, so this gets us the list of section titles in the wikipedia page!\n",
        "\n",
        "Finally, let's create a list of titles by iterating through this and applying another regex to remove the unwanted `[edit]` trailing these titles."
      ]
    },
    {
      "cell_type": "code",
      "execution_count": 29,
      "metadata": {
        "id": "_CwuIbpnq2KD"
      },
      "outputs": [
        {
          "name": "stdout",
          "output_type": "stream",
          "text": [
            "Overview\n",
            "Access to public records\n",
            "Student medical records\n"
          ]
        }
      ],
      "source": [
        "for title in re.findall(\"[\\w ]+\\[edit\\]\",wiki):\n",
        "    # Now we will take that intermediate result and split on the square bracket [ just taking the first result\n",
        "    print(re.split(\"\\[\",title)[0])"
      ]
    },
    {
      "cell_type": "markdown",
      "metadata": {
        "id": "egMceQiVt2pP"
      },
      "source": [
        "**Question:** To better understand how the `*`, `+`, `?` quantifiers work, let's revisit our last student grades example. What do you think each of the following options will produce?"
      ]
    },
    {
      "cell_type": "code",
      "execution_count": 30,
      "metadata": {
        "id": "TdFd8FW7uGWg"
      },
      "outputs": [
        {
          "name": "stdout",
          "output_type": "stream",
          "text": [
            "['AC', 'AAAAB', 'AAD']\n",
            "['AC', 'AAAAB', 'C', 'B', 'C', 'B', 'AAD']\n",
            "['AC', 'AB', 'C', 'B', 'C', 'B', 'AD']\n"
          ]
        }
      ],
      "source": [
        "import re\n",
        "\n",
        "grades=\"ACAAAABCBCBAAD\"\n",
        "\n",
        "print(re.findall(\"[A]+[B-D]\",grades))\n",
        "print(re.findall(\"[A]*[B-D]\",grades))\n",
        "print(re.findall(\"[A]?[B-D]\",grades))"
      ]
    },
    {
      "cell_type": "markdown",
      "metadata": {
        "id": "7c6s9-9qSf-X"
      },
      "source": [
        "So far, we have been talking about a regex as a single pattern which is matched. But, you can actually match different patterns, called \"groups\", at the same time, and then refer to the groups you want. But I'll leave that to our next lecture. :--)"
      ]
    }
  ],
  "metadata": {
    "colab": {
      "provenance": [],
      "toc_visible": true
    },
    "kernelspec": {
      "display_name": "Python 3",
      "language": "python",
      "name": "python3"
    },
    "language_info": {
      "codemirror_mode": {
        "name": "ipython",
        "version": 3
      },
      "file_extension": ".py",
      "mimetype": "text/x-python",
      "name": "python",
      "nbconvert_exporter": "python",
      "pygments_lexer": "ipython3",
      "version": "3.11.0"
    }
  },
  "nbformat": 4,
  "nbformat_minor": 0
}
