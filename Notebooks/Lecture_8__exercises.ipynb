{
  "cells": [
    {
      "cell_type": "code",
      "execution_count": 1,
      "metadata": {
        "id": "FpF8jRP0xGwj"
      },
      "outputs": [],
      "source": [
        "import pandas as pd\n",
        "import numpy as np"
      ]
    },
    {
      "cell_type": "markdown",
      "metadata": {
        "id": "wCixmWlq3-18"
      },
      "source": [
        "**Question 1:**\n",
        "\n",
        "Create two Pandas Series, the first with odd numbers and the second with even numbers from 1 to 100,000,000.\n",
        "\n",
        "Add, subtract, multiply and divide the elements in the two Pandas Series. Use vectorization to perform these operations (i.e. do not use for loops). Display only the first 4 instances of each resulting Series."
      ]
    },
    {
      "cell_type": "code",
      "execution_count": 8,
      "metadata": {
        "id": "-88VqGhjxL-l"
      },
      "outputs": [
        {
          "name": "stdout",
          "output_type": "stream",
          "text": [
            "0     3.0\n",
            "1     7.0\n",
            "2    11.0\n",
            "3    15.0\n",
            "dtype: float64\n",
            "0   -1.0\n",
            "1   -1.0\n",
            "2   -1.0\n",
            "3   -1.0\n",
            "dtype: float64\n",
            "0     2.0\n",
            "1    12.0\n",
            "2    30.0\n",
            "3    56.0\n",
            "dtype: float64\n",
            "0    0.500000\n",
            "1    0.750000\n",
            "2    0.833333\n",
            "3    0.875000\n",
            "dtype: float64\n"
          ]
        }
      ],
      "source": [
        "# answer here\n",
        "odd = pd.Series(np.arange(1, 100_000_000, 2))\n",
        "even = pd.Series(np.arange(2, 100_000_000, 2))\n",
        "\n",
        "# Add the two series together\n",
        "total = odd + even\n",
        "print(total.head(4))\n",
        "\n",
        "# Subtract the two series\n",
        "total = odd - even\n",
        "print(total.head(4))\n",
        "\n",
        "# Multiply the two series\n",
        "total = odd * even\n",
        "print(total.head(4))\n",
        "\n",
        "\n",
        "# Divide the two series\n",
        "total = odd / even\n",
        "print(total.head(4))\n"
      ]
    },
    {
      "cell_type": "markdown",
      "metadata": {
        "id": "wTonKdb6_PBW"
      },
      "source": [
        "**Question 2:**\n",
        "\n",
        "Generate a Pandas Series with 10,000,000 random integers between 1 and 10,000 and calculate the mean, standard deviation, max, min, and range. Remember that pandas series is built based on NumPy.\n",
        "\n",
        "*Bonus exercise*: Select one of the statistics mentioned above and use the `timeit` magic function to show how much faster it is to calculate using vectorization vs. the traditional way of looping."
      ]
    },
    {
      "cell_type": "code",
      "execution_count": 30,
      "metadata": {
        "id": "dXDIUCN54yPL"
      },
      "outputs": [
        {
          "name": "stdout",
          "output_type": "stream",
          "text": [
            "5000.0110506\n",
            "2886.295085990277\n",
            "1\n",
            "9999\n",
            "9998\n",
            "3.27 ms ± 140 µs per loop (mean ± std. dev. of 7 runs, 100 loops each)\n",
            "367 ms ± 2.91 ms per loop (mean ± std. dev. of 7 runs, 1 loop each)\n"
          ]
        }
      ],
      "source": [
        "#answer here\n",
        "# Create a series with 10,000,000 random integers between 1 and 10,000\n",
        "\n",
        "nums = pd.Series(np.random.randint(1, 10_000, 10_000_000))\n",
        "\n",
        "# Find the mean of the series\n",
        "print(nums.mean())\n",
        "\n",
        "# Find standard deviation of the series\n",
        "print(nums.std())\n",
        "\n",
        "# Find the median of the series\n",
        "print(nums.min())\n",
        "\n",
        "# Find the mode of the series\n",
        "print(nums.max())\n",
        "\n",
        "# Find the range of the series\n",
        "print(nums.max() - nums.min())\n",
        "\n",
        "# Bonus: Compare time it takes to find the mean using pandas vs. python lists\n",
        "%timeit nums.mean()\n",
        "%timeit sum(nums) / len(nums)"
      ]
    },
    {
      "cell_type": "markdown",
      "metadata": {
        "id": "cy7uUhj_cO9c"
      },
      "source": [
        "**Question 3:** Create a Pandas Series from the dictionary below.\n",
        "\n",
        "```\n",
        "age = {\"Sarah\": 23, \"Noor\": 36, \"Michael\": 20,\n",
        "       \"Mika\": 28, \"Ahmed\": 22, \"Jenna\": 45,\n",
        "       \"Mona\": 46, \"Jack\": None, \"John\": 30,\n",
        "       \"Ana\": 43, \"Abdullah\": 32, \"Leah\": 31}\n",
        "```\n",
        "\n",
        "1. Set the age of Ana to 27. Set the age of the 4th person to 35.\n",
        "2. Subtract 1 from everyone's age. Use Panda's broadcasting feature.\n",
        "3. What's the median age?"
      ]
    },
    {
      "cell_type": "code",
      "execution_count": 34,
      "metadata": {
        "id": "GjlcwWFUdYmp"
      },
      "outputs": [
        {
          "name": "stdout",
          "output_type": "stream",
          "text": [
            "Sarah       23.0\n",
            "Noor        36.0\n",
            "Michael     20.0\n",
            "Mika        35.0\n",
            "Ahmed       22.0\n",
            "Jenna       45.0\n",
            "Mona        46.0\n",
            "Jack         NaN\n",
            "John        30.0\n",
            "Ana         27.0\n",
            "Abdullah    32.0\n",
            "Leah        31.0\n",
            "dtype: float64\n",
            "Median age: 31.0\n"
          ]
        }
      ],
      "source": [
        "#answer here\n",
        "age = {\"Sarah\": 23, \"Noor\": 36, \"Michael\": 20,\n",
        "       \"Mika\": 28, \"Ahmed\": 22, \"Jenna\": 45,\n",
        "       \"Mona\": 46, \"Jack\": None, \"John\": 30,\n",
        "       \"Ana\": 43, \"Abdullah\": 32, \"Leah\": 31}\n",
        "\n",
        "# Create a series from the dictionary\n",
        "age = pd.Series(age)\n",
        "\n",
        "# Set Ana's age to 27\n",
        "age[\"Ana\"] = 27\n",
        "\n",
        "# Set the 4th person's age to 35\n",
        "age[3] = 35\n",
        "\n",
        "print(age)\n",
        "\n",
        "# Find the median age\n",
        "print(f'Median age: {age.median()}')"
      ]
    },
    {
      "cell_type": "markdown",
      "metadata": {
        "id": "GnMx9Ci2f89P"
      },
      "source": [
        "**Question 4:**\n",
        "\n",
        "When studying NumPy we've learned about boolean masking. Since Pandas is built on NumPy, we can also apply boolean masking on Pandas Series.\n",
        "\n",
        "Create a new Series ``gender`` from the given dictionary.\n",
        "\n",
        "```\n",
        "gender = {\"Sana\":\"F\", \"Sarah\": \"F\", \"Bayan\":\"F\",\"Noor\": \"F\", \"Michael\": \"M\",\n",
        "          \"Mika\": \"F\", \"Ahmed\": \"M\", \"Jenna\": \"F\", \"Alex\":\"M\", \"Jess\":\"M\",\n",
        "          \"Mona\": \"F\", \"Jack\": \"M\", \"John\": \"M\", \"Jenny\":\"F\", \"Christopher\":\"M\",\n",
        "          \"Ana\": \"F\", \"Abdullah\": \"M\", \"Leah\": \"F\", \"Fatima\":\"F\"}\n",
        "```\n",
        "1. Use boolean masking to return a Series that includes only the females in the list.\n",
        "2. Use the `age` Series you generated in the previous question and boolean masking to calculate the average age of females. We only want the average age of the females whose age we know."
      ]
    },
    {
      "cell_type": "code",
      "execution_count": 45,
      "metadata": {
        "id": "AuWZGcpxZm_e"
      },
      "outputs": [
        {
          "name": "stdout",
          "output_type": "stream",
          "text": [
            "Average age of females: 34.71\n"
          ]
        }
      ],
      "source": [
        "#answer here\n",
        "gender = {\"Sana\":\"F\", \"Sarah\": \"F\", \"Bayan\":\"F\",\"Noor\": \"F\", \"Michael\": \"M\",\n",
        "          \"Mika\": \"F\", \"Ahmed\": \"M\", \"Jenna\": \"F\", \"Alex\":\"M\", \"Jess\":\"M\",\n",
        "          \"Mona\": \"F\", \"Jack\": \"M\", \"John\": \"M\", \"Jenny\":\"F\", \"Christopher\":\"M\",\n",
        "          \"Ana\": \"F\", \"Abdullah\": \"M\", \"Leah\": \"F\", \"Fatima\":\"F\"}\n",
        "\n",
        "# Create a series from the dictionary\n",
        "gender = pd.Series(gender)\n",
        "\n",
        "# Use boolean masking to return a Series that includes only the females in the list\n",
        "gender[gender == \"F\"]\n",
        "\n",
        "# Use the age Series from the previous exercise and boolean masking to calculate average age of females\n",
        "avg_female_age = age[gender == \"F\"].mean()\n",
        "\n",
        "print(f'Average age of females: {avg_female_age:.2f}')"
      ]
    },
    {
      "cell_type": "markdown",
      "metadata": {
        "id": "ky8Weyiukq-3"
      },
      "source": [
        "**Question 5:** Create a function that will take as input two lists, and a flag. The function will convert the lists to Pandas Series, and combine them. Depending on the flag, either reset the index if ``True`` or keep as is if ``False``.\n",
        "\n",
        "```\n",
        "ids = [1404, 1696, 7849, 4615, 7890, 4867, 6266, 5859, 9000, 4279, 2426,\n",
        "       7379, 4132, 6096, 4926, 4724, 5200, 3048, 5714, 8203, 1723, 2224,\n",
        "       2054, 2704, 6632, 5426, 6121, 6699, 3774, 5295, 2143, 9743]\n",
        "\n",
        "ids_part2 = [4193, 8884, 4983, 6970, 4607, 4030, 8016, 5734, 1385, 8682,\n",
        "        5486, 7896, 7267, 6013, 5441, 2652, 6977, 3492, 6052, 5165, 8482,\n",
        "        8013, 2246, 9973, 4007, 2942, 1115, 7395]\n",
        "```\n",
        "\n"
      ]
    },
    {
      "cell_type": "code",
      "execution_count": 53,
      "metadata": {
        "id": "hLKXQA0zonVW"
      },
      "outputs": [
        {
          "data": {
            "text/plain": [
              "0     1404\n",
              "1     1696\n",
              "2     7849\n",
              "3     4615\n",
              "4     7890\n",
              "5     4867\n",
              "6     6266\n",
              "7     5859\n",
              "8     9000\n",
              "9     4279\n",
              "10    2426\n",
              "11    7379\n",
              "12    4132\n",
              "13    6096\n",
              "14    4926\n",
              "15    4724\n",
              "16    5200\n",
              "17    3048\n",
              "18    5714\n",
              "19    8203\n",
              "20    1723\n",
              "21    2224\n",
              "22    2054\n",
              "23    2704\n",
              "24    6632\n",
              "25    5426\n",
              "26    6121\n",
              "27    6699\n",
              "28    3774\n",
              "29    5295\n",
              "30    2143\n",
              "31    9743\n",
              "0     4193\n",
              "1     8884\n",
              "2     4983\n",
              "3     6970\n",
              "4     4607\n",
              "5     4030\n",
              "6     8016\n",
              "7     5734\n",
              "8     1385\n",
              "9     8682\n",
              "10    5486\n",
              "11    7896\n",
              "12    7267\n",
              "13    6013\n",
              "14    5441\n",
              "15    2652\n",
              "16    6977\n",
              "17    3492\n",
              "18    6052\n",
              "19    5165\n",
              "20    8482\n",
              "21    8013\n",
              "22    2246\n",
              "23    9973\n",
              "24    4007\n",
              "25    2942\n",
              "26    1115\n",
              "27    7395\n",
              "dtype: int64"
            ]
          },
          "execution_count": 53,
          "metadata": {},
          "output_type": "execute_result"
        }
      ],
      "source": [
        "# answer here\n",
        "\n",
        "# Function to combine two series\n",
        "def combine_series(series1, series2, index_reset):\n",
        "    if index_reset:\n",
        "        return pd.concat([series1, series2], ignore_index=True)\n",
        "    else:\n",
        "        return pd.concat([series1, series2])\n",
        "\n",
        "ids = [1404, 1696, 7849, 4615, 7890, 4867, 6266, 5859, 9000, 4279, 2426,\n",
        "       7379, 4132, 6096, 4926, 4724, 5200, 3048, 5714, 8203, 1723, 2224,\n",
        "       2054, 2704, 6632, 5426, 6121, 6699, 3774, 5295, 2143, 9743]\n",
        "\n",
        "ids_part2 = [4193, 8884, 4983, 6970, 4607, 4030, 8016, 5734, 1385, 8682,\n",
        "             5486, 7896, 7267, 6013, 5441, 2652, 6977, 3492, 6052, 5165, 8482,\n",
        "             8013, 2246, 9973, 4007, 2942, 1115, 7395]\n",
        "\n",
        "flag = False\n",
        "\n",
        "# Create series from ids lists\n",
        "ids = pd.Series(ids)\n",
        "ids2 = pd.Series(ids_part2)\n",
        "\n",
        "# Combine the two series\n",
        "ids = combine_series(ids, ids2, flag)\n",
        "\n",
        "ids\n"
      ]
    }
  ],
  "metadata": {
    "colab": {
      "provenance": []
    },
    "kernelspec": {
      "display_name": "Python 3",
      "name": "python3"
    },
    "language_info": {
      "codemirror_mode": {
        "name": "ipython",
        "version": 3
      },
      "file_extension": ".py",
      "mimetype": "text/x-python",
      "name": "python",
      "nbconvert_exporter": "python",
      "pygments_lexer": "ipython3",
      "version": "3.11.0"
    }
  },
  "nbformat": 4,
  "nbformat_minor": 0
}
