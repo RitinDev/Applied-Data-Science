{
  "cells": [
    {
      "cell_type": "code",
      "execution_count": 32,
      "metadata": {
        "id": "goPSkuH4FHNu"
      },
      "outputs": [],
      "source": [
        "import re"
      ]
    },
    {
      "cell_type": "markdown",
      "metadata": {
        "id": "PXku8F1oFTp_"
      },
      "source": [
        "**Question 1:** Given a list of names, print all the strings that start with uppercase \"A\" followed by a lowercase \"d\"."
      ]
    },
    {
      "cell_type": "code",
      "execution_count": 33,
      "metadata": {
        "id": "R6xYGdZhFdRM"
      },
      "outputs": [
        {
          "data": {
            "text/plain": [
              "['Adelaide', 'Adam']"
            ]
          },
          "execution_count": 33,
          "metadata": {},
          "output_type": "execute_result"
        }
      ],
      "source": [
        "names = [\"Amy Adamovich\", \"Adelaide\", \"Andrew\", \"Susan\", \"Paul\", \"Adam\"]\n",
        "\n",
        "#answer here\n",
        "[name for name in names if re.search(r\"^Ad\", name)]"
      ]
    },
    {
      "cell_type": "markdown",
      "metadata": {
        "id": "kZjWGK8ZFT3W"
      },
      "source": [
        "**Question 2:** Given the string `s`, remove all lowercase letters and numbers from it.\n",
        "\n",
        "*Hint*: Look up `re.sub()`"
      ]
    },
    {
      "cell_type": "code",
      "execution_count": 34,
      "metadata": {
        "id": "v8uLKQNaFedf"
      },
      "outputs": [
        {
          "data": {
            "text/plain": [
              "'ABCDE'"
            ]
          },
          "execution_count": 34,
          "metadata": {},
          "output_type": "execute_result"
        }
      ],
      "source": [
        "s = \"ABC2156123asf5DEfg215hij\"\n",
        "\n",
        "#answer here\n",
        "re.sub(r\"[a-z0-9]\", \"\", s)"
      ]
    },
    {
      "cell_type": "markdown",
      "metadata": {
        "id": "W4NhB-8jXbZG"
      },
      "source": [
        "**Question 3:** Write a Python function that takes a string as an argument and checks if a string that has an `a` followed by at least one `b`.\n",
        "\n",
        "Examples:\n",
        "- \"a\" returns `False`\n",
        "- \"ab\" returns `True`\n",
        "- \"abbbb\" returns `True`\n",
        "- \"fab\" returns `True`\n",
        "- \"acb\" returns `False`\n",
        "\n",
        "\n"
      ]
    },
    {
      "cell_type": "code",
      "execution_count": 35,
      "metadata": {
        "id": "aH95YAVoXcH_"
      },
      "outputs": [
        {
          "name": "stdout",
          "output_type": "stream",
          "text": [
            "True\n",
            "False\n",
            "True\n"
          ]
        }
      ],
      "source": [
        "import re\n",
        "\n",
        "def text_match(text):\n",
        "  #answer here\n",
        "  return re.search(r\"ab\", text) is not None\n",
        "\n",
        "print(text_match(\"fab\"))\n",
        "print(text_match(\"ac\"))\n",
        "print(text_match(\"abbc\"))"
      ]
    },
    {
      "cell_type": "markdown",
      "metadata": {
        "id": "CBwxhqEMFXKT"
      },
      "source": [
        "**Question 4:** Given a string, print a list with all the expressions within `[]`. Assume there are no broken square brackets."
      ]
    },
    {
      "cell_type": "code",
      "execution_count": 36,
      "metadata": {
        "id": "bhJ9VMJOFflv"
      },
      "outputs": [
        {
          "data": {
            "text/plain": [
              "['Would A Woodchuck', 'Chuck']"
            ]
          },
          "execution_count": 36,
          "metadata": {},
          "output_type": "execute_result"
        }
      ],
      "source": [
        "s = \"How Much Wood [Would A Woodchuck] Chuck If A Woodchuck Could [Chuck] Wood?\"\n",
        "\n",
        "#answer here\n",
        "# Find all strings between square brackets\n",
        "re.findall(r\"\\[([^\\]]+)\\]\", s)"
      ]
    },
    {
      "cell_type": "markdown",
      "metadata": {
        "id": "hPhtK-aDFWgn"
      },
      "source": [
        "**Question 5:** Generate a list that includes every word in the string below as a separate element."
      ]
    },
    {
      "cell_type": "code",
      "execution_count": 37,
      "metadata": {
        "id": "nL5TSkTdFfEs"
      },
      "outputs": [
        {
          "data": {
            "text/plain": [
              "'The quick brown fox jumps over the lazy dog'"
            ]
          },
          "execution_count": 37,
          "metadata": {},
          "output_type": "execute_result"
        }
      ],
      "source": [
        "s = 'The quick brown\\nfox jumps*over the lazy^dog'\n",
        "\n",
        "#answer here\n",
        "re.sub(r\"[\\n*^]\", \" \", s)\n"
      ]
    },
    {
      "cell_type": "markdown",
      "metadata": {
        "id": "F2bMzROGFOUE"
      },
      "source": [
        "**Question 6:** Split the given string based on one whitespace followed by 2 to 5 digits, such that the resulting list includes only the hashes `'###'`.\n",
        "\n"
      ]
    },
    {
      "cell_type": "code",
      "execution_count": 38,
      "metadata": {
        "id": "jISwPgDgFgHI"
      },
      "outputs": [
        {
          "data": {
            "text/plain": [
              "['###', '###', '###', '###']"
            ]
          },
          "execution_count": 38,
          "metadata": {},
          "output_type": "execute_result"
        }
      ],
      "source": [
        "s = '###\\t45### 55555###\\n77777###'\n",
        "\n",
        "# answer here\n",
        "\n",
        "re.split(r\"\\s\\d{2,5}\", s)\n"
      ]
    }
  ],
  "metadata": {
    "colab": {
      "provenance": [],
      "toc_visible": true
    },
    "kernelspec": {
      "display_name": "Python 3",
      "name": "python3"
    },
    "language_info": {
      "codemirror_mode": {
        "name": "ipython",
        "version": 3
      },
      "file_extension": ".py",
      "mimetype": "text/x-python",
      "name": "python",
      "nbconvert_exporter": "python",
      "pygments_lexer": "ipython3",
      "version": "3.11.0"
    }
  },
  "nbformat": 4,
  "nbformat_minor": 0
}
