{
  "cells": [
    {
      "cell_type": "markdown",
      "metadata": {
        "id": "lbDDZ2hEasMu"
      },
      "source": [
        "-----\n",
        "# Numerical Python (NumPy) - Part 1: Exercises\n",
        "-----"
      ]
    },
    {
      "cell_type": "code",
      "execution_count": 50,
      "metadata": {
        "id": "VjTc8mEwhpSv"
      },
      "outputs": [],
      "source": [
        "import numpy as np"
      ]
    },
    {
      "cell_type": "markdown",
      "metadata": {
        "id": "IFKCp4UvfqZr"
      },
      "source": [
        "**Question 1:**\n",
        "\n",
        "With numpy you could easily convert a number of farenheit values to ceclius.\n",
        "\n",
        "Create an array of typical farenheit values in winter\n",
        "`[0,-10,-5,-15,0]` and convert all values to celcius using the following formula for conversion: ((°F − 32) × 5/9 = °C)"
      ]
    },
    {
      "cell_type": "code",
      "execution_count": 51,
      "metadata": {
        "id": "zMVm3a8ZH-E4"
      },
      "outputs": [
        {
          "data": {
            "text/plain": [
              "array([-17.78, -23.33, -20.56, -26.11, -40.  ])"
            ]
          },
          "execution_count": 51,
          "metadata": {},
          "output_type": "execute_result"
        }
      ],
      "source": [
        "#answer here\n",
        "farenheit_vals = np.array([0, -10, -5, -15, -40])\n",
        "# Convert to celsius\n",
        "# To improve result readability, round to 2 decimal places\n",
        "celsius_vals = np.round((farenheit_vals - 32) * (5/9), 2)\n",
        "celsius_vals\n"
      ]
    },
    {
      "cell_type": "markdown",
      "metadata": {
        "id": "Ufpk6zqdpSlV"
      },
      "source": [
        "**Question 2:** Create an array of length 100 with random integers from 1 to 9999. Double all its values, then convert it to a square matrix.\n",
        "\n",
        "Challenge: Can you do it all in one line of code?"
      ]
    },
    {
      "cell_type": "code",
      "execution_count": 52,
      "metadata": {
        "id": "CGVOP8m01OzP"
      },
      "outputs": [
        {
          "data": {
            "text/plain": [
              "array([[18968,   598,  3304, 14072,  6324, 16266, 12936,  9818,  5456,\n",
              "         7550],\n",
              "       [15728, 10340, 12516, 11850, 13912, 16414,  6010,  9542, 10336,\n",
              "        19316],\n",
              "       [ 8664,  9408, 11604, 19806,  9982, 13740, 11134,  5150, 15018,\n",
              "        14870],\n",
              "       [ 9638,   162, 18900, 10986, 16908, 10978,  1526,  7076,  3576,\n",
              "        19950],\n",
              "       [18770, 13270,   884,  3996,  4926,  3296,  9096,  1542, 14384,\n",
              "         7720],\n",
              "       [12816,  1188, 13020, 13542, 19382, 15862, 19456, 10566, 12820,\n",
              "        14008],\n",
              "       [ 1882, 12474, 19592, 13944,  2262, 18768,  8208, 12074,  7724,\n",
              "        10720],\n",
              "       [ 2774,  8036, 10204, 11988,  6820,  8512,  4212,  8714,  9152,\n",
              "         8230],\n",
              "       [ 3628,  8582, 15484, 12378, 16238,  4346, 13658, 15656,   566,\n",
              "        10566],\n",
              "       [ 5618,  3696,  8300, 12382, 11860,  5352, 13736, 15330, 18972,\n",
              "        14118]])"
            ]
          },
          "execution_count": 52,
          "metadata": {},
          "output_type": "execute_result"
        }
      ],
      "source": [
        "#answer here\n",
        "# Create an array of length 100 filled with random integers from 1 to 9999\n",
        "# Multiply each value by 2\n",
        "# Reshape the array to be 10x10 matrix\n",
        "rand_arr = (np.random.randint(1, 9999, 100) * 2).reshape(10, 10)\n",
        "rand_arr"
      ]
    },
    {
      "cell_type": "markdown",
      "metadata": {
        "id": "D2AFyt8r43l1"
      },
      "source": [
        "**Question 3:** Given matrices `A` and `B`, calculate the average of all the number in both the matrices."
      ]
    },
    {
      "cell_type": "code",
      "execution_count": 53,
      "metadata": {
        "id": "Gtxpfsiw7Krm"
      },
      "outputs": [
        {
          "data": {
            "text/plain": [
              "69.43333333333334"
            ]
          },
          "execution_count": 53,
          "metadata": {},
          "output_type": "execute_result"
        }
      ],
      "source": [
        "import numpy as np\n",
        "A = np.array([[ -8,  99,  -71,  78,  22,  54,  22,  51,   8,  61],\n",
        "              [ 24,  44,  97, 102,  35, 115,  93,   9, 112, 129],\n",
        "              [ 67,  64,  69,   4,  73,  58,  34,  44,  11, 142],\n",
        "              [ 32, 128, 141,   8, 114,  64,   6,  74, 111,  20],\n",
        "              [ 85, 145,  14,  92,   4,  -1,  52,  11,  24,  45],\n",
        "              [  5, 125,  76,  55,  -2,  82, 123, 127,  58, 103],\n",
        "              [ 87, 143,  39,  38, 108,  55,  57, 145, 146,  52],\n",
        "              [135,  52, 129,  -6,  38, 101, 121,  62,  65,   8],\n",
        "              [127,  47,   4,   0,  67, 128,  -7, 126,  88,  95],\n",
        "              [135, 139,  82,  70,  57,  79, 138,  63,  72, 119]])\n",
        "\n",
        "B = np.array([[ 58,  92, 101, 104,  31,  -4,  91, 145, 114,  38],\n",
        "              [ 96,  53,  60,  45,  46, 145,  70, -10,  34,  86],\n",
        "              [  7, 118,  17, 140, 118, 129,  -8,   3,  95,   0],\n",
        "              [ 53, 135, 114,  63,  25,  24,   3, 124,  10, 139],\n",
        "              [ 88,  -5,  47, 126,  32,  70, 115,  74,  35,   2],\n",
        "              [ 28,  80,  21,  92, 137,  17,   6,  88, 104, 131],\n",
        "              [ 27, 142,  -6,  96,  66,  59,   7, 108, 139,  96],\n",
        "              [ 82, 115, 123, 108,   7,  93, 147,  -1,  66,  98],\n",
        "              [135, 147, 117,  65, 130, 118,  30,  50, 114,  83],\n",
        "              [ 22,  36, 118,  -7,  -6, -10,  -2,  94,  14, 110],\n",
        "              [ 14,  79, 142, 108, 115,  63,  84, 104, 136,  47]])\n",
        "\n",
        "#answer here\n",
        "# Calculate average of all numbers in both matrices\n",
        "np.mean(np.concatenate((A, B)))"
      ]
    },
    {
      "cell_type": "markdown",
      "metadata": {
        "id": "ZkYnIGJTXCER"
      },
      "source": [
        "**Question 4:** Consider an array `A`, normalize the values so that the values are between 0 and 1. As a reminder, the formula for normalization is:\n",
        "\n",
        "$X_{normalized} = \\frac{X - X_{min}}{X_{max}-X_{min}}$"
      ]
    },
    {
      "cell_type": "code",
      "execution_count": 54,
      "metadata": {
        "id": "Tlj5ICPpXCQQ"
      },
      "outputs": [
        {
          "data": {
            "text/plain": [
              "array([[0.70189099, 0.06674082, 0.83648498, 0.32258065, 0.23581758,\n",
              "        0.85761958, 0.19354839, 0.60066741, 0.2625139 , 0.90211346],\n",
              "       [0.34260289, 0.47719689, 0.36929922, 0.18798665, 0.77975528,\n",
              "        0.64849833, 0.62625139, 0.17463849, 0.93214683, 0.60734149],\n",
              "       [0.1512792 , 0.44493882, 0.73637375, 0.2057842 , 0.38375973,\n",
              "        0.75528365, 0.92547275, 0.84204672, 0.55839822, 0.10678532],\n",
              "       [0.56618465, 0.67408231, 0.74304783, 0.74527253, 0.58509455,\n",
              "        0.71190211, 0.13793103, 0.85317019, 0.86429366, 0.41045606],\n",
              "       [0.72191324, 0.31368187, 0.61957731, 0.99888765, 0.65294772,\n",
              "        0.67630701, 0.42157953, 0.19354839, 0.38820912, 0.91991101],\n",
              "       [0.44382647, 0.19243604, 0.30812013, 0.94549499, 0.31368187,\n",
              "        0.12235818, 0.80978865, 0.96996663, 0.97997775, 0.92102336],\n",
              "       [0.04004449, 0.85428254, 0.7163515 , 0.54949944, 0.45717464,\n",
              "        0.70522803, 0.82758621, 0.47830923, 0.38375973, 0.12013348],\n",
              "       [0.51167964, 0.66407119, 0.97664071, 0.99555061, 0.44382647,\n",
              "        0.16685206, 0.80756396, 0.25695217, 0.88097887, 0.19577308],\n",
              "       [0.72636263, 0.53170189, 0.97997775, 0.42602892, 0.85873192,\n",
              "        0.49276974, 0.04226919, 0.79644049, 0.01223582, 0.36373749],\n",
              "       [0.44605117, 0.74082314, 0.99777531, 0.55394883, 0.04449388,\n",
              "        0.04783092, 0.64738598, 0.26028921, 0.52169077, 0.02113459],\n",
              "       [0.17241379, 0.90656285, 0.93548387, 0.7753059 , 0.36373749,\n",
              "        0.14126808, 0.7541713 , 0.87541713, 0.80533927, 0.57063404],\n",
              "       [0.95550612, 0.67185762, 0.04671858, 0.98776418, 0.14349277,\n",
              "        0.89766407, 0.68186874, 0.36707453, 0.74082314, 0.08231368],\n",
              "       [0.07341491, 0.08453838, 0.36707453, 0.        , 0.5862069 ,\n",
              "        0.40266963, 0.52391546, 0.43159066, 0.67964405, 0.33704116],\n",
              "       [0.40044494, 0.93325918, 0.35261402, 0.03448276, 0.42269188,\n",
              "        0.62068966, 0.70634038, 0.78086763, 0.44048943, 0.87764182],\n",
              "       [0.02002225, 0.26362625, 0.39265851, 0.07007786, 0.78531702,\n",
              "        0.57174638, 0.57730812, 0.75305895, 0.58509455, 0.67408231],\n",
              "       [0.79310345, 0.54060067, 0.91768632, 0.80422692, 0.39933259,\n",
              "        0.20133482, 0.97219132, 0.97107898, 0.17241379, 0.2625139 ],\n",
              "       [0.5839822 , 0.1512792 , 0.48832036, 0.14126808, 0.19466073,\n",
              "        0.47608454, 0.7352614 , 0.72747497, 0.21245829, 0.6407119 ],\n",
              "       [0.15795328, 0.19132369, 0.33147942, 0.36262514, 0.56952169,\n",
              "        0.83092325, 0.92324805, 0.73859844, 0.28921023, 0.13904338],\n",
              "       [0.91101224, 0.33704116, 0.13681869, 0.07675195, 0.3003337 ,\n",
              "        0.96440489, 0.07675195, 0.33370412, 0.11679644, 0.73192436],\n",
              "       [0.95105673, 0.88765295, 0.61512792, 1.        , 0.19799778,\n",
              "        0.32369299, 0.14460512, 0.77641824, 0.80200222, 0.51724138]])"
            ]
          },
          "execution_count": 54,
          "metadata": {},
          "output_type": "execute_result"
        }
      ],
      "source": [
        "A = np.array([[731, 160, 852, 390, 312, 871, 274, 640, 336, 911],\n",
        "              [408, 529, 432, 269, 801, 683, 663, 257, 938, 646],\n",
        "              [236, 500, 762, 285, 445, 779, 932, 857, 602, 196],\n",
        "              [609, 706, 768, 770, 626, 740, 224, 867, 877, 469],\n",
        "              [749, 382, 657, 998, 687, 708, 479, 274, 449, 927],\n",
        "              [499, 273, 377, 950, 382, 210, 828, 972, 981, 928],\n",
        "              [136, 868, 744, 594, 511, 734, 844, 530, 445, 208],\n",
        "              [560, 697, 978, 995, 499, 250, 826, 331, 892, 276],\n",
        "              [753, 578, 981, 483, 872, 543, 138, 816, 111, 427],\n",
        "              [501, 766, 997, 598, 140, 143, 682, 334, 569, 119],\n",
        "              [255, 915, 941, 797, 427, 227, 778, 887, 824, 613],\n",
        "              [959, 704, 142, 988, 229, 907, 713, 430, 766, 174],\n",
        "              [166, 176, 430, 100, 627, 462, 571, 488, 711, 403],\n",
        "              [460, 939, 417, 131, 480, 658, 735, 802, 496, 889],\n",
        "              [118, 337, 453, 163, 806, 614, 619, 777, 626, 706],\n",
        "              [813, 586, 925, 823, 459, 281, 974, 973, 255, 336],\n",
        "              [625, 236, 539, 227, 275, 528, 761, 754, 291, 676],\n",
        "              [242, 272, 398, 426, 612, 847, 930, 764, 360, 225],\n",
        "              [919, 403, 223, 169, 370, 967, 169, 400, 205, 758],\n",
        "              [955, 898, 653, 999, 278, 391, 230, 798, 821, 565]])\n",
        "\n",
        "#answer here\n",
        "# Normalize all values in matrix A to be between 0 and 1\n",
        "A = (A - np.min(A)) / (np.max(A) - np.min(A))\n",
        "A"
      ]
    },
    {
      "cell_type": "markdown",
      "metadata": {
        "id": "Vh5G8VRoZWGJ"
      },
      "source": [
        "**Question 5:** Generate an array that contains all consecutive odd numbers between 0 to 16. Convert this array to a 3-D array with equal sides.\n",
        "\n",
        "Food for thought: Can someone tell me when is it better to use `.reshape()` vs `.resize()`?"
      ]
    },
    {
      "cell_type": "code",
      "execution_count": 55,
      "metadata": {
        "id": "kW5Uh3VmZVxs"
      },
      "outputs": [
        {
          "data": {
            "text/plain": [
              "array([[[ 1,  3],\n",
              "        [ 5,  7]],\n",
              "\n",
              "       [[ 9, 11],\n",
              "        [13, 15]]])"
            ]
          },
          "execution_count": 55,
          "metadata": {},
          "output_type": "execute_result"
        }
      ],
      "source": [
        "#answer here\n",
        "# Generate odd numbers array and reshape to be 2x2x2 (Three-Dimensional Matrix)\n",
        "odd_nums = np.arange(1, 16, 2).reshape(2, 2, 2)\n",
        "odd_nums"
      ]
    },
    {
      "cell_type": "markdown",
      "metadata": {
        "id": "MMbXyKun1O69"
      },
      "source": [
        "**Question 6:** Another useful and important elementwise manipulation that we will explore more in the next lecture is the boolean array. We can apply a boolean operator or expression on any array and a boolean value will be returned for every element in the original matrix; i.e. with True being emitted if it meets the condition and False oetherwise.\n",
        "\n",
        "For instance, if we want to get a boolean array to check which values in matrix A have values that are greater than 20, we can do `A > 20`\n",
        "\n",
        "$A = \\begin{pmatrix}\n",
        "  14 & 45 & 63 \\\\\n",
        "  25 & 23 & 10 \\\\\n",
        "  38 & 15 & 13\n",
        " \\end{pmatrix}$\n",
        "\n",
        "$A>20 = \\begin{pmatrix}\n",
        "  False & True & True \\\\\n",
        "  True & True & False \\\\\n",
        "  True & False & False\n",
        " \\end{pmatrix}$\n",
        "\n",
        "As an exercise, create matrix `A` and generate a boolean matrix that returns `True` if a number is a multiple of 5, and `False` otherwise."
      ]
    },
    {
      "cell_type": "code",
      "execution_count": 56,
      "metadata": {
        "id": "Hpr43UNH3Oi-"
      },
      "outputs": [
        {
          "data": {
            "text/plain": [
              "array([[False,  True, False],\n",
              "       [ True, False,  True],\n",
              "       [False,  True, False]])"
            ]
          },
          "execution_count": 56,
          "metadata": {},
          "output_type": "execute_result"
        }
      ],
      "source": [
        "import numpy as np\n",
        "\n",
        "# answer here\n",
        "# Create the given 3 * 3 matrix\n",
        "A = np.array([[14,  45,  63],\n",
        "              [25, 23, 10],\n",
        "              [38, 15, 13]])\n",
        "A = A % 5 == 0  # Check if A is a multiple of 5 or not\n",
        "A\n"
      ]
    }
  ],
  "metadata": {
    "colab": {
      "provenance": []
    },
    "kernelspec": {
      "display_name": "Python 3",
      "language": "python",
      "name": "python3"
    },
    "language_info": {
      "codemirror_mode": {
        "name": "ipython",
        "version": 3
      },
      "file_extension": ".py",
      "mimetype": "text/x-python",
      "name": "python",
      "nbconvert_exporter": "python",
      "pygments_lexer": "ipython3",
      "version": "3.11.0"
    }
  },
  "nbformat": 4,
  "nbformat_minor": 0
}
