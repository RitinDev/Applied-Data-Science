{
  "cells": [
    {
      "cell_type": "markdown",
      "metadata": {
        "id": "VTCl5gfZdt5_"
      },
      "source": [
        "------\n",
        "# Special Functions\n",
        "------\n",
        "\n",
        "In our first lecture, we have seen how functions work in Python. Today, we'll go over some special built-in functions introduced by python developers that are very useful to any data scientist."
      ]
    },
    {
      "cell_type": "markdown",
      "metadata": {
        "id": "vpb0_UVvBJgN"
      },
      "source": [
        "However, before we venture into these special functions, I wanted to take a detour and talk about **Object Oriented Programming (OOP)**.\n",
        "\n",
        "**What is OOP?**\n",
        "Simply put, everything in Python is an \"object\" and \"classes\" are a blueprint of objects. So when we write:"
      ]
    },
    {
      "cell_type": "code",
      "execution_count": 47,
      "metadata": {
        "id": "bE0U_14uDHXP"
      },
      "outputs": [],
      "source": [
        "a = 2\n",
        "b = \"hello!\"\n",
        "c = [1,2,3]"
      ]
    },
    {
      "cell_type": "markdown",
      "metadata": {
        "id": "kL4V4mVZDL23"
      },
      "source": [
        "We are creating an object `a` of class `int` holding the value `2`. The object `b` of class `str` holding the value `\"hello!\"`. Every class of objects comes with a set of predefined \"procedures\" (better known as functions), that we can apply on the objects.\n",
        "\n",
        "Some objects are built into python, while others need to be \"imported\" (along with their functions) from existing pythonic modules or libraries for us to be able to access them and use them.\n",
        "\n",
        "With that knowledge, let me introduce you to our first imported modules."
      ]
    },
    {
      "cell_type": "markdown",
      "metadata": {
        "id": "xeTY9ZiGeB8w"
      },
      "source": [
        "## Dates and Times\n",
        "\n",
        "A lot of analysis you do might relate to dates and times. For instance, finding the average number of sales over a given period, selecting a list of products to data mine if they were purchased in a given period, or trying to find the period with the most activity in online discussion forum systems.\n",
        "\n",
        "While we won't delve too deeply into time series analysis during this course, you still should be aware of the different ways in which Python stores date and time. One of the most common legacy methods for storing the date and time in online transactions systems is based on the offset from the epoch, which is January 1, 1970. There's a lot of historical cruft around this, but it's not uncommon to see systems storing the date of a transaction in seconds or milliseconds since this date. So if you see large numbers where you expect to see date and time, you'll need to convert them to make sense out of the data."
      ]
    },
    {
      "cell_type": "markdown",
      "metadata": {
        "id": "7WbiBlLkeB80"
      },
      "source": [
        "In Python, you can get the current time since the epoch using the time module. The `.time()` function in it returns *the current time in seconds* since the epoch (January 1st, 1970)."
      ]
    },
    {
      "cell_type": "code",
      "execution_count": 48,
      "metadata": {
        "id": "x4n-q_e1eB80"
      },
      "outputs": [
        {
          "data": {
            "text/plain": [
              "1693909319.626261"
            ]
          },
          "execution_count": 48,
          "metadata": {},
          "output_type": "execute_result"
        }
      ],
      "source": [
        "# we import a library using the `import` keyword followed by an `as` to create an abbreviation\n",
        "import time as tm\n",
        "\n",
        "tm.time()"
      ]
    },
    {
      "cell_type": "markdown",
      "metadata": {
        "id": "j66sEmGReB83"
      },
      "source": [
        "This isn't very readable. We need to convert the `time` object to something easier to comprehend, like a **`datetime`** object.\n",
        "\n",
        "The `datetime` module supplies classes to work with date and time. These classes provide a number of functions to deal with dates, times and time intervals.\n",
        "\n",
        "Using this module, we can create a \"**timestamp**\" using the `.fromtimestamp()` function, which returns a `datetime` object allowing us to distinguish year, month, day, and so forth."
      ]
    },
    {
      "cell_type": "code",
      "execution_count": 49,
      "metadata": {
        "id": "jpjwpjFveB84"
      },
      "outputs": [
        {
          "data": {
            "text/plain": [
              "datetime.datetime(2023, 9, 5, 14, 21, 59, 629640)"
            ]
          },
          "execution_count": 49,
          "metadata": {},
          "output_type": "execute_result"
        }
      ],
      "source": [
        "import datetime as dt\n",
        "\n",
        "dtnow = dt.datetime.fromtimestamp(tm.time())\n",
        "dtnow"
      ]
    },
    {
      "cell_type": "code",
      "execution_count": 50,
      "metadata": {
        "id": "-zueVuB4-du5"
      },
      "outputs": [
        {
          "data": {
            "text/plain": [
              "datetime.datetime(2023, 9, 5, 14, 21, 59, 632831)"
            ]
          },
          "execution_count": 50,
          "metadata": {},
          "output_type": "execute_result"
        }
      ],
      "source": [
        "#you can also use the now() function\n",
        "dt.datetime.now()"
      ]
    },
    {
      "cell_type": "markdown",
      "metadata": {
        "id": "Ild4eNRgeB86"
      },
      "source": [
        "The date time object also has handy attributes to get the representative year, month, day, hour, etc."
      ]
    },
    {
      "cell_type": "code",
      "execution_count": 51,
      "metadata": {
        "id": "UL48qZI4eB86"
      },
      "outputs": [
        {
          "data": {
            "text/plain": [
              "(2023, 9, 5, 14, 21, 59, 629640)"
            ]
          },
          "execution_count": 51,
          "metadata": {},
          "output_type": "execute_result"
        }
      ],
      "source": [
        "# get year, month, day, etc.from a datetime\n",
        "dtnow.year, dtnow.month, dtnow.day, dtnow.hour, dtnow.minute, dtnow.second, dtnow.microsecond"
      ]
    },
    {
      "cell_type": "markdown",
      "metadata": {
        "id": "gsny1lYGHJG2"
      },
      "source": [
        "Note that `.now()` is a function, while `.year` is an attribute. Can you tell me what the difference is?"
      ]
    },
    {
      "cell_type": "markdown",
      "metadata": {
        "id": "3DLDxvWueB88"
      },
      "source": [
        "`datetime` objects also allow for simple math, using \"time deltas\". Time delta is a duration expressing the difference between two date values.\n",
        "\n",
        "For instance, here, we can create a `timedelta` of 90 days...\n",
        "\n",
        "\n"
      ]
    },
    {
      "cell_type": "code",
      "execution_count": 52,
      "metadata": {
        "id": "E6OqEa3XeB88"
      },
      "outputs": [
        {
          "data": {
            "text/plain": [
              "datetime.timedelta(days=90)"
            ]
          },
          "execution_count": 52,
          "metadata": {},
          "output_type": "execute_result"
        }
      ],
      "source": [
        "delta = dt.timedelta(days = 90)\n",
        "delta"
      ]
    },
    {
      "cell_type": "markdown",
      "metadata": {
        "id": "lvBomkdo5Agk"
      },
      "source": [
        "... then do subtraction and comparisons with another `datetime` object, say today."
      ]
    },
    {
      "cell_type": "code",
      "execution_count": 53,
      "metadata": {
        "id": "Rl3NLf3weB8-"
      },
      "outputs": [
        {
          "name": "stdout",
          "output_type": "stream",
          "text": [
            "2023-09-05\n",
            "2023-06-07\n"
          ]
        }
      ],
      "source": [
        "# datetime.date.today() returns the current local date\n",
        "today = dt.date.today()\n",
        "print(today)\n",
        "\n",
        "print(today-delta)"
      ]
    },
    {
      "cell_type": "markdown",
      "metadata": {
        "id": "CRlQ_ul052z6"
      },
      "source": [
        "The `datetime` object also allows you to compare dates directly, to know which dates are more recent."
      ]
    },
    {
      "cell_type": "code",
      "execution_count": 54,
      "metadata": {
        "id": "cmVK3UNWeB9A"
      },
      "outputs": [
        {
          "data": {
            "text/plain": [
              "True"
            ]
          },
          "execution_count": 54,
          "metadata": {},
          "output_type": "execute_result"
        }
      ],
      "source": [
        "today > today-delta #compare dates"
      ]
    },
    {
      "cell_type": "markdown",
      "metadata": {
        "id": "jadhOj_rSzh6"
      },
      "source": [
        "Being able to manipulate dates easily is very useful in data science, and the `datetime` function is one of the main perks offered by python to data scientists.\n",
        "\n",
        "For example, this is commonly used in data science for creating sliding windows. For instance, you might want to look for any five day span of time where sales were highest, and flag that for follow ups.\n",
        "\n",
        "This is just a glimpse at dates and times in Python. Later in the course, we're going to investigate dates and times a bit more using the pandas `datetime` library."
      ]
    },
    {
      "cell_type": "markdown",
      "metadata": {
        "id": "doY2yx0NeB9B"
      },
      "source": [
        "## map()\n",
        "\n",
        "The `map` built-in function in Python has a very special feature, where unlike other functions it takes a \"function\" as its first parameter followed by as many \"iterable\" parameters as needed.\n",
        "\n",
        "The map function signature looks like this:\n",
        "\n",
        "`map (function, <iterable_parameter1>, <iterable_parameter2>, ... )`\n",
        "\n",
        "The first parameter is the function that you want executed, and the second parameter, and every following parameter, is something which can be iterated upon. All the iterable arguments are unpacked together, and passed into the given function.\n",
        "\n",
        "I know this sounds a little cryptic, so let's take a second and look at an example. Imagine we have two lists of numbers indicating prices from two different stores on exactly the same items. Say we wanted to find the minimum that we would have to pay if we bought the cheaper item between the two stores.\n",
        "\n",
        "To do this, we could iterate through each list, comparing items and choosing the cheapest. However, with `map()`, we can do this comparison in a single statement!"
      ]
    },
    {
      "cell_type": "code",
      "execution_count": 55,
      "metadata": {
        "id": "qCVTvj2heB9E"
      },
      "outputs": [
        {
          "data": {
            "text/plain": [
              "<map at 0x103e55b40>"
            ]
          },
          "execution_count": 55,
          "metadata": {},
          "output_type": "execute_result"
        }
      ],
      "source": [
        "store1 = [10.00, 11.00, 12.34, 2.34]\n",
        "store2 = [9.00, 11.10, 12.34, 2.01]\n",
        "\n",
        "cheapest = map(min, store1, store2)\n",
        "cheapest"
      ]
    },
    {
      "cell_type": "markdown",
      "metadata": {
        "id": "fSK3g9z8eB9G"
      },
      "source": [
        "Now, when we go to print out the map, we see that we get an odd reference value instead of a list of items that we're expecting. This is called *lazy evaluation*; which means that an object is evaluated when it is needed and not when it is created.\n",
        "\n",
        "In Python, the `map()` function returns to you a \"*map object*\". So in other words, it doesn't actually try and run the function `min()` on two items, until you decide to look inside it for a value. This is an interesting design pattern of the language, and it's commonly used when dealing with big data. This allows us to have very efficient memory management, even though it might add a slight computational complexity.\n",
        "\n",
        "So, how do we see the values inside the `map` object? Well, maps are iterable, just like lists and tuples, so we can use a for-loop to look at all of the values in the map."
      ]
    },
    {
      "cell_type": "code",
      "execution_count": 56,
      "metadata": {
        "id": "H2NPUoAweB9H",
        "scrolled": true
      },
      "outputs": [
        {
          "name": "stdout",
          "output_type": "stream",
          "text": [
            "9.0\n",
            "11.0\n",
            "12.34\n",
            "2.01\n"
          ]
        }
      ],
      "source": [
        "for item in cheapest:\n",
        "    print(item)"
      ]
    },
    {
      "cell_type": "markdown",
      "metadata": {
        "id": "chs2rEuweB9I"
      },
      "source": [
        "## Lambda\n",
        "\n",
        "`lambda` is probably one of the most common built-in functions that you'll see appear more as you spend more and more time with Python and data science. Lambdas are Python's way of creating \"anonymous\" functions. These are the same as any other functions, but they have no name. The intent is that they're simple or short lived and it's easier just to write out the function in one line instead of going to the trouble of creating a named function.\n",
        "\n",
        "The `lambda` syntax is fairly simple:\n",
        "\n",
        "`lambda <parameter1>, <parameter2>, ... : <single_expression>`\n",
        "\n",
        "It might, however, take a bit of time to get used to. You declare a lambda function with the word `lambda` followed by a list of arguments, followed by a colon and then a single expression. Note that there's only *one* expression to be evaluated in a lambda.\n",
        "\n",
        "Note also, that a `lambda` *returns is a function reference*.\n",
        "\n",
        "Let's look an example. Here's an example of `lambda` that takes in three parameters and adds the first two. It returns a function variable, `my_function`.\n",
        "\n",
        "\n"
      ]
    },
    {
      "cell_type": "code",
      "execution_count": 57,
      "metadata": {
        "id": "brndNE1beB9J"
      },
      "outputs": [
        {
          "data": {
            "text/plain": [
              "<function __main__.<lambda>(a, b, c)>"
            ]
          },
          "execution_count": 57,
          "metadata": {},
          "output_type": "execute_result"
        }
      ],
      "source": [
        "my_function = lambda a, b, c : a + b\n",
        "\n",
        "my_function"
      ]
    },
    {
      "cell_type": "markdown",
      "metadata": {
        "id": "-7NgwQEMjlL0"
      },
      "source": [
        "In order to see the results of the function, we would execute `my_function` as we do any function we create, and pass in it three different parameters."
      ]
    },
    {
      "cell_type": "code",
      "execution_count": 58,
      "metadata": {
        "id": "ortcKWDSeB9L"
      },
      "outputs": [
        {
          "data": {
            "text/plain": [
              "3"
            ]
          },
          "execution_count": 58,
          "metadata": {},
          "output_type": "execute_result"
        }
      ],
      "source": [
        "my_function(1, 2, 3)"
      ]
    },
    {
      "cell_type": "markdown",
      "metadata": {
        "id": "jQ8C3ZD8eB9M"
      },
      "source": [
        "Note that you can't have default values for lambda parameters and you can't have complex logic inside of the lambda itself because you're limited\n",
        "to a single expression.\n",
        "\n",
        "This makes lambdas much more limited than full function definitions. However, they're still very useful for simple little data cleaning tasks. And you'll see lots of examples of them on the web (and in our course). As such, its extremely important that you be able to read and write lambdas."
      ]
    },
    {
      "cell_type": "markdown",
      "metadata": {
        "id": "nVv5ZXawpXNv"
      },
      "source": [
        "##List Comprehensions\n",
        "\n",
        "Finally, I want to take a step back and revisit sequences we've seen\n",
        "in Python. That is to say, tuples, lists, dictionaries and so forth. Sequences are structures that we can iterate over, and often we create these through loops or by reading data from a file.\n",
        "\n",
        "Python has built in support for creating these collections using a more abbreviated syntax called \"**list comprehensions**\".\n",
        "\n",
        "Like lists, list comprehensions are surrounded by brackets `[ ]`, but instead of having a sequence of data inside it, you enter an expression followed by `for loop` and `if-else` clauses.\n",
        "\n",
        "To better understand it, let's look at an example. Let's write up a little for-loop iterating a number from 0 and 10, and appending to a list the value of the number multiplied by 3.\n",
        "\n",
        "\n",
        "\n",
        "\n",
        "\n",
        "\n",
        "\n",
        "\n"
      ]
    },
    {
      "cell_type": "code",
      "execution_count": 59,
      "metadata": {
        "id": "SKYMqs7mX2TL"
      },
      "outputs": [
        {
          "data": {
            "text/plain": [
              "[0, 3, 6, 9, 12, 15, 18, 21, 24, 27]"
            ]
          },
          "execution_count": 59,
          "metadata": {},
          "output_type": "execute_result"
        }
      ],
      "source": [
        "S=[]\n",
        "\n",
        "for x in range(10):\n",
        "  S.append(x*3)\n",
        "\n",
        "S"
      ]
    },
    {
      "cell_type": "markdown",
      "metadata": {
        "id": "pErYmrKPsvmi"
      },
      "source": [
        "Python allows us to rewrite this as a \"list comprehension\" by putting the iteration on one line. We start the list comprehension with the value we want in the list. In this case, it's a number. The we follow it with the for-loop, and finally any condition clauses."
      ]
    },
    {
      "cell_type": "code",
      "execution_count": 60,
      "metadata": {
        "id": "QNKgMRRzsv_i"
      },
      "outputs": [
        {
          "data": {
            "text/plain": [
              "[0, 3, 6, 9, 12, 15, 18, 21, 24, 27]"
            ]
          },
          "execution_count": 60,
          "metadata": {},
          "output_type": "execute_result"
        }
      ],
      "source": [
        "S = [x*3 for x in range(10)]\n",
        "\n",
        "S"
      ]
    },
    {
      "cell_type": "markdown",
      "metadata": {
        "id": "gvS_G9W6tCo_"
      },
      "source": [
        "As you can see, this is much more *compact* and it tends to be *faster* as well.\n",
        "\n",
        "Let's try another example, with a condition clause. What if we want only the even numbers in `S`?\n",
        "\n",
        "Using a for-loop, we can iterate through the list we just generated, and then check with the modulus operator (`%`) if modulus two of the number (ie `x%2`) returns `0`. If `True`, then we know `x` is even and should be added to our list.\n",
        "\n",
        "\n"
      ]
    },
    {
      "cell_type": "code",
      "execution_count": 61,
      "metadata": {
        "id": "7_JoRl89amyU"
      },
      "outputs": [
        {
          "data": {
            "text/plain": [
              "[0, 6, 12, 18, 24]"
            ]
          },
          "execution_count": 61,
          "metadata": {},
          "output_type": "execute_result"
        }
      ],
      "source": [
        "M = []\n",
        "\n",
        "for x in S:\n",
        "  if x % 2 == 0:\n",
        "    M.append(x)\n",
        "\n",
        "M"
      ]
    },
    {
      "cell_type": "markdown",
      "metadata": {
        "id": "e_ouGedxan9d"
      },
      "source": [
        "We can rewrite this as a list comprehension by putting the iteration in one line. Again, we start the list comprehension with the value we want in the list. In this case, it's a number. Then we put it in the for-loop, and then finally, we add any condition clauses."
      ]
    },
    {
      "cell_type": "code",
      "execution_count": 62,
      "metadata": {
        "id": "ZmE_oZf3tYG6"
      },
      "outputs": [
        {
          "data": {
            "text/plain": [
              "[0, 6, 12, 18, 24]"
            ]
          },
          "execution_count": 62,
          "metadata": {},
          "output_type": "execute_result"
        }
      ],
      "source": [
        "M = [x for x in S if x % 2 == 0]\n",
        "\n",
        "M"
      ]
    },
    {
      "cell_type": "markdown",
      "metadata": {
        "id": "sJ1I_5riZBn0"
      },
      "source": [
        "Just like with lambdas, list comprehensions are a condensed format which may offer readability and performance benefits and you'll often find them being used in data science tutorials or on stack overflow. While regular for-loops and functions could do the same thing, you will find that when dealing with big data, lambdas and list comprehensions tend to be much faster and more efficient."
      ]
    },
    {
      "cell_type": "markdown",
      "metadata": {
        "id": "jtqJwunG3o7d"
      },
      "source": [
        "#Exercises"
      ]
    },
    {
      "cell_type": "markdown",
      "metadata": {
        "id": "ohY627gtV3qr"
      },
      "source": [
        "**Question 1:** Here is a list of faculty. Can you write a function and apply it using `map()` to get a list of all faculty titles and last names (e.g. ['Dr. AlShebli', 'Dr. O'Brian', …]) ?"
      ]
    },
    {
      "cell_type": "code",
      "execution_count": 63,
      "metadata": {
        "id": "xe7CrCVjV7q8"
      },
      "outputs": [
        {
          "data": {
            "text/plain": [
              "['Dr. AlShebli', \"Dr. O'Brian\", 'Dr. Brückner']"
            ]
          },
          "execution_count": 63,
          "metadata": {},
          "output_type": "execute_result"
        }
      ],
      "source": [
        "#Note how John's name has an apostrophe, and Hannah's name has a special character\n",
        "people = [\"Dr. Bedoor Khalifa AlShebli\", \"Dr. John O'Brian\", \"Dr. Hannah Brückner\"]\n",
        "\n",
        "def split_title_and_name(person):\n",
        "    names = person.split()\n",
        "    return names[0] + ' ' + names[-1]\n",
        "\n",
        "#list() converts the returned map object into a list\n",
        "list(map(split_title_and_name, people))"
      ]
    },
    {
      "cell_type": "markdown",
      "metadata": {
        "id": "0MkWNAnScfvj"
      },
      "source": [
        "**Question 2:** How many days has it been since you were born?"
      ]
    },
    {
      "cell_type": "code",
      "execution_count": 64,
      "metadata": {
        "id": "fNgcaGtdfO6R"
      },
      "outputs": [
        {
          "data": {
            "text/plain": [
              "7925"
            ]
          },
          "execution_count": 64,
          "metadata": {},
          "output_type": "execute_result"
        }
      ],
      "source": [
        "#answer here\n",
        "my_birthdate = dt.date(2001, 12, 24)\n",
        "\n",
        "(dt.date.today() - my_birthdate).days"
      ]
    },
    {
      "cell_type": "markdown",
      "metadata": {
        "id": "rkSd03_Kip6q"
      },
      "source": [
        "**Question 3:**\n",
        "1. Given the list of numbers below, return a list the contains the square value of each odd number.\n",
        "2. Given the list of names below, return a list of names that start with B.\n",
        "\n",
        "Use list comprehensions"
      ]
    },
    {
      "cell_type": "code",
      "execution_count": 65,
      "metadata": {
        "id": "WbhXVlNfisJC"
      },
      "outputs": [
        {
          "name": "stdout",
          "output_type": "stream",
          "text": [
            "[441, 5929, 7225, 7569, 2025, 4489, 3481, 1681]\n",
            "['Bedoor', 'Bayan', 'Barbara']\n"
          ]
        }
      ],
      "source": [
        "numbers = [8, 50, 62, 30, 90, 48, 21, 77, 28, 85, 86, 2, 87, 96, 45, 67, 60, 59, 41, 34]\n",
        "names = ['Bedoor','Susan','Ahmed','Bayan','Sarah','Barbara']\n",
        "\n",
        "# answer here\n",
        "print([x**2 for x in numbers if x % 2 != 0])\n",
        "print([x for x in names if x[0] == 'B'])"
      ]
    },
    {
      "cell_type": "markdown",
      "metadata": {
        "id": "rGeCYYC0qPa6"
      },
      "source": [
        "**Question 4:** Convert this function into a list comprehension."
      ]
    },
    {
      "cell_type": "code",
      "execution_count": 66,
      "metadata": {
        "id": "AdyRJjbsqOYY"
      },
      "outputs": [
        {
          "name": "stdout",
          "output_type": "stream",
          "text": [
            "[0, 0, 0, 0, 0, 0, 0, 0, 0, 0, 0, 1, 2, 3, 4, 5, 6, 7, 8, 9, 0, 2, 4, 6, 8, 10, 12, 14, 16, 18, 0, 3, 6, 9, 12, 15, 18, 21, 24, 27, 0, 4, 8, 12, 16, 20, 24, 28, 32, 36, 0, 5, 10, 15, 20, 25, 30, 35, 40, 45, 0, 6, 12, 18, 24, 30, 36, 42, 48, 54, 0, 7, 14, 21, 28, 35, 42, 49, 56, 63, 0, 8, 16, 24, 32, 40, 48, 56, 64, 72, 0, 9, 18, 27, 36, 45, 54, 63, 72, 81]\n",
            "[0, 0, 0, 0, 0, 0, 0, 0, 0, 0, 0, 1, 2, 3, 4, 5, 6, 7, 8, 9, 0, 2, 4, 6, 8, 10, 12, 14, 16, 18, 0, 3, 6, 9, 12, 15, 18, 21, 24, 27, 0, 4, 8, 12, 16, 20, 24, 28, 32, 36, 0, 5, 10, 15, 20, 25, 30, 35, 40, 45, 0, 6, 12, 18, 24, 30, 36, 42, 48, 54, 0, 7, 14, 21, 28, 35, 42, 49, 56, 63, 0, 8, 16, 24, 32, 40, 48, 56, 64, 72, 0, 9, 18, 27, 36, 45, 54, 63, 72, 81]\n"
          ]
        }
      ],
      "source": [
        "def times_tables():\n",
        "    lst = []\n",
        "    for i in range(10):\n",
        "        for j in range (10):\n",
        "            lst.append(i*j)\n",
        "    return lst\n",
        "\n",
        "print(times_tables())\n",
        "\n",
        "#answer here\n",
        "print([x * y for y in range(10) for x in range(10)])"
      ]
    },
    {
      "cell_type": "markdown",
      "metadata": {
        "id": "oLjd_XgmlKQo"
      },
      "source": [
        "**Question 5:** Write a `lambda` function that will take a number and return its squared value if it is an integer (hint: look up `isinstance()` function), otherwise return \"Can't calculate non-integers\".\n",
        "\n"
      ]
    },
    {
      "cell_type": "code",
      "execution_count": 67,
      "metadata": {
        "id": "lsUiufzelLHV"
      },
      "outputs": [
        {
          "name": "stdout",
          "output_type": "stream",
          "text": [
            "25\n",
            "Can't calculate non-integers\n"
          ]
        }
      ],
      "source": [
        "# answer here\n",
        "# Write a lambda function that takes in an integer and prints it\n",
        "print((lambda x: x ** 2 if isinstance(x, int) else \"Can't calculate non-integers\")(5))\n",
        "print((lambda x: x ** 2 if isinstance(x, int) else \"Can't calculate non-integers\")('hi'))"
      ]
    },
    {
      "cell_type": "markdown",
      "metadata": {
        "id": "bYNAl35joHs2"
      },
      "source": [
        "**Question 6:** Starting with the below equal sized lists `listA` and `listB`:\n",
        "\n",
        "1. use list comprehension to round any float number in `listA`. (Hint: look up `round()`)\n",
        "\n",
        "2. write a function named \"equal\" that returns `True` if 2 values are the same and `False` otherwise.\n",
        "\n",
        "3. apply the function using `map()` to get a list of which values in `listA` and `listB` are equal. For example, for lists `[1,2,3]` and `[4,2,3]`, the output should be `[False,True,True]`."
      ]
    },
    {
      "cell_type": "code",
      "execution_count": 68,
      "metadata": {
        "id": "fC40-0k0pTaw"
      },
      "outputs": [
        {
          "name": "stdout",
          "output_type": "stream",
          "text": [
            "[20, 24, 89, 60, 64, 74, 17, 31, 11, 36, 27, 85, 40, 47, 69]\n",
            "True\n",
            "False\n",
            "[False, False, False, False, False, False, False, False, False, False, False, False, False, False, False], \n",
            "[False, True, False, True, False, False, True, False, False, False, False, False, False, True, False], "
          ]
        }
      ],
      "source": [
        "listA = [20, 23.8, 89, 59.9, 64, 74, 17.154, 31, 11, 36, 27, 85, 40, 47.3, 69]\n",
        "\n",
        "listB = [48, 24, 31, 60, 40, 35, 17, 27, 36, 15, 23, 83, 67, 47, 89]\n",
        "\n",
        "# answer here\n",
        "print([round(x) for x in listA])\n",
        "\n",
        "\n",
        "def equal(a, b):\n",
        "    return a == b\n",
        "\n",
        "\n",
        "print(equal(1, 1))\n",
        "print(equal(1, 2))\n",
        "\n",
        "print(list(map(equal, listA, listB)), end=\", \")\n",
        "print()\n",
        "print(list(map(equal, [round(x) for x in listA], listB)), end=\", \")\n"
      ]
    }
  ],
  "metadata": {
    "colab": {
      "provenance": [],
      "toc_visible": true
    },
    "kernelspec": {
      "display_name": "Python 3",
      "language": "python",
      "name": "python3"
    },
    "language_info": {
      "codemirror_mode": {
        "name": "ipython",
        "version": 3
      },
      "file_extension": ".py",
      "mimetype": "text/x-python",
      "name": "python",
      "nbconvert_exporter": "python",
      "pygments_lexer": "ipython3",
      "version": "3.11.0"
    }
  },
  "nbformat": 4,
  "nbformat_minor": 0
}
