{
  "cells": [
    {
      "cell_type": "code",
      "execution_count": null,
      "metadata": {
        "colab": {
          "base_uri": "https://localhost:8080/"
        },
        "id": "sLcFAIsB5cmw",
        "outputId": "66fa03b2-a2b9-46dc-ed27-7394d20568d6"
      },
      "outputs": [
        {
          "name": "stdout",
          "output_type": "stream",
          "text": [
            "Drive already mounted at /content/drive; to attempt to forcibly remount, call drive.mount(\"/content/drive\", force_remount=True).\n"
          ]
        }
      ],
      "source": [
        "# from google.colab import drive\n",
        "# drive.mount('/content/drive')\n",
        "\n",
        "# Commenting this out since I run the notebook locally"
      ]
    },
    {
      "cell_type": "code",
      "execution_count": 1,
      "metadata": {
        "id": "TjKUqT1C5q6p"
      },
      "outputs": [],
      "source": [
        "path = \"data/\""
      ]
    },
    {
      "cell_type": "markdown",
      "metadata": {
        "id": "hKGFG1kcGkWg"
      },
      "source": [
        "# Question 1\n",
        "\n",
        "Load the ``Gender_Height_Weight`` dataset, and test the following hypothesis with the correct arguments.\n",
        "\n",
        "- Males have higher BMI than Females.\n",
        "\n",
        "*Note:*\n",
        "\n",
        "> $BMI = \\frac{kg}{m^2}$"
      ]
    },
    {
      "cell_type": "code",
      "execution_count": 2,
      "metadata": {
        "colab": {
          "base_uri": "https://localhost:8080/",
          "height": 112
        },
        "id": "6R_ToFxiV_Dg",
        "outputId": "1f1100b5-cdaa-4c7d-9586-1adf73b01ef9"
      },
      "outputs": [
        {
          "data": {
            "text/html": [
              "<div>\n",
              "<style scoped>\n",
              "    .dataframe tbody tr th:only-of-type {\n",
              "        vertical-align: middle;\n",
              "    }\n",
              "\n",
              "    .dataframe tbody tr th {\n",
              "        vertical-align: top;\n",
              "    }\n",
              "\n",
              "    .dataframe thead th {\n",
              "        text-align: right;\n",
              "    }\n",
              "</style>\n",
              "<table border=\"1\" class=\"dataframe\">\n",
              "  <thead>\n",
              "    <tr style=\"text-align: right;\">\n",
              "      <th></th>\n",
              "      <th>Gender</th>\n",
              "      <th>Height</th>\n",
              "      <th>Weight</th>\n",
              "      <th>Index</th>\n",
              "    </tr>\n",
              "  </thead>\n",
              "  <tbody>\n",
              "    <tr>\n",
              "      <th>0</th>\n",
              "      <td>Male</td>\n",
              "      <td>174</td>\n",
              "      <td>96</td>\n",
              "      <td>4</td>\n",
              "    </tr>\n",
              "    <tr>\n",
              "      <th>1</th>\n",
              "      <td>Male</td>\n",
              "      <td>189</td>\n",
              "      <td>87</td>\n",
              "      <td>2</td>\n",
              "    </tr>\n",
              "  </tbody>\n",
              "</table>\n",
              "</div>"
            ],
            "text/plain": [
              "  Gender  Height  Weight  Index\n",
              "0   Male     174      96      4\n",
              "1   Male     189      87      2"
            ]
          },
          "execution_count": 2,
          "metadata": {},
          "output_type": "execute_result"
        }
      ],
      "source": [
        "import pandas as pd\n",
        "from scipy import stats\n",
        "\n",
        "data = pd.read_csv(path+\"Gender_Height_Weight.csv\")\n",
        "data.head(2)"
      ]
    },
    {
      "cell_type": "code",
      "execution_count": 32,
      "metadata": {
        "id": "ZlnavnwOKLpq"
      },
      "outputs": [
        {
          "name": "stderr",
          "output_type": "stream",
          "text": [
            "/var/folders/qs/8nfd6c2x47v00b37yxwrmd8r0000gn/T/ipykernel_63204/2689380587.py:8: SettingWithCopyWarning: \n",
            "A value is trying to be set on a copy of a slice from a DataFrame.\n",
            "Try using .loc[row_indexer,col_indexer] = value instead\n",
            "\n",
            "See the caveats in the documentation: https://pandas.pydata.org/pandas-docs/stable/user_guide/indexing.html#returning-a-view-versus-a-copy\n",
            "  males['BMI'] = males.apply(calculate_bmi, axis=1)\n",
            "/var/folders/qs/8nfd6c2x47v00b37yxwrmd8r0000gn/T/ipykernel_63204/2689380587.py:9: SettingWithCopyWarning: \n",
            "A value is trying to be set on a copy of a slice from a DataFrame.\n",
            "Try using .loc[row_indexer,col_indexer] = value instead\n",
            "\n",
            "See the caveats in the documentation: https://pandas.pydata.org/pandas-docs/stable/user_guide/indexing.html#returning-a-view-versus-a-copy\n",
            "  females['BMI'] = females.apply(calculate_bmi, axis=1)\n"
          ]
        },
        {
          "data": {
            "text/plain": [
              "Ttest_indResult(statistic=0.6059273001733945, pvalue=0.5448390952717339)"
            ]
          },
          "execution_count": 32,
          "metadata": {},
          "output_type": "execute_result"
        }
      ],
      "source": [
        "#answer here\n",
        "males = data[data['Gender'] == 'Male']\n",
        "females = data[data['Gender'] == 'Female']\n",
        "\n",
        "def calculate_bmi(row):\n",
        "    return row['Weight'] / (row['Height'] / 100)**2\n",
        "\n",
        "males['BMI'] = males.apply(calculate_bmi, axis=1)\n",
        "females['BMI'] = females.apply(calculate_bmi, axis=1)\n",
        "\n",
        "stats.ttest_ind(males['BMI'], females['BMI'])\n"
      ]
    },
    {
      "cell_type": "markdown",
      "metadata": {
        "id": "dySRrqB6dLIH"
      },
      "source": [
        "# Note\n",
        "To test if two **categorical** variables are independent, $\\chi^2$ (chi-square) test is used. Essentially, comparing the frequencies in the data to the expected frequencies.\n",
        "\n",
        "The steps for carrying out a $\\chi^2$ test normally are as follows:\n",
        "\n",
        "1. Create a contingency table\n",
        "2. Using the contingency table, calculate the degrees of freedom (dof):\n",
        "> $dof = (n_{rows}-1)*(n_{columns}-1)$\n",
        "3. Construct the expected frequency table\n",
        "> $expected\\_frequency = \\frac{(total_{row} * total_{column})}{grand total}$\n",
        "4. Calculate ``chi-square`` statistic\n",
        "> $\\chi^2=\\sum{\\frac{(O_i-E_i)^2}{E_i}}$\n",
        "5.  Compare p-value to the significance level (or alternatively compare $\\chi^2$ to the critical value)\n"
      ]
    },
    {
      "cell_type": "markdown",
      "metadata": {
        "id": "kDc6EkPQRfqf"
      },
      "source": [
        "# Question 2\n",
        "\n",
        "Does the passenger gender affect survival? Is there a statistically significant difference in the genders populations between survivors and non-survivors?\n",
        "\n",
        "Load the ``Titanic`` dataset and analyze.\n",
        "\n",
        "*Note:* If `Survived=1` then the passenger survived, otherwise they didn't.\n",
        "\n",
        "*Hints:*\n",
        "\n",
        "- Lookup ``crosstab`` function from ``pandas``\n",
        "- You don't have to do all the calculations manually, for that ``chi2_contingency`` from ``scipy.stats`` will be useful"
      ]
    },
    {
      "cell_type": "code",
      "execution_count": 33,
      "metadata": {
        "colab": {
          "base_uri": "https://localhost:8080/",
          "height": 208
        },
        "id": "QBu0lgTKZuYW",
        "outputId": "5f925596-5cf9-46fd-ee53-851d40041931"
      },
      "outputs": [
        {
          "data": {
            "text/html": [
              "<div>\n",
              "<style scoped>\n",
              "    .dataframe tbody tr th:only-of-type {\n",
              "        vertical-align: middle;\n",
              "    }\n",
              "\n",
              "    .dataframe tbody tr th {\n",
              "        vertical-align: top;\n",
              "    }\n",
              "\n",
              "    .dataframe thead th {\n",
              "        text-align: right;\n",
              "    }\n",
              "</style>\n",
              "<table border=\"1\" class=\"dataframe\">\n",
              "  <thead>\n",
              "    <tr style=\"text-align: right;\">\n",
              "      <th></th>\n",
              "      <th>PassengerId</th>\n",
              "      <th>Survived</th>\n",
              "      <th>Pclass</th>\n",
              "      <th>Name</th>\n",
              "      <th>Sex</th>\n",
              "      <th>Age</th>\n",
              "      <th>SibSp</th>\n",
              "      <th>Parch</th>\n",
              "      <th>Ticket</th>\n",
              "      <th>Fare</th>\n",
              "      <th>Cabin</th>\n",
              "      <th>Embarked</th>\n",
              "    </tr>\n",
              "  </thead>\n",
              "  <tbody>\n",
              "    <tr>\n",
              "      <th>0</th>\n",
              "      <td>1</td>\n",
              "      <td>0</td>\n",
              "      <td>3</td>\n",
              "      <td>Braund, Mr. Owen Harris</td>\n",
              "      <td>male</td>\n",
              "      <td>22.0</td>\n",
              "      <td>1</td>\n",
              "      <td>0</td>\n",
              "      <td>A/5 21171</td>\n",
              "      <td>7.2500</td>\n",
              "      <td>NaN</td>\n",
              "      <td>S</td>\n",
              "    </tr>\n",
              "    <tr>\n",
              "      <th>1</th>\n",
              "      <td>2</td>\n",
              "      <td>1</td>\n",
              "      <td>1</td>\n",
              "      <td>Cumings, Mrs. John Bradley (Florence Briggs Th...</td>\n",
              "      <td>female</td>\n",
              "      <td>38.0</td>\n",
              "      <td>1</td>\n",
              "      <td>0</td>\n",
              "      <td>PC 17599</td>\n",
              "      <td>71.2833</td>\n",
              "      <td>C85</td>\n",
              "      <td>C</td>\n",
              "    </tr>\n",
              "  </tbody>\n",
              "</table>\n",
              "</div>"
            ],
            "text/plain": [
              "   PassengerId  Survived  Pclass  \\\n",
              "0            1         0       3   \n",
              "1            2         1       1   \n",
              "\n",
              "                                                Name     Sex   Age  SibSp  \\\n",
              "0                            Braund, Mr. Owen Harris    male  22.0      1   \n",
              "1  Cumings, Mrs. John Bradley (Florence Briggs Th...  female  38.0      1   \n",
              "\n",
              "   Parch     Ticket     Fare Cabin Embarked  \n",
              "0      0  A/5 21171   7.2500   NaN        S  \n",
              "1      0   PC 17599  71.2833   C85        C  "
            ]
          },
          "execution_count": 33,
          "metadata": {},
          "output_type": "execute_result"
        }
      ],
      "source": [
        "titanic = pd.read_csv(path+\"Titanic.csv\")\n",
        "titanic.head(2)"
      ]
    },
    {
      "cell_type": "code",
      "execution_count": 49,
      "metadata": {
        "id": "o63CId8lGfYP"
      },
      "outputs": [
        {
          "data": {
            "text/plain": [
              "Chi2ContingencyResult(statistic=260.71702016732104, pvalue=1.1973570627755645e-58, dof=1, expected_freq=array([[193.47474747, 355.52525253],\n",
              "       [120.52525253, 221.47474747]]))"
            ]
          },
          "execution_count": 49,
          "metadata": {},
          "output_type": "execute_result"
        }
      ],
      "source": [
        "#answer here\n",
        "cross_table = pd.crosstab(titanic['Survived'], titanic['Sex'])\n",
        "# calculate the chi-square statistic\n",
        "stats.chi2_contingency(cross_table)"
      ]
    }
  ],
  "metadata": {
    "colab": {
      "provenance": []
    },
    "kernelspec": {
      "display_name": "Python 3",
      "name": "python3"
    },
    "language_info": {
      "codemirror_mode": {
        "name": "ipython",
        "version": 3
      },
      "file_extension": ".py",
      "mimetype": "text/x-python",
      "name": "python",
      "nbconvert_exporter": "python",
      "pygments_lexer": "ipython3",
      "version": "3.11.0"
    }
  },
  "nbformat": 4,
  "nbformat_minor": 0
}
