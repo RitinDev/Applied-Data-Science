{
 "cells": [
  {
   "cell_type": "markdown",
   "metadata": {},
   "source": [
    "# Movie Lens Dataset: Cleaning and Defining the Hypothesis\n",
    "## Milestone 1\n",
    "---"
   ]
  },
  {
   "cell_type": "markdown",
   "metadata": {},
   "source": [
    "## 1. Problem Statement and Hypothesis"
   ]
  },
  {
   "cell_type": "markdown",
   "metadata": {},
   "source": [
    "## Problem Statement\n",
    "\n",
    "In the movie industry, understanding audience preferences can be crucial for targeted marketing and content creation. With the rise of data-driven decision-making, leveraging user demographics, like occupation, can provide a deeper understanding of movie preferences. \n",
    "\n",
    "**Question**: Does the occupation of movie raters correlate with their preferences for certain movie genres?\n",
    "\n",
    "---\n",
    "\n",
    "## Hypothesis\n",
    "\n",
    "### Null Hypothesis (H_0):\n",
    "The occupation of movie raters does not have any correlation with the ratings they give to different movie genres. In other words, the distribution of ratings across genres is the same for all occupations.\n",
    "\n",
    "### Alternative Hypothesis (H_a):\n",
    "The occupation of movie raters correlates with the ratings they give to different movie genres. This would imply that certain occupations tend to rate some genres higher or lower than others.\n",
    "\n",
    "---\n",
    "\n",
    "## Intuition & Explanation\n",
    "\n",
    "Occupation can be seen as a reflection of an individual's interests, educational background, and daily activities. For instance, someone in a creative field might have a preference for dramas or art films, while someone in a technical field might lean towards sci-fi or action movies. If our data shows significant differences in genre ratings across occupations, businesses could target their advertising campaigns more effectively, and filmmakers could understand their audience better.\n",
    "\n",
    "However, it's also possible that movie preferences are more universal and less influenced by one's job. This is the essence of our null hypothesis: that movie genre preferences are independent of occupation.\n",
    "\n",
    "By testing this hypothesis, we aim to provide insights that could be valuable for movie producers, streaming platforms, and marketing teams."
   ]
  },
  {
   "cell_type": "markdown",
   "metadata": {},
   "source": [
    "# 2. Studying the Dataset"
   ]
  },
  {
   "cell_type": "code",
   "execution_count": 23,
   "metadata": {},
   "outputs": [],
   "source": [
    "# Importing required libraries\n",
    "import pandas as pd\n",
    "import numpy as np\n",
    "import matplotlib.pyplot as plt\n",
    "import seaborn as sns"
   ]
  },
  {
   "cell_type": "markdown",
   "metadata": {},
   "source": [
    "\n",
    "## 2.1. Initial Exploration\n",
    "\n"
   ]
  },
  {
   "cell_type": "markdown",
   "metadata": {},
   "source": [
    "Using the README file, we can assign the columns names to the appropriate files. We are then inspecting each dataframe to begin our analysis."
   ]
  },
  {
   "cell_type": "code",
   "execution_count": 24,
   "metadata": {},
   "outputs": [
    {
     "data": {
      "text/html": [
       "<div>\n",
       "<style scoped>\n",
       "    .dataframe tbody tr th:only-of-type {\n",
       "        vertical-align: middle;\n",
       "    }\n",
       "\n",
       "    .dataframe tbody tr th {\n",
       "        vertical-align: top;\n",
       "    }\n",
       "\n",
       "    .dataframe thead th {\n",
       "        text-align: right;\n",
       "    }\n",
       "</style>\n",
       "<table border=\"1\" class=\"dataframe\">\n",
       "  <thead>\n",
       "    <tr style=\"text-align: right;\">\n",
       "      <th></th>\n",
       "      <th>MovieID</th>\n",
       "      <th>Title</th>\n",
       "      <th>Genre</th>\n",
       "      <th>Year</th>\n",
       "    </tr>\n",
       "  </thead>\n",
       "  <tbody>\n",
       "    <tr>\n",
       "      <th>0</th>\n",
       "      <td>1</td>\n",
       "      <td>Toy Story</td>\n",
       "      <td>Animation</td>\n",
       "      <td>1995</td>\n",
       "    </tr>\n",
       "    <tr>\n",
       "      <th>1</th>\n",
       "      <td>1</td>\n",
       "      <td>Toy Story</td>\n",
       "      <td>Children's</td>\n",
       "      <td>1995</td>\n",
       "    </tr>\n",
       "    <tr>\n",
       "      <th>2</th>\n",
       "      <td>1</td>\n",
       "      <td>Toy Story</td>\n",
       "      <td>Comedy</td>\n",
       "      <td>1995</td>\n",
       "    </tr>\n",
       "    <tr>\n",
       "      <th>0</th>\n",
       "      <td>2</td>\n",
       "      <td>Jumanji</td>\n",
       "      <td>Adventure</td>\n",
       "      <td>1995</td>\n",
       "    </tr>\n",
       "    <tr>\n",
       "      <th>1</th>\n",
       "      <td>2</td>\n",
       "      <td>Jumanji</td>\n",
       "      <td>Children's</td>\n",
       "      <td>1995</td>\n",
       "    </tr>\n",
       "  </tbody>\n",
       "</table>\n",
       "</div>"
      ],
      "text/plain": [
       "   MovieID       Title       Genre  Year\n",
       "0        1  Toy Story    Animation  1995\n",
       "1        1  Toy Story   Children's  1995\n",
       "2        1  Toy Story       Comedy  1995\n",
       "0        2    Jumanji    Adventure  1995\n",
       "1        2    Jumanji   Children's  1995"
      ]
     },
     "execution_count": 24,
     "metadata": {},
     "output_type": "execute_result"
    }
   ],
   "source": [
    "movies = pd.read_csv('movies.dat', sep='::', names=['MovieID', 'Title', 'Genres'], engine='python', encoding='latin-1')\n",
    "\n",
    "# Break up each genre (separator is '|') into its own row\n",
    "movies = movies.set_index(['MovieID', 'Title']).Genres.str.split('|', expand=True).stack().reset_index(['MovieID', 'Title'])\n",
    "\n",
    "movie_cols = ['MovieID', 'Title', 'Genre']\n",
    "movies.columns = movie_cols\n",
    "\n",
    "# Create new column for release year (extract from title)\n",
    "movies['Year'] = movies['Title'].str.extract('.*\\((.*)\\).*', expand=True)\n",
    "movies['Title'] = movies['Title'].str.replace(r\"\\(.*\\)\",\"\", regex=True)\n",
    "\n",
    "movies.head()"
   ]
  },
  {
   "cell_type": "code",
   "execution_count": 25,
   "metadata": {},
   "outputs": [
    {
     "data": {
      "text/html": [
       "<div>\n",
       "<style scoped>\n",
       "    .dataframe tbody tr th:only-of-type {\n",
       "        vertical-align: middle;\n",
       "    }\n",
       "\n",
       "    .dataframe tbody tr th {\n",
       "        vertical-align: top;\n",
       "    }\n",
       "\n",
       "    .dataframe thead th {\n",
       "        text-align: right;\n",
       "    }\n",
       "</style>\n",
       "<table border=\"1\" class=\"dataframe\">\n",
       "  <thead>\n",
       "    <tr style=\"text-align: right;\">\n",
       "      <th></th>\n",
       "      <th>UserID</th>\n",
       "      <th>MovieID</th>\n",
       "      <th>Rating</th>\n",
       "      <th>Timestamp</th>\n",
       "      <th>Rating Date</th>\n",
       "    </tr>\n",
       "  </thead>\n",
       "  <tbody>\n",
       "    <tr>\n",
       "      <th>0</th>\n",
       "      <td>1</td>\n",
       "      <td>1193</td>\n",
       "      <td>5</td>\n",
       "      <td>978300760</td>\n",
       "      <td>2000-12-31</td>\n",
       "    </tr>\n",
       "    <tr>\n",
       "      <th>1</th>\n",
       "      <td>1</td>\n",
       "      <td>661</td>\n",
       "      <td>3</td>\n",
       "      <td>978302109</td>\n",
       "      <td>2000-12-31</td>\n",
       "    </tr>\n",
       "    <tr>\n",
       "      <th>2</th>\n",
       "      <td>1</td>\n",
       "      <td>914</td>\n",
       "      <td>3</td>\n",
       "      <td>978301968</td>\n",
       "      <td>2000-12-31</td>\n",
       "    </tr>\n",
       "    <tr>\n",
       "      <th>3</th>\n",
       "      <td>1</td>\n",
       "      <td>3408</td>\n",
       "      <td>4</td>\n",
       "      <td>978300275</td>\n",
       "      <td>2000-12-31</td>\n",
       "    </tr>\n",
       "    <tr>\n",
       "      <th>4</th>\n",
       "      <td>1</td>\n",
       "      <td>2355</td>\n",
       "      <td>5</td>\n",
       "      <td>978824291</td>\n",
       "      <td>2001-01-06</td>\n",
       "    </tr>\n",
       "    <tr>\n",
       "      <th>...</th>\n",
       "      <td>...</td>\n",
       "      <td>...</td>\n",
       "      <td>...</td>\n",
       "      <td>...</td>\n",
       "      <td>...</td>\n",
       "    </tr>\n",
       "    <tr>\n",
       "      <th>1000204</th>\n",
       "      <td>6040</td>\n",
       "      <td>1091</td>\n",
       "      <td>1</td>\n",
       "      <td>956716541</td>\n",
       "      <td>2000-04-26</td>\n",
       "    </tr>\n",
       "    <tr>\n",
       "      <th>1000205</th>\n",
       "      <td>6040</td>\n",
       "      <td>1094</td>\n",
       "      <td>5</td>\n",
       "      <td>956704887</td>\n",
       "      <td>2000-04-25</td>\n",
       "    </tr>\n",
       "    <tr>\n",
       "      <th>1000206</th>\n",
       "      <td>6040</td>\n",
       "      <td>562</td>\n",
       "      <td>5</td>\n",
       "      <td>956704746</td>\n",
       "      <td>2000-04-25</td>\n",
       "    </tr>\n",
       "    <tr>\n",
       "      <th>1000207</th>\n",
       "      <td>6040</td>\n",
       "      <td>1096</td>\n",
       "      <td>4</td>\n",
       "      <td>956715648</td>\n",
       "      <td>2000-04-26</td>\n",
       "    </tr>\n",
       "    <tr>\n",
       "      <th>1000208</th>\n",
       "      <td>6040</td>\n",
       "      <td>1097</td>\n",
       "      <td>4</td>\n",
       "      <td>956715569</td>\n",
       "      <td>2000-04-26</td>\n",
       "    </tr>\n",
       "  </tbody>\n",
       "</table>\n",
       "<p>1000209 rows × 5 columns</p>\n",
       "</div>"
      ],
      "text/plain": [
       "         UserID  MovieID  Rating  Timestamp Rating Date\n",
       "0             1     1193       5  978300760  2000-12-31\n",
       "1             1      661       3  978302109  2000-12-31\n",
       "2             1      914       3  978301968  2000-12-31\n",
       "3             1     3408       4  978300275  2000-12-31\n",
       "4             1     2355       5  978824291  2001-01-06\n",
       "...         ...      ...     ...        ...         ...\n",
       "1000204    6040     1091       1  956716541  2000-04-26\n",
       "1000205    6040     1094       5  956704887  2000-04-25\n",
       "1000206    6040      562       5  956704746  2000-04-25\n",
       "1000207    6040     1096       4  956715648  2000-04-26\n",
       "1000208    6040     1097       4  956715569  2000-04-26\n",
       "\n",
       "[1000209 rows x 5 columns]"
      ]
     },
     "execution_count": 25,
     "metadata": {},
     "output_type": "execute_result"
    }
   ],
   "source": [
    "ratings = pd.read_csv('ratings.dat', sep='::', names=['UserID', 'MovieID', 'Rating', 'Timestamp'], engine='python', encoding='latin-1')\n",
    "\n",
    "# Convert 'Timestamp' from Unix timestamp to datetime\n",
    "ratings['Rating Date'] = pd.to_datetime(ratings['Timestamp'], unit='s')\n",
    "\n",
    "# Convert datetime to date in 'YYYY-MM-DD' format\n",
    "ratings['Rating Date'] = ratings['Rating Date'].dt.date\n",
    "\n",
    "ratings"
   ]
  },
  {
   "cell_type": "code",
   "execution_count": 26,
   "metadata": {},
   "outputs": [
    {
     "data": {
      "text/html": [
       "<div>\n",
       "<style scoped>\n",
       "    .dataframe tbody tr th:only-of-type {\n",
       "        vertical-align: middle;\n",
       "    }\n",
       "\n",
       "    .dataframe tbody tr th {\n",
       "        vertical-align: top;\n",
       "    }\n",
       "\n",
       "    .dataframe thead th {\n",
       "        text-align: right;\n",
       "    }\n",
       "</style>\n",
       "<table border=\"1\" class=\"dataframe\">\n",
       "  <thead>\n",
       "    <tr style=\"text-align: right;\">\n",
       "      <th></th>\n",
       "      <th>UserID</th>\n",
       "      <th>Gender</th>\n",
       "      <th>Age</th>\n",
       "      <th>Zip-code</th>\n",
       "      <th>Occupation</th>\n",
       "      <th>Age_Categories</th>\n",
       "    </tr>\n",
       "  </thead>\n",
       "  <tbody>\n",
       "    <tr>\n",
       "      <th>0</th>\n",
       "      <td>1</td>\n",
       "      <td>F</td>\n",
       "      <td>1</td>\n",
       "      <td>48067</td>\n",
       "      <td>K-12 student</td>\n",
       "      <td>Under 18</td>\n",
       "    </tr>\n",
       "    <tr>\n",
       "      <th>1</th>\n",
       "      <td>2</td>\n",
       "      <td>M</td>\n",
       "      <td>56</td>\n",
       "      <td>70072</td>\n",
       "      <td>self-employed</td>\n",
       "      <td>56+</td>\n",
       "    </tr>\n",
       "    <tr>\n",
       "      <th>2</th>\n",
       "      <td>3</td>\n",
       "      <td>M</td>\n",
       "      <td>25</td>\n",
       "      <td>55117</td>\n",
       "      <td>scientist</td>\n",
       "      <td>25-34</td>\n",
       "    </tr>\n",
       "    <tr>\n",
       "      <th>3</th>\n",
       "      <td>4</td>\n",
       "      <td>M</td>\n",
       "      <td>45</td>\n",
       "      <td>02460</td>\n",
       "      <td>executive</td>\n",
       "      <td>45-49</td>\n",
       "    </tr>\n",
       "    <tr>\n",
       "      <th>4</th>\n",
       "      <td>5</td>\n",
       "      <td>M</td>\n",
       "      <td>25</td>\n",
       "      <td>55455</td>\n",
       "      <td>writer</td>\n",
       "      <td>25-34</td>\n",
       "    </tr>\n",
       "    <tr>\n",
       "      <th>...</th>\n",
       "      <td>...</td>\n",
       "      <td>...</td>\n",
       "      <td>...</td>\n",
       "      <td>...</td>\n",
       "      <td>...</td>\n",
       "      <td>...</td>\n",
       "    </tr>\n",
       "    <tr>\n",
       "      <th>6035</th>\n",
       "      <td>6036</td>\n",
       "      <td>F</td>\n",
       "      <td>25</td>\n",
       "      <td>32603</td>\n",
       "      <td>scientist</td>\n",
       "      <td>25-34</td>\n",
       "    </tr>\n",
       "    <tr>\n",
       "      <th>6036</th>\n",
       "      <td>6037</td>\n",
       "      <td>F</td>\n",
       "      <td>45</td>\n",
       "      <td>76006</td>\n",
       "      <td>educator</td>\n",
       "      <td>45-49</td>\n",
       "    </tr>\n",
       "    <tr>\n",
       "      <th>6037</th>\n",
       "      <td>6038</td>\n",
       "      <td>F</td>\n",
       "      <td>56</td>\n",
       "      <td>14706</td>\n",
       "      <td>educator</td>\n",
       "      <td>56+</td>\n",
       "    </tr>\n",
       "    <tr>\n",
       "      <th>6038</th>\n",
       "      <td>6039</td>\n",
       "      <td>F</td>\n",
       "      <td>45</td>\n",
       "      <td>01060</td>\n",
       "      <td>other</td>\n",
       "      <td>45-49</td>\n",
       "    </tr>\n",
       "    <tr>\n",
       "      <th>6039</th>\n",
       "      <td>6040</td>\n",
       "      <td>M</td>\n",
       "      <td>25</td>\n",
       "      <td>11106</td>\n",
       "      <td>doctor</td>\n",
       "      <td>25-34</td>\n",
       "    </tr>\n",
       "  </tbody>\n",
       "</table>\n",
       "<p>6040 rows × 6 columns</p>\n",
       "</div>"
      ],
      "text/plain": [
       "      UserID Gender  Age Zip-code     Occupation Age_Categories\n",
       "0          1      F    1    48067   K-12 student       Under 18\n",
       "1          2      M   56    70072  self-employed            56+\n",
       "2          3      M   25    55117      scientist          25-34\n",
       "3          4      M   45    02460      executive          45-49\n",
       "4          5      M   25    55455         writer          25-34\n",
       "...      ...    ...  ...      ...            ...            ...\n",
       "6035    6036      F   25    32603      scientist          25-34\n",
       "6036    6037      F   45    76006       educator          45-49\n",
       "6037    6038      F   56    14706       educator            56+\n",
       "6038    6039      F   45    01060          other          45-49\n",
       "6039    6040      M   25    11106         doctor          25-34\n",
       "\n",
       "[6040 rows x 6 columns]"
      ]
     },
     "execution_count": 26,
     "metadata": {},
     "output_type": "execute_result"
    }
   ],
   "source": [
    "users = pd.read_csv('users.dat', sep='::', names=['UserID', 'Gender', 'Age', 'Occupation', 'Zip-code'], engine='python', encoding='latin-1')\n",
    "\n",
    "# Map Occupation to Occupation Name in 'occupations.csv'\n",
    "occupations = pd.read_csv('occupations.csv', sep=',', names=['Occupation', 'Occupation Name'], engine='python', encoding='latin-1')\n",
    "\n",
    "# Merge users on occupations\n",
    "users = users.merge(occupations, on='Occupation', how='left')\n",
    "\n",
    "# Drop Occupation column\n",
    "users = users.drop('Occupation', axis=1)\n",
    "\n",
    "# Rename Occupation Name to Occupation\n",
    "users = users.rename(columns={'Occupation Name': 'Occupation'})\n",
    "\n",
    "# Function to categorize age\n",
    "def categorize_age(age):\n",
    "    if age < 18:\n",
    "        return \"Under 18\"\n",
    "    elif age < 25:\n",
    "        return \"18-24\"\n",
    "    elif age < 35:\n",
    "        return \"25-34\"\n",
    "    elif age < 45:\n",
    "        return \"35-44\"\n",
    "    elif age < 50:\n",
    "        return \"45-49\"\n",
    "    elif age < 56:\n",
    "        return \"50-55\"\n",
    "    else:\n",
    "        return \"56+\"\n",
    "\n",
    "# Applying the function to create a new column\n",
    "users['Age_Categories'] = users['Age'].apply(categorize_age)\n",
    "\n",
    "users"
   ]
  },
  {
   "cell_type": "code",
   "execution_count": 27,
   "metadata": {},
   "outputs": [],
   "source": [
    "# Make all column names lowercase in ratings, users, and movies\n",
    "ratings.columns = ratings.columns.str.lower()\n",
    "users.columns = users.columns.str.lower()\n",
    "movies.columns = movies.columns.str.lower()"
   ]
  },
  {
   "cell_type": "markdown",
   "metadata": {},
   "source": [
    "## 2.2. Identifying Relevant Variables\n",
    "\n",
    "### Movies Dataset\n",
    "The `movies_df` contains information about movies, such as the title, release date, and various genre flags (indicating the genres a movie belongs to). The genres are particularly relevant because they represent the categories for which we want to analyze ratings. We'll also use the `movie id` for merging datasets later.\n",
    "\n",
    "**Key Variables**:\n",
    "- `movie id`: Will be used to match ratings with movies.\n",
    "- Genre Flags (e.g., `Action`, `Adventure`, `Animation`, etc.): To categorize movies and analyze ratings based on genre.\n",
    "\n",
    "### Ratings Dataset\n",
    "The `ratings_df` provides ratings given by users to movies. The rating and the association between user and movie are crucial.\n",
    "\n",
    "**Key Variables**:\n",
    "- `user id`: To identify which user gave a particular rating.\n",
    "- `movie id`: To match the rating with a specific movie.\n",
    "- `rating`: The actual rating value, which is central to our analysis.\n",
    "\n",
    "### Users Dataset\n",
    "The `users_df` contains demographic information about users. Since our hypothesis revolves around the occupation of users and their ratings, occupation is of paramount importance. Additionally, other demographics might provide supplemental insights.\n",
    "\n",
    "**Key Variables**:\n",
    "- `user id`: To match the user's demographic information with their ratings.\n",
    "- `occupation`: Central to our hypothesis. We'll analyze ratings based on this.\n",
    "- `age`, `gender`: Additional demographics that might be used for supplemental analysis.\n",
    "\n",
    "_Given our hypothesis, the occupation of users and the genres of movies are the two most significant variables. We believe that occupation, a reflection of a person's interests and daily activities, might influence their movie preferences. For instance, someone in a technical field might be inclined towards sci-fi movies, while a healthcare worker might prefer dramas. By correlating occupation with genre-based ratings, we can test this belief._\n",
    "\n",
    "_However, it's essential to understand that correlation does not imply causation. Even if we find a significant correlation between occupation and genre preference, other lurking variables (like age or gender) might also play a role._"
   ]
  },
  {
   "cell_type": "markdown",
   "metadata": {},
   "source": [
    "## 3. Data Cleaning"
   ]
  },
  {
   "cell_type": "markdown",
   "metadata": {},
   "source": [
    "\n",
    "### 3.1. Identifying Outliers\n"
   ]
  },
  {
   "cell_type": "markdown",
   "metadata": {},
   "source": [
    "For our current datasets, the rating and age columns are the primary numerical features. However, since rating is categorical in nature (with values ranging from 1 to 5), it doesn't typically have \"outliers\". The age column, on the other hand, can be inspected for any unusual values that fall outside the expected range for human ages."
   ]
  },
  {
   "cell_type": "code",
   "execution_count": 28,
   "metadata": {},
   "outputs": [
    {
     "data": {
      "image/png": "[encoded data removed]",
      "text/plain": [
       "<Figure size 800x600 with 1 Axes>"
      ]
     },
     "metadata": {},
     "output_type": "display_data"
    }
   ],
   "source": [
    "# Boxplot for ratings to identify outliers\n",
    "plt.figure(figsize=(8, 6))\n",
    "sns.boxplot(ratings['rating'])\n",
    "plt.title('Boxplot of Movie Ratings')\n",
    "plt.show()\n"
   ]
  },
  {
   "cell_type": "markdown",
   "metadata": {},
   "source": [
    "The boxplot shows us that ratings dataframe does not contain any outliers, as there are no values outside the 1-5 range. The ratings are all between 1 and 5, as expected. Yet, we can make an observation that not many users have rated movies below 2. "
   ]
  },
  {
   "cell_type": "code",
   "execution_count": 29,
   "metadata": {},
   "outputs": [
    {
     "data": {
      "image/png": "[encoded data removed]",
      "text/plain": [
       "<Figure size 1000x600 with 1 Axes>"
      ]
     },
     "metadata": {},
     "output_type": "display_data"
    }
   ],
   "source": [
    "# Set the aesthetic style of the plots\n",
    "sns.set_style(\"whitegrid\")\n",
    "\n",
    "# Plotting the distribution of age categories\n",
    "plt.figure(figsize=(10, 6))\n",
    "sns.countplot(x='age_categories', data=users, order=['Under 18', '18-24', '25-34', '35-44', '45-49', '50-55', '56+'])\n",
    "plt.title('Distribution of Age Categories')\n",
    "plt.xlabel('Age Categories')\n",
    "plt.ylabel('Count')\n",
    "plt.show()"
   ]
  },
  {
   "cell_type": "markdown",
   "metadata": {},
   "source": [
    "We don't see any outliers in the age column either. All the ages are within the expected human ages. However, we can see that the majority of users are between 20 and 40 years old. This is an important observation because it might skew our analysis towards the preferences of younger users."
   ]
  },
  {
   "cell_type": "markdown",
   "metadata": {},
   "source": [
    "### 3.2 Removing Unnecessary Columns"
   ]
  },
  {
   "cell_type": "markdown",
   "metadata": {},
   "source": [
    "From our movies dataframe, some columns like IMDb URLs, release date and video release date might not be relevant for our analysis."
   ]
  },
  {
   "cell_type": "code",
   "execution_count": 30,
   "metadata": {},
   "outputs": [],
   "source": [
    "# # Dropping unnecessary columns from the movie dataset\n",
    "# movies.drop(columns=['IMDb URL', 'release date', 'video release date'], inplace=True)\n",
    "\n",
    "# # Confirming the drop\n",
    "# movies.head()"
   ]
  },
  {
   "cell_type": "markdown",
   "metadata": {},
   "source": [
    "Dropping timestamp column from ratings dataframe. "
   ]
  },
  {
   "cell_type": "code",
   "execution_count": 31,
   "metadata": {},
   "outputs": [],
   "source": [
    "# Dropping 'timestamp' from the ratings dataset\n",
    "# ratings_df.drop(columns=['timestamp'], inplace=True)"
   ]
  },
  {
   "cell_type": "markdown",
   "metadata": {},
   "source": [
    "Dropping zip code column from users dataframe."
   ]
  },
  {
   "cell_type": "code",
   "execution_count": 32,
   "metadata": {},
   "outputs": [],
   "source": [
    "# Dropping 'zip code' from the users dataset\n",
    "# users_df.drop(columns=['zip code'], inplace=True)"
   ]
  },
  {
   "cell_type": "markdown",
   "metadata": {},
   "source": [
    "### 3.3. Handling Missing Values"
   ]
  },
  {
   "cell_type": "markdown",
   "metadata": {},
   "source": [
    "\n",
    "Different ways to handle missing values:\n",
    "- Deletion: If the number of missing values in a row or column is substantial, sometimes it's easier to remove that row or column.\n",
    "- Imputation: For columns with a few missing values, we can replace missing values with the median, mean, or mode of that column. The method of imputation would depend on the nature of the data."
   ]
  },
  {
   "cell_type": "code",
   "execution_count": 33,
   "metadata": {},
   "outputs": [
    {
     "name": "stdout",
     "output_type": "stream",
     "text": [
      "{'Users': userid            0\n",
      "gender            0\n",
      "age               0\n",
      "zip-code          0\n",
      "occupation        0\n",
      "age_categories    0\n",
      "dtype: int64, 'Ratings': userid         0\n",
      "movieid        0\n",
      "rating         0\n",
      "timestamp      0\n",
      "rating date    0\n",
      "dtype: int64, 'Movies': movieid    0\n",
      "title      0\n",
      "genre      0\n",
      "year       0\n",
      "dtype: int64}\n"
     ]
    }
   ],
   "source": [
    "# Check for missing data\n",
    "missing_data = {\n",
    "    \"Users\": users.isnull().sum(),\n",
    "    \"Ratings\": ratings.isnull().sum(),\n",
    "    \"Movies\": movies.isnull().sum()\n",
    "}\n",
    "\n",
    "print(missing_data)"
   ]
  },
  {
   "cell_type": "markdown",
   "metadata": {},
   "source": [
    "Here, we can see that none of the colums have any missing values. We can proceed without dropping any rows or columns or imputing any values."
   ]
  },
  {
   "cell_type": "markdown",
   "metadata": {},
   "source": [
    "### 3.4. Checking for Duplicates"
   ]
  },
  {
   "cell_type": "markdown",
   "metadata": {},
   "source": [
    "Duplicate rows can skew the analysis, leading to incorrect conclusions. Thus, identifying and removing them is essential."
   ]
  },
  {
   "cell_type": "code",
   "execution_count": 34,
   "metadata": {},
   "outputs": [
    {
     "data": {
      "text/plain": [
       "{'Users': 0, 'Ratings': 0, 'Movies': 0}"
      ]
     },
     "execution_count": 34,
     "metadata": {},
     "output_type": "execute_result"
    }
   ],
   "source": [
    "# Check for duplicates in each dataset\n",
    "duplicates_data = {\n",
    "    \"Users\": users.duplicated().sum(),\n",
    "    \"Ratings\": ratings.duplicated().sum(),\n",
    "    \"Movies\": movies.duplicated().sum()\n",
    "}\n",
    "\n",
    "duplicates_data"
   ]
  },
  {
   "cell_type": "markdown",
   "metadata": {},
   "source": [
    "### 3.5 Feature Transformation"
   ]
  },
  {
   "cell_type": "markdown",
   "metadata": {},
   "source": [
    "Our aim is to simplify the structure of our movie dataset, specifically the representation of movie genres. In its current form, each genre is represented as a separate column with binary values indicating whether a movie belongs to that genre. This wide-format structure, while informative, can be cumbersome for analysis, especially when we want to correlate ratings with genres and occupations.\n",
    "\n",
    "The melt() Function\n",
    "To achieve our objective, we'll use the melt() function from pandas. This function is designed to transform or reshape data from a wide format to a long format.\n",
    "\n",
    "In a wide format, data is spread across multiple columns, and in a long format, data is stacked into fewer columns, making the dataset longer."
   ]
  },
  {
   "cell_type": "code",
   "execution_count": 35,
   "metadata": {},
   "outputs": [],
   "source": [
    "# # Melt the dataframe to long format with movie id, movie title, and genre\n",
    "# movies_long = movies_df.melt(id_vars=['movie id', 'movie title'],\n",
    "#                              value_vars=['Action', 'Adventure', 'Animation', \"Children's\", 'Comedy', 'Crime', 'Documentary', \n",
    "#                                          'Drama', 'Fantasy', 'Film-Noir', 'Horror', 'Musical', 'Mystery', 'Romance', 'Sci-Fi',\n",
    "#                                          'Thriller', 'War', 'Western'],\n",
    "#                              var_name='genre',\n",
    "#                              value_name='value')\n",
    "\n",
    "# # Filtering out rows where the genre value is 1 (i.e., the movie belongs to that genre)\n",
    "# movies_long_filtered = movies_long[movies_long['value'] == 1].copy()\n",
    "\n",
    "# # Drop the 'value' column as we don't need it anymore\n",
    "# movies_long_filtered.drop(columns=['value'], inplace=True)\n",
    "\n",
    "# movies_long_filtered.head()"
   ]
  },
  {
   "cell_type": "markdown",
   "metadata": {},
   "source": [
    "\n",
    "After our transformation, it's essential to note that the dataset now contains duplicate movie entries. This is because movies that belong to multiple genres will have a separate row for each genre they are associated with. For example, a movie that belongs to both \"Action\" and \"Adventure\" genres will have two rows in the dataset - one for each genre.\n",
    "\n",
    "While in many scenarios, duplicates are seen as data inconsistencies, in our case, they are intentional and beneficial. These duplicates are vital for our analysis since they allow us to investigate the relationship between occupations and individual movie genres more effectively. Without this structure, our analysis would be limited, and we wouldn't be able to derive meaningful insights about genre preferences across different occupations.\n",
    "\n",
    "Thus, as we progress, it's crucial to remember that while the movie titles might repeat, each row represents a unique combination of a movie and its genre, which is essential for our hypothesis testing."
   ]
  },
  {
   "cell_type": "markdown",
   "metadata": {},
   "source": [
    "### 3.7. Data Type Conversion"
   ]
  },
  {
   "cell_type": "markdown",
   "metadata": {},
   "source": [
    "Ensuring that all relevant variables are of the correct data type is crucial for our analysis. Incorrect data types can lead to errors during computations or give misleading results.\n",
    "\n",
    "First, let's examine the data types of the columns in our datasets."
   ]
  },
  {
   "cell_type": "code",
   "execution_count": 36,
   "metadata": {},
   "outputs": [
    {
     "data": {
      "text/plain": [
       "(movieid     int64\n",
       " title      object\n",
       " genre      object\n",
       " year       object\n",
       " dtype: object,\n",
       " userid          int64\n",
       " movieid         int64\n",
       " rating          int64\n",
       " timestamp       int64\n",
       " rating date    object\n",
       " dtype: object,\n",
       " userid             int64\n",
       " gender            object\n",
       " age                int64\n",
       " zip-code          object\n",
       " occupation        object\n",
       " age_categories    object\n",
       " dtype: object)"
      ]
     },
     "execution_count": 36,
     "metadata": {},
     "output_type": "execute_result"
    }
   ],
   "source": [
    "# Check data types for each dataset\n",
    "data_types_movies = movies.dtypes\n",
    "data_types_ratings = ratings.dtypes\n",
    "data_types_users = users.dtypes\n",
    "\n",
    "data_types_movies, data_types_ratings, data_types_users"
   ]
  },
  {
   "cell_type": "markdown",
   "metadata": {},
   "source": [
    "1. **`movie title`** and **`genre`** in the `movies_long_filtered` dataset are of type `object`. Given that these are textual or categorical variables, it's a good idea to convert them to `category` type to reduce memory usage and speed up operations.\n",
    "  \n",
    "2. **`gender`** and **`occupation`** in the `users_df` dataset are also of type `object`. They should be converted to `category` type for the same reasons mentioned above.\n",
    "\n",
    "3. The `ratings_df` dataset seems fine with `int64` type for its columns.\n"
   ]
  },
  {
   "cell_type": "code",
   "execution_count": 37,
   "metadata": {},
   "outputs": [],
   "source": [
    "# Convert 'movie title' and 'genre' in movies_long_filtered dataset to categorical type\n",
    "movies['title'] = movies['title'].astype('category')\n",
    "movies['genre'] = movies['genre'].astype('category')\n",
    "\n",
    "# Convert 'gender' and 'occupation' in users_df dataset to categorical type\n",
    "users['gender'] = users['gender'].astype('category')\n",
    "users['occupation'] = users['occupation'].astype('category')\n"
   ]
  },
  {
   "cell_type": "markdown",
   "metadata": {},
   "source": [
    "After these conversions, our datasets' columns should now have the optimal data types for our analysis. These conversions help in reducing memory usage and provide faster operations, especially for operations involving categorical variables."
   ]
  },
  {
   "cell_type": "markdown",
   "metadata": {},
   "source": [
    "### 3.8 Merging Datasets"
   ]
  },
  {
   "cell_type": "markdown",
   "metadata": {},
   "source": [
    "Given our hypothesis, we are interested in studying the relationship between `occupation`, `genre`, and `rating`. The data related to these variables is spread across our three datasets:\n",
    "\n",
    "- `users_df` contains the `occupation` of each user.\n",
    "- `ratings_df` contains the `rating` given by a user to a movie.\n",
    "- `movies_long_filtered` contains the `genre` of each movie.\n",
    "\n",
    "To effectively analyze the relationship between these variables, it's essential to have them in a single dataframe. Merging the dataframes achieves this and facilitates easier and more efficient analyses."
   ]
  },
  {
   "cell_type": "code",
   "execution_count": 38,
   "metadata": {},
   "outputs": [
    {
     "data": {
      "text/html": [
       "<div>\n",
       "<style scoped>\n",
       "    .dataframe tbody tr th:only-of-type {\n",
       "        vertical-align: middle;\n",
       "    }\n",
       "\n",
       "    .dataframe tbody tr th {\n",
       "        vertical-align: top;\n",
       "    }\n",
       "\n",
       "    .dataframe thead th {\n",
       "        text-align: right;\n",
       "    }\n",
       "</style>\n",
       "<table border=\"1\" class=\"dataframe\">\n",
       "  <thead>\n",
       "    <tr style=\"text-align: right;\">\n",
       "      <th></th>\n",
       "      <th>userid</th>\n",
       "      <th>movieid</th>\n",
       "      <th>rating</th>\n",
       "      <th>rating date</th>\n",
       "      <th>gender</th>\n",
       "      <th>age</th>\n",
       "      <th>zip-code</th>\n",
       "      <th>occupation</th>\n",
       "      <th>age_categories</th>\n",
       "      <th>title</th>\n",
       "      <th>genre</th>\n",
       "      <th>year</th>\n",
       "    </tr>\n",
       "  </thead>\n",
       "  <tbody>\n",
       "    <tr>\n",
       "      <th>0</th>\n",
       "      <td>1</td>\n",
       "      <td>1193</td>\n",
       "      <td>5</td>\n",
       "      <td>2000-12-31</td>\n",
       "      <td>F</td>\n",
       "      <td>1</td>\n",
       "      <td>48067</td>\n",
       "      <td>K-12 student</td>\n",
       "      <td>Under 18</td>\n",
       "      <td>One Flew Over the Cuckoo's Nest</td>\n",
       "      <td>Drama</td>\n",
       "      <td>1975</td>\n",
       "    </tr>\n",
       "    <tr>\n",
       "      <th>1</th>\n",
       "      <td>2</td>\n",
       "      <td>1193</td>\n",
       "      <td>5</td>\n",
       "      <td>2000-12-31</td>\n",
       "      <td>M</td>\n",
       "      <td>56</td>\n",
       "      <td>70072</td>\n",
       "      <td>self-employed</td>\n",
       "      <td>56+</td>\n",
       "      <td>One Flew Over the Cuckoo's Nest</td>\n",
       "      <td>Drama</td>\n",
       "      <td>1975</td>\n",
       "    </tr>\n",
       "    <tr>\n",
       "      <th>2</th>\n",
       "      <td>12</td>\n",
       "      <td>1193</td>\n",
       "      <td>4</td>\n",
       "      <td>2000-12-30</td>\n",
       "      <td>M</td>\n",
       "      <td>25</td>\n",
       "      <td>32793</td>\n",
       "      <td>programmer</td>\n",
       "      <td>25-34</td>\n",
       "      <td>One Flew Over the Cuckoo's Nest</td>\n",
       "      <td>Drama</td>\n",
       "      <td>1975</td>\n",
       "    </tr>\n",
       "    <tr>\n",
       "      <th>3</th>\n",
       "      <td>15</td>\n",
       "      <td>1193</td>\n",
       "      <td>4</td>\n",
       "      <td>2000-12-30</td>\n",
       "      <td>M</td>\n",
       "      <td>25</td>\n",
       "      <td>22903</td>\n",
       "      <td>executive</td>\n",
       "      <td>25-34</td>\n",
       "      <td>One Flew Over the Cuckoo's Nest</td>\n",
       "      <td>Drama</td>\n",
       "      <td>1975</td>\n",
       "    </tr>\n",
       "    <tr>\n",
       "      <th>4</th>\n",
       "      <td>17</td>\n",
       "      <td>1193</td>\n",
       "      <td>5</td>\n",
       "      <td>2000-12-30</td>\n",
       "      <td>M</td>\n",
       "      <td>50</td>\n",
       "      <td>95350</td>\n",
       "      <td>educator</td>\n",
       "      <td>50-55</td>\n",
       "      <td>One Flew Over the Cuckoo's Nest</td>\n",
       "      <td>Drama</td>\n",
       "      <td>1975</td>\n",
       "    </tr>\n",
       "    <tr>\n",
       "      <th>...</th>\n",
       "      <td>...</td>\n",
       "      <td>...</td>\n",
       "      <td>...</td>\n",
       "      <td>...</td>\n",
       "      <td>...</td>\n",
       "      <td>...</td>\n",
       "      <td>...</td>\n",
       "      <td>...</td>\n",
       "      <td>...</td>\n",
       "      <td>...</td>\n",
       "      <td>...</td>\n",
       "      <td>...</td>\n",
       "    </tr>\n",
       "    <tr>\n",
       "      <th>2101810</th>\n",
       "      <td>5780</td>\n",
       "      <td>2845</td>\n",
       "      <td>1</td>\n",
       "      <td>2000-05-12</td>\n",
       "      <td>M</td>\n",
       "      <td>18</td>\n",
       "      <td>92886</td>\n",
       "      <td>technician</td>\n",
       "      <td>18-24</td>\n",
       "      <td>White Boys</td>\n",
       "      <td>Drama</td>\n",
       "      <td>1999</td>\n",
       "    </tr>\n",
       "    <tr>\n",
       "      <th>2101811</th>\n",
       "      <td>5851</td>\n",
       "      <td>3607</td>\n",
       "      <td>5</td>\n",
       "      <td>2000-05-08</td>\n",
       "      <td>F</td>\n",
       "      <td>18</td>\n",
       "      <td>55410</td>\n",
       "      <td>writer</td>\n",
       "      <td>18-24</td>\n",
       "      <td>One Little Indian</td>\n",
       "      <td>Comedy</td>\n",
       "      <td>1973</td>\n",
       "    </tr>\n",
       "    <tr>\n",
       "      <th>2101812</th>\n",
       "      <td>5851</td>\n",
       "      <td>3607</td>\n",
       "      <td>5</td>\n",
       "      <td>2000-05-08</td>\n",
       "      <td>F</td>\n",
       "      <td>18</td>\n",
       "      <td>55410</td>\n",
       "      <td>writer</td>\n",
       "      <td>18-24</td>\n",
       "      <td>One Little Indian</td>\n",
       "      <td>Drama</td>\n",
       "      <td>1973</td>\n",
       "    </tr>\n",
       "    <tr>\n",
       "      <th>2101813</th>\n",
       "      <td>5851</td>\n",
       "      <td>3607</td>\n",
       "      <td>5</td>\n",
       "      <td>2000-05-08</td>\n",
       "      <td>F</td>\n",
       "      <td>18</td>\n",
       "      <td>55410</td>\n",
       "      <td>writer</td>\n",
       "      <td>18-24</td>\n",
       "      <td>One Little Indian</td>\n",
       "      <td>Western</td>\n",
       "      <td>1973</td>\n",
       "    </tr>\n",
       "    <tr>\n",
       "      <th>2101814</th>\n",
       "      <td>5938</td>\n",
       "      <td>2909</td>\n",
       "      <td>4</td>\n",
       "      <td>2000-05-02</td>\n",
       "      <td>M</td>\n",
       "      <td>25</td>\n",
       "      <td>35401</td>\n",
       "      <td>educator</td>\n",
       "      <td>25-34</td>\n",
       "      <td>Five Wives, Three Secretaries and Me</td>\n",
       "      <td>Documentary</td>\n",
       "      <td>1998</td>\n",
       "    </tr>\n",
       "  </tbody>\n",
       "</table>\n",
       "<p>2101815 rows × 12 columns</p>\n",
       "</div>"
      ],
      "text/plain": [
       "         userid  movieid  rating rating date gender  age zip-code  \\\n",
       "0             1     1193       5  2000-12-31      F    1    48067   \n",
       "1             2     1193       5  2000-12-31      M   56    70072   \n",
       "2            12     1193       4  2000-12-30      M   25    32793   \n",
       "3            15     1193       4  2000-12-30      M   25    22903   \n",
       "4            17     1193       5  2000-12-30      M   50    95350   \n",
       "...         ...      ...     ...         ...    ...  ...      ...   \n",
       "2101810    5780     2845       1  2000-05-12      M   18    92886   \n",
       "2101811    5851     3607       5  2000-05-08      F   18    55410   \n",
       "2101812    5851     3607       5  2000-05-08      F   18    55410   \n",
       "2101813    5851     3607       5  2000-05-08      F   18    55410   \n",
       "2101814    5938     2909       4  2000-05-02      M   25    35401   \n",
       "\n",
       "            occupation age_categories                                  title  \\\n",
       "0         K-12 student       Under 18       One Flew Over the Cuckoo's Nest    \n",
       "1        self-employed            56+       One Flew Over the Cuckoo's Nest    \n",
       "2           programmer          25-34       One Flew Over the Cuckoo's Nest    \n",
       "3            executive          25-34       One Flew Over the Cuckoo's Nest    \n",
       "4             educator          50-55       One Flew Over the Cuckoo's Nest    \n",
       "...                ...            ...                                    ...   \n",
       "2101810     technician          18-24                            White Boys    \n",
       "2101811         writer          18-24                     One Little Indian    \n",
       "2101812         writer          18-24                     One Little Indian    \n",
       "2101813         writer          18-24                     One Little Indian    \n",
       "2101814       educator          25-34  Five Wives, Three Secretaries and Me    \n",
       "\n",
       "               genre  year  \n",
       "0              Drama  1975  \n",
       "1              Drama  1975  \n",
       "2              Drama  1975  \n",
       "3              Drama  1975  \n",
       "4              Drama  1975  \n",
       "...              ...   ...  \n",
       "2101810        Drama  1999  \n",
       "2101811       Comedy  1973  \n",
       "2101812        Drama  1973  \n",
       "2101813      Western  1973  \n",
       "2101814  Documentary  1998  \n",
       "\n",
       "[2101815 rows x 12 columns]"
      ]
     },
     "execution_count": 38,
     "metadata": {},
     "output_type": "execute_result"
    }
   ],
   "source": [
    "# Merge ratings and users on UserID\n",
    "merged_df = pd.merge(ratings, users, on='userid')\n",
    "\n",
    "# Merging the above result with movies_long_filtered on 'movie id'\n",
    "merged_df = pd.merge(merged_df, movies, on='movieid')\n",
    "\n",
    "merged_df.drop(columns=['timestamp'], inplace=True)\n",
    "\n",
    "# merged_df.sort_values(by='year', inplace=True)\n",
    "\n",
    "merged_df"
   ]
  },
  {
   "cell_type": "markdown",
   "metadata": {},
   "source": [
    "While the comprehensive merged dataframe is valuable, for our specific hypothesis, we only need the occupation, genre, and rating columns. Filtering out unnecessary columns will make our analyses more efficient and focused."
   ]
  },
  {
   "cell_type": "markdown",
   "metadata": {},
   "source": [
    "### TODO: EXPLICITLY STATE THE AGE AS CATEGORIES"
   ]
  },
  {
   "cell_type": "code",
   "execution_count": 39,
   "metadata": {},
   "outputs": [
    {
     "data": {
      "text/html": [
       "<div>\n",
       "<style scoped>\n",
       "    .dataframe tbody tr th:only-of-type {\n",
       "        vertical-align: middle;\n",
       "    }\n",
       "\n",
       "    .dataframe tbody tr th {\n",
       "        vertical-align: top;\n",
       "    }\n",
       "\n",
       "    .dataframe thead th {\n",
       "        text-align: right;\n",
       "    }\n",
       "</style>\n",
       "<table border=\"1\" class=\"dataframe\">\n",
       "  <thead>\n",
       "    <tr style=\"text-align: right;\">\n",
       "      <th></th>\n",
       "      <th>occupation</th>\n",
       "      <th>genre</th>\n",
       "      <th>rating</th>\n",
       "    </tr>\n",
       "  </thead>\n",
       "  <tbody>\n",
       "    <tr>\n",
       "      <th>0</th>\n",
       "      <td>K-12 student</td>\n",
       "      <td>Drama</td>\n",
       "      <td>5</td>\n",
       "    </tr>\n",
       "    <tr>\n",
       "      <th>1</th>\n",
       "      <td>self-employed</td>\n",
       "      <td>Drama</td>\n",
       "      <td>5</td>\n",
       "    </tr>\n",
       "    <tr>\n",
       "      <th>2</th>\n",
       "      <td>programmer</td>\n",
       "      <td>Drama</td>\n",
       "      <td>4</td>\n",
       "    </tr>\n",
       "    <tr>\n",
       "      <th>3</th>\n",
       "      <td>executive</td>\n",
       "      <td>Drama</td>\n",
       "      <td>4</td>\n",
       "    </tr>\n",
       "    <tr>\n",
       "      <th>4</th>\n",
       "      <td>educator</td>\n",
       "      <td>Drama</td>\n",
       "      <td>5</td>\n",
       "    </tr>\n",
       "  </tbody>\n",
       "</table>\n",
       "</div>"
      ],
      "text/plain": [
       "      occupation  genre  rating\n",
       "0   K-12 student  Drama       5\n",
       "1  self-employed  Drama       5\n",
       "2     programmer  Drama       4\n",
       "3      executive  Drama       4\n",
       "4       educator  Drama       5"
      ]
     },
     "execution_count": 39,
     "metadata": {},
     "output_type": "execute_result"
    }
   ],
   "source": [
    "# Selecting only 'occupation', 'genre', and 'rating' columns\n",
    "filtered_df = merged_df[['occupation', 'genre', 'rating']]\n",
    "\n",
    "filtered_df.head()"
   ]
  },
  {
   "cell_type": "markdown",
   "metadata": {},
   "source": [
    "## 4. Basic Data Exploration\n",
    "### 4.1. Distribution of Ratings\n",
    "Understanding the overall distribution of ratings can give us an idea of how users generally perceive movies."
   ]
  },
  {
   "cell_type": "code",
   "execution_count": 40,
   "metadata": {},
   "outputs": [
    {
     "data": {
      "image/png": "[encoded data removed]",
      "text/plain": [
       "<Figure size 640x480 with 1 Axes>"
      ]
     },
     "metadata": {},
     "output_type": "display_data"
    }
   ],
   "source": [
    "import matplotlib.pyplot as plt\n",
    "\n",
    "plt.bar(filtered_df['rating'].value_counts().index, filtered_df['rating'].value_counts().values)\n",
    "plt.title('Distribution of Ratings')\n",
    "plt.xlabel('Rating')\n",
    "plt.ylabel('Count')\n",
    "plt.show()\n"
   ]
  },
  {
   "cell_type": "markdown",
   "metadata": {},
   "source": [
    "### 4.2. Top Rated Genres\n",
    "Which genres have the highest average ratings? This can give insights into the most liked genres overall."
   ]
  },
  {
   "cell_type": "code",
   "execution_count": 41,
   "metadata": {},
   "outputs": [
    {
     "data": {
      "image/png": "[encoded data removed]",
      "text/plain": [
       "<Figure size 1400x700 with 1 Axes>"
      ]
     },
     "metadata": {},
     "output_type": "display_data"
    }
   ],
   "source": [
    "genre_rating = filtered_df.groupby('genre')['rating'].mean().sort_values(ascending=False)\n",
    "genre_rating.plot(kind='bar', figsize=(14,7))\n",
    "plt.title('Average Rating per Genre')\n",
    "plt.xlabel('Genre')\n",
    "plt.ylabel('Average Rating')\n",
    "plt.show()\n"
   ]
  },
  {
   "cell_type": "markdown",
   "metadata": {},
   "source": [
    "### 4.3. Number of Ratings by Occupation\n",
    "Understanding the number of ratings by occupation can give us insights into which occupations are most active in rating movies."
   ]
  },
  {
   "cell_type": "code",
   "execution_count": 42,
   "metadata": {},
   "outputs": [
    {
     "data": {
      "image/png": "[encoded data removed]",
      "text/plain": [
       "<Figure size 640x480 with 1 Axes>"
      ]
     },
     "metadata": {},
     "output_type": "display_data"
    }
   ],
   "source": [
    "plt.barh(filtered_df['occupation'].value_counts().index, filtered_df['occupation'].value_counts().values)\n",
    "plt.title('Number of Ratings by Occupation')\n",
    "plt.xlabel('Count')\n",
    "plt.ylabel('Occupation')\n",
    "plt.show()"
   ]
  },
  {
   "cell_type": "markdown",
   "metadata": {},
   "source": [
    "### 4.4. Average Rating by Occupation\n",
    "Which occupations give the highest and lowest average ratings?"
   ]
  },
  {
   "cell_type": "code",
   "execution_count": 43,
   "metadata": {},
   "outputs": [
    {
     "data": {
      "image/png": "[encoded data removed]",
      "text/plain": [
       "<Figure size 1400x700 with 1 Axes>"
      ]
     },
     "metadata": {},
     "output_type": "display_data"
    }
   ],
   "source": [
    "occupation_rating = filtered_df.groupby('occupation')['rating'].mean().sort_values(ascending=False)\n",
    "occupation_rating.plot(kind='bar', figsize=(14,7))\n",
    "plt.title('Average Rating by Occupation')\n",
    "plt.xlabel('Occupation')\n",
    "plt.ylabel('Average Rating')\n",
    "plt.show()\n"
   ]
  },
  {
   "cell_type": "markdown",
   "metadata": {},
   "source": [
    "### 4.5. Most Popular Genres by Occupation\n",
    "For each occupation, which genre has the highest average rating?"
   ]
  },
  {
   "cell_type": "code",
   "execution_count": 44,
   "metadata": {},
   "outputs": [
    {
     "name": "stdout",
     "output_type": "stream",
     "text": [
      "occupation\n",
      "K-12 student          Film-Noir\n",
      "administrator         Film-Noir\n",
      "artist                Film-Noir\n",
      "customer service      Film-Noir\n",
      "doctor              Documentary\n",
      "educator              Film-Noir\n",
      "executive             Film-Noir\n",
      "farmer              Documentary\n",
      "grad student          Film-Noir\n",
      "homemaker                   War\n",
      "lawyer                Film-Noir\n",
      "marketing             Film-Noir\n",
      "other                 Film-Noir\n",
      "programmer            Film-Noir\n",
      "retired               Film-Noir\n",
      "scientist             Film-Noir\n",
      "self-employed         Film-Noir\n",
      "technician            Film-Noir\n",
      "tradesman             Film-Noir\n",
      "unemployed            Film-Noir\n",
      "writer                Film-Noir\n",
      "dtype: object\n"
     ]
    }
   ],
   "source": [
    "occupation_genre_rating = filtered_df.groupby(['occupation', 'genre'])['rating'].mean().unstack()\n",
    "most_popular_genres = occupation_genre_rating.idxmax(axis=1)\n",
    "print(most_popular_genres)"
   ]
  }
 ],
 "metadata": {
  "kernelspec": {
   "display_name": "base",
   "language": "python",
   "name": "python3"
  },
  "language_info": {
   "codemirror_mode": {
    "name": "ipython",
    "version": 3
   },
   "file_extension": ".py",
   "mimetype": "text/x-python",
   "name": "python",
   "nbconvert_exporter": "python",
   "pygments_lexer": "ipython3",
   "version": "3.11.0"
  }
 },
 "nbformat": 4,
 "nbformat_minor": 2
}
