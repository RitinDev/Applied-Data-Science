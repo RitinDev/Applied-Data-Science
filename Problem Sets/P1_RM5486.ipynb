{
  "cells": [
    {
      "cell_type": "markdown",
      "metadata": {
        "id": "PUxdctIdxU6B"
      },
      "source": [
        "---\n",
        "---\n",
        "Problem Set 1: Functions & Sequences\n",
        "\n",
        "Applied Data Science using Python\n",
        "\n",
        "New York University, Abu Dhabi\n",
        "\n",
        "Out: 6th September 2023 || **Due: 13th September 2023 at 23:59**\n",
        "\n",
        "---\n",
        "---\n",
        "#Start Here\n",
        "## Learning Goals\n",
        "### General Goals\n",
        "- Learn the basics of programming in Python\n",
        "- Learn to create programming logic\n",
        "- Learn new concepts\n",
        "\n",
        "### Specific Goals\n",
        "- Get comfortable with writing functions, loops, and conditional statements\n",
        "- Get comfortable handling lists\n",
        "- Understand common types and typecasting\n",
        "- Get comfortable with special functions\n",
        "- Get comfortable with dictionaries\n",
        "- Get comfortable with strings\n",
        "\n",
        "## Collaboration Policy\n",
        "- You are allowed to talk with / work with other students on homework assignments.\n",
        "- You can share ideas but not code, analyses or results; you must submit your own code and results. All submitted code will be compared against all code submitted this and previous semesters and online using MOSS. We will also critically analyze the similarities in the submitted reports, methodologies, and results, **but we will not police you**. We expect you all to be mature and responsible enough to finish your work with full integrity.\n",
        "- You are expected to comply with the [University Policy on Academic Integrity and Plagiarism](https://www.nyu.edu/about/policies-guidelines-compliance/policies-and-guidelines/academic-integrity-for-students-at-nyu.html). Violations may result in penalties, such as failure in a particular assignment.\n",
        "\n",
        "## Late Submission Policy\n",
        "You can submit the homework for upto 3 late days. However, we will deduct **20 points** from your homework grade **for each late day you take**. We will not accept the homework after 3 late days.\n",
        "\n",
        "## Distribution of Class Materials\n",
        "These problem sets and recitations are intellectual property of NYUAD, and we request the students to **not distribute** them or their solutions to other students who have not signed up for this class, and/or intend to sign up in the future. We also request you don't post these problem sets, and recitations online or on any public platforms.\n",
        "\n",
        "## Disclaimer\n",
        "The number of points do not necessarily signify/correlate to the difficulty level of the tasks.\n",
        "\n",
        "## Submission\n",
        "You will submit all your code as a Python Notebook through [Brightspace](https://brightspace.nyu.edu/) as **P1_YOUR NETID.ipynb**.\n",
        "\n",
        "---\n",
        "\n",
        "\n"
      ]
    },
    {
      "cell_type": "markdown",
      "metadata": {
        "id": "UPMDlF4mjG6v"
      },
      "source": [
        "# General Instructions\n",
        "This homework is made up of 6 parts and is worth 100 points. Below each part, we provide a set of concepts required to complete that part. All the parts need to be completed in a Jupyter (Colab) Notebook attached with this handout. We recommend that you read the complete handout before starting the homework.\n",
        "\n"
      ]
    },
    {
      "cell_type": "markdown",
      "metadata": {
        "id": "3SWf22cCjQNY"
      },
      "source": [
        "# Part I: Monte Carlo Simulation: Heads or Tails? (12 points)\n",
        "\n",
        "Monte Carlo methods are a broad class of algorithms that solve a problem by generating suitable random numbers and observing that fraction of the numbers obeying some property or properties. These methods are useful for obtaining numerical solutions to problems which are too complicated to solve analytically.\n",
        "\n",
        "In this part, you will experimentally compute the probability of getting heads while flipping a fair coin.\n",
        "\n",
        "If I flip a coin, what are the chances that I will get heads or tails? We know from simple probability that if the coin is fair the chances of each side are exactly 50%.\n",
        "Can we prove it? We can prove this experimentally by flipping a coin 1,000,000 times and dividing the number of times we get a head by 1,000,000. How can we simulate this using the Python code? We can simulate this using python code by choosing a random integer between 1 and 2 a million times. If the number is 1 we assume it means heads and if it is 2 we assume that means tails. In the end, we count the number of 1s we get out of a million tries and the ratio should be around 0.5.\n",
        "\n",
        "Now, in order to do this, we should be able to generate random numbers. You are already familiar with a library in Python that allows you to do that. The library is called `random` and the function that generates random number is called `randint`. To refresh your memory, `randint` takes two values as input (lets call them `a` and `b`) and returns a random number (lets call the return value `n`) such that `a <= n <= b`.\n"
      ]
    },
    {
      "cell_type": "markdown",
      "metadata": {
        "id": "3Okx1JzqkKBW"
      },
      "source": [
        "## Example of `randint`\n",
        "Here is an example of how to use a `randint` function:"
      ]
    },
    {
      "cell_type": "code",
      "execution_count": 106,
      "metadata": {
        "id": "rcWG47a9kGR-"
      },
      "outputs": [
        {
          "name": "stdout",
          "output_type": "stream",
          "text": [
            "33\n"
          ]
        }
      ],
      "source": [
        "# importing the randint library\n",
        "from random import randint\n",
        "\n",
        "lower_bound = 1 #defining the lower bound (inclusive)\n",
        "upper_bound = 100 #defining the upper bound (inclusive)\n",
        "random_number = randint(lower_bound,upper_bound) # generating random integer\n",
        "print(random_number) # printing the random integer"
      ]
    },
    {
      "cell_type": "markdown",
      "metadata": {
        "id": "wfGNVsfFlYHV"
      },
      "source": [
        "## Prompt\n",
        "\n",
        "Based on the above description, write a function called `estimate_prob_heads(n)` that takes in an integer `n` that determines how many times you will run the simulation. The function should return the estimated value of the probability of getting heads.\n",
        "\n",
        "As an example, we called the function `estimate_prob_heads(1000000)` from our reference solution five times, and printed the return value of the function every time, this is what we got as output:\n",
        "\n",
        "0.499828\n",
        "\n",
        "0.499661\n",
        "\n",
        "0.499429\n",
        "\n",
        "0.50036\n",
        "\n",
        "0.499762"
      ]
    },
    {
      "cell_type": "code",
      "execution_count": 107,
      "metadata": {
        "id": "5lHr1i-Eq2ID"
      },
      "outputs": [
        {
          "name": "stdout",
          "output_type": "stream",
          "text": [
            "0.499432\n"
          ]
        }
      ],
      "source": [
        "def estimate_prob_heads(n):\n",
        "    \"\"\"\n",
        "    Input: n (integer) which determines how many\n",
        "    times to run the simulation\n",
        "\n",
        "    Output: prob_of_heads (float) which is the probability\n",
        "    of heads as computed by the simulation\n",
        "    \"\"\"\n",
        "\n",
        "    prob_of_heads = -1  # initializing the probability of heads\n",
        "    # Write your code for Part I below this line\n",
        "\n",
        "    ######### SOLUTION #########\n",
        "    num_of_heads = 0  # initializing the number of heads\n",
        "    for i in range(n):  # looping over n times\n",
        "        if randint(0, 1) == 1:  # if the random integer is 1\n",
        "            num_of_heads += 1  # increment the number of heads\n",
        "    prob_of_heads = num_of_heads/n  # computing the probability of heads\n",
        "\n",
        "    ######### SOLUTION END #########\n",
        "\n",
        "    return prob_of_heads\n",
        "\n",
        "\n",
        "# An example of how we will call your function\n",
        "P = estimate_prob_heads(1000000)\n",
        "\n",
        "# printing the prob_of_heads\n",
        "print(P)\n"
      ]
    },
    {
      "cell_type": "markdown",
      "metadata": {
        "id": "goGyqP7dnRhU"
      },
      "source": [
        "## *Concepts required to complete this task*\n",
        "\n",
        "*   Python *functions*\n",
        "*   *for* loops\n",
        "*   *if* conditions\n",
        "*   Python `random` class\n",
        "\n",
        "\n",
        "\n"
      ]
    },
    {
      "cell_type": "markdown",
      "metadata": {
        "id": "Bvfdq9UGJbPI"
      },
      "source": [
        "## Rubric\n",
        "\n",
        "- +8 points for correctness (correct logic; function returns the desired output)\n",
        "- +2 point for comments and variable names (properly commented code with intuitive names for variables)\n",
        "- +2 point for conciseness (solution does not have redundant code)"
      ]
    },
    {
      "cell_type": "markdown",
      "metadata": {
        "id": "IuRYqcxmn4vS"
      },
      "source": [
        "# Part II: Navigating through a data science conference (15 points)\n",
        "\n",
        "You are at a data science conference, and would like to meet as many relevant researchers as possible. Each researcher at the conference has their own *interests*. You would like to (i) summarize all the different interests represented at the conference, and (ii) find researchers with similar interests as yours.\n",
        "\n",
        "The conference organizers have meticulously collected the interests of each researcher at the conference. There is just one small caveat. The format of their data is such that they have a `list` of `(id, interest)` tuples where `id` is an `integer`, and `interest` is a `string`, and each `id` maps to a unique researcher at the conference. They also have a dictionary mapping each `id` to a name."
      ]
    },
    {
      "cell_type": "markdown",
      "metadata": {
        "id": "0SCug7t8oNSe"
      },
      "source": [
        "## Mapping Ids to researchers (5 points)\n",
        "\n",
        "Given a list of `(id,interest)` tuples, and a dictionary mapping each `id` to a researcher `name`, your first task is to create a new list of tuples of the form `(name, interest)`.\n",
        "\n",
        "For example, given the dictionary and the list below, your new list should map `(0, \"Hadoop\")` to `(\"Bedoor AlShebli\", \"Hadoop\")`.\n",
        "\n",
        "Write a program using the special function `map` and `lambda` to convert `(id, interest)` list to `(name, interest)` list."
      ]
    },
    {
      "cell_type": "code",
      "execution_count": 108,
      "metadata": {
        "id": "qFxndnO2muq1"
      },
      "outputs": [
        {
          "data": {
            "text/plain": [
              "[('Bedoor AlShebli', 'Hadoop'),\n",
              " ('Bedoor AlShebli', 'Big Data'),\n",
              " ('Bedoor AlShebli', 'HBase'),\n",
              " ('Bedoor AlShebli', 'Java'),\n",
              " ('Bedoor AlShebli', 'Spark'),\n",
              " ('Bedoor AlShebli', 'Storm'),\n",
              " ('Bedoor AlShebli', 'Cassandra'),\n",
              " ('Talal Rahwan', 'NoSQL'),\n",
              " ('Talal Rahwan', 'MongoDB'),\n",
              " ('Talal Rahwan', 'Cassandra'),\n",
              " ('Talal Rahwan', 'HBase'),\n",
              " ('Talal Rahwan', 'Postgres'),\n",
              " ('Etienne Wasmer', 'Python'),\n",
              " ('Etienne Wasmer', 'scikit-learn'),\n",
              " ('Etienne Wasmer', 'scipy'),\n",
              " ('Etienne Wasmer', 'numpy'),\n",
              " ('Etienne Wasmer', 'statsmodels'),\n",
              " ('Etienne Wasmer', 'pandas'),\n",
              " ('Rebecca Morton', 'R'),\n",
              " ('Rebecca Morton', 'Python'),\n",
              " ('Rebecca Morton', 'statistics'),\n",
              " ('Rebecca Morton', 'regression'),\n",
              " ('Rebecca Morton', 'probability'),\n",
              " ('Anahit Sargsyan', 'machine learning'),\n",
              " ('Anahit Sargsyan', 'regression'),\n",
              " ('Anahit Sargsyan', 'decision trees'),\n",
              " ('Anahit Sargsyan', 'libsvm'),\n",
              " ('Shahan Ali Memon', 'Python'),\n",
              " ('Shahan Ali Memon', 'R'),\n",
              " ('Shahan Ali Memon', 'Java'),\n",
              " ('Shahan Ali Memon', 'C++'),\n",
              " ('Shahan Ali Memon', 'Haskell'),\n",
              " ('Shahan Ali Memon', 'programming languages'),\n",
              " ('Minsu Park', 'statistics'),\n",
              " ('Minsu Park', 'probability'),\n",
              " ('Minsu Park', 'mathematics'),\n",
              " ('Minsu Park', 'theory'),\n",
              " ('Aaron Kaufman', 'machine learning'),\n",
              " ('Aaron Kaufman', 'scikit-learn'),\n",
              " ('Aaron Kaufman', 'Mahout'),\n",
              " ('Aaron Kaufman', 'neural networks'),\n",
              " ('Wifag Adnan', 'neural networks'),\n",
              " ('Wifag Adnan', 'deep learning'),\n",
              " ('Wifag Adnan', 'Big Data'),\n",
              " ('Wifag Adnan', 'artificial intelligence'),\n",
              " ('Morgan Hardy', 'Hadoop'),\n",
              " ('Morgan Hardy', 'Java'),\n",
              " ('Morgan Hardy', 'MapReduce'),\n",
              " ('Morgan Hardy', 'Big Data')]"
            ]
          },
          "execution_count": 108,
          "metadata": {},
          "output_type": "execute_result"
        }
      ],
      "source": [
        "# This is the dictionary that maps researcher id to researcher name\n",
        "id_to_name = {0:\"Bedoor AlShebli\", 1: \"Talal Rahwan\", 2: \"Etienne Wasmer\", 3: \"Rebecca Morton\", 4: \"Anahit Sargsyan\", 5: \"Shahan Ali Memon\", 6: \"Minsu Park\", 7: \"Aaron Kaufman\", 8: \"Wifag Adnan\", 9:\"Morgan Hardy\"}\n",
        "\n",
        "# This is the list containing (id, interest) tuples.\n",
        "id_interests = [\n",
        "    (0, \"Hadoop\"), (0, \"Big Data\"), (0, \"HBase\"), (0, \"Java\"),\n",
        "    (0, \"Spark\"), (0, \"Storm\"), (0, \"Cassandra\"),\n",
        "    (1, \"NoSQL\"), (1, \"MongoDB\"), (1, \"Cassandra\"), (1, \"HBase\"),\n",
        "    (1, \"Postgres\"), (2, \"Python\"), (2, \"scikit-learn\"), (2, \"scipy\"),\n",
        "    (2, \"numpy\"), (2, \"statsmodels\"), (2, \"pandas\"), (3, \"R\"), (3, \"Python\"),\n",
        "    (3, \"statistics\"), (3, \"regression\"), (3, \"probability\"),\n",
        "    (4, \"machine learning\"), (4, \"regression\"), (4, \"decision trees\"),\n",
        "    (4, \"libsvm\"), (5, \"Python\"), (5, \"R\"), (5, \"Java\"), (5, \"C++\"),\n",
        "    (5, \"Haskell\"), (5, \"programming languages\"), (6, \"statistics\"),\n",
        "    (6, \"probability\"), (6, \"mathematics\"), (6, \"theory\"),\n",
        "    (7, \"machine learning\"), (7, \"scikit-learn\"), (7, \"Mahout\"),\n",
        "    (7, \"neural networks\"), (8, \"neural networks\"), (8, \"deep learning\"),\n",
        "    (8, \"Big Data\"), (8, \"artificial intelligence\"), (9, \"Hadoop\"),\n",
        "    (9, \"Java\"), (9, \"MapReduce\"), (9, \"Big Data\")\n",
        "  ]\n",
        "\n",
        "# initializing the name_interests list containing (name, interest) tuples\n",
        "name_interests = []\n",
        "\n",
        "# Write your solution below this line using map and lambda functions\n",
        "# HINT: Your solution should not be more than 1-2 lines\n",
        "\n",
        "####### SOLUTION #######\n",
        "# mapping the id_interests list to name_interests list by using the id_to_name dictionary\n",
        "name_interests = list(map(lambda x: (id_to_name[x[0]], x[1]), id_interests))\n",
        "name_interests\n",
        "\n",
        "####### SOLUTION END #######"
      ]
    },
    {
      "cell_type": "markdown",
      "metadata": {
        "id": "9kVwHSbMJfgn"
      },
      "source": [
        "### Rubric\n",
        "\n",
        "- +3 points for correctness\n",
        "- +2 using map and lambda functions properly"
      ]
    },
    {
      "cell_type": "markdown",
      "metadata": {
        "id": "6TQk6WiLusDR"
      },
      "source": [
        "## Summarizing interests (5 points)\n",
        "\n",
        "Now that you have a list of `(name, interest)` tuples, you would like to summarize all the unique interests being represented at the conference.\n",
        "\n",
        "Write a function called `summarize(name_interests)` that takes in a list of `(name, interest)` tuples and returns a list of all the unique interests.\n",
        "\n",
        "For example, if your `name_interests` list was `[(\"Bedoor AlShebli\", \"Hadoop\"), (\"Rebecca Morton\", \"Python\"), (\"Talal Rahwan\", \"Hadoop\")]`, your function should return `[\"Hadoop\", \"Python\"]`."
      ]
    },
    {
      "cell_type": "code",
      "execution_count": 109,
      "metadata": {
        "id": "OtTtwJYiwiNb"
      },
      "outputs": [
        {
          "name": "stdout",
          "output_type": "stream",
          "text": [
            "['machine learning', 'Storm', 'statsmodels', 'HBase', 'MapReduce', 'NoSQL', 'Big Data', 'deep learning', 'C++', 'scipy', 'artificial intelligence', 'numpy', 'probability', 'Mahout', 'Spark', 'MongoDB', 'decision trees', 'theory', 'regression', 'Hadoop', 'statistics', 'Haskell', 'pandas', 'Postgres', 'programming languages', 'scikit-learn', 'Cassandra', 'neural networks', 'libsvm', 'mathematics', 'Python', 'Java', 'R']\n"
          ]
        }
      ],
      "source": [
        "def summarize(name_interests):\n",
        "  \"\"\"\n",
        "  Input: name_interests (list of (name,interest) tuples)\n",
        "  Output: summary (list of unique interests)\n",
        "  \"\"\"\n",
        "\n",
        "  # Initializing your output list\n",
        "  summary = []\n",
        "\n",
        "  # Write your solution below this line\n",
        "\n",
        "  ####### SOLUTION #######\n",
        "  # Going through all the (name, interest) tuples, get interests (index 1) and place them in a set to get unique interests\n",
        "  summary = list(set(map(lambda x: x[1], name_interests))) # Convert set to list to match the required output format\n",
        "\n",
        "  ####### SOLUTION END #######\n",
        "\n",
        "  return summary\n",
        "\n",
        "# This is how we will call your function\n",
        "print(summarize(name_interests))"
      ]
    },
    {
      "cell_type": "markdown",
      "metadata": {
        "id": "raztyC_CJjET"
      },
      "source": [
        "### Rubric\n",
        "\n",
        "- +3 points for correctness (correct logic; function returns the desired output)\n",
        "- +1 point for comments and variable names (properly commented code with intuitive names for variables)\n",
        "- +1 point for conciseness (solution does not have redundant code)"
      ]
    },
    {
      "cell_type": "markdown",
      "metadata": {
        "id": "lV9TKQoByaD2"
      },
      "source": [
        "## Finding relevant researchers (5 points)\n",
        "\n",
        "Write a function called `find_relevant` that takes in a list of `(name, interest)` tuples and a string called `my_interest` and returns list of all the names of researchers who have same interests as `my_interest`. If there are no researchers, it should return an empty list.\n",
        "\n",
        "For example, if your `name_interests` list was `[(\"Bedoor AlShebli\", \"Hadoop\"), (\"Rebecca Morton\", \"Python\"), (\"Talal Rahwan\", \"Hadoop\")]`, and `my_interest` was `Hadoop`, your function should return `[\"Bedoor AlShebli\", \"Talal Rahwan\"]`."
      ]
    },
    {
      "cell_type": "code",
      "execution_count": 110,
      "metadata": {
        "id": "jrHEurDKzb3p"
      },
      "outputs": [
        {
          "name": "stdout",
          "output_type": "stream",
          "text": [
            "['Bedoor AlShebli', 'Morgan Hardy']\n"
          ]
        }
      ],
      "source": [
        "def find_relevant(name_interests, my_interest):\n",
        "  \"\"\"\n",
        "  Input:\n",
        "    - name_interests ((name,interest) tuples)\n",
        "    - my_interest (string)\n",
        "  Output:\n",
        "    - relevant_researchers: list of strings representing researcher names\n",
        "  \"\"\"\n",
        "  relevant_researchers = [] #initializing the output list\n",
        "\n",
        "  # Write your solution below this line\n",
        "\n",
        "  ####### SOLUTION #######\n",
        "  # Filtering the name_interests list to get only the tuples with my_interest, and then mapping through the filtered list to get only the names of the researchers\n",
        "  relevant_researchers = list(map(lambda x: x[0], filter(lambda x: x[1] == my_interest, name_interests)))\n",
        "\n",
        "  ####### SOLUTION END #######\n",
        "\n",
        "  return relevant_researchers\n",
        "\n",
        "# How we will call your function\n",
        "print(find_relevant(name_interests, \"Hadoop\"))"
      ]
    },
    {
      "cell_type": "markdown",
      "metadata": {
        "id": "Q7llrVNRJnEb"
      },
      "source": [
        "### Rubric\n",
        "\n",
        "- +4 points for correctness (correct logic; function returns the desired output)\n",
        "- +1 point for conciseness (solution does not have redundant code)"
      ]
    },
    {
      "cell_type": "markdown",
      "metadata": {
        "id": "N08hHBwwoHHT"
      },
      "source": [
        "## *Concepts required to complete this task*\n",
        "\n",
        "*   Python *functions*\n",
        "*   Special functions\n",
        "*   *List* manipulation\n",
        "*   Python *Dictionary*"
      ]
    },
    {
      "cell_type": "markdown",
      "metadata": {
        "id": "AORs-0rkn9Rf"
      },
      "source": [
        "# Part III: Hop scotch (15 points)"
      ]
    },
    {
      "cell_type": "markdown",
      "metadata": {
        "id": "HtNBWJS0oSz2"
      },
      "source": [
        "## Prompt\n",
        "\n",
        "Write a function called `findExit`, that takes list of integers as input parameters. Each number in this list represents the number of hops you need to make. You start\n",
        "from index 0 and make as many hops as the number at index 0. Each time you land on an\n",
        "index, update the number of hops to be the number at that index. Determine whether you can reach the last\n",
        "index or not. Return `True` if you reach the last index, and `False` otherwise. In an empty list, there is no last index, so you can never reach it.\n",
        "\n",
        "For example acccording to our reference solution:\n",
        "\n",
        "`findExit([2,0,1,0])` returns `True`\n",
        "\n",
        "`findExit([1,1,0,1])` returns `False`\n",
        "\n",
        "`findExit([1,2,0,3,1])` returns `False`"
      ]
    },
    {
      "cell_type": "code",
      "execution_count": 111,
      "metadata": {
        "id": "AcqdJNb-vtIt"
      },
      "outputs": [],
      "source": [
        "def findExit(l):\n",
        "    can_exit_flag = False\n",
        "    # Write your implementation below this line\n",
        "\n",
        "    ######### SOLUTION #########\n",
        "    # Edge case: if the list is empty, return can_exit_flag (initialized to False) since there is no last index\n",
        "    if not l:\n",
        "        return can_exit_flag\n",
        "\n",
        "    # Initializing the current index to 0\n",
        "    current_index = 0\n",
        "    # Looping through the list while the current index is less than the last index\n",
        "    while current_index < len(l) - 1:\n",
        "        if l[current_index] == 0:  # If the number at the current index is 0, break the loop since we cannot move forward\n",
        "            break # Breaking here is guaranteed to return False since we break the loop immediately if we reach the exit anyway\n",
        "        else:  # If the number at the current index is not 0, move forward by the value of the current index\n",
        "            current_index += l[current_index]\n",
        "        # If the current index is equal to the last index, return True since we can exit\n",
        "        if current_index == len(l) - 1:\n",
        "            can_exit_flag = True\n",
        "            break  # break the loop since we can exit safely, no need to hop further\n",
        "\n",
        "    ######### SOLUTION END #########\n",
        "\n",
        "    return can_exit_flag\n",
        "\n",
        "\n",
        "\"\"\"\n",
        "Test cases for your function: If you implement\n",
        "your function correctly, the following lines should\n",
        "not give an error\n",
        "\"\"\"\n",
        "assert (findExit([2, 0, 1, 0]) == True)\n",
        "assert (findExit([1, 1, 0, 1]) == False)\n",
        "assert (findExit([1, 2, 0, 3, 1]) == False)\n",
        "assert (findExit([5, 2, 0, 3, 1, 1, 1]) == True)\n"
      ]
    },
    {
      "cell_type": "markdown",
      "metadata": {
        "id": "ojM_ZaJUoWXw"
      },
      "source": [
        "## *Concepts required to complete this task*\n",
        "\n",
        "*   Python *functions*\n",
        "*   Loops\n",
        "*   *Sequences: Lists*\n",
        "*   Conditional statements\n",
        "\n"
      ]
    },
    {
      "cell_type": "markdown",
      "metadata": {
        "id": "nueYX58iJrdX"
      },
      "source": [
        "## Rubric\n",
        "\n",
        "- +10 points for correctness (correct logic; function returns the desired output)\n",
        "- +2 point for comments and variable names (properly commented code with intuitive names for variables)\n",
        "- +3 point for conciseness (solution does not have redundant code)"
      ]
    },
    {
      "cell_type": "markdown",
      "metadata": {
        "id": "iYMDiX-KonUI"
      },
      "source": [
        "# Part IV: Very special functions and operators (18 points)\n",
        "\n",
        "We have already learnt some special functions in class such as `map()` and `time()`. In this part, we will learn three new functions. These are `zip()`, `filter()`, and `Counter()`.\n"
      ]
    },
    {
      "cell_type": "markdown",
      "metadata": {
        "id": "Ru8ji8Hx4Ny4"
      },
      "source": [
        "### `zip()` function (5 points)\n",
        "\n",
        "The `zip()` function is used to make an iterator that aggregates elements from each of the iterables. The iterator stops when the shortest input iterable is exhausted."
      ]
    },
    {
      "cell_type": "markdown",
      "metadata": {
        "id": "XQF8hRLV-jZv"
      },
      "source": [
        "#### Example1: Lists\n",
        "\n",
        "Here is an example of how `zip()` works:\n"
      ]
    },
    {
      "cell_type": "code",
      "execution_count": 112,
      "metadata": {
        "id": "S4TvVniG-O8g"
      },
      "outputs": [
        {
          "name": "stdout",
          "output_type": "stream",
          "text": [
            "[(1, 4), (2, 5), (3, 6)]\n"
          ]
        }
      ],
      "source": [
        "# initializing two lists\n",
        "x = [1, 2, 3]\n",
        "y = [4, 5, 6]\n",
        "\n",
        "# calling zip\n",
        "zipped = zip(x, y)\n",
        "\n",
        "# typecasting the output to list\n",
        "print(list(zipped))"
      ]
    },
    {
      "cell_type": "markdown",
      "metadata": {
        "id": "bIIZXR_L_xXM"
      },
      "source": [
        "You can also unzip a list as follows:"
      ]
    },
    {
      "cell_type": "code",
      "execution_count": 113,
      "metadata": {
        "id": "uHaMoeGD_4_q"
      },
      "outputs": [],
      "source": [
        "# unzipped_x, unzipped_y = zip(*zipped)\n",
        "# print(unzipped_x)\n",
        "# print(unzipped_y)"
      ]
    },
    {
      "cell_type": "markdown",
      "metadata": {
        "id": "ye_jciI_-v0m"
      },
      "source": [
        "#### Prompt\n",
        "\n",
        "Given two integer lists, `l1` and `l2`, write a single line of code to get the list of `max` element between two lists at each index.\n",
        "\n",
        "For example, if\n",
        "\n",
        "`l1 = [1,2,3,4]`\n",
        "\n",
        "`l2 = [2,8,9,1]`\n",
        "\n",
        "your program should return\n",
        "\n",
        "`[2,8,9,4]`"
      ]
    },
    {
      "cell_type": "code",
      "execution_count": 114,
      "metadata": {
        "id": "oCfjsA3XBWrf"
      },
      "outputs": [
        {
          "data": {
            "text/plain": [
              "[2, 8, 9, 4]"
            ]
          },
          "execution_count": 114,
          "metadata": {},
          "output_type": "execute_result"
        }
      ],
      "source": [
        "l1 = [1,2,3,4] # this can be any arbitrary list\n",
        "l2 = [2,8,9,1] # this can be any arbitrary list\n",
        "\n",
        "# Write your code below this line\n",
        "\n",
        "####### SOLUTION #######\n",
        "# Map through each pair of elements in the two lists and get the maximum of each pair\n",
        "max_list = list(map(lambda x: max(x), zip(l1, l2)))\n",
        "max_list\n",
        "\n",
        "####### SOLUTION END #######\n"
      ]
    },
    {
      "cell_type": "markdown",
      "metadata": {
        "id": "hW-jBd6vJwTX"
      },
      "source": [
        "#### Rubric\n",
        "\n",
        "- +4 points for correctness (using `zip()` correctly to get the desired output)\n",
        "- +1 point for conciseness"
      ]
    },
    {
      "cell_type": "markdown",
      "metadata": {
        "id": "f7vrzn1k4t7A"
      },
      "source": [
        "### `filter()` function (5 points)\n",
        "\n",
        "Another useful function to know is `filter()`. The function literally does what it is named. It filters out the elements of a sequence with the help of a function."
      ]
    },
    {
      "cell_type": "markdown",
      "metadata": {
        "id": "n-hTpsI5D-Zh"
      },
      "source": [
        "#### Example1: Ints and Strings\n",
        "\n",
        "For example, if we have a list of integers and strings, and we would like to retrieve only integers, we could use `filter()` function as follows:"
      ]
    },
    {
      "cell_type": "code",
      "execution_count": 115,
      "metadata": {
        "id": "TIX8YKaFDVQx"
      },
      "outputs": [
        {
          "name": "stdout",
          "output_type": "stream",
          "text": [
            "[1, 2, 4, 5]\n"
          ]
        }
      ],
      "source": [
        "int_str_lst = [1,2,\"3\",\"1\",\"4\",\"5\",\"6\",4,5] # a random list\n",
        "\n",
        "# filtering out all elements with type int\n",
        "filter_object = filter(lambda e: type(e)== int, int_str_lst)\n",
        "print(list(filter_object))"
      ]
    },
    {
      "cell_type": "markdown",
      "metadata": {
        "id": "yV1gHv-vD8QQ"
      },
      "source": [
        "#### Prompt\n",
        "\n",
        "Given a list of fruit names, we would like to only retain the fruit names that start with an \"A\"\n",
        "\n",
        "For example, if\n",
        "\n",
        "`fruit_lst = [\"Apple\", \"Banana\", \"Pear\", \"Apricot\", \"Orange\"]`\n",
        "\n",
        "we would like to get\n",
        "\n",
        "`[\"Apple\", \"Apricot\"]`\n",
        "\n",
        "Write a program to do that"
      ]
    },
    {
      "cell_type": "code",
      "execution_count": 116,
      "metadata": {
        "id": "VlDuVBHjFFcH"
      },
      "outputs": [
        {
          "data": {
            "text/plain": [
              "['Apple', 'Apricot']"
            ]
          },
          "execution_count": 116,
          "metadata": {},
          "output_type": "execute_result"
        }
      ],
      "source": [
        "fruit_lst = [\"Apple\", \"Banana\", \"Pear\", \"Apricot\", \"Orange\"] # this can be arbitrary\n",
        "\n",
        "filtered_lst = []\n",
        "\n",
        "# Write your code below this line\n",
        "\n",
        "###### SOLUTION ######\n",
        "# Filter to get all fruits that start with the letter \"A\"\n",
        "filtered_lst = list(filter(lambda x: x[0] == \"A\", fruit_lst))\n",
        "filtered_lst\n",
        "\n",
        "###### SOLUTION END ######\n",
        "\n"
      ]
    },
    {
      "cell_type": "markdown",
      "metadata": {
        "id": "1w5tnvSHJzw0"
      },
      "source": [
        "#### Rubric\n",
        "\n",
        "- +4 points for correctness (using `filter()` correctly to get the desired output)\n",
        "- +1 point for conciseness"
      ]
    },
    {
      "cell_type": "markdown",
      "metadata": {
        "id": "czz9HgwP5tqP"
      },
      "source": [
        "### `Counter()` sub-class (8 points)\n",
        "The Python `Counter` tool is a subclass of `dict` class, and is used to count the *hashable* objects. In simple words, for the purposes of this task, you can think of it as a tool that counts objects in a given sequence, and returns a dictionary of those counts. It is a very useful and handy tool for frequency-based analyses. Here are a few examples of how Counter can be used using sequences."
      ]
    },
    {
      "cell_type": "markdown",
      "metadata": {
        "id": "i9LRpkZ66T5W"
      },
      "source": [
        "#### Example1: Lists"
      ]
    },
    {
      "cell_type": "code",
      "execution_count": 117,
      "metadata": {
        "id": "SKxfi4yy6iFF"
      },
      "outputs": [
        {
          "name": "stdout",
          "output_type": "stream",
          "text": [
            "Counter({'Python': 4, 'C': 3, 'C++': 2, 'Java': 1})\n"
          ]
        }
      ],
      "source": [
        "# importing counter\n",
        "from collections import Counter\n",
        "\n",
        "# initializing a list\n",
        "lang_list = ['Python', 'C++', 'C', 'Java', 'Python', 'C', 'Python', 'C++', 'Python', 'C']\n",
        "\n",
        "# using counter to count and print the counts of each item in the list\n",
        "counts_dict = Counter(lang_list)\n",
        "print(counts_dict)"
      ]
    },
    {
      "cell_type": "markdown",
      "metadata": {
        "id": "obdKsnOt6ujI"
      },
      "source": [
        "We can also access each element in the `counts_dict` dictionary and its count as follows:"
      ]
    },
    {
      "cell_type": "code",
      "execution_count": 118,
      "metadata": {
        "id": "YI4yrtol62An"
      },
      "outputs": [
        {
          "name": "stdout",
          "output_type": "stream",
          "text": [
            "4\n",
            "2\n",
            "3\n",
            "1\n"
          ]
        }
      ],
      "source": [
        "print(counts_dict['Python']) #printing number of times Python occurs in the dictionary\n",
        "print(counts_dict['C++']) #printing number of times C++ occurs in the dictionary\n",
        "print(counts_dict['C']) #printing number of times C occurs in the dictionary\n",
        "print(counts_dict['Java']) #printing number of times Java occurs in the dictionary"
      ]
    },
    {
      "cell_type": "markdown",
      "metadata": {
        "id": "zLNqwjIw7PoK"
      },
      "source": [
        "#### Example2: Strings"
      ]
    },
    {
      "cell_type": "code",
      "execution_count": 119,
      "metadata": {
        "id": "dydmPMQw7Uha"
      },
      "outputs": [
        {
          "name": "stdout",
          "output_type": "stream",
          "text": [
            "Counter({'l': 3, 'o': 2, 'h': 1, 'e': 1, ' ': 1, 'w': 1, 'r': 1, 'd': 1})\n"
          ]
        }
      ],
      "source": [
        "str1 = \"hello world\" #initializing a random string\n",
        "str1_counts = Counter(str1) # counting the number of times each character occurs\n",
        "print(str1_counts) #printing the dictionary of counts"
      ]
    },
    {
      "cell_type": "markdown",
      "metadata": {
        "id": "5-gGB69X79lA"
      },
      "source": [
        "As you may notice, calling `Counter()` returns a `Counter` object which can be treated as a dictionary to access the counts of each element. There is much more to this class i.e. once we have a `Counter` object, we can use it to get the most common element(s) by calling the function `most_common` on the `Counter` object. `most_common(n)` is a function that takes an argument `n` and returns `n` most common elements as a list of tuples as shown below."
      ]
    },
    {
      "cell_type": "code",
      "execution_count": 120,
      "metadata": {
        "id": "XbSH8XSk9bYL"
      },
      "outputs": [
        {
          "name": "stdout",
          "output_type": "stream",
          "text": [
            "[('Python', 4)]\n",
            "[('l', 3)]\n"
          ]
        }
      ],
      "source": [
        "print(counts_dict.most_common(1)) #printing the most common element in the example list\n",
        "print(str1_counts.most_common(1)) #printing the most common character in the example string"
      ]
    },
    {
      "cell_type": "markdown",
      "metadata": {
        "id": "8ThdqzAF-gjs"
      },
      "source": [
        "#### Prompt\n",
        "\n",
        "Your task in this part is to write a function `least_common(input_str,n)` that takes in a `string` of characters called `input_str` and an `integer` called `n`, and returns the `n` *least common* elements.\n",
        "\n",
        "For example, if the input string is `\"hello world! ok bye\"` and `n` is 8 then the function should return:\n",
        "\n",
        "`('h', 1), ('w', 1), ('r', 1), ('d', 1), ('!', 1), ('k', 1), ('b', 1), ('y', 1)`\n",
        "\n",
        "*Note: The order of the elements in the output list does not matter*"
      ]
    },
    {
      "cell_type": "code",
      "execution_count": 121,
      "metadata": {
        "id": "wepdEkofAHCU"
      },
      "outputs": [
        {
          "name": "stdout",
          "output_type": "stream",
          "text": [
            "[('y', 1), ('b', 1), ('k', 1), ('!', 1), ('d', 1), ('r', 1), ('w', 1), ('h', 1)]\n"
          ]
        }
      ],
      "source": [
        "def least_common(input_str,n):\n",
        "  \"\"\"\n",
        "  Input:\n",
        "    - input_str: A string of characters\n",
        "    - n: An integer\n",
        "\n",
        "  Output:\n",
        "    - least_common_lst: A list of tuples of n least common characters\n",
        "    with their counts\n",
        "  \"\"\"\n",
        "  least_common_lst = [] # initializing the output list\n",
        "\n",
        "  # Write your code below this line\n",
        "\n",
        "  ######### SOLUTION #########\n",
        "  # Counting the number of times each character occurs in the input string\n",
        "  input_str_counts = Counter(input_str)\n",
        "  # Getting the n least common characters and their counts\n",
        "  # [:-n-1:-1] slices the list in reverse to get the last n least common elements.\n",
        "  least_common_lst = input_str_counts.most_common()[:-n-1:-1]\n",
        "\n",
        "  ######### SOLUTION END #########\n",
        "\n",
        "  return least_common_lst\n",
        "\n",
        "\n",
        "# An example of how we may call your function\n",
        "print(least_common(\"hello world! ok bye\",8))"
      ]
    },
    {
      "cell_type": "markdown",
      "metadata": {
        "id": "H3vaD1Y3J9-e"
      },
      "source": [
        "#### Rubric\n",
        "\n",
        "- +5 points for correctness (using `Counter()` correctly to get the desired output)\n",
        "- +3 point for conciseness"
      ]
    },
    {
      "cell_type": "markdown",
      "metadata": {
        "id": "Fnb5vdRjo92A"
      },
      "source": [
        "## *Concepts required to complete this task*\n",
        "\n",
        "*   Python *functions*\n",
        "*   Special functions: *map*\n",
        "*   *Sequences: Strings, Lists, Dictionaries*\n",
        "*   Slicing\n",
        "\n",
        "\n",
        "\n",
        "\n",
        "\n",
        "\n",
        "\n",
        "\n",
        "\n"
      ]
    },
    {
      "cell_type": "markdown",
      "metadata": {
        "id": "3DDSaOuTpOUt"
      },
      "source": [
        "# Part V: Exposing the gender inequality *in a galaxy far, far away..* (20 points)\n",
        "\n",
        "A long time ago, in a galaxy far, far away.. there existed a planet called the *D-Earth*. D-Earth had an equal number of men and women i.e. 50% of the population identified themselves as men, and 50% of the population identified themselves as women.\n",
        "\n",
        "On D-Earth, all inhabitants were required to identify their gender using their names i.e. all women had to have first names ending in an **a** (eg. Fatim**a**, Bedoor**a**, Celin**a**, Joshu**a**, Ezr**a**, etc.), and all men had to refrain from having an **a** at the end of their first names (eg. Abdullah, Hamzah, Mark, Charlotte, Emily etc).\n",
        "\n",
        "D-Earth was touted by its rulers to be a paradise for its inhabitants. D-Earth, however, had a *dearth* of gender equality, with unequal opportunities for men and women. Everybody knew it, nobody had the guts to say it.\n",
        "\n",
        "The data scientists of the D-Earth could not take it any more, and decided to expose the gender inequality on this planet. Their first step was to show the gender gap in employment by exposing the difference in the number of men and women having jobs on D-Earth. Their hypothesis was that the proportion of employed men and women is significantly different.\n",
        "\n",
        "To test their hypothesis, the data scientists needed some data first. Luckily, they had a secret friend named *Dana* in the *Department of Career Affairs* at D-Earth. They contacted Dana to provide them a list of names of employed persons on D-Earth. Dana, being a good friend, helped them, and provided them names of all the employed persons on D-Earth.  \n",
        "\n",
        "There was one caveat i.e. Dana told the data scientists that the *Department of Career Affairs* has intentionally duplicated many names in the list to make it look like there is gender equality. The list of full names looked something like the following:\n",
        "\n",
        "`[\"Fatima Al-Fihri\", \"Saleh Al-Raisi\", \"Tonald Drump\", \"Mark Cuban\", \"Fatima Al-Fihri\", \"Fatima Al-Fihri\", \"Mark Cuban\", ...]`\n",
        "\n"
      ]
    },
    {
      "cell_type": "markdown",
      "metadata": {
        "id": "ZW2uOY__qhwO"
      },
      "source": [
        "## Prompt\n",
        "\n",
        "You, being one of the data scientists on D-Earth, are going to write a function called `expose(full_names)` that takes in a `list` of names called `full_names` as an argument, and will:\n",
        "- retain a **unique** `list` of full names.\n",
        "- *parse* the full names to retain first names only.\n",
        "- identify the gender of each person in the `list` by *slicing* each first name.\n",
        "- pass those counts as a `dictionary` to the provided function `create_pie_chart` to create a pie chart.\n",
        "\n",
        "The data scientists on D-Earth will then take that pie-chart to the world to expose the gender inequality on D-Earth."
      ]
    },
    {
      "cell_type": "markdown",
      "metadata": {
        "id": "93soxJOGsBRz"
      },
      "source": [
        "## Notes\n",
        "\n",
        "- You do not have to worry about creating visualizations. We will cover those later in the course. For now we have provided a function called `create_pie_chart(counts_dictionary)` that will easily create a pie chart for you. You just need to call it with appropriate arguments. We have a provided an example of that below.\n",
        "\n",
        "- `create_pie_chart(counts_dictionary)` takes in as argument a dictionary called `counts_dictionary` which, for this assignment, is of the form `{\"women\": x, \"men\": y}` where `x` is the number of employed women and `y` is the number of employed men.\n",
        "\n",
        "- You are not allowed to use any other special function in this part aside from the ones introduced to you in class or in assignments.\n",
        "\n",
        "- For the purposes of this task, you can safely assume that any name that ends in an **a** is the name of a woman, and all other names belong to men."
      ]
    },
    {
      "cell_type": "markdown",
      "metadata": {
        "id": "CrlyVZ9jsn2n"
      },
      "source": [
        "## Creating a pie chart in `matplotlib`\n",
        "\n",
        "Below is the function called `create_pie_chart` that we have defined for you to create a pie chart."
      ]
    },
    {
      "cell_type": "code",
      "execution_count": 122,
      "metadata": {
        "id": "9QZRUJLLsjL4"
      },
      "outputs": [],
      "source": [
        "# importing appropriate libraries\n",
        "from matplotlib import pyplot as plt\n",
        "\n",
        "def create_pie_chart(counts_dictionary):\n",
        "  # Creating a plot\n",
        "  fig = plt.figure(figsize =(5, 5))\n",
        "  data = counts_dictionary.values()\n",
        "  categories = counts_dictionary.keys()\n",
        "  plt.pie(data, labels = categories, autopct='%1.0f%%')\n",
        "  # Displaying the plot\n",
        "  plt.show()\n"
      ]
    },
    {
      "cell_type": "markdown",
      "metadata": {
        "id": "uBcFCMGZsGT1"
      },
      "source": [
        "Now that we have defined the `create_pie_chart` function above, you can call this function in your code as follows:\n",
        "\n"
      ]
    },
    {
      "cell_type": "code",
      "execution_count": 123,
      "metadata": {
        "id": "v5r41MDkvgbQ"
      },
      "outputs": [
        {
          "data": {
            "image/png": "[encoded data removed]",
            "text/plain": [
              "<Figure size 500x500 with 1 Axes>"
            ]
          },
          "metadata": {},
          "output_type": "display_data"
        }
      ],
      "source": [
        "# Example of how you can call this function\n",
        "counts_dictionary = {\"men\":10, \"women\":10} # defining an example dictionary\n",
        "create_pie_chart(counts_dictionary) # calling the function to create the plot"
      ]
    },
    {
      "cell_type": "code",
      "execution_count": 124,
      "metadata": {
        "id": "LosZRNabvwG4"
      },
      "outputs": [
        {
          "data": {
            "image/png": "[encoded data removed]",
            "text/plain": [
              "<Figure size 500x500 with 1 Axes>"
            ]
          },
          "metadata": {},
          "output_type": "display_data"
        }
      ],
      "source": [
        "def expose(full_names):\n",
        "\n",
        "  \"\"\"\n",
        "  Input: full_names (string) containing a long string of\n",
        "  full names of employed persons on D-Earth\n",
        "\n",
        "  Output: creates a pie chart showing the distribution of\n",
        "  employed persons.\n",
        "  \"\"\"\n",
        "\n",
        "  # Write your code for Part V below\n",
        "\n",
        "  ###### SOLUTION ######\n",
        "  unique_names = list(set(full_names)) # get the unique full names\n",
        "  first_names = list(map(lambda x: x.split()[0], unique_names)) # retain only the first names\n",
        "  gender_list = ['women' if name[-1] == 'a' else 'men' for name in first_names] # map each first name to its gender in a new list\n",
        "  gender_counts = dict(Counter(gender_list)) # get dict of women and men counts\n",
        "  create_pie_chart(gender_counts) # pass dict to our visualization function\n",
        "\n",
        "  ###### SOLUTION END ######\n",
        "\n",
        "\n",
        "# initializing a long list of full names\n",
        "full_names = ['Aatika Ruiz', 'Aatika Ruiz', 'Aatika Ruiz', 'Aatika Ruiz', 'Aaya Hernandez', 'Aaya Hernandez', 'Aaya Hernandez', 'Aaya Hernandez', 'Aba Diaz', 'Aba Diaz', 'Aba Diaz', 'Aba Diaz', 'Abarca Mu√±oz', 'Abarca Mu√±oz', 'Abarca Mu√±oz', 'Abarca Mu√±oz', 'Abba Navarro', 'Abba Navarro', 'Abba Navarro', 'Abba Navarro', 'Abdala Gil', 'Abdala Gil', 'Abdala Gil', 'Abdala Gil', 'Abdalla Molina', 'Abdalla Molina', 'Abdalla Molina', 'Abdalla Molina', 'Abdela Delgado', 'Abdela Delgado', 'Abdela Delgado', 'Abdela Delgado', 'Abdelhila Santana', 'Abdelhila Santana', 'Abdelhila Santana', 'Abdelhila Santana', 'Abdelmaoula Silva', 'Abdelmaoula Silva', 'Abdelmaoula Silva', 'Abdelmaoula Silva', 'Abdelmoula Otero', 'Abdelmoula Otero', 'Abdelmoula Otero', 'Abdelmoula Otero', 'Abderrafia Acosta', 'Abderrafia Acosta', 'Abderrafia Acosta', 'Abderrafia Acosta', 'Abdelilah Hidalgo', 'Abdalla Molina', 'Abdelhanin Aguilar', 'Abdennaceur Aguilera', 'Abdelhafid Flores', 'Abderrafia Acosta', 'Abderzak Avila', 'Abdeladim Marin', 'Abdelakrim Nu√±ez', 'Abdeloihab Rios', 'Abdelouhab Valero', 'Abdelbari Cano', 'Abdesslem Salvador', 'Abdelasis Medina', 'Abdalahe Serrano', 'Aaya Hernandez', 'Abdelbaki Guerrero', 'Abdelfettah Leon', 'Abderrazzaq Hurtado', 'Abdesslam Casta√±o', 'Abby Ramos', 'Abdelkadir Vargas', 'Abdeldjalil Mendez', 'Abdelmadjid Lara', 'Abderhim Quintana', 'Abdessadeq Sancho', 'Abdessalam Escobar', 'Abdessadek Mesa', 'Abdela Delgado', 'Abdelkamal Carmona', 'Abderrafik Blazquez', 'Abdeselam De La Fuente', 'Abdelaali Castro', 'Abdennabi Mateos', 'Abdelwahid Roldan', 'Abdelmayid Casado', 'Abdelkamel Crespo', 'Abdelmoumen Luque', 'Abdennacer Escudero', 'Abdelazize Lozano', 'Abdelwahad Heredia', 'Abbas Torres', 'Abdelouahid Vila', 'Abdelhabib Pe√±a', 'Aatika Ruiz', 'Abdelouahed Bernal', 'Abdelhamid Reyes', 'Abdeljalal Duran', 'Aamar Sanchez', 'Abdelqader Palacios', 'Abdennasar Aparicio', 'Abdessamie Luna', 'Abdelatif Santos', 'Abdelkebir Saez', 'Abdalah Ramirez', 'Abdenasser Miranda', 'Abdelkhalik Parra', 'Aali Fernandez', 'Abdennaim Casas', 'Abdennaser Rivero', 'Abdelkabir Arias', 'Abderahmane Abad', 'Abdelfattah Gallego', 'Abdelhay Herrero', 'Abdelfetah Vidal', 'Abdelmalek Rivas', 'Abdelmonim Vera', 'Abdelmaoula Silva', 'Abdeluahid Pereira', 'Abdellahi Rojas', 'Abdelhadi Cabrera', 'Aaron Martin', 'Abdelrhani Varela', 'Abdelhila Santana', 'Abbes Vazquez', 'Abdelillah Montero', 'Abdelkhaleq Esteban', 'Abdelouafi Marcos', 'Abderezak Jurado', 'Abderrahman Costa', 'Abdelouahab Marti', 'Abdelali Iglesias', 'Abdelkbir Soto', 'Abdelmounim Montes', 'Abdennassar Estevez', 'Abdennasser Beltran', 'Abderazzak Salas', 'Abderraouf Serra', 'Abdeslem Lazaro', 'Abderrachid Plaza', 'Abdesalam Pacheco', 'Abdel Ortega', 'Abdenour Rico', 'Abdelazis Castillo', 'Abdelhamed Nieto', 'Abdeljebbar Santiago', 'Abdelwahab Guerra', 'Abad Alvarez', 'Abdeljabar Iba√±ez', 'Abdeloihed Sierra', 'Aadil Rodriguez', 'Aali Fernandez', 'Aaliyah Lopez', 'Aaltje Martinez', 'Aamar Sanchez', 'Aamer Perez', 'Aamir Gomez', 'Aaron Martin', 'Aase Jimenez', 'Aatika Ruiz', 'Aaya Hernandez', 'Aba Diaz', 'Ababacar Moreno', 'Abad Alvarez', 'Abarca Mu√±oz', 'Abarne Romero', 'Abass Alonso', 'Abasse Gutierrez', 'Abba Navarro', 'Abbas Torres', 'Abbass Dominguez', 'Abbes Vazquez', 'Abby Ramos', 'Abdala Gil', 'Abdalah Ramirez', 'Abdalahe Serrano', 'Abdalahi Blanco', 'Abdalla Molina', 'Abdallah Suarez', 'Abdallahi Morales', 'Abdel Ortega', 'Abdela Delgado', 'Abdelaali Castro', 'Abdelaati Ortiz', 'Abdelaaziz Rubio', 'Abdeladim Marin', 'Abdelah Sanz', 'Abdelakrim Nu√±ez', 'Abdelali Iglesias', 'Abdelasis Medina', 'Abdelati Garrido', 'Abdelatif Santos', 'Abdelazis Castillo', 'Abdelaziz Cortes', 'Abdelazize Lozano', 'Abdelbaki Guerrero', 'Abdelbari Cano', 'Abdelbasset Prieto', 'Abdeldjalil Mendez', 'Abdelelah Calvo', 'Abdelfatah Cruz', 'Abdelfattah Gallego', 'Abdelfetah Vidal', 'Abdelfettah Leon', 'Abdelghafour Herrera', 'Abdelghani Marquez', 'Abdelhabib Pe√±a', 'Abdelhadi Cabrera', 'Abdelhafid Flores', 'Abdelhai Campos', 'Abdelhak Vega', 'Abdelhakem Diez', 'Abdelhakim Fuentes', 'Abdelhalak Carrasco', 'Abdelhalim Caballero', 'Abdelhamed Nieto', 'Abdelhamid Reyes', 'Abdelhanin Aguilar', 'Abdelhaq Pascual', 'Abdelhay Herrero', 'Abdelhila Santana', 'Abdelhilah Lorenzo', 'Abdelilah Hidalgo', 'Abdelillah Montero', 'Abdeljabar Iba√±ez', 'Abdeljabbar Gimenez', 'Abdeljalak Ferrer', 'Abdeljalal Duran', 'Abdeljalil Vicente', 'Abdeljaouad Benitez', 'Abdeljebbar Santiago', 'Abdelkabir Arias', 'Abdelkader Mora', 'Abdelkadir Vargas', 'Abdelkamal Carmona', 'Abdelkamel Crespo', 'Abdelkarim Roman', 'Abdelkarin Pastor', 'Abdelkbir Soto', 'Abdelkebir Saez', 'Abdelkerim Velasco', 'Abdelkhalak Soler', 'Abdelkhalek Moya', 'Abdelkhaleq Esteban', 'Abdelkhalik Parra', 'Abdelkrim Bravo', 'Abdellah Gallardo', 'Abdellahi Rojas', 'Abdellali Pardo', 'Abdellatif Merino', 'Abdellaziz Franco', 'Abdellilah Espinosa', 'Abdelmadjid Lara', 'Abdelmajid Izquierdo', 'Abdelmalek Rivas', 'Abdelmalik Rivera', 'Abdelmaoula Silva', 'Abdelmayid Casado', 'Abdelmjid Arroyo', 'Abdelmoghit Redondo', 'Abdelmonaim Camacho', 'Abdelmonim Vera', 'Abdelmoughit Rey', 'Abdelmoula Otero', 'Abdelmoumen Luque', 'Abdelmounaim Galan', 'Abdelmounim Montes', 'Abdeloihab Rios', 'Abdeloihed Sierra', 'Abdeloihid Segura', 'Abdelouadoud Carrillo', 'Abdelouafi Marcos', 'Abdelouahab Marti', 'Abdelouahad Soriano', 'Abdelouahd Mendoza', 'Abdelouahed Bernal', 'Abdelouahhab Robles', 'Abdelouahid Vila', 'Abdelouhab Valero', 'Abdelqader Palacios', 'Abdelrahim Exposito', 'Abdelrahman Benito', 'Abdelrhani Varela', 'Abdeltif Andres', 'Abdeluahed Macias', 'Abdeluahid Pereira', 'Abdelwahab Guerra', 'Abdelwahad Heredia', 'Abdelwahed Bueno', 'Abdelwahid Roldan', 'Abdenabi Mateo', 'Abdenacer Villar', 'Abdenaji Contreras', 'Abdenasser Miranda', 'Abdenbi Guillen', 'Abdennabi Mateos', 'Abdennacer Escudero', 'Abdennaceur Aguilera', 'Abdennaim Casas', 'Abdennaji Menendez', 'Abdennasar Aparicio', 'Abdennaser Rivero', 'Abdennassar Estevez', 'Abdennasser Beltran', 'Abdennebi Padilla', 'Abdennour Calderon', 'Abdenour Rico', 'Abderahim Gracia', 'Abderahman Galvez', 'Abderahmane Abad', 'Abderazak Conde', 'Abderazzak Salas', 'Abderezak Jurado', 'Abderhim Quintana', 'Abderrachid Plaza', 'Abderrafia Acosta', 'Abderrafie Aranda', 'Abderrafik Blazquez', 'Abderrahaman Bermudez', 'Abderrahim Roca', 'Abderrahime Salazar', 'Abderrahman Costa', 'Abderrahmane Santamaria', 'Abderrahmen Miguel', 'Abderraman Guzman', 'Abderraouf Serra', 'Abderrazak Villanueva', 'Abderrazaq Manzano', 'Abderrazek Cuesta', 'Abderrazzak Tomas', 'Abderrazzaq Hurtado', 'Abderrezak Rueda', 'Abderrezzak Trujillo', 'Abderzak Avila', 'Abdesalam Pacheco', 'Abdesamad Simon', 'Abdeselam De La Fuente', 'Abdeslam Pons', 'Abdeslem Lazaro', 'Abdessadek Mesa', 'Abdessadeq Sancho', 'Abdessadik Del Rio', 'Abdessalam Escobar', 'Abdessalem Millan', 'Abdessamad Blasco', 'Abdessamed Alarcon', 'Abdessamie Luna', 'Abdesselam Zamora', 'Abdesslam Casta√±o', 'Abdesslem Salvador']\n",
        "# calling your defined function to expose the truth\n",
        "expose(full_names)"
      ]
    },
    {
      "cell_type": "markdown",
      "metadata": {
        "id": "29tIh9mzr2Nu"
      },
      "source": [
        "## *Concepts required to complete this task*\n",
        "\n",
        "*   Python *functions*\n",
        "*   *Sequences: Strings, Lists, Dictionaries*\n",
        "*   Optionally *special functions*\n",
        "\n"
      ]
    },
    {
      "cell_type": "markdown",
      "metadata": {
        "id": "GhC8p6XeKEA0"
      },
      "source": [
        "## Rubric\n",
        "\n",
        "- +16 points for correctness\n",
        "- +2 points for comments and variable names\n",
        "- +2 points for conciseness"
      ]
    },
    {
      "cell_type": "markdown",
      "metadata": {
        "id": "faTUdnPQCkf-"
      },
      "source": [
        "# Part VI: NYUAD Marhaba 2023 (20 points)\n",
        "\n",
        "NYUAD is hosting **\"Marhaba 2023\"**, a student orientation program for first year students. There are 4 orientation leaders, **\"Vanessa\", \"Fatima\", \"Aakash\", and \"Nick\"**. There are **16** first year students. 8 of these students identify themselves as male, and 8 of which identify themselves as female.\n",
        "\n",
        "Each orientation leader will be assigned a group of 4 first year students to conduct team building exercises. As a result, there will be four groups. The list of 16 first year students along with their identified gender is below:\n",
        "\n",
        "Note: `\"M\"` represents male, and `\"F\"` represents female:"
      ]
    },
    {
      "cell_type": "code",
      "execution_count": 125,
      "metadata": {
        "id": "QWvZY9FYGFpF"
      },
      "outputs": [],
      "source": [
        "leaders = [\"Vanessa\", \"Fatima\", \"Ankur\", \"Nick\"]\n",
        "\n",
        "first_year_students = [(\"Adwin\",\"M\"),\n",
        "                      (\"Anshika\",\"F\"),\n",
        "                      (\"Aryan\", \"M\"),\n",
        "                      (\"Shujaat\",\"M\"),\n",
        "                       (\"Abdullah\",\"M\"),\n",
        "                       (\"Eline\",\"F\"),\n",
        "                       (\"Evgeni\",\"F\"),\n",
        "                       (\"Frits\",\"M\"),\n",
        "                       (\"Jade\",\"F\"),\n",
        "                       (\"Saarah\",\"F\"),\n",
        "                       (\"Aysha\",\"F\"),\n",
        "                       (\"Leo\",\"M\"),\n",
        "                       (\"Shaheryar\",\"M\"),\n",
        "                       (\"Stefan\",\"M\"),\n",
        "                       (\"Saleha\",\"F\"),\n",
        "                       (\"Ying\",\"F\")]"
      ]
    },
    {
      "cell_type": "markdown",
      "metadata": {
        "id": "QT4pE6SKHTbP"
      },
      "source": [
        "Now, you are tasked to help the orientation leaders form teams. However, there are certain constraints to the team formation, which are as follows:\n",
        "\n",
        "1. Vanessa cannot have Frits and Saleha in her team as she knows them from her high school.\n",
        "2. Nick cannot have Stefan, Leo, Jade in his team as he knows them from his high school.\n",
        "3. Fatima cannot have Ying and Adwin in her team as she knows them from her high school.\n",
        "4. All teams need to be gender-balanced i.e. each team will have 2 male first year students, and 2 female first year students.\n",
        "\n",
        "For your convenience, we have defined these constraints as list of tuples below:"
      ]
    },
    {
      "cell_type": "code",
      "execution_count": 126,
      "metadata": {
        "id": "QuSPm05pJwgC"
      },
      "outputs": [],
      "source": [
        "# Each tuple represents a pair of (leader, student) that cannot be together\n",
        "cant_be_together = [(\"Vanessa\", \"Frits\"),\n",
        "                    (\"Vanessa\",\"Saleha\"),\n",
        "                    (\"Nick\",\"Stefan\"),\n",
        "                    (\"Nick\", \"Leo\"),\n",
        "                    (\"Nick\", \"Jade\"),\n",
        "                    (\"Fatima\",\"Ying\"),\n",
        "                    (\"Fatima\", \"Adwin\")]"
      ]
    },
    {
      "cell_type": "markdown",
      "metadata": {
        "id": "VKOPQ4DdJMCY"
      },
      "source": [
        "## Prompt\n",
        "\n",
        "Write a function called `create_clusters(leaders, first_year_students, cant_be_together)` that takes in the three lists above, and automatically creates 4 groups that adhere to the above constraints.\n",
        "\n",
        "Your function should return a dictionary that maps each leader to a list of first year students in their group.\n",
        "\n",
        "### Notes:\n",
        "\n",
        "- This may be a relatively challenging problem. Before writing the code, please think about forming your logic on paper, and thinking about the right data strutures to use (lists, tuples, dictionaries).\n",
        "- Your code should be generic enough to take any number of leaders, first year students, and any number of (leader,student) constraints, and be able to return the correct results.\n",
        "- We will always test your program such that the number of first year students can be evenly divided into teams of 4. In other words, you do not need to worry about cases when students cannot be evenly divided based on size or gender."
      ]
    },
    {
      "cell_type": "code",
      "execution_count": 136,
      "metadata": {
        "id": "W5Fe9Y0YHST4"
      },
      "outputs": [
        {
          "name": "stdout",
          "output_type": "stream",
          "text": [
            "{'Vanessa': [('Leo', 'M'), ('Adwin', 'M'), ('Eline', 'F'), ('Anshika', 'F')], 'Fatima': [('Frits', 'M'), ('Shujaat', 'M'), ('Saleha', 'F'), ('Evgeni', 'F')], 'Ankur': [('Abdullah', 'M'), ('Stefan', 'M'), ('Jade', 'F'), ('Saarah', 'F')], 'Nick': [('Shaheryar', 'M'), ('Aryan', 'M'), ('Ying', 'F'), ('Aysha', 'F')]}\n"
          ]
        }
      ],
      "source": [
        "import random\n",
        "\n",
        "\n",
        "def create_clusters(leaders, first_year_students, cant_be_together):\n",
        "    # Initialize clusters\n",
        "    clusters = {}\n",
        "\n",
        "    ### THE IDEA ###\n",
        "    '''\n",
        "    The function iteratively assigns students to leaders while maintaining gender balance and adhering to specific constraints about which students can't be grouped with certain leaders. \n",
        "    The end result is a dictionary mapping each leader to a group of four first-year students.\n",
        "    '''\n",
        "    ### THE IDEA ###\n",
        "\n",
        "  ######### SOLUTION #########\n",
        "    # Initialize clusters with empty lists for each leader\n",
        "    clusters = {leader: [] for leader in leaders}\n",
        "\n",
        "    # Separate students by gender for easier processing later\n",
        "    male_students = [student for student,\n",
        "                     gender in first_year_students if gender == \"M\"]\n",
        "    female_students = [student for student,\n",
        "                       gender in first_year_students if gender == \"F\"]\n",
        "\n",
        "    # Create a dictionary to quickly look up students that cannot be together with each leader\n",
        "    constraint_lookup = {leader: set() for leader in leaders}\n",
        "    for leader, student in cant_be_together:\n",
        "        constraint_lookup[leader].add(student)\n",
        "\n",
        "    # Shuffle students to add randomness to the algorithm\n",
        "    # Without this step, the algorithm was assigning the same students to the same leaders every time, which is not ideal\n",
        "    random.shuffle(male_students)\n",
        "    random.shuffle(female_students)\n",
        "\n",
        "    # Backtracking function to assign students based on constraints\n",
        "    def assign_students(remaining_males, remaining_females):\n",
        "        # If there are no students left to be assigned, a solution is found\n",
        "        if len(remaining_males) == 0 and len(remaining_females) == 0:\n",
        "            return True\n",
        "\n",
        "        # Try to assign students to each leader\n",
        "        for leader in leaders:\n",
        "            # Skip leaders whose groups are already full\n",
        "            if len(clusters[leader]) == 4:\n",
        "                continue\n",
        "\n",
        "            # Assign male students to leader if they have less than 2 male students in the group\n",
        "            if len([gender for _, gender in clusters[leader] if gender == \"M\"]) < 2:\n",
        "                for student in remaining_males[:]:\n",
        "                    if student not in constraint_lookup[leader]:\n",
        "                        clusters[leader].append((student, \"M\"))\n",
        "                        remaining_males.remove(student)\n",
        "                        if assign_students(remaining_males, remaining_females):\n",
        "                            return True\n",
        "                        remaining_males.append(student)\n",
        "                        clusters[leader].remove((student, \"M\"))\n",
        "\n",
        "            # Assign female students to leader if they have less than 2 female students in the group\n",
        "            if len([gender for _, gender in clusters[leader] if gender == \"F\"]) < 2:\n",
        "                for student in remaining_females[:]:\n",
        "                    if student not in constraint_lookup[leader]:\n",
        "                        clusters[leader].append((student, \"F\"))\n",
        "                        remaining_females.remove(student)\n",
        "                        if assign_students(remaining_males, remaining_females):\n",
        "                            return True\n",
        "                        remaining_females.append(student)\n",
        "                        clusters[leader].remove((student, \"F\"))\n",
        "\n",
        "        return False\n",
        "\n",
        "    # Start assigning students\n",
        "    assign_students(male_students[:], female_students[:])\n",
        "\n",
        "  ###### SOLUTION END ######\n",
        "\n",
        "    return clusters\n",
        "\n",
        "\n",
        "print(create_clusters(leaders, first_year_students, cant_be_together))\n"
      ]
    },
    {
      "cell_type": "markdown",
      "metadata": {
        "id": "stoSjABqMUQZ"
      },
      "source": [
        "## *Concepts required to complete this task*\n",
        "\n",
        "*   Python *functions*\n",
        "*   *Sequences: Lists, Dictionaries* (Very useful)\n",
        "*   Loops: *for* and *while*\n",
        "*   Optionally `random` library's `random.choice` function\n",
        "*   Optionally Python `sets`\n",
        "\n"
      ]
    },
    {
      "cell_type": "markdown",
      "metadata": {
        "id": "svrTmYLMKLJ6"
      },
      "source": [
        "## Rubric\n",
        "\n",
        "- +15 points for correctness\n",
        "- +3 points for generalizability to any number of leaders or students\n",
        "- +2 points for comments and variable names"
      ]
    }
  ],
  "metadata": {
    "colab": {
      "collapsed_sections": [
        "N08hHBwwoHHT",
        "Fnb5vdRjo92A",
        "ZW2uOY__qhwO",
        "93soxJOGsBRz"
      ],
      "provenance": [],
      "toc_visible": true
    },
    "kernelspec": {
      "display_name": "Python 3",
      "name": "python3"
    },
    "language_info": {
      "codemirror_mode": {
        "name": "ipython",
        "version": 3
      },
      "file_extension": ".py",
      "mimetype": "text/x-python",
      "name": "python",
      "nbconvert_exporter": "python",
      "pygments_lexer": "ipython3",
      "version": "3.11.0"
    }
  },
  "nbformat": 4,
  "nbformat_minor": 0
}
