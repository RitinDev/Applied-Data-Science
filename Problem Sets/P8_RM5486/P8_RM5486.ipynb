{
  "cells": [
    {
      "cell_type": "markdown",
      "metadata": {
        "id": "PUxdctIdxU6B"
      },
      "source": [
        "---\n",
        "---\n",
        "Problem Set 9: Machine Learning I\n",
        "\n",
        "Applied Data Science using Python\n",
        "\n",
        "New York University, Abu Dhabi\n",
        "\n",
        "Out: 09th Nov 2023 || **Due: 21st Nov 2023 at 23:59**\n",
        "\n",
        "---\n",
        "---\n",
        "#Start Here\n",
        "## Learning Goals\n",
        "### General Goals\n",
        "- Learn the fundamental concepts of Applied Machine Learning\n",
        "\n",
        "### Specific Goals\n",
        "- Learn how to create test and train splits\n",
        "- Learn the basics of Scikit-Learn\n",
        "- Learn to apply k-nearest neigbours (knn) classifier\n",
        "- Learn to train a KNN classifier\n",
        "- Learn to evaluate the performance of your classifier\n",
        "\n",
        "## Collaboration Policy\n",
        "- You are allowed to talk with / work with other students on homework assignments.\n",
        "- You can share ideas but not code, analyses or results; you must submit your own code and results. All submitted code will be compared against all code submitted this and previous semesters and online using MOSS. We will also critically analyze the similarities in the submitted reports, methodologies, and results, **but we will not police you**. We expect you all to be mature and responsible enough to finish your work with full integrity.\n",
        "- You are expected to comply with the [University Policy on Academic Integrity and Plagiarism](https://www.nyu.edu/about/policies-guidelines-compliance/policies-and-guidelines/academic-integrity-for-students-at-nyu.html). Violations may result in penalties, such as failure in a particular assignment.\n",
        "\n",
        "## Late Submission Policy\n",
        "You can submit the homework for upto 3 late days. However, we will deduct **20 points** from your homework grade **for each late day you take**. We will not accept the homework after 3 late days.\n",
        "\n",
        "## Distribution of Class Materials\n",
        "These problem sets and recitations are intellectual property of NYUAD, and we request the students to **not** distribute them or their solutions to other students who have not signed up for this class, and/or intend to sign up in the future. We also request you don't post these problem sets, and recitations online or on any public platforms.\n",
        "\n",
        "## Disclaimer\n",
        "The number of points do not necessarily signify/correlate to the difficulty level of the tasks.\n",
        "\n",
        "## Submission\n",
        "You will submit all your code as a Python Notebook through [Brightspace](https://brightspace.nyu.edu/) as **P9_YOUR NETID.ipynb**.\n",
        "\n",
        "---\n",
        "\n",
        "\n"
      ]
    },
    {
      "cell_type": "markdown",
      "metadata": {
        "id": "UPMDlF4mjG6v"
      },
      "source": [
        "# General Instructions\n",
        "This homework is worth 100 points. It has 4 parts. Below each part, we provide a set of concepts required to complete that part. All the parts need to be completed in this Jupyter (Colab) Notebook.\n",
        "\n"
      ]
    },
    {
      "cell_type": "markdown",
      "metadata": {
        "id": "9MwSkmTu2tAp"
      },
      "source": [
        "# Predicting Atherosclerosis\n",
        "\n",
        "In this homework, you will be using your knowledge of machine learning so far to predict **atherosclerosis** (also known as the hardening of arteries) using a *atherosclerosis.csv* dataset provided with the handout. Diabetes, obesity, and hypertension are three of the major risk factors for atherosclerosis, and so you would see some correlates of these in the *features* for the dataset. The dataset contains the following *features*:\n",
        "\n",
        "- *Pregnancies*: Number of times the subject was pregnant\n",
        "- *Glucose*: Plasma glucose concentration over 2 hours in an oral glucose tolerance test\n",
        "- *BloodPressure*: Diastolic blood pressure (mm Hg)\n",
        "- *SkinThickness*: Triceps skin fold thickness (mm)\n",
        "- *Insulin*: 2-Hour serum insulin (mu U/ml)\n",
        "- *BMI*: Body mass index (weight in kg/(height in m)<sup>2</sup>)\n",
        "- *AtherosclerosisPedigreeFunction*: Atherosclerosis pedigree function (a function which scores likelihood of atherosclerosis based on family history)\n",
        "- *Age*: Age (years)\n",
        "- *Outcome* : Class variable (0 if not diagnosed with the disease, 1 if diagnosed with the disease)"
      ]
    },
    {
      "cell_type": "markdown",
      "metadata": {
        "id": "3SWf22cCjQNY"
      },
      "source": [
        "# Part I: Dataset Exploration (30 points)\n",
        "\n",
        "In this part we would like you to explore the given data, and create appropriate visualizations wherever necessary.\n",
        "\n",
        "More concretely, think about the following questions:\n",
        "\n",
        "1. What are the descriptive statistics summarizing dataset's distribution, excluding NaN values if any.\n",
        "2. Based on the above, can you see any anomalies in the data? Are there any missing values?\n",
        "3. If there are any missing values, how would you impute them?\n",
        "4. How does the distribution of the target variable look like?\n",
        "5. Finally, are there any correlations?\n",
        "\n"
      ]
    },
    {
      "cell_type": "markdown",
      "metadata": {
        "id": "wfGNVsfFlYHV"
      },
      "source": [
        "## 1. Distribution of data (5 points)\n",
        "\n",
        "Write code for loading, and computing the distribution of data."
      ]
    },
    {
      "cell_type": "code",
      "execution_count": 56,
      "metadata": {
        "id": "5lHr1i-Eq2ID"
      },
      "outputs": [
        {
          "data": {
            "text/html": [
              "<div>\n",
              "<style scoped>\n",
              "    .dataframe tbody tr th:only-of-type {\n",
              "        vertical-align: middle;\n",
              "    }\n",
              "\n",
              "    .dataframe tbody tr th {\n",
              "        vertical-align: top;\n",
              "    }\n",
              "\n",
              "    .dataframe thead th {\n",
              "        text-align: right;\n",
              "    }\n",
              "</style>\n",
              "<table border=\"1\" class=\"dataframe\">\n",
              "  <thead>\n",
              "    <tr style=\"text-align: right;\">\n",
              "      <th></th>\n",
              "      <th>Pregnancies</th>\n",
              "      <th>Glucose</th>\n",
              "      <th>BloodPressure</th>\n",
              "      <th>SkinThickness</th>\n",
              "      <th>Insulin</th>\n",
              "      <th>BMI</th>\n",
              "      <th>AtherosclerosisPedigreeFunction</th>\n",
              "      <th>Age</th>\n",
              "      <th>Outcome</th>\n",
              "    </tr>\n",
              "  </thead>\n",
              "  <tbody>\n",
              "    <tr>\n",
              "      <th>count</th>\n",
              "      <td>768.00</td>\n",
              "      <td>768.00</td>\n",
              "      <td>768.00</td>\n",
              "      <td>768.00</td>\n",
              "      <td>768.00</td>\n",
              "      <td>768.00</td>\n",
              "      <td>768.00</td>\n",
              "      <td>768.00</td>\n",
              "      <td>768.00</td>\n",
              "    </tr>\n",
              "    <tr>\n",
              "      <th>mean</th>\n",
              "      <td>3.85</td>\n",
              "      <td>120.89</td>\n",
              "      <td>69.11</td>\n",
              "      <td>20.54</td>\n",
              "      <td>79.80</td>\n",
              "      <td>31.99</td>\n",
              "      <td>0.47</td>\n",
              "      <td>33.24</td>\n",
              "      <td>0.35</td>\n",
              "    </tr>\n",
              "    <tr>\n",
              "      <th>std</th>\n",
              "      <td>3.37</td>\n",
              "      <td>31.97</td>\n",
              "      <td>19.36</td>\n",
              "      <td>15.95</td>\n",
              "      <td>115.24</td>\n",
              "      <td>7.88</td>\n",
              "      <td>0.33</td>\n",
              "      <td>11.76</td>\n",
              "      <td>0.48</td>\n",
              "    </tr>\n",
              "    <tr>\n",
              "      <th>min</th>\n",
              "      <td>0.00</td>\n",
              "      <td>0.00</td>\n",
              "      <td>0.00</td>\n",
              "      <td>0.00</td>\n",
              "      <td>0.00</td>\n",
              "      <td>0.00</td>\n",
              "      <td>0.08</td>\n",
              "      <td>21.00</td>\n",
              "      <td>0.00</td>\n",
              "    </tr>\n",
              "    <tr>\n",
              "      <th>25%</th>\n",
              "      <td>1.00</td>\n",
              "      <td>99.00</td>\n",
              "      <td>62.00</td>\n",
              "      <td>0.00</td>\n",
              "      <td>0.00</td>\n",
              "      <td>27.30</td>\n",
              "      <td>0.24</td>\n",
              "      <td>24.00</td>\n",
              "      <td>0.00</td>\n",
              "    </tr>\n",
              "    <tr>\n",
              "      <th>50%</th>\n",
              "      <td>3.00</td>\n",
              "      <td>117.00</td>\n",
              "      <td>72.00</td>\n",
              "      <td>23.00</td>\n",
              "      <td>30.50</td>\n",
              "      <td>32.00</td>\n",
              "      <td>0.37</td>\n",
              "      <td>29.00</td>\n",
              "      <td>0.00</td>\n",
              "    </tr>\n",
              "    <tr>\n",
              "      <th>75%</th>\n",
              "      <td>6.00</td>\n",
              "      <td>140.25</td>\n",
              "      <td>80.00</td>\n",
              "      <td>32.00</td>\n",
              "      <td>127.25</td>\n",
              "      <td>36.60</td>\n",
              "      <td>0.63</td>\n",
              "      <td>41.00</td>\n",
              "      <td>1.00</td>\n",
              "    </tr>\n",
              "    <tr>\n",
              "      <th>max</th>\n",
              "      <td>17.00</td>\n",
              "      <td>199.00</td>\n",
              "      <td>122.00</td>\n",
              "      <td>99.00</td>\n",
              "      <td>846.00</td>\n",
              "      <td>67.10</td>\n",
              "      <td>2.42</td>\n",
              "      <td>81.00</td>\n",
              "      <td>1.00</td>\n",
              "    </tr>\n",
              "  </tbody>\n",
              "</table>\n",
              "</div>"
            ],
            "text/plain": [
              "       Pregnancies  Glucose  BloodPressure  SkinThickness  Insulin     BMI  \\\n",
              "count       768.00   768.00         768.00         768.00   768.00  768.00   \n",
              "mean          3.85   120.89          69.11          20.54    79.80   31.99   \n",
              "std           3.37    31.97          19.36          15.95   115.24    7.88   \n",
              "min           0.00     0.00           0.00           0.00     0.00    0.00   \n",
              "25%           1.00    99.00          62.00           0.00     0.00   27.30   \n",
              "50%           3.00   117.00          72.00          23.00    30.50   32.00   \n",
              "75%           6.00   140.25          80.00          32.00   127.25   36.60   \n",
              "max          17.00   199.00         122.00          99.00   846.00   67.10   \n",
              "\n",
              "       AtherosclerosisPedigreeFunction     Age  Outcome  \n",
              "count                           768.00  768.00   768.00  \n",
              "mean                              0.47   33.24     0.35  \n",
              "std                               0.33   11.76     0.48  \n",
              "min                               0.08   21.00     0.00  \n",
              "25%                               0.24   24.00     0.00  \n",
              "50%                               0.37   29.00     0.00  \n",
              "75%                               0.63   41.00     1.00  \n",
              "max                               2.42   81.00     1.00  "
            ]
          },
          "execution_count": 56,
          "metadata": {},
          "output_type": "execute_result"
        }
      ],
      "source": [
        "############# SOLUTION ###############\n",
        "import pandas as pd\n",
        "import numpy as np\n",
        "import matplotlib.pyplot as plt\n",
        "import seaborn as sns\n",
        "\n",
        "# Load the data\n",
        "df = pd.read_csv('atherosclerosis.csv')\n",
        "\n",
        "# Compute descriptive statistics for the data, round to 2 decimal places\n",
        "df.describe().round(2)\n",
        "############ SOLUTION END #############"
      ]
    },
    {
      "cell_type": "markdown",
      "metadata": {
        "id": "_Owbvxy4G2mp"
      },
      "source": [
        "## 2. Anomalies (10 points)\n",
        "\n",
        "**Given your knowledge of the world, are there any obvious anomalies in the dataset after visual inspection?**\n",
        "\n",
        "A glucose level of 0 is not realistically possible, and so is a blood pressure of 0. Similarly, a BMI of 0 is also mathematically impossible. These are some of the anomalies that you can find in the dataset.\n"
      ]
    },
    {
      "cell_type": "markdown",
      "metadata": {
        "id": "XXvf9PHiH6p9"
      },
      "source": [
        "## 3. Imputing Missing Values (5 points)\n",
        "\n",
        "Write code for imputing missing values with estimated value based on other available information. What to impute the missing values with? Generally, if the variable in somewhat normally distributed, you could replace the missing values with the **mean**, however, if the distribution of the variable is skewed, the mean is biased by the values at the far end of the distribution. Therefore, the **median** may be a better representation of the majority of the values in the variable."
      ]
    },
    {
      "cell_type": "code",
      "execution_count": 57,
      "metadata": {
        "id": "Qq8v5nOGIQdw"
      },
      "outputs": [
        {
          "data": {
            "text/html": [
              "<div>\n",
              "<style scoped>\n",
              "    .dataframe tbody tr th:only-of-type {\n",
              "        vertical-align: middle;\n",
              "    }\n",
              "\n",
              "    .dataframe tbody tr th {\n",
              "        vertical-align: top;\n",
              "    }\n",
              "\n",
              "    .dataframe thead th {\n",
              "        text-align: right;\n",
              "    }\n",
              "</style>\n",
              "<table border=\"1\" class=\"dataframe\">\n",
              "  <thead>\n",
              "    <tr style=\"text-align: right;\">\n",
              "      <th></th>\n",
              "      <th>Pregnancies</th>\n",
              "      <th>Glucose</th>\n",
              "      <th>BloodPressure</th>\n",
              "      <th>SkinThickness</th>\n",
              "      <th>Insulin</th>\n",
              "      <th>BMI</th>\n",
              "      <th>AtherosclerosisPedigreeFunction</th>\n",
              "      <th>Age</th>\n",
              "      <th>Outcome</th>\n",
              "    </tr>\n",
              "  </thead>\n",
              "  <tbody>\n",
              "    <tr>\n",
              "      <th>0</th>\n",
              "      <td>6</td>\n",
              "      <td>148</td>\n",
              "      <td>72</td>\n",
              "      <td>35</td>\n",
              "      <td>0</td>\n",
              "      <td>33.6</td>\n",
              "      <td>0.627</td>\n",
              "      <td>50</td>\n",
              "      <td>1</td>\n",
              "    </tr>\n",
              "    <tr>\n",
              "      <th>1</th>\n",
              "      <td>1</td>\n",
              "      <td>85</td>\n",
              "      <td>66</td>\n",
              "      <td>29</td>\n",
              "      <td>0</td>\n",
              "      <td>26.6</td>\n",
              "      <td>0.351</td>\n",
              "      <td>31</td>\n",
              "      <td>0</td>\n",
              "    </tr>\n",
              "    <tr>\n",
              "      <th>2</th>\n",
              "      <td>8</td>\n",
              "      <td>183</td>\n",
              "      <td>64</td>\n",
              "      <td>0</td>\n",
              "      <td>0</td>\n",
              "      <td>23.3</td>\n",
              "      <td>0.672</td>\n",
              "      <td>32</td>\n",
              "      <td>1</td>\n",
              "    </tr>\n",
              "    <tr>\n",
              "      <th>3</th>\n",
              "      <td>1</td>\n",
              "      <td>89</td>\n",
              "      <td>66</td>\n",
              "      <td>23</td>\n",
              "      <td>94</td>\n",
              "      <td>28.1</td>\n",
              "      <td>0.167</td>\n",
              "      <td>21</td>\n",
              "      <td>0</td>\n",
              "    </tr>\n",
              "    <tr>\n",
              "      <th>4</th>\n",
              "      <td>0</td>\n",
              "      <td>137</td>\n",
              "      <td>40</td>\n",
              "      <td>35</td>\n",
              "      <td>168</td>\n",
              "      <td>43.1</td>\n",
              "      <td>2.288</td>\n",
              "      <td>33</td>\n",
              "      <td>1</td>\n",
              "    </tr>\n",
              "    <tr>\n",
              "      <th>...</th>\n",
              "      <td>...</td>\n",
              "      <td>...</td>\n",
              "      <td>...</td>\n",
              "      <td>...</td>\n",
              "      <td>...</td>\n",
              "      <td>...</td>\n",
              "      <td>...</td>\n",
              "      <td>...</td>\n",
              "      <td>...</td>\n",
              "    </tr>\n",
              "    <tr>\n",
              "      <th>763</th>\n",
              "      <td>10</td>\n",
              "      <td>101</td>\n",
              "      <td>76</td>\n",
              "      <td>48</td>\n",
              "      <td>180</td>\n",
              "      <td>32.9</td>\n",
              "      <td>0.171</td>\n",
              "      <td>63</td>\n",
              "      <td>0</td>\n",
              "    </tr>\n",
              "    <tr>\n",
              "      <th>764</th>\n",
              "      <td>2</td>\n",
              "      <td>122</td>\n",
              "      <td>70</td>\n",
              "      <td>27</td>\n",
              "      <td>0</td>\n",
              "      <td>36.8</td>\n",
              "      <td>0.340</td>\n",
              "      <td>27</td>\n",
              "      <td>0</td>\n",
              "    </tr>\n",
              "    <tr>\n",
              "      <th>765</th>\n",
              "      <td>5</td>\n",
              "      <td>121</td>\n",
              "      <td>72</td>\n",
              "      <td>23</td>\n",
              "      <td>112</td>\n",
              "      <td>26.2</td>\n",
              "      <td>0.245</td>\n",
              "      <td>30</td>\n",
              "      <td>0</td>\n",
              "    </tr>\n",
              "    <tr>\n",
              "      <th>766</th>\n",
              "      <td>1</td>\n",
              "      <td>126</td>\n",
              "      <td>60</td>\n",
              "      <td>0</td>\n",
              "      <td>0</td>\n",
              "      <td>30.1</td>\n",
              "      <td>0.349</td>\n",
              "      <td>47</td>\n",
              "      <td>1</td>\n",
              "    </tr>\n",
              "    <tr>\n",
              "      <th>767</th>\n",
              "      <td>1</td>\n",
              "      <td>93</td>\n",
              "      <td>70</td>\n",
              "      <td>31</td>\n",
              "      <td>0</td>\n",
              "      <td>30.4</td>\n",
              "      <td>0.315</td>\n",
              "      <td>23</td>\n",
              "      <td>0</td>\n",
              "    </tr>\n",
              "  </tbody>\n",
              "</table>\n",
              "<p>768 rows × 9 columns</p>\n",
              "</div>"
            ],
            "text/plain": [
              "     Pregnancies  Glucose  BloodPressure  SkinThickness  Insulin   BMI  \\\n",
              "0              6      148             72             35        0  33.6   \n",
              "1              1       85             66             29        0  26.6   \n",
              "2              8      183             64              0        0  23.3   \n",
              "3              1       89             66             23       94  28.1   \n",
              "4              0      137             40             35      168  43.1   \n",
              "..           ...      ...            ...            ...      ...   ...   \n",
              "763           10      101             76             48      180  32.9   \n",
              "764            2      122             70             27        0  36.8   \n",
              "765            5      121             72             23      112  26.2   \n",
              "766            1      126             60              0        0  30.1   \n",
              "767            1       93             70             31        0  30.4   \n",
              "\n",
              "     AtherosclerosisPedigreeFunction  Age  Outcome  \n",
              "0                              0.627   50        1  \n",
              "1                              0.351   31        0  \n",
              "2                              0.672   32        1  \n",
              "3                              0.167   21        0  \n",
              "4                              2.288   33        1  \n",
              "..                               ...  ...      ...  \n",
              "763                            0.171   63        0  \n",
              "764                            0.340   27        0  \n",
              "765                            0.245   30        0  \n",
              "766                            0.349   47        1  \n",
              "767                            0.315   23        0  \n",
              "\n",
              "[768 rows x 9 columns]"
            ]
          },
          "execution_count": 57,
          "metadata": {},
          "output_type": "execute_result"
        }
      ],
      "source": [
        "############# SOLUTION ###############\n",
        "# Impute missing values\n",
        "for column in df.columns:\n",
        "    # Check if the column has missing values\n",
        "    if df[column].isnull().sum() > 0:\n",
        "        # Decide whether to use mean or median\n",
        "        if df[column].skew() > 1 or df[column].skew() < -1:\n",
        "            # Skewed distribution, use median\n",
        "            df[column].fillna(df[column].median(), inplace=True)\n",
        "        else:\n",
        "            # Normal distribution, use mean\n",
        "            df[column].fillna(df[column].mean(), inplace=True)\n",
        "\n",
        "# Check if all missing values have been imputed\n",
        "df\n",
        "\n",
        "############ SOLUTION END #############"
      ]
    },
    {
      "cell_type": "markdown",
      "metadata": {
        "id": "KnlJ_XEEIVu0"
      },
      "source": [
        "## 4. Distribution of Target (5 points)\n",
        "\n",
        "Write code to visualize the distribution of the target variable."
      ]
    },
    {
      "cell_type": "code",
      "execution_count": 58,
      "metadata": {
        "id": "VmThRGyKIh7Z"
      },
      "outputs": [
        {
          "data": {
            "image/png": "[encoded data removed]",
            "text/plain": [
              "<Figure size 640x480 with 1 Axes>"
            ]
          },
          "metadata": {},
          "output_type": "display_data"
        }
      ],
      "source": [
        "############# SOLUTION ###############\n",
        "# Visualize the distribution of the target variable 'Outcome'\n",
        "sns.countplot(x='Outcome', data=df)\n",
        "plt.title('Distribution of Outcome')\n",
        "plt.xlabel('Outcome')\n",
        "plt.ylabel('Count')\n",
        "plt.show()\n",
        "\n",
        "############ SOLUTION END #############"
      ]
    },
    {
      "cell_type": "markdown",
      "metadata": {
        "id": "hih6nF2pIilH"
      },
      "source": [
        "## 5. Compute and Plot Correlations (5 points)\n",
        "\n",
        "Compute and plot correlation of each feature with the target variable."
      ]
    },
    {
      "cell_type": "code",
      "execution_count": 59,
      "metadata": {
        "id": "lbqfnNSKIzli"
      },
      "outputs": [
        {
          "data": {
            "image/png": "[encoded data removed]",
            "text/plain": [
              "<Figure size 1000x600 with 1 Axes>"
            ]
          },
          "metadata": {},
          "output_type": "display_data"
        }
      ],
      "source": [
        "############# SOLUTION ###############\n",
        "# Compute the correlations with the target variable\n",
        "correlations = df.corr()['Outcome'].sort_values(ascending=False)\n",
        "\n",
        "# Remove the correlation of Outcome with itself\n",
        "correlations = correlations.drop('Outcome', axis=0)\n",
        "\n",
        "# Plotting the correlations\n",
        "plt.figure(figsize=(10, 6))\n",
        "sns.barplot(x=correlations.values, y=correlations.index)\n",
        "plt.title('Correlation of Features with Outcome')\n",
        "plt.xlabel('Correlation Coefficient')\n",
        "plt.ylabel('Features')\n",
        "plt.show()\n",
        "\n",
        "############ SOLUTION END #############"
      ]
    },
    {
      "cell_type": "markdown",
      "metadata": {
        "id": "UoYvfDZrPWaS"
      },
      "source": [
        "**Which 2 variables are the most highly correlated with the outcome/target variable?**\n",
        "\n",
        "Glucose and BMI are the most highly correlated with the outcome/target variable.\n"
      ]
    },
    {
      "cell_type": "markdown",
      "metadata": {
        "id": "goGyqP7dnRhU"
      },
      "source": [
        "## *Concepts and tools required to complete this task*\n",
        "\n",
        "*   Critical Thinking\n",
        "*   Pandas, numpy, seaborn, matplotlib\n",
        "\n",
        "\n",
        "\n"
      ]
    },
    {
      "cell_type": "markdown",
      "metadata": {
        "id": "61zTE4HA8nlG"
      },
      "source": [
        "## Rubric\n",
        "\n",
        "- +5 points for describing the distribution of data\n",
        "- +10 points for detecting anomalies if any\n",
        "- +3 points for proper imputation of the data\n",
        "- +2 points for clearly presenting the steps for the imputation strategy\n",
        "- +5 points for plotting the distribution of the target variable\n",
        "- +5 points for computing and plotting correlations of variables with the target variable"
      ]
    },
    {
      "cell_type": "markdown",
      "metadata": {
        "id": "IuRYqcxmn4vS"
      },
      "source": [
        "# Part II: Data Preparation (20 points)\n",
        "\n",
        "Now that you have explored the data, you would need to prepare the data for modeling. This is primarily a two-step process in this case: (i) data scaling/normalization, and (ii) train-test splitting\n",
        "\n",
        "(i) For scaling your data, read this [article](https://medium.com/analytics-vidhya/why-is-scaling-required-in-knn-and-k-means-8129e4d88ed7) before attempting this question to understand why KNN needs some sort of normalization or scaling.\n",
        "\n",
        "(ii) For train-test split, make sure that the proportion of the classes remains the same across splits.\n",
        "\n",
        "*Our reference solution uses a `random_state` value of `0` with the 75-25 split between train and test.*"
      ]
    },
    {
      "cell_type": "code",
      "execution_count": 60,
      "metadata": {
        "id": "jrHEurDKzb3p"
      },
      "outputs": [],
      "source": [
        "# Write your code for data preparation below\n",
        "train_X, test_X, train_y, test_y = None,None,None,None\n",
        "############# SOLUTION ###############\n",
        "from sklearn.model_selection import train_test_split\n",
        "from sklearn.preprocessing import StandardScaler\n",
        "\n",
        "# Separate the features and the target variable\n",
        "X = df.drop('Outcome', axis=1)\n",
        "y = df['Outcome']\n",
        "\n",
        "# Scale the features\n",
        "scaler = StandardScaler()\n",
        "X_scaled = scaler.fit_transform(X)\n",
        "\n",
        "# Split the dataset into training and testing sets\n",
        "train_X, test_X, train_y, test_y = train_test_split(\n",
        "    X_scaled, y, test_size=0.25, random_state=0, stratify=y)\n",
        "\n",
        "############# SOLUTION END ############"
      ]
    },
    {
      "cell_type": "markdown",
      "metadata": {
        "id": "N08hHBwwoHHT"
      },
      "source": [
        "## *Concepts and tools required to complete this task*\n",
        "\n",
        "*   Basics of machine learning\n",
        "*   Classification\n",
        "*   Supervised learning\n",
        "*   K-nearest neighbours classification\n",
        "*   Critical Thinking\n",
        "*   Scikit-Learn\n",
        "*   Optionally Scikit-Learn's `train_test_split()` function\n",
        "*   Optionally Scikit-Learn's `StandardScaler()` function\n",
        "*   Pandas, numpy, seaborn, matplotlib"
      ]
    },
    {
      "cell_type": "markdown",
      "metadata": {
        "id": "valCuji77-zz"
      },
      "source": [
        "## Rubric\n",
        "\n",
        "- +10 points for a reasonable normalization strategy\n",
        "- +10 points for the train-test split as per specifications"
      ]
    },
    {
      "cell_type": "markdown",
      "metadata": {
        "id": "AORs-0rkn9Rf"
      },
      "source": [
        "# Part III: Model Fitting and Tuning (40 points)\n",
        "\n",
        "Now that you have created your train-test split, train your K-nearest neighbour model. Explain briefly the range and choice of your \"k\", and justify how you found it. It may help you to visualize the performance of your model as you change \"k\" on both train and test set."
      ]
    },
    {
      "cell_type": "code",
      "execution_count": 61,
      "metadata": {
        "id": "AcqdJNb-vtIt"
      },
      "outputs": [
        {
          "name": "stdout",
          "output_type": "stream",
          "text": [
            "Best value of k: 17 with test error: 0.22\n"
          ]
        },
        {
          "data": {
            "image/png": "[encoded data removed]",
            "text/plain": [
              "<Figure size 1000x600 with 1 Axes>"
            ]
          },
          "metadata": {},
          "output_type": "display_data"
        }
      ],
      "source": [
        "############# SOLUTION ###############\n",
        "from sklearn.neighbors import KNeighborsClassifier\n",
        "from sklearn.metrics import accuracy_score\n",
        "\n",
        "# Lists to store the accuracy of KNN for different values of k\n",
        "train_accuracy = []\n",
        "test_accuracy = []\n",
        "min_test_error = [np.inf, 1] # [min_error, k]\n",
        "\n",
        "# Trying different values of k\n",
        "# Trying all odd values of k from 1 to sqrt(number of training examples)\n",
        "k_values = range(1, int(train_X.shape[0] ** 0.5) + 1, 2)\n",
        "for k in k_values:\n",
        "    knn = KNeighborsClassifier(n_neighbors=k)\n",
        "    knn.fit(train_X, train_y)\n",
        "    \n",
        "    # Predicting and calculating accuracy for train set\n",
        "    train_y_pred = knn.predict(train_X)\n",
        "    train_accuracy.append(accuracy_score(train_y, train_y_pred))\n",
        "    \n",
        "    # Predicting and calculating accuracy for test set\n",
        "    y_test_pred = knn.predict(test_X)\n",
        "    test_accuracy.append(accuracy_score(test_y, y_test_pred))\n",
        "    \n",
        "    test_error = 1 - accuracy_score(test_y, y_test_pred)\n",
        "    # print('k: {}, test error: {:.2f}'.format(k, test_error))\n",
        "    if test_error < min_test_error[0]:\n",
        "        min_test_error = [test_error, k]\n",
        "    \n",
        "# Printing the best value of k\n",
        "print('Best value of k: {} with test error: {:.2f}'.format(min_test_error[1], min_test_error[0]))\n",
        "# Plotting the results\n",
        "plt.figure(figsize=(10, 6))\n",
        "plt.plot(k_values, train_accuracy, label='Training Accuracy')\n",
        "plt.plot(k_values, test_accuracy, label='Testing Accuracy')\n",
        "plt.xlabel('Number of Neighbors (k)')\n",
        "plt.ylabel('Accuracy')\n",
        "plt.title('KNN Accuracy for Different Values of k')\n",
        "plt.legend()\n",
        "plt.show()\n",
        "\n",
        "############# SOLUTION END ############"
      ]
    },
    {
      "cell_type": "markdown",
      "metadata": {
        "id": "ayRG-ITEV9ET"
      },
      "source": [
        "**Justify your choice of \"k\". What was the range of values you tried and why? How did you choose the optimal \"k\" value?**\n",
        "\n",
        "The best value of k I found was 17. I tried odd values from 1 to $sqrt(n)$, where n is the number of samples in the training set since the k-NN algorithm prefers odd values for k. From my knowledge, checking values up till $sqrt(n)$ should provide us with a \"good enough\" value of k without too many comparisons, which might be expensive to perform on very large datasets. I chose the optimal value of k by plotting the accuracy of the model on the training and test sets as a function of k. The optimal value of k is the one that maximizes the accuracy on the test set, which in our case is 17.\n",
        "\n",
        "[Your answer here in fewer than 5 sentences]\n"
      ]
    },
    {
      "cell_type": "markdown",
      "metadata": {
        "id": "ojM_ZaJUoWXw"
      },
      "source": [
        "## *Concepts and tools required to complete this task*\n",
        "\n",
        "*   Basics of machine learning\n",
        "*   Classification\n",
        "*   Supervised learning\n",
        "*   K-nearest neighbours classification\n",
        "*   Critical Thinking\n",
        "*   Scikit-Learn\n",
        "\n"
      ]
    },
    {
      "cell_type": "markdown",
      "metadata": {
        "id": "QYwQBee7DBmr"
      },
      "source": [
        "## Rubric\n",
        "\n",
        "- +25 points for code and plot(s) describing a reasonable strategy to choose K\n",
        "- +10 points for a reasonable choice of k and the justification\n",
        "- +5 points for training the model"
      ]
    },
    {
      "cell_type": "markdown",
      "metadata": {
        "id": "ycGmSYmcC66M"
      },
      "source": [
        "# Part IV: Model Evaluation (10 points)\n",
        "\n",
        "Finally, we would like you to evaluate your model, not just on the *accuracy* metric, but also on other metrics of classification i.e. *precision*, *recall*, *F1*, and *AUC*.\n",
        "\n",
        "Accuracy, while widely used, is generally *not* a good metric especially when the data is not balanced across the different classes. *Precision*, *Recall*, *F1*, and *Area Under the Curve (AUC)* are almost always considered better choices. You can find information about these different metrics on Scikit-Learn's website as well as in blogposts such as [here](https://blog.exsilio.com/all/accuracy-precision-recall-f1-score-interpretation-of-performance-measures/) and [here](https://towardsdatascience.com/understanding-auc-roc-curve-68b2303cc9c5), and the video [here](https://www.youtube.com/watch?v=OAl6eAyP-yo). For computing the AUC ROC, look at the Scikit-Learn's documentation [here](https://scikit-learn.org/stable/modules/generated/sklearn.metrics.roc_auc_score.html).\n",
        "\n",
        "## Performance Cut-offs\n",
        "Your model should be no worse than the following cut-offs:\n",
        "\n",
        "1. Accuracy (test set): 75%\n",
        "2. AUC ROC: 0.79"
      ]
    },
    {
      "cell_type": "code",
      "execution_count": 62,
      "metadata": {
        "id": "teYZf4mMDCuU"
      },
      "outputs": [
        {
          "name": "stdout",
          "output_type": "stream",
          "text": [
            "Accuracy: 0.78\n",
            "Precision: 0.75\n",
            "Recall: 0.57\n",
            "F1 Score: 0.64\n",
            "AUC ROC: 0.81\n"
          ]
        }
      ],
      "source": [
        "#Write your code for computing Precision, Recall, F1, and ROC AUC below\n",
        "############# SOLUTION ############\n",
        "from sklearn.metrics import accuracy_score, precision_score, recall_score, f1_score, roc_auc_score\n",
        "\n",
        "# Assuming the best 'k' value was determined from the previous step\n",
        "best_k = 17 # best k value\n",
        "knn = KNeighborsClassifier(n_neighbors=best_k)\n",
        "knn.fit(train_X, train_y)\n",
        "\n",
        "# Predicting on the test set\n",
        "y_test_pred = knn.predict(test_X)\n",
        "\n",
        "# Calculating various metrics\n",
        "accuracy = accuracy_score(test_y, y_test_pred)\n",
        "precision = precision_score(test_y, y_test_pred)\n",
        "recall = recall_score(test_y, y_test_pred)\n",
        "f1 = f1_score(test_y, y_test_pred)\n",
        "auc_roc = roc_auc_score(test_y, knn.predict_proba(test_X)[:, 1])\n",
        "\n",
        "print(f\"Accuracy: {accuracy:.2f}\")\n",
        "print(f\"Precision: {precision:.2f}\")\n",
        "print(f\"Recall: {recall:.2f}\")\n",
        "print(f\"F1 Score: {f1:.2f}\")\n",
        "print(f\"AUC ROC: {auc_roc:.2f}\")\n",
        "\n",
        "# Tests to ensure that the given performance metrics are met\n",
        "assert accuracy >= 0.75, 'Accuracy is too low'\n",
        "assert auc_roc >= 0.79, 'AUC ROC is too low'\n",
        "########### SOLUTION END ##########"
      ]
    },
    {
      "cell_type": "markdown",
      "metadata": {},
      "source": [
        "As we see, with our \"optimal\" k-value of 17, our model achieves the desired performance cut-offs."
      ]
    },
    {
      "cell_type": "markdown",
      "metadata": {
        "id": "zgL2IE2ZDDNF"
      },
      "source": [
        "## *Concepts and tools required to complete this task*\n",
        "\n",
        "*   Basics of machine learning\n",
        "*   Classification\n",
        "*   Supervised learning\n",
        "*   K-nearest neighbours classification\n",
        "*   Critical Thinking\n",
        "*   Scikit-Learn's `metrics` module\n",
        "*   Understanding of different classification metrics\n"
      ]
    },
    {
      "cell_type": "markdown",
      "metadata": {
        "id": "HqM8ypKJDHFp"
      },
      "source": [
        "## Rubric\n",
        "\n",
        "- +5 points for evaluating your model on the four metrics\n",
        "- +5 points for meeting the performance cut-offs"
      ]
    }
  ],
  "metadata": {
    "colab": {
      "collapsed_sections": [
        "PUxdctIdxU6B"
      ],
      "provenance": []
    },
    "kernelspec": {
      "display_name": "Python 3",
      "language": "python",
      "name": "python3"
    },
    "language_info": {
      "codemirror_mode": {
        "name": "ipython",
        "version": 3
      },
      "file_extension": ".py",
      "mimetype": "text/x-python",
      "name": "python",
      "nbconvert_exporter": "python",
      "pygments_lexer": "ipython3",
      "version": "3.11.0"
    }
  },
  "nbformat": 4,
  "nbformat_minor": 0
}
