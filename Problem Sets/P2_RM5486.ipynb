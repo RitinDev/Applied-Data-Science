{
  "cells": [
    {
      "cell_type": "markdown",
      "metadata": {
        "id": "PUxdctIdxU6B"
      },
      "source": [
        "---\n",
        "---\n",
        "Problem Set 2: Numerical Python (NumPy)\n",
        "\n",
        "Applied Data Science using Python\n",
        "\n",
        "New York University, Abu Dhabi\n",
        "\n",
        "Out: 13th Sept 2023 || **Due: 20th Sept 2023 at 23:59**\n",
        "\n",
        "---\n",
        "---\n",
        "#Start Here\n",
        "## Learning Goals\n",
        "### General Goals\n",
        "- Learn the basics of programming in Python\n",
        "- Learn to process data\n",
        "- Learn to represent arrays for efficient computation\n",
        "\n",
        "### Specific Goals\n",
        "- Learn the numpy library and some of its basic functions\n",
        "- Learn to use numpy for different problems\n",
        "\n",
        "## Collaboration Policy\n",
        "- You are allowed to talk with / work with other students on homework assignments.\n",
        "- You can share ideas but not code, analyses or results; you must submit your own code and results. All submitted code will be compared against all code submitted this and previous semesters and online using MOSS. We will also critically analyze the similarities in the submitted reports, methodologies, and results, **but we will not police you**. We expect you all to be mature and responsible enough to finish your work with full integrity.\n",
        "- You are expected to comply with the [University Policy on Academic Integrity and Plagiarism](https://www.nyu.edu/about/policies-guidelines-compliance/policies-and-guidelines/academic-integrity-for-students-at-nyu.html). Violations may result in penalties, such as failure in a particular assignment.\n",
        "\n",
        "## Late Submission Policy\n",
        "You can submit the homework for upto 3 late days. However, we will deduct **20 points** from your homework grade **for each late day you take**. We will not accept the homework after 3 late days.\n",
        "\n",
        "## Distribution of Class Materials\n",
        "These problem sets and recitations are intellectual property of NYUAD, and we request the students to **not** distribute them or their solutions to other students who have not signed up for this class, and/or intend to sign up in the future. We also request you don't post these problem sets, and recitations online or on any public platforms.\n",
        "\n",
        "## Disclaimer\n",
        "The number of points do not necessarily signify/correlate to the difficulty level of the tasks.\n",
        "\n",
        "## Submission\n",
        "You will submit all your code as a Python Notebook through [Brightspace](https://brightspace.nyu.edu/).\n",
        "\n",
        "---\n",
        "\n",
        "\n"
      ]
    },
    {
      "cell_type": "markdown",
      "metadata": {
        "id": "UPMDlF4mjG6v"
      },
      "source": [
        "# General Instructions\n",
        "This homework is worth 100 points. It has 4 parts. Below each part, we provide a set of concepts required to complete that part. All the parts need to be completed in this Jupyter (Colab) Notebook.\n",
        "\n"
      ]
    },
    {
      "cell_type": "markdown",
      "metadata": {
        "id": "3SWf22cCjQNY"
      },
      "source": [
        "# Part I: Augmenting the Iconic Iris Dataset (25 points)\n",
        "\n",
        "**Iris dataset** is arguably one of the oldest and over-prescribed datasets in the machine learning and statistics community. It is a small dataset released in 1936, and is often still used for testing out *machine learning classification* algorithms and visualizations. If you don't know what the terms **machine learning** or **classification** mean, don't worry, we'll cover these concepts thoroughly in the second half of this course. But for now, we would like to manipulate this dataset a bit just for fun (and of course for grades :--))\n",
        "\n",
        "Iris dataset is a very small dataset consisting of 150 data instances. Each row of the table in the data represents an iris flower, including its species and dimensions of its botanical parts, sepal and petal, in centimeters.\n",
        "\n",
        "Here's how the dataset looks:"
      ]
    },
    {
      "cell_type": "code",
      "execution_count": 43,
      "metadata": {
        "id": "X70veq2Pj9B8"
      },
      "outputs": [
        {
          "data": {
            "text/plain": [
              "array([['5.1', '3.5', '1.4', '0.2', 'Iris-setosa'],\n",
              "       ['4.9', '3.0', '1.4', '0.2', 'Iris-setosa'],\n",
              "       ['4.7', '3.2', '1.3', '0.2', 'Iris-setosa'],\n",
              "       ['4.6', '3.1', '1.5', '0.2', 'Iris-setosa'],\n",
              "       ['5.0', '3.6', '1.4', '0.2', 'Iris-setosa'],\n",
              "       ['5.4', '3.9', '1.7', '0.4', 'Iris-setosa'],\n",
              "       ['4.6', '3.4', '1.4', '0.3', 'Iris-setosa'],\n",
              "       ['5.0', '3.4', '1.5', '0.2', 'Iris-setosa'],\n",
              "       ['4.4', '2.9', '1.4', '0.2', 'Iris-setosa'],\n",
              "       ['4.9', '3.1', '1.5', '0.1', 'Iris-setosa'],\n",
              "       ['5.4', '3.7', '1.5', '0.2', 'Iris-setosa'],\n",
              "       ['4.8', '3.4', '1.6', '0.2', 'Iris-setosa'],\n",
              "       ['4.8', '3.0', '1.4', '0.1', 'Iris-setosa'],\n",
              "       ['4.3', '3.0', '1.1', '0.1', 'Iris-setosa'],\n",
              "       ['5.8', '4.0', '1.2', '0.2', 'Iris-setosa'],\n",
              "       ['5.7', '4.4', '1.5', '0.4', 'Iris-setosa'],\n",
              "       ['5.4', '3.9', '1.3', '0.4', 'Iris-setosa'],\n",
              "       ['5.1', '3.5', '1.4', '0.3', 'Iris-setosa'],\n",
              "       ['5.7', '3.8', '1.7', '0.3', 'Iris-setosa'],\n",
              "       ['5.1', '3.8', '1.5', '0.3', 'Iris-setosa'],\n",
              "       ['5.4', '3.4', '1.7', '0.2', 'Iris-setosa'],\n",
              "       ['5.1', '3.7', '1.5', '0.4', 'Iris-setosa'],\n",
              "       ['4.6', '3.6', '1.0', '0.2', 'Iris-setosa'],\n",
              "       ['5.1', '3.3', '1.7', '0.5', 'Iris-setosa'],\n",
              "       ['4.8', '3.4', '1.9', '0.2', 'Iris-setosa'],\n",
              "       ['5.0', '3.0', '1.6', '0.2', 'Iris-setosa'],\n",
              "       ['5.0', '3.4', '1.6', '0.4', 'Iris-setosa'],\n",
              "       ['5.2', '3.5', '1.5', '0.2', 'Iris-setosa'],\n",
              "       ['5.2', '3.4', '1.4', '0.2', 'Iris-setosa'],\n",
              "       ['4.7', '3.2', '1.6', '0.2', 'Iris-setosa'],\n",
              "       ['4.8', '3.1', '1.6', '0.2', 'Iris-setosa'],\n",
              "       ['5.4', '3.4', '1.5', '0.4', 'Iris-setosa'],\n",
              "       ['5.2', '4.1', '1.5', '0.1', 'Iris-setosa'],\n",
              "       ['5.5', '4.2', '1.4', '0.2', 'Iris-setosa'],\n",
              "       ['4.9', '3.1', '1.5', '0.1', 'Iris-setosa'],\n",
              "       ['5.0', '3.2', '1.2', '0.2', 'Iris-setosa'],\n",
              "       ['5.5', '3.5', '1.3', '0.2', 'Iris-setosa'],\n",
              "       ['4.9', '3.1', '1.5', '0.1', 'Iris-setosa'],\n",
              "       ['4.4', '3.0', '1.3', '0.2', 'Iris-setosa'],\n",
              "       ['5.1', '3.4', '1.5', '0.2', 'Iris-setosa'],\n",
              "       ['5.0', '3.5', '1.3', '0.3', 'Iris-setosa'],\n",
              "       ['4.5', '2.3', '1.3', '0.3', 'Iris-setosa'],\n",
              "       ['4.4', '3.2', '1.3', '0.2', 'Iris-setosa'],\n",
              "       ['5.0', '3.5', '1.6', '0.6', 'Iris-setosa'],\n",
              "       ['5.1', '3.8', '1.9', '0.4', 'Iris-setosa'],\n",
              "       ['4.8', '3.0', '1.4', '0.3', 'Iris-setosa'],\n",
              "       ['5.1', '3.8', '1.6', '0.2', 'Iris-setosa'],\n",
              "       ['4.6', '3.2', '1.4', '0.2', 'Iris-setosa'],\n",
              "       ['5.3', '3.7', '1.5', '0.2', 'Iris-setosa'],\n",
              "       ['5.0', '3.3', '1.4', '0.2', 'Iris-setosa'],\n",
              "       ['7.0', '3.2', '4.7', '1.4', 'Iris-versicolor'],\n",
              "       ['6.4', '3.2', '4.5', '1.5', 'Iris-versicolor'],\n",
              "       ['6.9', '3.1', '4.9', '1.5', 'Iris-versicolor'],\n",
              "       ['5.5', '2.3', '4.0', '1.3', 'Iris-versicolor'],\n",
              "       ['6.5', '2.8', '4.6', '1.5', 'Iris-versicolor'],\n",
              "       ['5.7', '2.8', '4.5', '1.3', 'Iris-versicolor'],\n",
              "       ['6.3', '3.3', '4.7', '1.6', 'Iris-versicolor'],\n",
              "       ['4.9', '2.4', '3.3', '1.0', 'Iris-versicolor'],\n",
              "       ['6.6', '2.9', '4.6', '1.3', 'Iris-versicolor'],\n",
              "       ['5.2', '2.7', '3.9', '1.4', 'Iris-versicolor'],\n",
              "       ['5.0', '2.0', '3.5', '1.0', 'Iris-versicolor'],\n",
              "       ['5.9', '3.0', '4.2', '1.5', 'Iris-versicolor'],\n",
              "       ['6.0', '2.2', '4.0', '1.0', 'Iris-versicolor'],\n",
              "       ['6.1', '2.9', '4.7', '1.4', 'Iris-versicolor'],\n",
              "       ['5.6', '2.9', '3.6', '1.3', 'Iris-versicolor'],\n",
              "       ['6.7', '3.1', '4.4', '1.4', 'Iris-versicolor'],\n",
              "       ['5.6', '3.0', '4.5', '1.5', 'Iris-versicolor'],\n",
              "       ['5.8', '2.7', '4.1', '1.0', 'Iris-versicolor'],\n",
              "       ['6.2', '2.2', '4.5', '1.5', 'Iris-versicolor'],\n",
              "       ['5.6', '2.5', '3.9', '1.1', 'Iris-versicolor'],\n",
              "       ['5.9', '3.2', '4.8', '1.8', 'Iris-versicolor'],\n",
              "       ['6.1', '2.8', '4.0', '1.3', 'Iris-versicolor'],\n",
              "       ['6.3', '2.5', '4.9', '1.5', 'Iris-versicolor'],\n",
              "       ['6.1', '2.8', '4.7', '1.2', 'Iris-versicolor'],\n",
              "       ['6.4', '2.9', '4.3', '1.3', 'Iris-versicolor'],\n",
              "       ['6.6', '3.0', '4.4', '1.4', 'Iris-versicolor'],\n",
              "       ['6.8', '2.8', '4.8', '1.4', 'Iris-versicolor'],\n",
              "       ['6.7', '3.0', '5.0', '1.7', 'Iris-versicolor'],\n",
              "       ['6.0', '2.9', '4.5', '1.5', 'Iris-versicolor'],\n",
              "       ['5.7', '2.6', '3.5', '1.0', 'Iris-versicolor'],\n",
              "       ['5.5', '2.4', '3.8', '1.1', 'Iris-versicolor'],\n",
              "       ['5.5', '2.4', '3.7', '1.0', 'Iris-versicolor'],\n",
              "       ['5.8', '2.7', '3.9', '1.2', 'Iris-versicolor'],\n",
              "       ['6.0', '2.7', '5.1', '1.6', 'Iris-versicolor'],\n",
              "       ['5.4', '3.0', '4.5', '1.5', 'Iris-versicolor'],\n",
              "       ['6.0', '3.4', '4.5', '1.6', 'Iris-versicolor'],\n",
              "       ['6.7', '3.1', '4.7', '1.5', 'Iris-versicolor'],\n",
              "       ['6.3', '2.3', '4.4', '1.3', 'Iris-versicolor'],\n",
              "       ['5.6', '3.0', '4.1', '1.3', 'Iris-versicolor'],\n",
              "       ['5.5', '2.5', '4.0', '1.3', 'Iris-versicolor'],\n",
              "       ['5.5', '2.6', '4.4', '1.2', 'Iris-versicolor'],\n",
              "       ['6.1', '3.0', '4.6', '1.4', 'Iris-versicolor'],\n",
              "       ['5.8', '2.6', '4.0', '1.2', 'Iris-versicolor'],\n",
              "       ['5.0', '2.3', '3.3', '1.0', 'Iris-versicolor'],\n",
              "       ['5.6', '2.7', '4.2', '1.3', 'Iris-versicolor'],\n",
              "       ['5.7', '3.0', '4.2', '1.2', 'Iris-versicolor'],\n",
              "       ['5.7', '2.9', '4.2', '1.3', 'Iris-versicolor'],\n",
              "       ['6.2', '2.9', '4.3', '1.3', 'Iris-versicolor'],\n",
              "       ['5.1', '2.5', '3.0', '1.1', 'Iris-versicolor'],\n",
              "       ['5.7', '2.8', '4.1', '1.3', 'Iris-versicolor'],\n",
              "       ['6.3', '3.3', '6.0', '2.5', 'Iris-virginica'],\n",
              "       ['5.8', '2.7', '5.1', '1.9', 'Iris-virginica'],\n",
              "       ['7.1', '3.0', '5.9', '2.1', 'Iris-virginica'],\n",
              "       ['6.3', '2.9', '5.6', '1.8', 'Iris-virginica'],\n",
              "       ['6.5', '3.0', '5.8', '2.2', 'Iris-virginica'],\n",
              "       ['7.6', '3.0', '6.6', '2.1', 'Iris-virginica'],\n",
              "       ['4.9', '2.5', '4.5', '1.7', 'Iris-virginica'],\n",
              "       ['7.3', '2.9', '6.3', '1.8', 'Iris-virginica'],\n",
              "       ['6.7', '2.5', '5.8', '1.8', 'Iris-virginica'],\n",
              "       ['7.2', '3.6', '6.1', '2.5', 'Iris-virginica'],\n",
              "       ['6.5', '3.2', '5.1', '2.0', 'Iris-virginica'],\n",
              "       ['6.4', '2.7', '5.3', '1.9', 'Iris-virginica'],\n",
              "       ['6.8', '3.0', '5.5', '2.1', 'Iris-virginica'],\n",
              "       ['5.7', '2.5', '5.0', '2.0', 'Iris-virginica'],\n",
              "       ['5.8', '2.8', '5.1', '2.4', 'Iris-virginica'],\n",
              "       ['6.4', '3.2', '5.3', '2.3', 'Iris-virginica'],\n",
              "       ['6.5', '3.0', '5.5', '1.8', 'Iris-virginica'],\n",
              "       ['7.7', '3.8', '6.7', '2.2', 'Iris-virginica'],\n",
              "       ['7.7', '2.6', '6.9', '2.3', 'Iris-virginica'],\n",
              "       ['6.0', '2.2', '5.0', '1.5', 'Iris-virginica'],\n",
              "       ['6.9', '3.2', '5.7', '2.3', 'Iris-virginica'],\n",
              "       ['5.6', '2.8', '4.9', '2.0', 'Iris-virginica'],\n",
              "       ['7.7', '2.8', '6.7', '2.0', 'Iris-virginica'],\n",
              "       ['6.3', '2.7', '4.9', '1.8', 'Iris-virginica'],\n",
              "       ['6.7', '3.3', '5.7', '2.1', 'Iris-virginica'],\n",
              "       ['7.2', '3.2', '6.0', '1.8', 'Iris-virginica'],\n",
              "       ['6.2', '2.8', '4.8', '1.8', 'Iris-virginica'],\n",
              "       ['6.1', '3.0', '4.9', '1.8', 'Iris-virginica'],\n",
              "       ['6.4', '2.8', '5.6', '2.1', 'Iris-virginica'],\n",
              "       ['7.2', '3.0', '5.8', '1.6', 'Iris-virginica'],\n",
              "       ['7.4', '2.8', '6.1', '1.9', 'Iris-virginica'],\n",
              "       ['7.9', '3.8', '6.4', '2.0', 'Iris-virginica'],\n",
              "       ['6.4', '2.8', '5.6', '2.2', 'Iris-virginica'],\n",
              "       ['6.3', '2.8', '5.1', '1.5', 'Iris-virginica'],\n",
              "       ['6.1', '2.6', '5.6', '1.4', 'Iris-virginica'],\n",
              "       ['7.7', '3.0', '6.1', '2.3', 'Iris-virginica'],\n",
              "       ['6.3', '3.4', '5.6', '2.4', 'Iris-virginica'],\n",
              "       ['6.4', '3.1', '5.5', '1.8', 'Iris-virginica'],\n",
              "       ['6.0', '3.0', '4.8', '1.8', 'Iris-virginica'],\n",
              "       ['6.9', '3.1', '5.4', '2.1', 'Iris-virginica'],\n",
              "       ['6.7', '3.1', '5.6', '2.4', 'Iris-virginica'],\n",
              "       ['6.9', '3.1', '5.1', '2.3', 'Iris-virginica'],\n",
              "       ['5.8', '2.7', '5.1', '1.9', 'Iris-virginica'],\n",
              "       ['6.8', '3.2', '5.9', '2.3', 'Iris-virginica'],\n",
              "       ['6.7', '3.3', '5.7', '2.5', 'Iris-virginica'],\n",
              "       ['6.7', '3.0', '5.2', '2.3', 'Iris-virginica'],\n",
              "       ['6.3', '2.5', '5.0', '1.9', 'Iris-virginica'],\n",
              "       ['6.5', '3.0', '5.2', '2.0', 'Iris-virginica'],\n",
              "       ['6.2', '3.4', '5.4', '2.3', 'Iris-virginica'],\n",
              "       ['5.9', '3.0', '5.1', '1.8', 'Iris-virginica']], dtype='<U15')"
            ]
          },
          "execution_count": 43,
          "metadata": {},
          "output_type": "execute_result"
        }
      ],
      "source": [
        "# Importing numpy library and using np as a short form\n",
        "import numpy as np\n",
        "\n",
        "# The URL where the IRIS dataset can be downloaded from\n",
        "url = 'https://archive.ics.uci.edu/ml/machine-learning-databases/iris/iris.data'\n",
        "\n",
        "# Using numpy's genfrontext function to read the data as a numpy array\n",
        "iris_2d = np.genfromtxt(url, delimiter=',', dtype='str')\n",
        "\n",
        "# Printing the data\n",
        "iris_2d"
      ]
    },
    {
      "cell_type": "markdown",
      "metadata": {
        "id": "Lt0yDystj-qh"
      },
      "source": [
        "Each row in the Iris dataset has 5 elements. These correspond to *sepal_length*, *sepal_width*, *petal_length*, *petal_width*, and *type_of_iris_flower (sentosa, versicolor, or virginica)* respectively.\n",
        "\n",
        "One other thing to understand is that we have used a new function `np.genfromtxt()` above to read the text file as a numpy array. `np.genfromtxt()` takes in the file path (`url`), optional string to separate values (`delimiter`), and the optional data type (`dtype`). This function reads the file from the given path, using the given delimiter to separate elements into a list, and casts the objects given the data type, and returns an n-dimensional numpy array. In this case it is a 2-dimensional numpy array of shape (150,5).\n",
        "\n",
        "*There are several other optional arguments one can provide to this function, a comprehensive definition of which can be found [here](https://numpy.org/doc/stable/reference/generated/numpy.genfromtxt.html). In the near future, we will see a more robust function to read data from files using `pandas`*.\n"
      ]
    },
    {
      "cell_type": "markdown",
      "metadata": {
        "id": "wfGNVsfFlYHV"
      },
      "source": [
        "## Prompt\n",
        "\n",
        "Given the `iris_2d` array with 150 rows and 5 columns, create a new column for volume in the `iris_2d`, where volume is calculated as\n",
        "\n",
        "$volume = \\frac{(\\pi * petal\\_length * (sepal\\_ length)^2)}{3}$.\n",
        "\n",
        "For example, if the row you are dealing with is\n",
        "\n",
        "`['5.1', '3.5', '1.4', '0.2', 'Iris-setosa']`\n",
        "\n",
        "with `petal_legth` of `1.4` and `sepal_length` of `5.1`, then the volume will be:\n",
        "\n",
        "$volume = \\frac{\\pi * 1.4 * (5.1)^2}{3} = 38.13265162927291$\n",
        "\n",
        "Notes:\n",
        "\n",
        "1. You are not allowed to use iterations (loops, map, list comprehensions). Instead think of a numpy-based solution.\n",
        "2. Your solution should not be more than a couple of lines\n",
        "3. For the value of pi, use `np.pi`"
      ]
    },
    {
      "cell_type": "code",
      "execution_count": 44,
      "metadata": {
        "id": "5lHr1i-Eq2ID"
      },
      "outputs": [
        {
          "data": {
            "text/plain": [
              "array([['5.1', '3.5', '1.4', '0.2', 'Iris-setosa', '38.13265162927291'],\n",
              "       ['4.9', '3.0', '1.4', '0.2', 'Iris-setosa', '35.200498485922445'],\n",
              "       ['4.7', '3.2', '1.3', '0.2', 'Iris-setosa', '30.0723720777127'],\n",
              "       ['4.6', '3.1', '1.5', '0.2', 'Iris-setosa', '33.238050274980004'],\n",
              "       ['5.0', '3.6', '1.4', '0.2', 'Iris-setosa', '36.65191429188092'],\n",
              "       ['5.4', '3.9', '1.7', '0.4', 'Iris-setosa', '51.911677007917746'],\n",
              "       ['4.6', '3.4', '1.4', '0.3', 'Iris-setosa', '31.022180256648003'],\n",
              "       ['5.0', '3.4', '1.5', '0.2', 'Iris-setosa', '39.269908169872416'],\n",
              "       ['4.4', '2.9', '1.4', '0.2', 'Iris-setosa', '28.38324242763259'],\n",
              "       ['4.9', '3.1', '1.5', '0.1', 'Iris-setosa', '37.714819806345474'],\n",
              "       ['5.4', '3.7', '1.5', '0.2', 'Iris-setosa', '45.80442088933919'],\n",
              "       ['4.8', '3.4', '1.6', '0.2', 'Iris-setosa', '38.60389052731138'],\n",
              "       ['4.8', '3.0', '1.4', '0.1', 'Iris-setosa', '33.77840421139745'],\n",
              "       ['4.3', '3.0', '1.1', '0.1', 'Iris-setosa', '21.298950993787603'],\n",
              "       ['5.8', '4.0', '1.2', '0.2', 'Iris-setosa', '42.273270746704256'],\n",
              "       ['5.7', '4.4', '1.5', '0.4', 'Iris-setosa', '51.03517265756619'],\n",
              "       ['5.4', '3.9', '1.3', '0.4', 'Iris-setosa', '39.69716477076063'],\n",
              "       ['5.1', '3.5', '1.4', '0.3', 'Iris-setosa', '38.13265162927291'],\n",
              "       ['5.7', '3.8', '1.7', '0.3', 'Iris-setosa', '57.83986234524169'],\n",
              "       ['5.1', '3.8', '1.5', '0.3', 'Iris-setosa', '40.85641245993526'],\n",
              "       ['5.4', '3.4', '1.7', '0.2', 'Iris-setosa', '51.911677007917746'],\n",
              "       ['5.1', '3.7', '1.5', '0.4', 'Iris-setosa', '40.85641245993526'],\n",
              "       ['4.6', '3.6', '1.0', '0.2', 'Iris-setosa', '22.158700183320004'],\n",
              "       ['5.1', '3.3', '1.7', '0.5', 'Iris-setosa', '46.303934121259964'],\n",
              "       ['4.8', '3.4', '1.9', '0.2', 'Iris-setosa', '45.84212000118226'],\n",
              "       ['5.0', '3.0', '1.6', '0.2', 'Iris-setosa', '41.88790204786391'],\n",
              "       ['5.0', '3.4', '1.6', '0.4', 'Iris-setosa', '41.88790204786391'],\n",
              "       ['5.2', '3.5', '1.5', '0.2', 'Iris-setosa', '42.47433267653401'],\n",
              "       ['5.2', '3.4', '1.4', '0.2', 'Iris-setosa', '39.6427104980984'],\n",
              "       ['4.7', '3.2', '1.6', '0.2', 'Iris-setosa', '37.01215024949256'],\n",
              "       ['4.8', '3.1', '1.6', '0.2', 'Iris-setosa', '38.60389052731138'],\n",
              "       ['5.4', '3.4', '1.5', '0.4', 'Iris-setosa', '45.80442088933919'],\n",
              "       ['5.2', '4.1', '1.5', '0.1', 'Iris-setosa', '42.47433267653401'],\n",
              "       ['5.5', '4.2', '1.4', '0.2', 'Iris-setosa', '44.34881629317591'],\n",
              "       ['4.9', '3.1', '1.5', '0.1', 'Iris-setosa', '37.714819806345474'],\n",
              "       ['5.0', '3.2', '1.2', '0.2', 'Iris-setosa', '31.415926535897928'],\n",
              "       ['5.5', '3.5', '1.3', '0.2', 'Iris-setosa', '41.18104370080621'],\n",
              "       ['4.9', '3.1', '1.5', '0.1', 'Iris-setosa', '37.714819806345474'],\n",
              "       ['4.4', '3.0', '1.3', '0.2', 'Iris-setosa', '26.355867968515977'],\n",
              "       ['5.1', '3.4', '1.5', '0.2', 'Iris-setosa', '40.85641245993526'],\n",
              "       ['5.0', '3.5', '1.3', '0.3', 'Iris-setosa', '34.033920413889426'],\n",
              "       ['4.5', '2.3', '1.3', '0.3', 'Iris-setosa', '27.567475535250434'],\n",
              "       ['4.4', '3.2', '1.3', '0.2', 'Iris-setosa', '26.355867968515977'],\n",
              "       ['5.0', '3.5', '1.6', '0.6', 'Iris-setosa', '41.88790204786391'],\n",
              "       ['5.1', '3.8', '1.9', '0.4', 'Iris-setosa', '51.75145578258466'],\n",
              "       ['4.8', '3.0', '1.4', '0.3', 'Iris-setosa', '33.77840421139745'],\n",
              "       ['5.1', '3.8', '1.6', '0.2', 'Iris-setosa', '43.58017329059761'],\n",
              "       ['4.6', '3.2', '1.4', '0.2', 'Iris-setosa', '31.022180256648003'],\n",
              "       ['5.3', '3.7', '1.5', '0.2', 'Iris-setosa', '44.123668819668644'],\n",
              "       ['5.0', '3.3', '1.4', '0.2', 'Iris-setosa', '36.65191429188092'],\n",
              "       ['7.0', '3.2', '4.7', '1.4', 'Iris-versicolor',\n",
              "        '241.16959604057647'],\n",
              "       ['6.4', '3.2', '4.5', '1.5', 'Iris-versicolor',\n",
              "        '193.01945263655693'],\n",
              "       ['6.9', '3.1', '4.9', '1.5', 'Iris-versicolor',\n",
              "        '244.29966952110314'],\n",
              "       ['5.5', '2.3', '4.0', '1.3', 'Iris-versicolor',\n",
              "        '126.71090369478833'],\n",
              "       ['6.5', '2.8', '4.6', '1.5', 'Iris-versicolor',\n",
              "        '203.52284407505874'],\n",
              "       ['5.7', '2.8', '4.5', '1.3', 'Iris-versicolor',\n",
              "        '153.10551797269858'],\n",
              "       ['6.3', '3.3', '4.7', '1.6', 'Iris-versicolor',\n",
              "        '195.34737279286693'],\n",
              "       ['4.9', '2.4', '3.3', '1.0', 'Iris-versicolor',\n",
              "        '82.97260357396004'],\n",
              "       ['6.6', '2.9', '4.6', '1.3', 'Iris-versicolor',\n",
              "        '209.8332565185694'],\n",
              "       ['5.2', '2.7', '3.9', '1.4', 'Iris-versicolor',\n",
              "        '110.43326495898843'],\n",
              "       ['5.0', '2.0', '3.5', '1.0', 'Iris-versicolor',\n",
              "        '91.62978572970229'],\n",
              "       ['5.9', '3.0', '4.2', '1.5', 'Iris-versicolor',\n",
              "        '153.102376380045'],\n",
              "       ['6.0', '2.2', '4.0', '1.0', 'Iris-versicolor',\n",
              "        '150.79644737231007'],\n",
              "       ['6.1', '2.9', '4.7', '1.4', 'Iris-versicolor',\n",
              "        '183.14123813611934'],\n",
              "       ['5.6', '2.9', '3.6', '1.3', 'Iris-versicolor',\n",
              "        '118.22441473989107'],\n",
              "       ['6.7', '3.1', '4.4', '1.4', 'Iris-versicolor',\n",
              "        '206.83827152214724'],\n",
              "       ['5.6', '3.0', '4.5', '1.5', 'Iris-versicolor',\n",
              "        '147.78051842486386'],\n",
              "       ['5.8', '2.7', '4.1', '1.0', 'Iris-versicolor',\n",
              "        '144.43367505123953'],\n",
              "       ['6.2', '2.2', '4.5', '1.5', 'Iris-versicolor',\n",
              "        '181.1442324059875'],\n",
              "       ['5.6', '2.5', '3.9', '1.1', 'Iris-versicolor',\n",
              "        '128.07644930154868'],\n",
              "       ['5.9', '3.2', '4.8', '1.8', 'Iris-versicolor',\n",
              "        '174.97414443433715'],\n",
              "       ['6.1', '2.8', '4.0', '1.3', 'Iris-versicolor',\n",
              "        '155.86488352010159'],\n",
              "       ['6.3', '2.5', '4.9', '1.5', 'Iris-versicolor',\n",
              "        '203.66002695426553'],\n",
              "       ['6.1', '2.8', '4.7', '1.2', 'Iris-versicolor',\n",
              "        '183.14123813611934'],\n",
              "       ['6.4', '2.9', '4.3', '1.3', 'Iris-versicolor',\n",
              "        '184.4408102971544'],\n",
              "       ['6.6', '3.0', '4.4', '1.4', 'Iris-versicolor',\n",
              "        '200.71007145254472'],\n",
              "       ['6.8', '2.8', '4.8', '1.4', 'Iris-versicolor',\n",
              "        '232.42759088318724'],\n",
              "       ['6.7', '3.0', '5.0', '1.7', 'Iris-versicolor',\n",
              "        '235.04349036607638'],\n",
              "       ['6.0', '2.9', '4.5', '1.5', 'Iris-versicolor',\n",
              "        '169.64600329384882'],\n",
              "       ['5.7', '2.6', '3.5', '1.0', 'Iris-versicolor',\n",
              "        '119.08206953432112'],\n",
              "       ['5.5', '2.4', '3.8', '1.1', 'Iris-versicolor',\n",
              "        '120.3753585100489'],\n",
              "       ['5.5', '2.4', '3.7', '1.0', 'Iris-versicolor',\n",
              "        '117.2075859176792'],\n",
              "       ['5.8', '2.7', '3.9', '1.2', 'Iris-versicolor',\n",
              "        '137.38812992678882'],\n",
              "       ['6.0', '2.7', '5.1', '1.6', 'Iris-versicolor',\n",
              "        '192.26547039969532'],\n",
              "       ['5.4', '3.0', '4.5', '1.5', 'Iris-versicolor',\n",
              "        '137.41326266801755'],\n",
              "       ['6.0', '3.4', '4.5', '1.6', 'Iris-versicolor',\n",
              "        '169.64600329384882'],\n",
              "       ['6.7', '3.1', '4.7', '1.5', 'Iris-versicolor',\n",
              "        '220.94088094411177'],\n",
              "       ['6.3', '2.3', '4.4', '1.3', 'Iris-versicolor',\n",
              "        '182.87839155076904'],\n",
              "       ['5.6', '3.0', '4.1', '1.3', 'Iris-versicolor',\n",
              "        '134.6444723426537'],\n",
              "       ['5.5', '2.5', '4.0', '1.3', 'Iris-versicolor',\n",
              "        '126.71090369478833'],\n",
              "       ['5.5', '2.6', '4.4', '1.2', 'Iris-versicolor',\n",
              "        '139.38199406426716'],\n",
              "       ['6.1', '3.0', '4.6', '1.4', 'Iris-versicolor',\n",
              "        '179.2446160481168'],\n",
              "       ['5.8', '2.6', '4.0', '1.2', 'Iris-versicolor',\n",
              "        '140.9109024890142'],\n",
              "       ['5.0', '2.3', '3.3', '1.0', 'Iris-versicolor',\n",
              "        '86.3937979737193'],\n",
              "       ['5.6', '2.7', '4.2', '1.3', 'Iris-versicolor',\n",
              "        '137.92848386320625'],\n",
              "       ['5.7', '3.0', '4.2', '1.2', 'Iris-versicolor',\n",
              "        '142.89848344118533'],\n",
              "       ['5.7', '2.9', '4.2', '1.3', 'Iris-versicolor',\n",
              "        '142.89848344118533'],\n",
              "       ['6.2', '2.9', '4.3', '1.3', 'Iris-versicolor',\n",
              "        '173.09337763238804'],\n",
              "       ['5.1', '2.5', '3.0', '1.1', 'Iris-versicolor',\n",
              "        '81.71282491987051'],\n",
              "       ['5.7', '2.8', '4.1', '1.3', 'Iris-versicolor',\n",
              "        '139.49613859734757'],\n",
              "       ['6.3', '3.3', '6.0', '2.5', 'Iris-virginica',\n",
              "        '249.37962484195774'],\n",
              "       ['5.8', '2.7', '5.1', '1.9', 'Iris-virginica',\n",
              "        '179.66140067349306'],\n",
              "       ['7.1', '3.0', '5.9', '2.1', 'Iris-virginica',\n",
              "        '311.4564484793409'],\n",
              "       ['6.3', '2.9', '5.6', '1.8', 'Iris-virginica',\n",
              "        '232.7543165191606'],\n",
              "       ['6.5', '3.0', '5.8', '2.2', 'Iris-virginica',\n",
              "        '256.61575992072625'],\n",
              "       ['7.6', '3.0', '6.6', '2.1', 'Iris-virginica',\n",
              "        '399.20846167696214'],\n",
              "       ['4.9', '2.5', '4.5', '1.7', 'Iris-virginica',\n",
              "        '113.14445941903642'],\n",
              "       ['7.3', '2.9', '6.3', '1.8', 'Iris-virginica',\n",
              "        '351.57249227058014'],\n",
              "       ['6.7', '2.5', '5.8', '1.8', 'Iris-virginica',\n",
              "        '272.65044882464855'],\n",
              "       ['7.2', '3.6', '6.1', '2.5', 'Iris-virginica',\n",
              "        '331.1489984295929'],\n",
              "       ['6.5', '3.2', '5.1', '2.0', 'Iris-virginica',\n",
              "        '225.64489234408688'],\n",
              "       ['6.4', '2.7', '5.3', '1.9', 'Iris-virginica',\n",
              "        '227.33402199416705'],\n",
              "       ['6.8', '3.0', '5.5', '2.1', 'Iris-virginica',\n",
              "        '266.3232812203187'],\n",
              "       ['5.7', '2.5', '5.0', '2.0', 'Iris-virginica',\n",
              "        '170.1172421918873'],\n",
              "       ['5.8', '2.8', '5.1', '2.4', 'Iris-virginica',\n",
              "        '179.66140067349306'],\n",
              "       ['6.4', '3.2', '5.3', '2.3', 'Iris-virginica',\n",
              "        '227.33402199416705'],\n",
              "       ['6.5', '3.0', '5.5', '1.8', 'Iris-virginica',\n",
              "        '243.34253095930936'],\n",
              "       ['7.7', '3.8', '6.7', '2.2', 'Iris-virginica',\n",
              "        '415.99189682999014'],\n",
              "       ['7.7', '2.6', '6.9', '2.3', 'Iris-virginica',\n",
              "        '428.4095653920794'],\n",
              "       ['6.0', '2.2', '5.0', '1.5', 'Iris-virginica',\n",
              "        '188.4955592153876'],\n",
              "       ['6.9', '3.2', '5.7', '2.3', 'Iris-virginica',\n",
              "        '284.1853298510792'],\n",
              "       ['5.6', '2.8', '4.9', '2.0', 'Iris-virginica',\n",
              "        '160.91656450707399'],\n",
              "       ['7.7', '2.8', '6.7', '2.0', 'Iris-virginica',\n",
              "        '415.99189682999014'],\n",
              "       ['6.3', '2.7', '4.9', '1.8', 'Iris-virginica',\n",
              "        '203.66002695426553'],\n",
              "       ['6.7', '3.3', '5.7', '2.1', 'Iris-virginica',\n",
              "        '267.94957901732704'],\n",
              "       ['7.2', '3.2', '6.0', '1.8', 'Iris-virginica',\n",
              "        '325.7203263241898'],\n",
              "       ['6.2', '2.8', '4.8', '1.8', 'Iris-virginica',\n",
              "        '193.22051456638667'],\n",
              "       ['6.1', '3.0', '4.9', '1.8', 'Iris-virginica',\n",
              "        '190.93448231212446'],\n",
              "       ['6.4', '2.8', '5.6', '2.1', 'Iris-virginica',\n",
              "        '240.20198550327083'],\n",
              "       ['7.2', '3.0', '5.8', '1.6', 'Iris-virginica',\n",
              "        '314.86298211338345'],\n",
              "       ['7.4', '2.8', '6.1', '1.9', 'Iris-virginica',\n",
              "        '349.8016812115067'],\n",
              "       ['7.9', '3.8', '6.4', '2.0', 'Iris-virginica',\n",
              "        '418.27583468914986'],\n",
              "       ['6.4', '2.8', '5.6', '2.2', 'Iris-virginica',\n",
              "        '240.20198550327083'],\n",
              "       ['6.3', '2.8', '5.1', '1.5', 'Iris-virginica',\n",
              "        '211.97268111566407'],\n",
              "       ['6.1', '2.6', '5.6', '1.4', 'Iris-virginica',\n",
              "        '218.2108369281422'],\n",
              "       ['7.7', '3.0', '6.1', '2.3', 'Iris-virginica',\n",
              "        '378.73889114372236'],\n",
              "       ['6.3', '3.4', '5.6', '2.4', 'Iris-virginica',\n",
              "        '232.7543165191606'],\n",
              "       ['6.4', '3.1', '5.5', '1.8', 'Iris-virginica',\n",
              "        '235.91266433356955'],\n",
              "       ['6.0', '3.0', '4.8', '1.8', 'Iris-virginica',\n",
              "        '180.95573684677208'],\n",
              "       ['6.9', '3.1', '5.4', '2.1', 'Iris-virginica',\n",
              "        '269.22820722733815'],\n",
              "       ['6.7', '3.1', '5.6', '2.4', 'Iris-virginica',\n",
              "        '263.24870921000553'],\n",
              "       ['6.9', '3.1', '5.1', '2.3', 'Iris-virginica',\n",
              "        '254.27108460359707'],\n",
              "       ['5.8', '2.7', '5.1', '1.9', 'Iris-virginica',\n",
              "        '179.66140067349306'],\n",
              "       ['6.8', '3.2', '5.9', '2.3', 'Iris-virginica', '285.692247127251'],\n",
              "       ['6.7', '3.3', '5.7', '2.5', 'Iris-virginica',\n",
              "        '267.94957901732704'],\n",
              "       ['6.7', '3.0', '5.2', '2.3', 'Iris-virginica',\n",
              "        '244.4452299807194'],\n",
              "       ['6.3', '2.5', '5.0', '1.9', 'Iris-virginica',\n",
              "        '207.8163540349648'],\n",
              "       ['6.5', '3.0', '5.2', '2.0', 'Iris-virginica',\n",
              "        '230.0693019978925'],\n",
              "       ['6.2', '3.4', '5.4', '2.3', 'Iris-virginica', '217.373078887185'],\n",
              "       ['5.9', '3.0', '5.1', '1.8', 'Iris-virginica',\n",
              "        '185.9100284614832']], dtype='<U32')"
            ]
          },
          "execution_count": 44,
          "metadata": {},
          "output_type": "execute_result"
        }
      ],
      "source": [
        "iris_2d_with_volume = None #Assign your new array with an added column to this variable\n",
        "\n",
        "# Write your implementation below this line\n",
        "############### SOLUTION ###############\n",
        "# Calculating the volumes by getting required values from the iris_2d array by slicing and reshaping the array to a column vector\n",
        "volume = ((np.pi * iris_2d[:,2].astype('float') * iris_2d[:,0].astype('float')**2)/3).reshape(-1,1)\n",
        "iris_2d_with_volume = np.hstack([iris_2d,volume]) # Appending the volume column to the iris_2d array\n",
        "iris_2d_with_volume # Printing the array with the volume column appended\n",
        "\n",
        "############### SOLUTION END ###############\n"
      ]
    },
    {
      "cell_type": "markdown",
      "metadata": {
        "id": "goGyqP7dnRhU"
      },
      "source": [
        "## *Concepts required to complete this task*\n",
        "\n",
        "*   Array indexing and slicing (Also optionally `np.newaxis`)\n",
        "*   Array operations\n",
        "*   Combining Arrays\n",
        "\n",
        "\n"
      ]
    },
    {
      "cell_type": "markdown",
      "metadata": {
        "id": "I5kckt8_QYRs"
      },
      "source": [
        "## Rubric\n",
        "\n",
        "- +12 points for correctness (using `numpy` wherever necessary to achieve the desired output)\n",
        "- +8 points for conciseness\n",
        "- +5 points for proper comments and variable names"
      ]
    },
    {
      "cell_type": "markdown",
      "metadata": {
        "id": "IuRYqcxmn4vS"
      },
      "source": [
        "# Part II: One-hot encodings (25 points)\n",
        "\n",
        "**One-hot encoding** is a type of representation of data that is very popular in machine learning and natural language processing applications. One-hot encoding is an array (or a vector) representation where all the elements of the array are 0 except one, which has 1 as its value.\n",
        "\n",
        "For example, `[0,0,0,1,0,0]` is a one-hot array. That is simply because all the elements are `0` (or cold) except one which is `1` (or hot).\n",
        "\n",
        "Why do we use this? Where do we use this? Well.. in layman terms, let's say we had to create an *intelligent* program that was able to take the `petal_length` and the `sepal_length` as inputs, and predict the type of iris flower as output i.e. whether the flower is *sentosa*, *versicolor*, or *virginica*. Now our computers do not understand anything except 0s and 1s. So we need a way to represent *sentosa*, *versicolor*, or *virginica*. How do we do that? There are many ways. One of the ways we do that in practice is to create a vector representation where *sentosa* gets mapped to `[1,0,0]`, *versicolor* gets mapped to `[0,1,0]`, and *virginica* gets mapped to `[0,0,1]`. This makes it easier to process this data in machine learning algorithms. There are many intricate details related to one-hot encodings that are not important for this task, but you will learn those later in the course when we talk about machine learning and classification algorithms."
      ]
    },
    {
      "cell_type": "markdown",
      "metadata": {
        "id": "lV9TKQoByaD2"
      },
      "source": [
        "## Prompt\n",
        "\n",
        "Write a function called `create_one_hot()` that takes in an arbitrary list of elements, and returns the one-hot encodings for the list in the form of a 2D numpy array.\n",
        "\n",
        "Here are some examples for what your program should return on different inputs.\n",
        "\n",
        "\n",
        "\n",
        "\n"
      ]
    },
    {
      "cell_type": "markdown",
      "metadata": {
        "id": "HBtF34CND2Uo"
      },
      "source": [
        "### Example 1\n",
        "\n",
        "If the input was\n",
        "\n",
        "`['sentosa', 'versicolor', 'virginica', 'virginica', 'sentosa']`\n",
        "\n",
        "Your function should return\n",
        "\n",
        "`[[1,0,0],[0,1,0],[0,0,1],[0,0,1],[1,0,0]]`\n",
        "\n",
        "**A very important note:** In this example, we assume `sentosa` to be mapped to `[1,0,0]`, `versicolor` to be mapped to `[0,1,0]`, and `virginica` to be mapped to `[0,0,1]`. However, in practice, you can assign any place to any element in the input list as long as it is **consistent**. For example if you assume `virginica` to be `[1,0,0]`, `sentosa` to be `[0,1,0]` and `versicolor` to be `[0,0,1]`, then your program should return\n",
        "\n",
        "`[[0,1,0],[0,0,1],[1,0,0],[1,0,0],[0,1,0]]`\n",
        "\n",
        "Both of these are valid outputs from your function. It will depend on how you map each element in the list."
      ]
    },
    {
      "cell_type": "markdown",
      "metadata": {
        "id": "PYyxoEJDD9AH"
      },
      "source": [
        "### Example 2\n",
        "\n",
        "If the input was\n",
        "\n",
        "`[2,3,2,2,1,4]`\n",
        "\n",
        "Your function should return\n",
        "\n",
        "`[\n",
        "    [0,1,0,0],\n",
        "    [0,0,1,0],\n",
        "    [0,1,0,0],\n",
        "    [0,1,0,0],\n",
        "    [1,0,0,0],\n",
        "    [0,0,0,1]\n",
        "]`"
      ]
    },
    {
      "cell_type": "markdown",
      "metadata": {
        "id": "AAxdqhMIGQtM"
      },
      "source": [
        "Notes:\n",
        "\n",
        "1. The input to your function is a list, and not a numpy array.\n",
        "2. Your function should use numpy functions.\n",
        "3. Our reference solution is no more than 10 lines of code.\n",
        "4. For an efficient implementation, you should look at `np.unique()`, `np.zeros()` and use `enumerate`.\n",
        "5. For an even compact implementation (1 line), you could optionally look at `np.view()` in conjunction with `np.unique()` and array slicing."
      ]
    },
    {
      "cell_type": "code",
      "execution_count": 45,
      "metadata": {
        "id": "ixORrJpgEhS3"
      },
      "outputs": [
        {
          "name": "stdout",
          "output_type": "stream",
          "text": [
            "[[1, 0, 0], [0, 1, 0], [0, 0, 1], [0, 0, 1], [1, 0, 0]]\n",
            "[[1, 0, 0], [1, 0, 0], [0, 1, 0], [0, 1, 0], [0, 0, 1]]\n",
            "[[1, 0, 0], [1, 0, 0], [0, 1, 0], [0, 0, 1], [0, 0, 1]]\n"
          ]
        }
      ],
      "source": [
        "def create_one_hot(lst):\n",
        "\n",
        "    # Write your implementation below this line\n",
        "\n",
        "    ############### SOLUTION ###############\n",
        "    '''\n",
        "    The idea is to map each unique element in the list to a row (or column) in an identity matrix\n",
        "    So, for instance, if we have 2 unique elements in the list, we will create a 2x2 identity matrix [[1, 0], [0, 1]]\n",
        "    These will be our one-hot encoded vectors for each element in the list\n",
        "    '''\n",
        "    indices = np.unique(lst, return_inverse=True)[1]  # Getting the indices of the unique elements in the list\n",
        "    return np.eye(len(np.unique(lst)))[indices].astype(int).tolist()  # Creating the identity matrix and returning it as a list of integers\n",
        "\n",
        "    ############### SOLUTION END ###############\n",
        "\n",
        "\n",
        "# How we will call your function\n",
        "print(create_one_hot(['sentosa', 'versicolor', 'virginica', 'virginica', 'sentosa']))\n",
        "print(create_one_hot(['1', '1', '2', '2', '3']))\n",
        "print(create_one_hot([1, 1, 2, 3, 3]))\n"
      ]
    },
    {
      "cell_type": "markdown",
      "metadata": {
        "id": "N08hHBwwoHHT"
      },
      "source": [
        "## *Concepts required to complete this task*\n",
        "\n",
        "*   Creating arrays\n",
        "*   Iterating over arrays\n",
        "*   Array Indexing and Slicing"
      ]
    },
    {
      "cell_type": "markdown",
      "metadata": {
        "id": "9goszZwDQZ5d"
      },
      "source": [
        "## Rubric\n",
        "\n",
        "- +12 points for correctness (using `numpy` wherever necessary to achieve the desired output)\n",
        "- +8 points for conciseness\n",
        "- +5 points for proper comments and variable names"
      ]
    },
    {
      "cell_type": "markdown",
      "metadata": {
        "id": "AORs-0rkn9Rf"
      },
      "source": [
        "# Part III: *That's not even a number!* (25 points)\n",
        "\n",
        "A huge chunk of your time in this course and in your projects will be spent in the task of **data wrangling**. *Data wrangling* is a popular term in data science that is used to define the initial process of refining and cleaning raw data into content or formats better-suited for consumption by downstream tasks. Legend has it that data scientists spend about 80% of their time cleaning and manipulating data.\n",
        "\n",
        "Now, in computing, there is such a thing as `NaN`, standing for **Not a Number**. It is a member of a numeric data type that can be interpreted as a value that is undefined or unrepresentable. NaNs typically represent *missing values* in a data.\n",
        "\n",
        "NaNs are not good for many downstream tasks such as visualizations or training machine learning algorithms. Therefore, we must deal with them somehow by either filtering them out, or *impute* them with appropriate values such as 0s or mean of the data or row or column. In this task we will impute them with the *mean* of the column.\n"
      ]
    },
    {
      "cell_type": "markdown",
      "metadata": {
        "id": "HtNBWJS0oSz2"
      },
      "source": [
        "## Prompt\n",
        "\n",
        "We have a 2D numpy array with NaNs at many places in the array, and we would like to replace NaNs with the mean of the column they are part of. Write a function called `impute_NaNs()` that takes as input the `array_2d` and returns the appropriately imputed `imputed_array_2d`.\n",
        "\n"
      ]
    },
    {
      "cell_type": "markdown",
      "metadata": {
        "id": "zjVVxQXqIcqc"
      },
      "source": [
        "### Example\n",
        "\n",
        "If your input array was\n",
        "\n",
        "```\n",
        "[ [1,  NaN,  3],\n",
        "  [NaN, 2,   4],\n",
        "  [3,   3,   5]]\n",
        "```\n",
        "\n",
        "Then your function should output\n",
        "\n",
        "```\n",
        "[ [1,  2.5,  3],\n",
        "  [2,   2,   4],\n",
        "  [3,   3,   5]]\n",
        "```"
      ]
    },
    {
      "cell_type": "markdown",
      "metadata": {
        "id": "kIeCM1E7KiUU"
      },
      "source": [
        "Notes:\n",
        "\n",
        "1. Use numpy functions, and avoid loops wherever possible.\n",
        "2. NaN is represented by `np.nan`\n",
        "3. Look up `np.mean` and `np.nanmean` functions either of which may be useful based on how you implement your function.\n",
        "4. Also look up `np.isnan` as it may come handy.\n",
        "5. You should not need to use any other numpy functions besides the one taught in class, and recitation, or explicitly mentioned in this handout. If you do, comment them well, and be prepared to explain them.\n",
        "6. Our reference solution is no more than 3 lines of code."
      ]
    },
    {
      "cell_type": "code",
      "execution_count": 46,
      "metadata": {
        "id": "AcqdJNb-vtIt"
      },
      "outputs": [],
      "source": [
        "def impute_NaNs(array_2d):\n",
        "  # Write your implementation below this line\n",
        "  ############### SOLUTION ###############\n",
        "  col_mean = np.nanmean(array_2d, axis=0) # Compute nanmean of each column\n",
        "  inds = np.where(np.isnan(array_2d)) # Find indices where nan values are present\n",
        "  array_2d[inds] = np.take(col_mean, inds[1]) # Replace the nan values with the mean values\n",
        "\n",
        "  ############### SOLUTION END ###########\n",
        "  # Returning the imputed array\n",
        "  return array_2d\n"
      ]
    },
    {
      "cell_type": "code",
      "execution_count": 47,
      "metadata": {
        "id": "l3L-mqNlKLFR"
      },
      "outputs": [
        {
          "name": "stdout",
          "output_type": "stream",
          "text": [
            "[[1.  2.5 4.5]\n",
            " [2.  2.  4. ]\n",
            " [3.  3.  5. ]]\n"
          ]
        }
      ],
      "source": [
        "# How we may test your solution\n",
        "array_2d = np.array([[1, np.nan, np.nan],\n",
        "                      [np.nan, 2, 4],\n",
        "                      [3, 3, 5]])\n",
        "print(impute_NaNs(array_2d))"
      ]
    },
    {
      "cell_type": "markdown",
      "metadata": {
        "id": "ojM_ZaJUoWXw"
      },
      "source": [
        "## *Concepts required to complete this task*\n",
        "\n",
        "*   Array indexing and slicing\n",
        "*   Iterating over arrays\n",
        "*   Numpy library (`np.where`, `np.isnan`, `np.mean`, etc.)\n"
      ]
    },
    {
      "cell_type": "markdown",
      "metadata": {
        "id": "4yXw-28dQg9r"
      },
      "source": [
        "## Rubric\n",
        "\n",
        "- +12 points for correctness (using `numpy` wherever necessary to achieve the desired output)\n",
        "- +8 points for conciseness\n",
        "- +5 points for proper comments and variable names"
      ]
    },
    {
      "cell_type": "markdown",
      "metadata": {
        "id": "oQto8PXbTEaP"
      },
      "source": [
        "## Interesting things about NaNs\n",
        "\n",
        "Here's one interesting fact about NaNs:"
      ]
    },
    {
      "cell_type": "code",
      "execution_count": 48,
      "metadata": {
        "id": "_7NaAaGsTKaC"
      },
      "outputs": [
        {
          "data": {
            "text/plain": [
              "False"
            ]
          },
          "execution_count": 48,
          "metadata": {},
          "output_type": "execute_result"
        }
      ],
      "source": [
        "np.nan == np.nan # :D"
      ]
    },
    {
      "cell_type": "markdown",
      "metadata": {
        "id": "EKjqCvd7V18o"
      },
      "source": [
        "Another interesting fact about NaNs:"
      ]
    },
    {
      "cell_type": "code",
      "execution_count": 49,
      "metadata": {
        "id": "Uz1m9l99Tv_E"
      },
      "outputs": [
        {
          "data": {
            "text/plain": [
              "True"
            ]
          },
          "execution_count": 49,
          "metadata": {},
          "output_type": "execute_result"
        }
      ],
      "source": [
        "np.nan in [np.nan] # Mind == Blown! (Not really if you give it some thought :))\n",
        "# Is it because something that's not a number does in fact exist in a list of things that are not numbers?"
      ]
    },
    {
      "cell_type": "markdown",
      "metadata": {
        "id": "xFXpILWIoay_"
      },
      "source": [
        "# Part IV: Softmax (25 points)\n",
        "\n",
        "If you ever pursue a career in machine learning or deep learning, **softmax** is a mathemetical function that you will most certainly come across. In simple terms softmax turns arbitrary real values into probabilities such that they sum up to 1, transforming the values into a probability distribution.\n",
        "\n",
        "In fancy terms, given $n$ numbers, $x_1 \\ldots x_n$, softmax performs the following transform on $n$ numbers:\n",
        "\n",
        "$$s(x_i) = \\frac{e^{x_i}}{\\sum_{j=1}^{n}e^{x_j}}$$\n",
        "\n",
        "Don't get intimidated by the equation. What is basically happening here is the following:\n",
        "\n",
        "1. We raise $e$ (the mathematical constant) to the power of each of the numbers, and sum up all the exponentials (powers of e). This result is the *denominator*.\n",
        "2. Then we use each number's exponential as its *numerator*.\n",
        "3. Finally, $softmax = \\frac{numerator}{denominator}$\n"
      ]
    },
    {
      "cell_type": "markdown",
      "metadata": {
        "id": "L7IyPub1o7Ok"
      },
      "source": [
        "## Prompt\n",
        "\n",
        "In this part of the assignment, we want you to simply implement softmax using numpy.\n",
        "\n",
        "More concretely, given a python list, write a function that takes in the list, and returns a numpy array of softmax values of the elements in the list. Your function should not be more than 2 lines of code, and you may use `np.exp()` function to compute the exponent. Once you are done, validate that the sum of the elements in your output array equals 1 using numpy. `np.exp()` takes in a numpy array and returns the exponent of each of the elements in the array."
      ]
    },
    {
      "cell_type": "code",
      "execution_count": 50,
      "metadata": {
        "id": "wScq9vk_ojPN"
      },
      "outputs": [
        {
          "data": {
            "text/plain": [
              "1.0"
            ]
          },
          "execution_count": 50,
          "metadata": {},
          "output_type": "execute_result"
        }
      ],
      "source": [
        "def softmax(lst):\n",
        "  # Write your implementation of the function below this line\n",
        "\n",
        "  ######### SOLUTION #########\n",
        "  return np.exp(lst)/np.sum(np.exp(lst),axis=0)\n",
        "\n",
        "  ######### SOLUTION END #########\n",
        "\n",
        "example_lst = [-1, 0, 3, 5, 6, -1, 0, -3]\n",
        "output_array = softmax(example_lst)\n",
        "\n",
        "# Write your implementation validating that the sum equals 1 here\n",
        "######### SOLUTION #########\n",
        "np.sum(output_array)\n",
        "\n",
        "######### SOLUTION END #########"
      ]
    },
    {
      "cell_type": "markdown",
      "metadata": {
        "id": "CjJ5oljepCBX"
      },
      "source": [
        "## *Concepts required to complete this task*\n",
        "\n",
        "*   Array Operations\n",
        "*   `np.exp()`"
      ]
    },
    {
      "cell_type": "markdown",
      "metadata": {
        "id": "f2uaLtzGQiXI"
      },
      "source": [
        "## Rubric\n",
        "\n",
        "- +12 points for correctness (using `numpy` wherever necessary to achieve the desired output)\n",
        "- +8 points for conciseness\n",
        "- +5 points for proper comments and variable names"
      ]
    }
  ],
  "metadata": {
    "colab": {
      "collapsed_sections": [
        "PUxdctIdxU6B"
      ],
      "provenance": [],
      "toc_visible": true
    },
    "kernelspec": {
      "display_name": "Python 3",
      "name": "python3"
    },
    "language_info": {
      "codemirror_mode": {
        "name": "ipython",
        "version": 3
      },
      "file_extension": ".py",
      "mimetype": "text/x-python",
      "name": "python",
      "nbconvert_exporter": "python",
      "pygments_lexer": "ipython3",
      "version": "3.11.0"
    }
  },
  "nbformat": 4,
  "nbformat_minor": 0
}
