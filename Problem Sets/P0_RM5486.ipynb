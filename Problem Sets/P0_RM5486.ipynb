{
  "cells": [
    {
      "cell_type": "markdown",
      "metadata": {
        "id": "PUxdctIdxU6B"
      },
      "source": [
        "---\n",
        "# General Instructions\n",
        "---\n",
        "\n",
        "This homework is worth 0 points. However, this is a required homework to take this course. This is also an assessment of your ability to take this course. If you are unfamiliar with the syntax and concepts within this assignment, please make an effort to learn them using online resources. If you find the questions in this assignment very challenging, please talk to one of the instructors before taking this course.\n",
        "\n",
        "This homework has 6 parts with an additional \"show off\" part. All the parts need to be completed in this Python Notebook.\n",
        "\n",
        "## Distribution of Class Materials\n",
        "These problem sets and recitations are intellectual property of NYUAD, and we request the students to **not** distribute them or their solutions to other students who have not signed up for this class, and/or intend to sign up in the future. We also request you don't post these problem sets, and recitations online or on any public platforms.\n",
        "\n",
        "## Submission\n",
        "\n",
        "You will submit all your code as a Python Notebook through [Brightspace](https://brightspace.nyu.edu/) as **P0_YOUR NETID.ipynb**.\n",
        "\n",
        "----"
      ]
    },
    {
      "cell_type": "markdown",
      "metadata": {
        "id": "PPJ9GjGFD2ng"
      },
      "source": [
        "### Part I: Hello World!\n",
        "\n",
        "The first thing any programmer has ever coded in their life is printing `Hello World!`. That is also the first thing you will do as part of this course. \n",
        "\n",
        "Write the code that prints `Hello World!` upon execution below."
      ]
    },
    {
      "cell_type": "code",
      "execution_count": 17,
      "metadata": {
        "collapsed": true,
        "id": "5lHr1i-Eq2ID"
      },
      "outputs": [
        {
          "name": "stdout",
          "output_type": "stream",
          "text": [
            "Hello World!\n"
          ]
        }
      ],
      "source": [
        "# Write your code for Part I below this line\n",
        "print(\"Hello World!\") # Prints hello world"
      ]
    },
    {
      "cell_type": "markdown",
      "metadata": {
        "id": "o5J0UprU9lBV"
      },
      "source": [
        "### Part II: Printing Expressions\n",
        "\n",
        "For this task, let us assume there are two variables `x` and `y`. Write a program that prints the product of `x` and `y` for `any` arbitrary value of `x` and `y`. \n",
        "\n",
        "For example, if `x=5` and `y=10`, your program should print the following:\n",
        "\n",
        "`The product of 5 and 10 is 50`."
      ]
    },
    {
      "cell_type": "code",
      "execution_count": 18,
      "metadata": {
        "id": "x4k1tU9Zq2II"
      },
      "outputs": [
        {
          "name": "stdout",
          "output_type": "stream",
          "text": [
            "The product of 50 and 100 is 5000.\n"
          ]
        }
      ],
      "source": [
        "x = 50 # This can be an arbitrary value\n",
        "y = 100 # This can also be an arbitrary value\n",
        "\n",
        "# Write your code for Part II below this line\n",
        "# Using Python's f-string formatting since it's what I know best\n",
        "print(f\"The product of {x} and {y} is {x*y}.\")\n"
      ]
    },
    {
      "cell_type": "markdown",
      "metadata": {
        "id": "k-CI-GFw9yrH"
      },
      "source": [
        "### Part III: `if` you can do this, take this course\n",
        "\n",
        "Bedoor has lost her calculator :-(, and would like you to code a program that can help her do basic math calculations. \n",
        "\n",
        "More concretely, given two variables, `var1` and `var2` with arbitrary values, and another variable called `operator`, write a program that sums `var1` and `var2` and prints the result if the value of `operator` is \"+\", subtracts `var1` from `var2` and prints the result if the value of `operator` is \"-\", multiplies `var1` and `var2` and prints the result if the value of `operator` is \"*\", divides `var1` by `var2` and prints the result if the value of `operator` is \"/\", else prints `Invalid Operation` if the value of `operator` is none of the above choices.\n",
        "\n",
        "For example, if `var1=5`, `var2=5`, and `operator=\"*\"`, your program should print `25`."
      ]
    },
    {
      "cell_type": "code",
      "execution_count": 19,
      "metadata": {
        "collapsed": true,
        "id": "wEt6Nmbyq2IO"
      },
      "outputs": [
        {
          "name": "stdout",
          "output_type": "stream",
          "text": [
            "The product of 5 and 5 is 25.\n"
          ]
        }
      ],
      "source": [
        "var1 = 5 # This can be an arbitrary value\n",
        "var2 = 5 # This can also be an arbitrary value\n",
        "operator = \"*\" # This can be \"+\" or \"-\" or \"*\" or anything else\n",
        "\n",
        "# Write your code for Part III below this line\n",
        "# Using an if-else ladder to work according to the operator\n",
        "# And using f-string formatting to print the result\n",
        "if operator == \"+\":\n",
        "    print(f\"The sum of {var1} and {var2} is {var1+var2}.\")\n",
        "elif operator == \"-\":\n",
        "    print(f\"The difference of {var1} and {var2} is {var1-var2}.\")\n",
        "elif operator == \"*\":\n",
        "    print(f\"The product of {var1} and {var2} is {var1*var2}.\")\n",
        "elif operator == \"/\":\n",
        "    print(f\"The quotient of {var1} and {var2} is {var1/var2}.\")\n",
        "else:\n",
        "    print(\"Invalid operator.\")"
      ]
    },
    {
      "cell_type": "markdown",
      "metadata": {
        "id": "2x_1s3jP-k2O"
      },
      "source": [
        "### Part IV: Don't run it `for`ever\n",
        "\n",
        "Given two variables `n` and `announcement`, write a program that prints the value of `announcement` `n` number of times. \n",
        "\n",
        "For example, if `n=3`, and `announcement=\"I love Data Science!\"`, your program should print **`I love Data Science`** 3 times in a row. "
      ]
    },
    {
      "cell_type": "code",
      "execution_count": 20,
      "metadata": {
        "collapsed": true,
        "id": "Buxi_L2JD2ni"
      },
      "outputs": [
        {
          "name": "stdout",
          "output_type": "stream",
          "text": [
            "I love Data Science!\n",
            "I love Data Science!\n",
            "I love Data Science!\n"
          ]
        }
      ],
      "source": [
        "n = 3 # This can be an arbitrary value\n",
        "announcement = \"I love Data Science!\" # This can also be an arbitrary value\n",
        "\n",
        "# Write your code for Part IV below this line\n",
        "# Print the announcement until i becomes equal to n\n",
        "for i in range(n):\n",
        "    print(announcement)\n"
      ]
    },
    {
      "cell_type": "markdown",
      "metadata": {
        "id": "Oiu5m6rvD2nj"
      },
      "source": [
        "### Part V: May the `for`s be with you\n",
        "\n",
        "Star Wars is an American franchise which has created multiple live-action and animated films. Two of the most famous dialogues from Star Wars are **\"May the force be with you\"** by the character **Obi-Wan Kenobi**, and **\"I find your lack of faith disturbing.\"** by the character **Darth Vader**. \n",
        "\n",
        "Given two variables, `n`, and `character`, write a program that prints **`May the force be with you.`** `n` number of times if the value of `character` is `\"obi\"`, and prints **`I find your lack of faith disturbing.`** `n` number of times if the value of `character` is `\"vader\"`."
      ]
    },
    {
      "cell_type": "code",
      "execution_count": 21,
      "metadata": {
        "collapsed": true,
        "id": "KdICO8dUD2nj"
      },
      "outputs": [
        {
          "name": "stdout",
          "output_type": "stream",
          "text": [
            "May the force be with you.\n",
            "May the force be with you.\n",
            "May the force be with you.\n"
          ]
        }
      ],
      "source": [
        "# Write your code for Part V below this line\n",
        "n = 3 # This can be an arbitrary value\n",
        "character = \"obi\"\n",
        "\n",
        "# While i is lesser tah n, print the appropriate statement for the character\n",
        "# Also, as a bonus, I've added a check to make the character input case-insensitive\n",
        "for i in range(n):\n",
        "    if character.lower() == \"obi\":\n",
        "        print(\"May the force be with you.\")\n",
        "    elif character.lower() == \"vader\":\n",
        "        print(\"I find your lack of faith disturbing.\")"
      ]
    },
    {
      "cell_type": "markdown",
      "metadata": {
        "id": "qRaTZzKsD2nk"
      },
      "source": [
        "## Part VI: It will take a `while` to run this\n",
        "\n",
        "Python has many builtin functions. An example of a simple builtin function is `print` that you have used many times now in previous parts. \n",
        "\n",
        "Another interesting builtin function within the **Random** module of python is the function called `randint`. `randint` takes two integers as arguments `a` and `b`, and generates a random number between `a` and `b`. If you are not familiar with what a module or a function is, think of `randint` as a magic box which takes two integers, and returns a random number between those integers. \n",
        "\n",
        "For instance, `randint(1,10)` will return a random integer between `1` and `10` (both included). "
      ]
    },
    {
      "cell_type": "code",
      "execution_count": 22,
      "metadata": {
        "id": "iDKkO7PHD2nk"
      },
      "outputs": [
        {
          "name": "stdout",
          "output_type": "stream",
          "text": [
            "7\n"
          ]
        }
      ],
      "source": [
        "# Here is the running example\n",
        "from random import randint #importing the randint function\n",
        "print(randint(1,10))"
      ]
    },
    {
      "cell_type": "markdown",
      "metadata": {
        "id": "vGb6yj_tD2nl"
      },
      "source": [
        "In this task, you will write a program that will generate and print a random number between 1 and 9999 indefinitely, and will only stop when the generated random number is divisible by 7."
      ]
    },
    {
      "cell_type": "code",
      "execution_count": 23,
      "metadata": {
        "collapsed": true,
        "id": "QiPxKS9DD2nl"
      },
      "outputs": [
        {
          "name": "stdout",
          "output_type": "stream",
          "text": [
            "8140\n",
            "7552\n",
            "200\n",
            "6308\n",
            "62\n"
          ]
        }
      ],
      "source": [
        "# Write your code for Part VI below this line\n",
        "# Here, I've used the modulo operator to check divisibility\n",
        "num = randint(1, 9999) # Generating a random number between 1 and 9999 (inclusive)\n",
        "while not num % 7 == 0:  # While the number is not divisible by 7\n",
        "    print(num)\n",
        "    num = randint(1, 9999)  # Generate a new number\n"
      ]
    },
    {
      "cell_type": "markdown",
      "metadata": {
        "id": "bpciHt5-D2nl"
      },
      "source": [
        "## Part VII: FUNctions (Optional)\n",
        "\n",
        "Write a python function `fun` that takes in 2 arguments `a` and `b` and returns `True` if `a` divides `b`, else returns `False`. \n",
        "\n",
        "For example, `fun(10,100)` should return `True` as 10 divides 100, whereas `fun(3,100)` should return `False`."
      ]
    },
    {
      "cell_type": "code",
      "execution_count": 24,
      "metadata": {
        "id": "w7ASlTj1D2nm"
      },
      "outputs": [],
      "source": [
        "def fun(a,b):\n",
        "    # Write your code for Part VII below this line\n",
        "    # Return true if a divides b, else return false\n",
        "    if b % a == 0:\n",
        "        return True\n",
        "    else:\n",
        "        return False\n",
        "\n",
        "'''\n",
        "These assertions will not throw error \n",
        "if you write your function above correctly.\n",
        "'''\n",
        "\n",
        "assert(fun(10,100) == True)\n",
        "assert(fun(3,100) == False)"
      ]
    }
  ],
  "metadata": {
    "colab": {
      "provenance": []
    },
    "kernelspec": {
      "display_name": "Python 3",
      "name": "python3"
    },
    "language_info": {
      "codemirror_mode": {
        "name": "ipython",
        "version": 3
      },
      "file_extension": ".py",
      "mimetype": "text/x-python",
      "name": "python",
      "nbconvert_exporter": "python",
      "pygments_lexer": "ipython3",
      "version": "3.11.0"
    }
  },
  "nbformat": 4,
  "nbformat_minor": 0
}
