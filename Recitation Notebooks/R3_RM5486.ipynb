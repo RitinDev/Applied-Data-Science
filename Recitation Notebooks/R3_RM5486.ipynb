{
  "cells": [
    {
      "cell_type": "markdown",
      "metadata": {
        "id": "PUxdctIdxU6B"
      },
      "source": [
        "---\n",
        "---\n",
        "Recitation 3: Numerical Python\n",
        "\n",
        "Applied Data Science in Python for Social Scientists\n",
        "\n",
        "New York University, Abu Dhabi\n",
        "\n",
        "Dated: 12th Sept 2023\n",
        "\n",
        "---\n",
        "---\n",
        "#Start Here\n",
        "## Learning Goals\n",
        "### General Goals\n",
        "- Learn the basics of programming in Python\n",
        "- Learn to process data\n",
        "- Learn to represent arrays for efficient computation\n",
        "\n",
        "### Specific Goals\n",
        "- Learn the numpy library and some of its basic functions\n",
        "- Learn to use numpy for different problems\n",
        "\n",
        "## Distribution of Class Materials\n",
        "These problem sets and recitations are intellectual property of NYUAD, and we request the students to **not** distribute them or their solutions to other students who have not signed up for this class, and/or intend to sign up in the future. We also request you don't post these problem sets, and recitations online or on any public platforms.\n",
        "\n",
        "## Submission\n",
        "You will submit all your code as a Python Notebook through [Brightspace](https://brightspace.nyu.edu/) as **R3_YOUR NETID.ipynb**.\n",
        "\n",
        "---\n",
        "\n",
        "\n"
      ]
    },
    {
      "cell_type": "markdown",
      "metadata": {
        "id": "UPMDlF4mjG6v"
      },
      "source": [
        "# General Instructions\n",
        "This recitation is worth 50 points. It has 4 parts. All the parts need to be completed in a Jupyter (Colab) Notebook attached with this handout.\n",
        "\n"
      ]
    },
    {
      "cell_type": "markdown",
      "metadata": {
        "id": "TByIqqvNWG2r"
      },
      "source": [
        "# Part I: Evenly-spaced columns (15 points)\n",
        "\n",
        "Write a function `even_column_array(start_lst, end_lst, r, c)` that takes in 4 arguments `start_lst`,`end_lst`,`r`, and `c`, and returns a two-dimensional numpy array with `r` rows and `c` columns such that each column has evenly spaced values starting from its corresponding index in the `start_lst`, and ending at its corresponding index in the `end_lst`.\n",
        "\n",
        "For example, if we call the function\n",
        "\n",
        " `even_column_array([2,5,9], [100,130,160], 10, 3)`\n",
        "\n",
        "such that\n",
        "\n",
        "```\n",
        "start_lst = [2,5,9]\n",
        "end_lst = [100,130,160]\n",
        "r = 10\n",
        "c = 3\n",
        "```\n",
        "\n",
        "Then we want your function to return a two dimensional array with 3 columns, with each column having 10 evenly spaced values, with first column having evenly spaced values from 2 to 100, second column having evenly spaced values from 5 to 130, and third column having evenly spaced values from 9 to 160.\n",
        "\n",
        "Your output for the above example will hence be the following:\n",
        "\n",
        "```\n",
        "array([[  2.        ,   5.        ,   9.        ],\n",
        "       [ 12.88888889,  18.88888889,  25.77777778],\n",
        "       [ 23.77777778,  32.77777778,  42.55555556],\n",
        "       [ 34.66666667,  46.66666667,  59.33333333],\n",
        "       [ 45.55555556,  60.55555556,  76.11111111],\n",
        "       [ 56.44444444,  74.44444444,  92.88888889],\n",
        "       [ 67.33333333,  88.33333333, 109.66666667],\n",
        "       [ 78.22222222, 102.22222222, 126.44444444],\n",
        "       [ 89.11111111, 116.11111111, 143.22222222],\n",
        "       [100.        , 130.        , 160.        ]])\n",
        "```"
      ]
    },
    {
      "cell_type": "markdown",
      "metadata": {
        "id": "U18sQ8m1fbL5"
      },
      "source": [
        "Our reference solution is no more than 4 lines of code. The most robust solution is just 1 line of code."
      ]
    },
    {
      "cell_type": "code",
      "execution_count": 34,
      "metadata": {
        "id": "LZrWB7-KnPIc"
      },
      "outputs": [
        {
          "data": {
            "text/plain": [
              "array([[  2.        ,   5.        ,   9.        ],\n",
              "       [ 12.88888889,  18.88888889,  25.77777778],\n",
              "       [ 23.77777778,  32.77777778,  42.55555556],\n",
              "       [ 34.66666667,  46.66666667,  59.33333333],\n",
              "       [ 45.55555556,  60.55555556,  76.11111111],\n",
              "       [ 56.44444444,  74.44444444,  92.88888889],\n",
              "       [ 67.33333333,  88.33333333, 109.66666667],\n",
              "       [ 78.22222222, 102.22222222, 126.44444444],\n",
              "       [ 89.11111111, 116.11111111, 143.22222222],\n",
              "       [100.        , 130.        , 160.        ]])"
            ]
          },
          "execution_count": 34,
          "metadata": {},
          "output_type": "execute_result"
        }
      ],
      "source": [
        "import numpy as np\n",
        "\n",
        "def even_column_array(start_lst, end_lst, r, c):\n",
        "    # Write your code below this line\n",
        "    ######### SOLUTION #########\n",
        "    # Using the linspace function from numpy to create a 2D array of evenly spaced numbers with r rows\n",
        "    return np.linspace(start_lst, end_lst, r)[:,:c] # Only return the first c columns\n",
        "\n",
        "\n",
        "    ######### SOLUTION END #########\n",
        "\n",
        "# How we will call your function\n",
        "even_column_array([2,5,9, 5], [100,130,160, 200], 10, 3)"
      ]
    },
    {
      "cell_type": "markdown",
      "metadata": {
        "id": "UqZ-wxbuRumW"
      },
      "source": [
        "## Rubric\n",
        "\n",
        "- +8 points for correctness (using `numpy` wherever necessary to achieve the desired output)\n",
        "- +5 points for conciseness (no redundant code)\n",
        "- +2 points for comments"
      ]
    },
    {
      "cell_type": "markdown",
      "metadata": {
        "id": "iVWfvQXTg8ll"
      },
      "source": [
        "# Part II. Recruiting Experts (15 points)\n",
        "\n",
        "We would like to recruit students from this class for capstone projects. We have a certain threshold `t` of grade percentage for recruiting students. In this sub-part, you will help us with this task. We have a list of names of `students`, and another corresponding list of `grades` in percentages. We would like to recruit students whose grades are above the given threshold percentage `t`.\n",
        "\n",
        "Write a function `find_experts()` that takes in two lists `students` and `grades` and another float argument `t`, and only returns a numpy array with names of students who are eligible, and are above the provided threshold.\n",
        "\n",
        "*Note: We will always test your function with lists that have equal lengths, so don't worry about other cases.*"
      ]
    },
    {
      "cell_type": "code",
      "execution_count": 37,
      "metadata": {
        "id": "UuDIBLz3jvcz"
      },
      "outputs": [
        {
          "data": {
            "text/plain": [
              "array(['shahan', 'anahit'], dtype='<U6')"
            ]
          },
          "execution_count": 37,
          "metadata": {},
          "output_type": "execute_result"
        }
      ],
      "source": [
        "def find_experts(students, grades, t):\n",
        "    # Write your code below this line\n",
        "    ######### SOLUTION METHOD #########\n",
        "    # Create a numpy array of students and using boolean masking, return students with grades greater than t\n",
        "    return np.array(students)[np.array(grades) > t]\n",
        "\n",
        "\n",
        "    ######### SOLUTION END #########\n",
        "\n",
        "# How we will call your function\n",
        "# This should return ['shahan', 'anahit'] as a numpy array\n",
        "find_experts([\"shahan\", \"bedoor\", \"anahit\"], [89,73.1,94], 80)"
      ]
    },
    {
      "cell_type": "markdown",
      "metadata": {
        "id": "7SUaElJzRrqX"
      },
      "source": [
        "## Rubric\n",
        "\n",
        "- +8 points for correctness (using `numpy` wherever necessary to achieve the desired output)\n",
        "- +5 points for conciseness\n",
        "- +2 points for comments"
      ]
    },
    {
      "cell_type": "markdown",
      "metadata": {
        "id": "iYMDiX-KonUI"
      },
      "source": [
        "# Part III: `where` does the `x` occur `n`th time? (10 points)\n",
        "\n",
        "\n",
        "\n"
      ]
    },
    {
      "cell_type": "markdown",
      "metadata": {
        "id": "sLEF95OK3zDs"
      },
      "source": [
        "Your task in this part is to use `np.where` to define a function called `index_of_nth_x(lst_1d, x, n)` that takes in a 1-dimensional python list `lst_1d`, an argument `x`, and an integer `n`, and gives back the index of the `n`th occurrence of `x` in `lst_1d`.\n",
        "\n",
        "For example, if\n",
        "\n",
        "```\n",
        "lst_1d = [1, 2, 1, 1, 3, 4, 3, 1, 1, 2, 1, 1, 2]\n",
        "\n",
        "x = 1\n",
        "\n",
        "n = 5\n",
        "```\n",
        "\n",
        "your function should return `8`."
      ]
    },
    {
      "cell_type": "code",
      "execution_count": 51,
      "metadata": {
        "id": "VDFOVHwY594P"
      },
      "outputs": [],
      "source": [
        "def index_of_nth_x(lst_1d, x, n):\n",
        "    # Write your implementation here\n",
        "    ######### SOLUTION #########\n",
        "    # Create array of indices where x is found in lst_1d and return the nth (n - 1) index\n",
        "    return np.where(np.array(lst_1d) == x)[0][n-1] # n - 1 since we are indexing from 0\n",
        "\n",
        "    ######### SOLUTION END #####\n",
        "\n",
        "# How we will call your function\n",
        "lst_1d = [1, 2, 1, 1, 3, 4, 3, 1, 1, 2, 1, 1, 2]\n",
        "x = 1\n",
        "n = 5\n",
        "assert(index_of_nth_x(lst_1d, x, n)==8)"
      ]
    },
    {
      "cell_type": "markdown",
      "metadata": {
        "id": "rz-ErhwGRg0m"
      },
      "source": [
        "## Rubric\n",
        "\n",
        "- +4 points for correctness\n",
        "- +4 points for conciseness\n",
        "- +2 points for comments"
      ]
    },
    {
      "cell_type": "markdown",
      "metadata": {
        "id": "iCtO7SEhm5wf"
      },
      "source": [
        "# Part IV: Were you listening closely? (10 points)\n",
        "\n",
        "In one line of code, only using numpy functions, and without hard-coding, create the following pattern from the given array `A`.\n",
        "\n",
        "Given\n",
        "```\n",
        "A = [1,2,3,4]\n",
        "```\n",
        "\n",
        "Create\n",
        "\n",
        "`[1,1,1,1,2,2,2,2,3,3,3,3,4,4,4,4,1,2,3,4,1,2,3,4,1,2,3,4]`\n",
        "\n",
        "You may use any numpy function to do this, however, you don't need to know any other functions aside from the ones mentioned in the lecture. Were you listening closely? :)"
      ]
    },
    {
      "cell_type": "code",
      "execution_count": 65,
      "metadata": {
        "id": "zzLjSt732XlQ"
      },
      "outputs": [
        {
          "data": {
            "text/plain": [
              "array([1, 1, 1, 1, 2, 2, 2, 2, 3, 3, 3, 3, 4, 4, 4, 4, 1, 2, 3, 4, 1, 2,\n",
              "       3, 4, 1, 2, 3, 4])"
            ]
          },
          "execution_count": 65,
          "metadata": {},
          "output_type": "execute_result"
        }
      ],
      "source": [
        "A = [1,2,3,4]\n",
        "\n",
        "# Write your code below this line\n",
        "######### SOLUTION #########\n",
        "# Repeat each element of A four times, tile the entire array thrice, and concatenate the two arrays\n",
        "np.concatenate((np.repeat(A, 4), np.tile(A, 3)))\n",
        "\n",
        "######### SOLUTION END #########"
      ]
    },
    {
      "cell_type": "markdown",
      "metadata": {
        "id": "ECSLZFcqRSrK"
      },
      "source": [
        "## Rubric\n",
        "\n",
        "- +4 points for correctness\n",
        "- +4 points for conciseness\n",
        "- +2 points for comments\n"
      ]
    },
    {
      "cell_type": "markdown",
      "metadata": {
        "id": "iXviHWo6zXHF"
      },
      "source": [
        "# Final Remarks on learning\n",
        "\n",
        "We have learnt many numpy functions in class and in recitation so far. However, we cannot teach you every numpy function that is out there. In fact this will be true for most of the libraries you learn to use in the class. One of the goals of this course is to introduce you to new tools, and then help you practice to help yourself. We have designed the course, its exercises, and its recitations to reinforce the key concepts taught in the lectures, but also introduce you to new concepts. Therefore, we expect you to look up and be able to read documentations of different libraries, and learn new functions on your own whenever possible. With time, libraries and tools will keep getting better, and it's important for prospective data scientists to be able to learn new concepts whenever necessary."
      ]
    }
  ],
  "metadata": {
    "colab": {
      "collapsed_sections": [
        "PUxdctIdxU6B"
      ],
      "provenance": []
    },
    "kernelspec": {
      "display_name": "Python 3",
      "name": "python3"
    },
    "language_info": {
      "codemirror_mode": {
        "name": "ipython",
        "version": 3
      },
      "file_extension": ".py",
      "mimetype": "text/x-python",
      "name": "python",
      "nbconvert_exporter": "python",
      "pygments_lexer": "ipython3",
      "version": "3.11.0"
    }
  },
  "nbformat": 4,
  "nbformat_minor": 0
}
