{
  "cells": [
    {
      "cell_type": "markdown",
      "metadata": {
        "id": "HXUDUGoxlyxu"
      },
      "source": [
        "---\n",
        "---\n",
        "Recitation 12: Webscrapping\n",
        "\n",
        "Applied Data Science in Python for Social Scientists\n",
        "\n",
        "New York University, Abu Dhabi\n",
        "\n",
        "Dated: 07th Dec 2023\n",
        "\n",
        "---\n",
        "---\n",
        "#Start Here\n",
        "## Learning Goals\n",
        "### General Goals\n",
        "- Learn the fundamental concepts of web scraping\n",
        "- Learn the fundamental concepts of ethical scraping\n",
        "\n",
        "### Specific Goals\n",
        "- Learn how to use Beautiful Soup\n",
        "- Learn how to effectively navigate webpages\n",
        "- Learn how to use web scraping to answer questions\n",
        "\n",
        "## Distribution of Class Materials\n",
        "These problem sets and recitations are intellectual property of NYUAD, and we request the students to **not** distribute them or their solutions to other students who have not signed up for this class, and/or intend to sign up in the future. We also request you don't post these problem sets, and recitations online or on any public platforms.\n",
        "\n",
        "## Submission\n",
        "You will submit all your code as a Python Notebook through [Brightspace](https://brightspace.nyu.edu/) as **R7_YOUR NETID.ipynb**.\n",
        "\n",
        "---"
      ]
    },
    {
      "cell_type": "markdown",
      "metadata": {
        "id": "yXdQPE4hOBOP"
      },
      "source": [
        "# Part I: Hindi Geet Mala (50 points)"
      ]
    },
    {
      "cell_type": "markdown",
      "metadata": {
        "id": "048vCECq7cf8"
      },
      "source": [
        "For this recitation we will scrape https://www.hindigeetmala.net/ website, in order to answer the following question.\n",
        "\n",
        "*Has the average number of songs in a movie increased in 2018 compared to 1930s?*"
      ]
    },
    {
      "cell_type": "code",
      "execution_count": 14,
      "metadata": {
        "id": "KGpsiRjTza17"
      },
      "outputs": [],
      "source": [
        "import time\n",
        "import requests\n",
        "from bs4 import BeautifulSoup as bs\n",
        "import pandas as pd\n",
        "import re\n",
        "\n",
        "years = ['2018', '1930s']\n",
        "\n",
        "header = {\n",
        "    'User-Agent': 'Mozilla/5.0 (Macintosh; Intel Mac OS X 10_10_1) AppleWebKit/537.36 (KHTML, like Gecko) Chrome/39.0.2171.95 Safari/537.36',\n",
        "}"
      ]
    },
    {
      "cell_type": "code",
      "execution_count": 27,
      "metadata": {
        "id": "_y_wnGXeRnPF"
      },
      "outputs": [
        {
          "data": {
            "text/plain": [
              "['/movie/batti_gul_meter_chalu.htm',\n",
              " '/movie/dhadak.htm',\n",
              " '/movie/gold.htm',\n",
              " '/movie/loveratri.htm',\n",
              " '/movie/nawabzaade.htm',\n",
              " '/movie/satyameva_jayate.htm',\n",
              " '/movie/veere_di_wedding.htm',\n",
              " '/movie/stree_2018.htm',\n",
              " '/movie/102_not_out.htm',\n",
              " '/movie/3_storeys.htm',\n",
              " '/movie/aiyaary.htm',\n",
              " '/movie/angrezi_mein_kehte_hain.htm',\n",
              " '/movie/baa_baaa_black_sheep.htm',\n",
              " '/movie/baaghi_2.htm',\n",
              " '/movie/beyond_the_clouds.htm',\n",
              " '/movie/bhavesh_joshi_superhero.htm',\n",
              " '/movie/billu_ustaad.htm',\n",
              " '/movie/blackmail_2018.htm',\n",
              " '/movie/daas_dev.htm',\n",
              " '/movie/daddys_daughter.htm']"
            ]
          },
          "execution_count": 27,
          "metadata": {},
          "output_type": "execute_result"
        }
      ],
      "source": [
        "############ Solution###############\n",
        "def get_movie_urls(year, page):\n",
        "\n",
        "    url = \"https://www.hindigeetmala.net/movie/\" + year + \".php?page=\" + str(page)\n",
        "    \n",
        "    # Get the HTML content\n",
        "    response = requests.get(url, headers=header)\n",
        "    html = response.content\n",
        "    \n",
        "    # Parse the HTML\n",
        "    soup = bs(html, \"html.parser\")\n",
        "    \n",
        "    # Get the movie table (class = bi and alcen)\n",
        "    table = soup.find(\"table\", attrs={\"class\": \"b1\", \"class\": \"w760\", \"class\": \"alcen\"})\n",
        "    \n",
        "    # Get all tds in the table that have a w25p class\n",
        "    tds = table.find_all(\"td\", attrs={\"class\": \"w25p\"})\n",
        "    # print(len(tds))\n",
        "    \n",
        "    # Get all the links in the tds\n",
        "    links = []\n",
        "    for td in tds:\n",
        "        links.append(td.find(\"a\").get(\"href\"))\n",
        "    # print(len(links))\n",
        "    \n",
        "    # Return the links\n",
        "    return links\n",
        "\n",
        "get_movie_urls(\"2018\", 1)"
      ]
    },
    {
      "cell_type": "code",
      "execution_count": 33,
      "metadata": {
        "id": "DhnoaBvHQP6l"
      },
      "outputs": [
        {
          "data": {
            "text/plain": [
              "6"
            ]
          },
          "execution_count": 33,
          "metadata": {},
          "output_type": "execute_result"
        }
      ],
      "source": [
        "############ Solution###############\n",
        "def get_num_songs(movie_url):\n",
        "    url = \"https://www.hindigeetmala.net/\" + str(movie_url)\n",
        "    \n",
        "    # Get the HTML content\n",
        "    response = requests.get(url, headers=header)\n",
        "    \n",
        "    # Parse the HTML\n",
        "    soup = bs(response.content, \"html.parser\")\n",
        "    \n",
        "    # Get the trs with itemprop = \"track\"\n",
        "    trs = soup.find_all(\"tr\", attrs={\"itemprop\": \"track\"})\n",
        "    \n",
        "    # Return the number of trs\n",
        "    return len(trs)\n",
        "\n",
        "get_num_songs(\"movie/avtaar.htm\")\n",
        "# get_num_songs(\"movie/mr_and_mrs_55.htm\") # Test case"
      ]
    },
    {
      "cell_type": "code",
      "execution_count": 34,
      "metadata": {
        "id": "Fz18Yr4CSOXV"
      },
      "outputs": [
        {
          "name": "stdout",
          "output_type": "stream",
          "text": [
            "Average number of songs in 1930s is 9.05\n",
            "Average number of songs in 2018 is 5.25\n"
          ]
        }
      ],
      "source": [
        "############ Solution###############\n",
        "def average_num_songs(year_list):\n",
        "    song_counter = {}\n",
        "    for year in year_list:\n",
        "        song_counter[year] = []\n",
        "        movie_urls = get_movie_urls(year, 1)\n",
        "        for movie_url in movie_urls:\n",
        "            num_songs = get_num_songs(movie_url)\n",
        "            song_counter[year] =  song_counter[year] + [num_songs]\n",
        "    \n",
        "    for year in song_counter:\n",
        "        print(\"Average number of songs in \" + str(year) + \" is \" + str(sum(song_counter[year])/len(song_counter[year])))\n",
        "    \n",
        "    # return song_counter\n",
        "\n",
        "\n",
        "average_num_songs([\"1930s\", \"2018\"])"
      ]
    },
    {
      "cell_type": "markdown",
      "metadata": {
        "id": "P1Oog74AnBOI"
      },
      "source": [
        "## Rubric\n",
        "\n",
        "- +40 points for correct output\n",
        "- +5 points for conciseness\n",
        "- +5 points for a reasonable choice of a data structure"
      ]
    }
  ],
  "metadata": {
    "colab": {
      "provenance": []
    },
    "kernelspec": {
      "display_name": "Python 3",
      "name": "python3"
    },
    "language_info": {
      "codemirror_mode": {
        "name": "ipython",
        "version": 3
      },
      "file_extension": ".py",
      "mimetype": "text/x-python",
      "name": "python",
      "nbconvert_exporter": "python",
      "pygments_lexer": "ipython3",
      "version": "3.11.0"
    }
  },
  "nbformat": 4,
  "nbformat_minor": 0
}
