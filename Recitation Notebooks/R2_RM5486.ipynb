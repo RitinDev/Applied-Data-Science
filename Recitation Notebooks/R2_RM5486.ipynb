{
  "cells": [
    {
      "cell_type": "markdown",
      "metadata": {
        "id": "PUxdctIdxU6B"
      },
      "source": [
        "---\n",
        "---\n",
        "Recitation 2: Functions & Sequences\n",
        "\n",
        "Applied Data Science in Python for Social Scientists\n",
        "\n",
        "New York University, Abu Dhabi\n",
        "\n",
        "Dated: 6th Sept 2023\n",
        "---\n",
        "---\n",
        "#Start Here\n",
        "## Learning Goals\n",
        "### General Goals\n",
        "- Learn the basics of programming in Python\n",
        "- Learn to create programming logic\n",
        "- Learn new concepts\n",
        "\n",
        "### Specific Goals\n",
        "- Get comfortable with writing functions, loops, and conditional statements\n",
        "- Get comfortable handling lists\n",
        "- Understand common types and typecasting\n",
        "- Get comfortable with special functions\n",
        "- Get comfortable with dictionaries\n",
        "- Get comfortable with strings\n",
        "\n",
        "## Distribution of Class Materials\n",
        "These problem sets and recitations are intellectual property of NYUAD, and we request the students to **not** distribute them or their solutions to other students who have not signed up for this class, and/or intend to sign up in the future. We also request you don't post these problem sets, and recitations online or on any public platforms.\n",
        "\n",
        "## Submission\n",
        "You will submit all your code as a Python Notebook through [Brightspace](https://brightspace.nyu.edu/) as **R2_YOUR NETID.ipynb**.\n",
        "\n",
        "---\n",
        "\n",
        "\n"
      ]
    },
    {
      "cell_type": "markdown",
      "metadata": {
        "id": "UPMDlF4mjG6v"
      },
      "source": [
        "# General Instructions\n",
        "This recitation is worth 50 points. It has 3 parts. All the parts need to be completed in a Jupyter (Colab) Notebook attached with this handout.\n",
        "\n"
      ]
    },
    {
      "cell_type": "markdown",
      "metadata": {
        "id": "3SWf22cCjQNY"
      },
      "source": [
        "# Part I: Narcissistic Lists (10 points)\n",
        "\n",
        "[Narcissistic numbers](https://en.wikipedia.org/wiki/Narcissistic_number) are the numbers such that if you find the sum of its digits, each raised to the power of its number of digits, you get the same number back.\n",
        "\n",
        "For example, 370 is a narcissistic number as\n",
        "\n",
        "$370 = 3^{3} + 7^{3} + 0^{3}$\n",
        "\n",
        "More precisely, in the above example, 370 has 3 digits, so we take each digit and raise it to the power of 3 and calculate the sum. The result is 370 which is the same number we started with. Similarly, 1634 and 54748 are also narcissistic numbers.\n",
        "\n",
        "In this part, however, we will present each narcissistic number as a list of strings i.e. 370 will be presented as `[\"3\", \"7\", \"0\"]`. We call these lists **narcissistic lists**. Your task is to write a program that takes in a list of strings such as above, and identify if the list is narcissistic.\n",
        "\n",
        "Write a function called `isNarcissistic` that takes a list of strings called `l`, and returns `True` if `l` is narcissistic, otherwise the function should return False.\n",
        "\n",
        "According to our reference solution:\n",
        "\n",
        "`isNarcissistic([\"3\", \"7\", \"0\"])` returns `True`\n",
        "\n",
        "`isNarcissistic([\"1\", \"6\", \"3\", \"4\"])` returns `True`\n",
        "\n",
        "`isNarcissistic([\"1\", \"2\"])` returns `False`"
      ]
    },
    {
      "cell_type": "code",
      "execution_count": 1,
      "metadata": {
        "id": "8jTPgJIO24Pa"
      },
      "outputs": [],
      "source": [
        "# Write your implementation of the function isNarcissistic below this line\n",
        "\n",
        "######### SOLUTION #########\n",
        "def isNarcissistic(digits):\n",
        "    sum = 0\n",
        "    # Go through the array of digits (strings) and \n",
        "    # add the sum of each digit to the power of the length of the array\n",
        "    # For example: 3 ** 3 + 7 ** 3 + 0 ** 3 = 370\n",
        "    for digit in digits:\n",
        "        sum += int(digit) ** len(digits)\n",
        "    \n",
        "    # Compare the sum with the original number\n",
        "    # Original number crafted by joining the array of digits and casting to int\n",
        "    return sum == int(\"\".join(digits))\n",
        "\n",
        "######### SOLUTION END #########\n",
        "\n",
        "\n",
        "assert (isNarcissistic([\"3\", \"7\", \"0\"]) == True)\n",
        "assert (isNarcissistic([\"1\", \"6\", \"3\", \"4\"]) == True)\n",
        "assert (isNarcissistic([\"1\", \"2\"]) == False)\n"
      ]
    },
    {
      "cell_type": "markdown",
      "metadata": {
        "id": "gy-ykIsHfa0W"
      },
      "source": [
        "## Rubric\n",
        "\n",
        "- +8 points for correctness (i.e. your code does what is required of it, has the right logic, and passes all test cases)\n",
        "- +2 points conciseness (avoiding redundancy in code)"
      ]
    },
    {
      "cell_type": "markdown",
      "metadata": {
        "id": "AORs-0rkn9Rf"
      },
      "source": [
        "# Part II: Salaries & Experience (20 points)\n",
        "\n",
        "You have been given information about some new data scientists, their salaries, and years of experience (0 to 9 years). You want to make sense of the data by analyzing it. The caveat is that the data is coded in the form that it needs some preprocessing first before you can analyze it.\n",
        "\n",
        "More precisely, you have been given the following list:\n",
        "\n",
        "`name_exp_salary_lst = [\"Dean_Abbot9-83000\", \"Nando_Freitas8-88000\",\n",
        "                        \"John_Elder0-48000\", \"Bernard_Marr7-76000\",\n",
        "                        \"Lillian_Pierson6-69000\", \"Kira_Radinsky7-75000\",\n",
        "                        \"Richard_Socher3-60000\", \"Andrew_Ng9-83000\",\n",
        "                        \"Chris_Surdak2-48000\", \"Sebastian_Thrun5-63000\"]`\n",
        "\n",
        "Each element in the `name_exp_salary_lst` contains the first and last name of the data scientist, their years of experience and their monthly salary in USD in that order. For example, `Dean_Abbot9-83000` contains `Dean` as the first name `Abbot` as the last name, `9` years of experience, and `83000` as the salary. Note that the first and the last name are separated by a `_`, years of experience is the last character of the last name, and salary is separated by a `-`. Your job is to first preprocess this data as described in the sub-sections below, and analyze it."
      ]
    },
    {
      "cell_type": "markdown",
      "metadata": {
        "id": "VPQeBdkimHYq"
      },
      "source": [
        "## Dictionary: Name -> (years of experience, salary) (6 points)\n",
        "\n",
        "Given the list as shown above, create a dictionary that has full name of data scientists (separated by a space) as keys, and their (years of experience, salary) as values.\n",
        "\n",
        "Your dictionary should be of the form `{\"Dean Abbot\": (9, 83000), \"Nando Frietas\": (8,88000),...}`"
      ]
    },
    {
      "cell_type": "code",
      "execution_count": 2,
      "metadata": {
        "id": "LZrWB7-KnPIc"
      },
      "outputs": [
        {
          "name": "stdout",
          "output_type": "stream",
          "text": [
            "{'Dean Abbot': ('9', '83000'), 'Nando Freitas': ('8', '88000'), 'John Elder': ('0', '48000'), 'Bernard Marr': ('7', '76000'), 'Lillian Pierson': ('6', '69000'), 'Kira Radinsky': ('7', '75000'), 'Richard Socher': ('3', '60000'), 'Andrew Ng': ('9', '83000'), 'Chris Surdak': ('2', '48000'), 'Sebastian Thrun': ('5', '63000')}\n"
          ]
        }
      ],
      "source": [
        "name_exp_salary_lst = [\"Dean_Abbot9-83000\", \"Nando_Freitas8-88000\", \"John_Elder0-48000\", \"Bernard_Marr7-76000\", \"Lillian_Pierson6-69000\", \"Kira_Radinsky7-75000\", \"Richard_Socher3-60000\", \"Andrew_Ng9-83000\", \"Chris_Surdak2-48000\", \"Sebastian_Thrun5-63000\"]\n",
        "\n",
        "# Write your code below this line\n",
        "\n",
        "name_to_exp_salary = {} # initializing dictionary for you to populate\n",
        "\n",
        "######### SOLUTION #########\n",
        "# Iterate through all values in the provided list\n",
        "for name_exp_salary in name_exp_salary_lst:\n",
        "    # Get name + experience as one variable and salary as another\n",
        "    # using Python's split function with parameter \"-\"\n",
        "    name_exp, salary = name_exp_salary.split(\"-\")\n",
        "    \n",
        "    # Get experience and name as separate variables\n",
        "    # Using string indexing and slicing \n",
        "    exp, name = name_exp[-1], name_exp[:-1]\n",
        "    \n",
        "    # Get first name and last name as separate variables\n",
        "    # Again, using the split function with parameter \"_\"\n",
        "    fname, lname = name.split(\"_\")\n",
        "    \n",
        "    # Lastly, make the dictionary entry using our variables\n",
        "    name_to_exp_salary[fname + \" \" + lname] = (exp, salary)\n",
        "\n",
        "print(name_to_exp_salary)\n",
        "# Kindly note that while the above for loop could have been more concise,\n",
        "# I have split it into multiple lines to make the code slightly easier to understand and document\n",
        "\n",
        "######### SOLUTION END #########"
      ]
    },
    {
      "cell_type": "markdown",
      "metadata": {
        "id": "YN6188Omfd7I"
      },
      "source": [
        "### Rubric\n",
        "\n",
        "- +5 for correctness\n",
        "- +1 for conciseness"
      ]
    },
    {
      "cell_type": "markdown",
      "metadata": {
        "id": "bMj73W4Hoy1w"
      },
      "source": [
        "## Average Salary (6 points)\n",
        "\n",
        "Write a function called `average_salary` that takes in the dictionary you just populated i.e. `name_to_exp_salary`, and returns the mean of the salaries of data scientists.\n",
        "\n",
        "Your code should not be more than 3-4 lines long. (Hint: Think dictionary functions, and map). Our reference solution is two lines long.\n",
        "\n"
      ]
    },
    {
      "cell_type": "code",
      "execution_count": 3,
      "metadata": {
        "id": "W3c7kWonpITu"
      },
      "outputs": [
        {
          "name": "stdout",
          "output_type": "stream",
          "text": [
            "69300.0\n"
          ]
        }
      ],
      "source": [
        "def find_average_salary(d):\n",
        "\n",
        "    average = 0\n",
        "\n",
        "    ######### SOLUTION #########\n",
        "    salaries = map(lambda x: int(x[1]), d.values()) # Get all salaries from dict values, cast to int\n",
        "    average = sum(salaries) / len(d) # Calculate average from list of salaries\n",
        "    ######### SOLUTION END #########\n",
        "\n",
        "    return average\n",
        "\n",
        "\n",
        "# how we will call your function\n",
        "average_salary = find_average_salary(name_to_exp_salary)\n",
        "print(average_salary)\n"
      ]
    },
    {
      "cell_type": "markdown",
      "metadata": {
        "id": "ZHDWjfg-fh1V"
      },
      "source": [
        "### Rubric\n",
        "\n",
        "- +3 for correctness\n",
        "- +2 for using `map` and `lambda`\n",
        "- +1 for conciseness (no redunandancy in code, and is no more than 3-4 lines of code)"
      ]
    },
    {
      "cell_type": "markdown",
      "metadata": {
        "id": "8pcgPXhNsHXe"
      },
      "source": [
        "## Richest Data Scientists (6 points)\n",
        "\n",
        "Now that you have the dictionary mapping scientists to their experience and salaries, as well as the average salary, write a single line of code that prints a list of names of data scientists whose salaries are above the average salary."
      ]
    },
    {
      "cell_type": "code",
      "execution_count": 4,
      "metadata": {
        "id": "xEAcrzxgyO-M"
      },
      "outputs": [
        {
          "name": "stdout",
          "output_type": "stream",
          "text": [
            "['Dean Abbot', 'Nando Freitas', 'Bernard Marr', 'Kira Radinsky', 'Andrew Ng']\n"
          ]
        }
      ],
      "source": [
        "# Write your code below this line\n",
        "\n",
        "######### SOLUTION #########\n",
        "# Iterate through all dict items and print the name if the salary is greater than the average\n",
        "# Use list comprehension and unpacking to get the name, experience and salary and to make code concise\n",
        "print([name for name, (exp, salary) in name_to_exp_salary.items() if int(salary) > average_salary])\n",
        "######### SOLUTION END #########"
      ]
    },
    {
      "cell_type": "markdown",
      "metadata": {
        "id": "zB4uIKicflOA"
      },
      "source": [
        "### Rubric\n",
        "\n",
        "- +4 for correctness\n",
        "- +2 for conciseness"
      ]
    },
    {
      "cell_type": "markdown",
      "metadata": {
        "id": "eBunxM54zCIu"
      },
      "source": [
        "## Experience vs. Salary (2 points)\n",
        "\n",
        "Finally, we want to get an insight into whether there is a correlation between years of experience and the amount of money earned by the data scientists.\n",
        "\n",
        "You would expect that the more the number of years of experience, the more the salary.\n",
        "\n",
        "We would like to inspect our data visually using a **scatter plot** which has `years of experience` on the x-axis and `salary` on the y-axis. We have provided you below with a function called `plot_scatter(x,y)` that takes in a list `x` of `years of experience`, and a list `y` of corresponding `salary`, and creates a scatter plot.\n",
        "\n",
        "Call this function with the right arguments to create the plot."
      ]
    },
    {
      "cell_type": "code",
      "execution_count": 5,
      "metadata": {
        "id": "2ATNyDzT1gJv"
      },
      "outputs": [
        {
          "data": {
            "image/png": "[encoded data removed]",
            "text/plain": [
              "<Figure size 640x480 with 1 Axes>"
            ]
          },
          "metadata": {},
          "output_type": "display_data"
        }
      ],
      "source": [
        "import matplotlib.pyplot as plt\n",
        "\n",
        "def plot_scatter(x,y):\n",
        "  plt.scatter(x, y)\n",
        "  plt.show()\n",
        "\n",
        "x = [] # initializing x for you to populate\n",
        "y = [] #initializing y for you to populate\n",
        "\n",
        "# Write your code below this line\n",
        "\n",
        "######### SOLUTION #########\n",
        "# Iterate through all dict items and append the experience and salary to the respective lists\n",
        "for name, (exp, salary) in name_to_exp_salary.items():\n",
        "    x.append(int(exp))\n",
        "    y.append(int(salary))\n",
        "\n",
        "######### SOLUTION END #########\n",
        "\n",
        "plot_scatter(x,y)\n"
      ]
    },
    {
      "cell_type": "markdown",
      "metadata": {
        "id": "LVWYzIopzCDe"
      },
      "source": [
        "Do you see some correlation between years of experience and salary? **Type your answer here**\n",
        "\n",
        "**Answer**: \n",
        "Yes, there appears to be a positive correlation between years of experience and salary. Data scientists with more years of experience tend to earn more."
      ]
    },
    {
      "cell_type": "markdown",
      "metadata": {
        "id": "qvlGtOZcfmiK"
      },
      "source": [
        "### Rubric\n",
        "\n",
        "- +2 for correctness"
      ]
    },
    {
      "cell_type": "markdown",
      "metadata": {
        "id": "iYMDiX-KonUI"
      },
      "source": [
        "# Part III: Special vs. not-so-special functions (20 points)\n",
        "\n",
        "\n"
      ]
    },
    {
      "cell_type": "markdown",
      "metadata": {
        "id": "ATc4HjrX3Bnc"
      },
      "source": [
        "Given a list of names, we want to capitalize the first character of each name in the list. In this part you will write 3 different ways to do that while evaluating the performance speed of each implementation. Our goal is for you to identify the method that works best for this particular task."
      ]
    },
    {
      "cell_type": "markdown",
      "metadata": {
        "id": "MC6KSf7uBeed"
      },
      "source": [
        "## A. Using a loop (10 points)\n",
        "\n",
        "Write a function called `capitalize_lst` that takes in a list of names, and returns a new list of names where each name has its first letter capitalized.\n",
        "\n",
        "For example: `capitalize_lst([\"bedoor\", \"ana\"])` should `return` `[\"Bedoor\", \"Ana\"]`\n",
        "\n",
        "Once you have written your function, call your function, and print the resulting list. Finally, using the `time` module evaluate the time your program takes executing the above steps on the given input list. Assign the time elapsed to a variable called `t1`, and print `t1`.\n",
        "\n",
        "*Note: You may use Python's builtin `capitalize` function to capitalize a string.*\n",
        "\n",
        "For example, if\n",
        "\n",
        "`x = \"bedoor\"`\n",
        "\n",
        "`x.capitalize()` will return `\"Bedoor\"`"
      ]
    },
    {
      "cell_type": "code",
      "execution_count": 6,
      "metadata": {
        "id": "zzLjSt732XlQ"
      },
      "outputs": [
        {
          "name": "stdout",
          "output_type": "stream",
          "text": [
            "['Aatika', 'Aatika', 'Aatika', 'Aatika', 'Aaya', 'Aaya', 'Aaya', 'Aaya', 'Aba', 'Aba', 'Aba', 'Aba', 'Abarca', 'Abarca', 'Abarca', 'Abarca', 'Abba', 'Abba', 'Abba', 'Abba', 'Abdala', 'Abdala', 'Abdala', 'Abdala', 'Abdalla', 'Abdalla', 'Abdalla', 'Abdalla', 'Abdela', 'Abdela', 'Abdela', 'Abdela', 'Abdelhila', 'Abdelhila', 'Abdelhila', 'Abdelhila', 'Abdelmaoula', 'Abdelmaoula', 'Abdelmaoula', 'Abdelmaoula', 'Abdelmoula', 'Abdelmoula', 'Abdelmoula', 'Abdelmoula', 'Abderrafia', 'Abderrafia', 'Abderrafia', 'Abderrafia', 'Abdelilah', 'Abdalla', 'Abdelhanin', 'Abdennaceur', 'Abdelhafid', 'Abderrafia', 'Abderzak', 'Abdeladim', 'Abdelakrim', 'Abdeloihab', 'Abdelouhab', 'Abdelbari', 'Abdesslem', 'Abdelasis', 'Abdalahe', 'Aaya', 'Abdelbaki', 'Abdelfettah', 'Abderrazzaq', 'Abdesslam', 'Abby', 'Abdelkadir', 'Abdeldjalil', 'Abdelmadjid', 'Abderhim', 'Abdessadeq', 'Abdessalam', 'Abdessadek', 'Abdela', 'Abdelkamal', 'Abderrafik', 'Abdeselam', 'Abdelaali', 'Abdennabi', 'Abdelwahid', 'Abdelmayid', 'Abdelkamel', 'Abdelmoumen', 'Abdennacer', 'Abdelazize', 'Abdelwahad', 'Abbas', 'Abdelouahid', 'Abdelhabib', 'Aatika', 'Abdelouahed', 'Abdelhamid', 'Abdeljalal', 'Aamar', 'Abdelqader', 'Abdennasar', 'Abdessamie', 'Abdelatif', 'Abdelkebir', 'Abdalah', 'Abdenasser', 'Abdelkhalik', 'Aali', 'Abdennaim', 'Abdennaser', 'Abdelkabir', 'Abderahmane', 'Abdelfattah', 'Abdelhay', 'Abdelfetah', 'Abdelmalek', 'Abdelmonim', 'Abdelmaoula', 'Abdeluahid', 'Abdellahi', 'Abdelhadi', 'Aaron', 'Abdelrhani', 'Abdelhila', 'Abbes', 'Abdelillah', 'Abdelkhaleq', 'Abdelouafi', 'Abderezak', 'Abderrahman', 'Abdelouahab', 'Abdelali', 'Abdelkbir', 'Abdelmounim', 'Abdennassar', 'Abdennasser', 'Abderazzak', 'Abderraouf', 'Abdeslem', 'Abderrachid', 'Abdesalam', 'Abdel', 'Abdenour', 'Abdelazis', 'Abdelhamed', 'Abdeljebbar', 'Abdelwahab', 'Abad', 'Abdeljabar', 'Abdeloihed', 'Aadil', 'Aali', 'Aaliyah', 'Aaltje', 'Aamar', 'Aamer', 'Aamir', 'Aaron', 'Aase', 'Aatika', 'Aaya', 'Aba', 'Ababacar', 'Abad', 'Abarca', 'Abarne', 'Abass', 'Abasse', 'Abba', 'Abbas', 'Abbass', 'Abbes', 'Abby', 'Abdala', 'Abdalah', 'Abdalahe', 'Abdalahi', 'Abdalla', 'Abdallah', 'Abdallahi', 'Abdel', 'Abdela', 'Abdelaali', 'Abdelaati', 'Abdelaaziz', 'Abdeladim', 'Abdelah', 'Abdelakrim', 'Abdelali', 'Abdelasis', 'Abdelati', 'Abdelatif', 'Abdelazis', 'Abdelaziz', 'Abdelazize', 'Abdelbaki', 'Abdelbari', 'Abdelbasset', 'Abdeldjalil', 'Abdelelah', 'Abdelfatah', 'Abdelfattah', 'Abdelfetah', 'Abdelfettah', 'Abdelghafour', 'Abdelghani', 'Abdelhabib', 'Abdelhadi', 'Abdelhafid', 'Abdelhai', 'Abdelhak', 'Abdelhakem', 'Abdelhakim', 'Abdelhalak', 'Abdelhalim', 'Abdelhamed', 'Abdelhamid', 'Abdelhanin', 'Abdelhaq', 'Abdelhay', 'Abdelhila', 'Abdelhilah', 'Abdelilah', 'Abdelillah', 'Abdeljabar', 'Abdeljabbar', 'Abdeljalak', 'Abdeljalal', 'Abdeljalil', 'Abdeljaouad', 'Abdeljebbar', 'Abdelkabir', 'Abdelkader', 'Abdelkadir', 'Abdelkamal', 'Abdelkamel', 'Abdelkarim', 'Abdelkarin', 'Abdelkbir', 'Abdelkebir', 'Abdelkerim', 'Abdelkhalak', 'Abdelkhalek', 'Abdelkhaleq', 'Abdelkhalik', 'Abdelkrim', 'Abdellah', 'Abdellahi', 'Abdellali', 'Abdellatif', 'Abdellaziz', 'Abdellilah', 'Abdelmadjid', 'Abdelmajid', 'Abdelmalek', 'Abdelmalik', 'Abdelmaoula', 'Abdelmayid', 'Abdelmjid', 'Abdelmoghit', 'Abdelmonaim', 'Abdelmonim', 'Abdelmoughit', 'Abdelmoula', 'Abdelmoumen', 'Abdelmounaim', 'Abdelmounim', 'Abdeloihab', 'Abdeloihed', 'Abdeloihid', 'Abdelouadoud', 'Abdelouafi', 'Abdelouahab', 'Abdelouahad', 'Abdelouahd', 'Abdelouahed', 'Abdelouahhab', 'Abdelouahid', 'Abdelouhab', 'Abdelqader', 'Abdelrahim', 'Abdelrahman', 'Abdelrhani', 'Abdeltif', 'Abdeluahed', 'Abdeluahid', 'Abdelwahab', 'Abdelwahad', 'Abdelwahed', 'Abdelwahid', 'Abdenabi', 'Abdenacer', 'Abdenaji', 'Abdenasser', 'Abdenbi', 'Abdennabi', 'Abdennacer', 'Abdennaceur', 'Abdennaim', 'Abdennaji', 'Abdennasar', 'Abdennaser', 'Abdennassar', 'Abdennasser', 'Abdennebi', 'Abdennour', 'Abdenour', 'Abderahim', 'Abderahman', 'Abderahmane', 'Abderazak', 'Abderazzak', 'Abderezak', 'Abderhim', 'Abderrachid', 'Abderrafia', 'Abderrafie', 'Abderrafik', 'Abderrahaman', 'Abderrahim', 'Abderrahime', 'Abderrahman', 'Abderrahmane', 'Abderrahmen', 'Abderraman', 'Abderraouf', 'Abderrazak', 'Abderrazaq', 'Abderrazek', 'Abderrazzak', 'Abderrazzaq', 'Abderrezak', 'Abderrezzak', 'Abderzak', 'Abdesalam', 'Abdesamad', 'Abdeselam', 'Abdeslam', 'Abdeslem', 'Abdessadek', 'Abdessadeq', 'Abdessadik', 'Abdessalam', 'Abdessalem', 'Abdessamad', 'Abdessamed', 'Abdessamie', 'Abdesselam', 'Abdesslam', 'Abdesslem']\n",
            "Time taken to capitalize all names: 4.38690185546875e-05\n"
          ]
        }
      ],
      "source": [
        "# Importing the time module for performance evaluation\n",
        "import time\n",
        "\n",
        "# Use the following list of names to use as a test case\n",
        "names = ['aatika', 'aatika', 'aatika', 'aatika', 'aaya', 'aaya', 'aaya', 'aaya', 'aba', 'aba', 'aba', 'aba', 'abarca', 'abarca', 'abarca', 'abarca', 'abba', 'abba', 'abba', 'abba', 'abdala', 'abdala', 'abdala', 'abdala', 'abdalla', 'abdalla', 'abdalla', 'abdalla', 'abdela', 'abdela', 'abdela', 'abdela', 'abdelhila', 'abdelhila', 'abdelhila', 'abdelhila', 'abdelmaoula', 'abdelmaoula', 'abdelmaoula', 'abdelmaoula', 'abdelmoula', 'abdelmoula', 'abdelmoula', 'abdelmoula', 'abderrafia', 'abderrafia', 'abderrafia', 'abderrafia', 'abdelilah', 'abdalla', 'abdelhanin', 'abdennaceur', 'abdelhafid', 'abderrafia', 'abderzak', 'abdeladim', 'abdelakrim', 'abdeloihab', 'abdelouhab', 'abdelbari', 'abdesslem', 'abdelasis', 'abdalahe', 'aaya', 'abdelbaki', 'abdelfettah', 'abderrazzaq', 'abdesslam', 'abby', 'abdelkadir', 'abdeldjalil', 'abdelmadjid', 'abderhim', 'abdessadeq', 'abdessalam', 'abdessadek', 'abdela', 'abdelkamal', 'abderrafik', 'abdeselam', 'abdelaali', 'abdennabi', 'abdelwahid', 'abdelmayid', 'abdelkamel', 'abdelmoumen', 'abdennacer', 'abdelazize', 'abdelwahad', 'abbas', 'abdelouahid', 'abdelhabib', 'aatika', 'abdelouahed', 'abdelhamid', 'abdeljalal', 'aamar', 'abdelqader', 'abdennasar', 'abdessamie', 'abdelatif', 'abdelkebir', 'abdalah', 'abdenasser', 'abdelkhalik', 'aali', 'abdennaim', 'abdennaser', 'abdelkabir', 'abderahmane', 'abdelfattah', 'abdelhay', 'abdelfetah', 'abdelmalek', 'abdelmonim', 'abdelmaoula', 'abdeluahid', 'abdellahi', 'abdelhadi', 'aaron', 'abdelrhani', 'abdelhila', 'abbes', 'abdelillah', 'abdelkhaleq', 'abdelouafi', 'abderezak', 'abderrahman', 'abdelouahab', 'abdelali', 'abdelkbir', 'abdelmounim', 'abdennassar', 'abdennasser', 'abderazzak', 'abderraouf', 'abdeslem', 'abderrachid', 'abdesalam', 'abdel', 'abdenour', 'abdelazis', 'abdelhamed', 'abdeljebbar', 'abdelwahab', 'abad', 'abdeljabar', 'abdeloihed', 'aadil', 'aali', 'aaliyah', 'aaltje', 'aamar', 'aamer', 'aamir', 'aaron', 'aase', 'aatika', 'aaya', 'aba', 'ababacar', 'abad', 'abarca', 'abarne', 'abass', 'abasse', 'abba', 'abbas', 'abbass', 'abbes', 'abby', 'abdala', 'abdalah', 'abdalahe', 'abdalahi', 'abdalla', 'abdallah', 'abdallahi', 'abdel', 'abdela', 'abdelaali', 'abdelaati', 'abdelaaziz', 'abdeladim', 'abdelah', 'abdelakrim', 'abdelali', 'abdelasis', 'abdelati', 'abdelatif', 'abdelazis', 'abdelaziz', 'abdelazize', 'abdelbaki', 'abdelbari', 'abdelbasset', 'abdeldjalil', 'abdelelah', 'abdelfatah', 'abdelfattah', 'abdelfetah', 'abdelfettah', 'abdelghafour', 'abdelghani', 'abdelhabib', 'abdelhadi', 'abdelhafid', 'abdelhai', 'abdelhak', 'abdelhakem', 'abdelhakim', 'abdelhalak', 'abdelhalim', 'abdelhamed', 'abdelhamid', 'abdelhanin', 'abdelhaq', 'abdelhay', 'abdelhila', 'abdelhilah', 'abdelilah', 'abdelillah', 'abdeljabar', 'abdeljabbar', 'abdeljalak', 'abdeljalal', 'abdeljalil', 'abdeljaouad', 'abdeljebbar', 'abdelkabir', 'abdelkader', 'abdelkadir', 'abdelkamal', 'abdelkamel', 'abdelkarim', 'abdelkarin', 'abdelkbir', 'abdelkebir', 'abdelkerim', 'abdelkhalak', 'abdelkhalek', 'abdelkhaleq', 'abdelkhalik', 'abdelkrim', 'abdellah', 'abdellahi', 'abdellali', 'abdellatif', 'abdellaziz', 'abdellilah', 'abdelmadjid', 'abdelmajid', 'abdelmalek', 'abdelmalik', 'abdelmaoula', 'abdelmayid', 'abdelmjid', 'abdelmoghit', 'abdelmonaim', 'abdelmonim', 'abdelmoughit', 'abdelmoula', 'abdelmoumen', 'abdelmounaim', 'abdelmounim', 'abdeloihab', 'abdeloihed', 'abdeloihid', 'abdelouadoud', 'abdelouafi', 'abdelouahab', 'abdelouahad', 'abdelouahd', 'abdelouahed', 'abdelouahhab', 'abdelouahid', 'abdelouhab', 'abdelqader', 'abdelrahim', 'abdelrahman', 'abdelrhani', 'abdeltif', 'abdeluahed', 'abdeluahid', 'abdelwahab', 'abdelwahad', 'abdelwahed', 'abdelwahid', 'abdenabi', 'abdenacer', 'abdenaji', 'abdenasser', 'abdenbi', 'abdennabi', 'abdennacer', 'abdennaceur', 'abdennaim', 'abdennaji', 'abdennasar', 'abdennaser', 'abdennassar', 'abdennasser', 'abdennebi', 'abdennour', 'abdenour', 'abderahim', 'abderahman', 'abderahmane', 'abderazak', 'abderazzak', 'abderezak', 'abderhim', 'abderrachid', 'abderrafia', 'abderrafie', 'abderrafik', 'abderrahaman', 'abderrahim', 'abderrahime', 'abderrahman', 'abderrahmane', 'abderrahmen', 'abderraman', 'abderraouf', 'abderrazak', 'abderrazaq', 'abderrazek', 'abderrazzak', 'abderrazzaq', 'abderrezak', 'abderrezzak', 'abderzak', 'abdesalam', 'abdesamad', 'abdeselam', 'abdeslam', 'abdeslem', 'abdessadek', 'abdessadeq', 'abdessadik', 'abdessalam', 'abdessalem', 'abdessamad', 'abdessamed', 'abdessamie', 'abdesselam', 'abdesslam', 'abdesslem']\n",
        "\n",
        "# Write your code below this line\n",
        "\n",
        "######### SOLUTION #########\n",
        "# Function to loop through the list and capitalize each name\n",
        "def capitalize_lst(names):\n",
        "    for i in range(len(names)):\n",
        "        names[i] = names[i].capitalize()\n",
        "\n",
        "start_time = time.time() # Start time of the function\n",
        "capitalize_lst(names) # Call the function\n",
        "end_time = time.time() # End time of the function\n",
        "t1 = end_time - start_time # Calculate the time taken\n",
        "print(names) # Print capitalized names\n",
        "print(\"Time taken to capitalize all names:\", t1) # Print the time taken\n",
        "\n",
        "######### SOLUTION END #########"
      ]
    },
    {
      "cell_type": "markdown",
      "metadata": {
        "id": "w7vFY75Hft2b"
      },
      "source": [
        "### Rubric\n",
        "\n",
        "- +7 for correctness (writing a function that returns the desired output)\n",
        "- +1 computing performance time properly\n",
        "- +2 for conciseness"
      ]
    },
    {
      "cell_type": "markdown",
      "metadata": {
        "id": "bGPKHUmTHjQ2"
      },
      "source": [
        "## B. Using `map` with `lambda` (5 points)\n",
        "\n",
        "Solve the same task, this time using `map` and `lambda` function. Evaluate the time your program takes executing. Assign the time elapsed to a variable called `t2`, and print `t2`."
      ]
    },
    {
      "cell_type": "code",
      "execution_count": 7,
      "metadata": {
        "id": "wyp2b47yHh-L"
      },
      "outputs": [
        {
          "name": "stdout",
          "output_type": "stream",
          "text": [
            "['Aatika', 'Aatika', 'Aatika', 'Aatika', 'Aaya', 'Aaya', 'Aaya', 'Aaya', 'Aba', 'Aba', 'Aba', 'Aba', 'Abarca', 'Abarca', 'Abarca', 'Abarca', 'Abba', 'Abba', 'Abba', 'Abba', 'Abdala', 'Abdala', 'Abdala', 'Abdala', 'Abdalla', 'Abdalla', 'Abdalla', 'Abdalla', 'Abdela', 'Abdela', 'Abdela', 'Abdela', 'Abdelhila', 'Abdelhila', 'Abdelhila', 'Abdelhila', 'Abdelmaoula', 'Abdelmaoula', 'Abdelmaoula', 'Abdelmaoula', 'Abdelmoula', 'Abdelmoula', 'Abdelmoula', 'Abdelmoula', 'Abderrafia', 'Abderrafia', 'Abderrafia', 'Abderrafia', 'Abdelilah', 'Abdalla', 'Abdelhanin', 'Abdennaceur', 'Abdelhafid', 'Abderrafia', 'Abderzak', 'Abdeladim', 'Abdelakrim', 'Abdeloihab', 'Abdelouhab', 'Abdelbari', 'Abdesslem', 'Abdelasis', 'Abdalahe', 'Aaya', 'Abdelbaki', 'Abdelfettah', 'Abderrazzaq', 'Abdesslam', 'Abby', 'Abdelkadir', 'Abdeldjalil', 'Abdelmadjid', 'Abderhim', 'Abdessadeq', 'Abdessalam', 'Abdessadek', 'Abdela', 'Abdelkamal', 'Abderrafik', 'Abdeselam', 'Abdelaali', 'Abdennabi', 'Abdelwahid', 'Abdelmayid', 'Abdelkamel', 'Abdelmoumen', 'Abdennacer', 'Abdelazize', 'Abdelwahad', 'Abbas', 'Abdelouahid', 'Abdelhabib', 'Aatika', 'Abdelouahed', 'Abdelhamid', 'Abdeljalal', 'Aamar', 'Abdelqader', 'Abdennasar', 'Abdessamie', 'Abdelatif', 'Abdelkebir', 'Abdalah', 'Abdenasser', 'Abdelkhalik', 'Aali', 'Abdennaim', 'Abdennaser', 'Abdelkabir', 'Abderahmane', 'Abdelfattah', 'Abdelhay', 'Abdelfetah', 'Abdelmalek', 'Abdelmonim', 'Abdelmaoula', 'Abdeluahid', 'Abdellahi', 'Abdelhadi', 'Aaron', 'Abdelrhani', 'Abdelhila', 'Abbes', 'Abdelillah', 'Abdelkhaleq', 'Abdelouafi', 'Abderezak', 'Abderrahman', 'Abdelouahab', 'Abdelali', 'Abdelkbir', 'Abdelmounim', 'Abdennassar', 'Abdennasser', 'Abderazzak', 'Abderraouf', 'Abdeslem', 'Abderrachid', 'Abdesalam', 'Abdel', 'Abdenour', 'Abdelazis', 'Abdelhamed', 'Abdeljebbar', 'Abdelwahab', 'Abad', 'Abdeljabar', 'Abdeloihed', 'Aadil', 'Aali', 'Aaliyah', 'Aaltje', 'Aamar', 'Aamer', 'Aamir', 'Aaron', 'Aase', 'Aatika', 'Aaya', 'Aba', 'Ababacar', 'Abad', 'Abarca', 'Abarne', 'Abass', 'Abasse', 'Abba', 'Abbas', 'Abbass', 'Abbes', 'Abby', 'Abdala', 'Abdalah', 'Abdalahe', 'Abdalahi', 'Abdalla', 'Abdallah', 'Abdallahi', 'Abdel', 'Abdela', 'Abdelaali', 'Abdelaati', 'Abdelaaziz', 'Abdeladim', 'Abdelah', 'Abdelakrim', 'Abdelali', 'Abdelasis', 'Abdelati', 'Abdelatif', 'Abdelazis', 'Abdelaziz', 'Abdelazize', 'Abdelbaki', 'Abdelbari', 'Abdelbasset', 'Abdeldjalil', 'Abdelelah', 'Abdelfatah', 'Abdelfattah', 'Abdelfetah', 'Abdelfettah', 'Abdelghafour', 'Abdelghani', 'Abdelhabib', 'Abdelhadi', 'Abdelhafid', 'Abdelhai', 'Abdelhak', 'Abdelhakem', 'Abdelhakim', 'Abdelhalak', 'Abdelhalim', 'Abdelhamed', 'Abdelhamid', 'Abdelhanin', 'Abdelhaq', 'Abdelhay', 'Abdelhila', 'Abdelhilah', 'Abdelilah', 'Abdelillah', 'Abdeljabar', 'Abdeljabbar', 'Abdeljalak', 'Abdeljalal', 'Abdeljalil', 'Abdeljaouad', 'Abdeljebbar', 'Abdelkabir', 'Abdelkader', 'Abdelkadir', 'Abdelkamal', 'Abdelkamel', 'Abdelkarim', 'Abdelkarin', 'Abdelkbir', 'Abdelkebir', 'Abdelkerim', 'Abdelkhalak', 'Abdelkhalek', 'Abdelkhaleq', 'Abdelkhalik', 'Abdelkrim', 'Abdellah', 'Abdellahi', 'Abdellali', 'Abdellatif', 'Abdellaziz', 'Abdellilah', 'Abdelmadjid', 'Abdelmajid', 'Abdelmalek', 'Abdelmalik', 'Abdelmaoula', 'Abdelmayid', 'Abdelmjid', 'Abdelmoghit', 'Abdelmonaim', 'Abdelmonim', 'Abdelmoughit', 'Abdelmoula', 'Abdelmoumen', 'Abdelmounaim', 'Abdelmounim', 'Abdeloihab', 'Abdeloihed', 'Abdeloihid', 'Abdelouadoud', 'Abdelouafi', 'Abdelouahab', 'Abdelouahad', 'Abdelouahd', 'Abdelouahed', 'Abdelouahhab', 'Abdelouahid', 'Abdelouhab', 'Abdelqader', 'Abdelrahim', 'Abdelrahman', 'Abdelrhani', 'Abdeltif', 'Abdeluahed', 'Abdeluahid', 'Abdelwahab', 'Abdelwahad', 'Abdelwahed', 'Abdelwahid', 'Abdenabi', 'Abdenacer', 'Abdenaji', 'Abdenasser', 'Abdenbi', 'Abdennabi', 'Abdennacer', 'Abdennaceur', 'Abdennaim', 'Abdennaji', 'Abdennasar', 'Abdennaser', 'Abdennassar', 'Abdennasser', 'Abdennebi', 'Abdennour', 'Abdenour', 'Abderahim', 'Abderahman', 'Abderahmane', 'Abderazak', 'Abderazzak', 'Abderezak', 'Abderhim', 'Abderrachid', 'Abderrafia', 'Abderrafie', 'Abderrafik', 'Abderrahaman', 'Abderrahim', 'Abderrahime', 'Abderrahman', 'Abderrahmane', 'Abderrahmen', 'Abderraman', 'Abderraouf', 'Abderrazak', 'Abderrazaq', 'Abderrazek', 'Abderrazzak', 'Abderrazzaq', 'Abderrezak', 'Abderrezzak', 'Abderzak', 'Abdesalam', 'Abdesamad', 'Abdeselam', 'Abdeslam', 'Abdeslem', 'Abdessadek', 'Abdessadeq', 'Abdessadik', 'Abdessalam', 'Abdessalem', 'Abdessamad', 'Abdessamed', 'Abdessamie', 'Abdesselam', 'Abdesslam', 'Abdesslem']\n",
            "Time taken to capitalize all names: 2.4080276489257812e-05\n"
          ]
        }
      ],
      "source": [
        "# Write your code below this line\n",
        "\n",
        "# Defining names here since the above cell has already been run\n",
        "names = ['aatika', 'aatika', 'aatika', 'aatika', 'aaya', 'aaya', 'aaya', 'aaya', 'aba', 'aba', 'aba', 'aba', 'abarca', 'abarca', 'abarca', 'abarca', 'abba', 'abba', 'abba', 'abba', 'abdala', 'abdala', 'abdala', 'abdala', 'abdalla', 'abdalla', 'abdalla', 'abdalla', 'abdela', 'abdela', 'abdela', 'abdela', 'abdelhila', 'abdelhila', 'abdelhila', 'abdelhila', 'abdelmaoula', 'abdelmaoula', 'abdelmaoula', 'abdelmaoula', 'abdelmoula', 'abdelmoula', 'abdelmoula', 'abdelmoula', 'abderrafia', 'abderrafia', 'abderrafia', 'abderrafia', 'abdelilah', 'abdalla', 'abdelhanin', 'abdennaceur', 'abdelhafid', 'abderrafia', 'abderzak', 'abdeladim', 'abdelakrim', 'abdeloihab', 'abdelouhab', 'abdelbari', 'abdesslem', 'abdelasis', 'abdalahe', 'aaya', 'abdelbaki', 'abdelfettah', 'abderrazzaq', 'abdesslam', 'abby', 'abdelkadir', 'abdeldjalil', 'abdelmadjid', 'abderhim', 'abdessadeq', 'abdessalam', 'abdessadek', 'abdela', 'abdelkamal', 'abderrafik', 'abdeselam', 'abdelaali', 'abdennabi', 'abdelwahid', 'abdelmayid', 'abdelkamel', 'abdelmoumen', 'abdennacer', 'abdelazize', 'abdelwahad', 'abbas', 'abdelouahid', 'abdelhabib', 'aatika', 'abdelouahed', 'abdelhamid', 'abdeljalal', 'aamar', 'abdelqader', 'abdennasar', 'abdessamie', 'abdelatif', 'abdelkebir', 'abdalah', 'abdenasser', 'abdelkhalik', 'aali', 'abdennaim', 'abdennaser', 'abdelkabir', 'abderahmane', 'abdelfattah', 'abdelhay', 'abdelfetah', 'abdelmalek', 'abdelmonim', 'abdelmaoula', 'abdeluahid', 'abdellahi', 'abdelhadi', 'aaron', 'abdelrhani', 'abdelhila', 'abbes', 'abdelillah', 'abdelkhaleq', 'abdelouafi', 'abderezak', 'abderrahman', 'abdelouahab', 'abdelali', 'abdelkbir', 'abdelmounim', 'abdennassar', 'abdennasser', 'abderazzak', 'abderraouf', 'abdeslem', 'abderrachid', 'abdesalam', 'abdel', 'abdenour', 'abdelazis', 'abdelhamed', 'abdeljebbar', 'abdelwahab', 'abad', 'abdeljabar', 'abdeloihed', 'aadil', 'aali', 'aaliyah', 'aaltje', 'aamar', 'aamer', 'aamir', 'aaron', 'aase', 'aatika', 'aaya', 'aba', 'ababacar', 'abad', 'abarca', 'abarne', 'abass', 'abasse', 'abba', 'abbas', 'abbass', 'abbes', 'abby', 'abdala', 'abdalah', 'abdalahe', 'abdalahi', 'abdalla', 'abdallah', 'abdallahi', 'abdel', 'abdela', 'abdelaali', 'abdelaati', 'abdelaaziz', 'abdeladim', 'abdelah', 'abdelakrim', 'abdelali', 'abdelasis', 'abdelati', 'abdelatif', 'abdelazis', 'abdelaziz', 'abdelazize', 'abdelbaki', 'abdelbari', 'abdelbasset', 'abdeldjalil', 'abdelelah', 'abdelfatah', 'abdelfattah', 'abdelfetah', 'abdelfettah', 'abdelghafour', 'abdelghani', 'abdelhabib', 'abdelhadi', 'abdelhafid', 'abdelhai', 'abdelhak', 'abdelhakem', 'abdelhakim', 'abdelhalak', 'abdelhalim', 'abdelhamed', 'abdelhamid', 'abdelhanin', 'abdelhaq', 'abdelhay', 'abdelhila', 'abdelhilah', 'abdelilah', 'abdelillah', 'abdeljabar', 'abdeljabbar', 'abdeljalak', 'abdeljalal', 'abdeljalil', 'abdeljaouad', 'abdeljebbar', 'abdelkabir', 'abdelkader', 'abdelkadir', 'abdelkamal', 'abdelkamel', 'abdelkarim', 'abdelkarin', 'abdelkbir', 'abdelkebir', 'abdelkerim', 'abdelkhalak', 'abdelkhalek', 'abdelkhaleq', 'abdelkhalik', 'abdelkrim', 'abdellah', 'abdellahi', 'abdellali', 'abdellatif', 'abdellaziz', 'abdellilah', 'abdelmadjid', 'abdelmajid', 'abdelmalek', 'abdelmalik', 'abdelmaoula', 'abdelmayid', 'abdelmjid', 'abdelmoghit', 'abdelmonaim', 'abdelmonim', 'abdelmoughit', 'abdelmoula', 'abdelmoumen', 'abdelmounaim', 'abdelmounim', 'abdeloihab', 'abdeloihed', 'abdeloihid', 'abdelouadoud', 'abdelouafi', 'abdelouahab', 'abdelouahad', 'abdelouahd', 'abdelouahed', 'abdelouahhab', 'abdelouahid', 'abdelouhab', 'abdelqader', 'abdelrahim', 'abdelrahman', 'abdelrhani', 'abdeltif', 'abdeluahed', 'abdeluahid', 'abdelwahab', 'abdelwahad', 'abdelwahed', 'abdelwahid', 'abdenabi', 'abdenacer', 'abdenaji', 'abdenasser', 'abdenbi', 'abdennabi', 'abdennacer', 'abdennaceur', 'abdennaim', 'abdennaji', 'abdennasar', 'abdennaser', 'abdennassar', 'abdennasser', 'abdennebi', 'abdennour', 'abdenour', 'abderahim', 'abderahman', 'abderahmane', 'abderazak', 'abderazzak', 'abderezak', 'abderhim', 'abderrachid', 'abderrafia', 'abderrafie', 'abderrafik', 'abderrahaman', 'abderrahim', 'abderrahime', 'abderrahman', 'abderrahmane', 'abderrahmen', 'abderraman', 'abderraouf', 'abderrazak', 'abderrazaq', 'abderrazek', 'abderrazzak', 'abderrazzaq', 'abderrezak', 'abderrezzak', 'abderzak', 'abdesalam', 'abdesamad', 'abdeselam', 'abdeslam', 'abdeslem', 'abdessadek', 'abdessadeq', 'abdessadik', 'abdessalam', 'abdessalem', 'abdessamad', 'abdessamed', 'abdessamie', 'abdesselam', 'abdesslam', 'abdesslem']\n",
        "\n",
        "######### SOLUTION #########\n",
        "start_time = time.time() # Start time of the function\n",
        "names = map(lambda x: x.capitalize(), names) # Call the map function wtih capitalize lambda\n",
        "end_time = time.time() # End time of the function\n",
        "t2 = end_time - start_time # Calculate the time taken\n",
        "print(list(names)) # Print capitalized names (converting to list first)\n",
        "print(\"Time taken to capitalize all names:\", t2) # Print the time taken\n",
        "######### SOLUTION END #########"
      ]
    },
    {
      "cell_type": "markdown",
      "metadata": {
        "id": "i9PAHxtgfxFl"
      },
      "source": [
        "### Rubric\n",
        "\n",
        "- +3 for correctness (using map and lambda, and returning the desired output)\n",
        "- +1 for computing time properly\n",
        "- +1 for conciseness"
      ]
    },
    {
      "cell_type": "markdown",
      "metadata": {
        "id": "X3LiUV-BJEsK"
      },
      "source": [
        "## C. Using List Comprehension (5 points)\n",
        "\n",
        "Solve the same task, this time using list comprehension. Evaluate the time your program takes executing. Assign the time elapsed to a variable called `t3`, and print `t3`."
      ]
    },
    {
      "cell_type": "code",
      "execution_count": 8,
      "metadata": {
        "id": "g0RrOKyBI5QE"
      },
      "outputs": [
        {
          "name": "stdout",
          "output_type": "stream",
          "text": [
            "['Aatika', 'Aatika', 'Aatika', 'Aatika', 'Aaya', 'Aaya', 'Aaya', 'Aaya', 'Aba', 'Aba', 'Aba', 'Aba', 'Abarca', 'Abarca', 'Abarca', 'Abarca', 'Abba', 'Abba', 'Abba', 'Abba', 'Abdala', 'Abdala', 'Abdala', 'Abdala', 'Abdalla', 'Abdalla', 'Abdalla', 'Abdalla', 'Abdela', 'Abdela', 'Abdela', 'Abdela', 'Abdelhila', 'Abdelhila', 'Abdelhila', 'Abdelhila', 'Abdelmaoula', 'Abdelmaoula', 'Abdelmaoula', 'Abdelmaoula', 'Abdelmoula', 'Abdelmoula', 'Abdelmoula', 'Abdelmoula', 'Abderrafia', 'Abderrafia', 'Abderrafia', 'Abderrafia', 'Abdelilah', 'Abdalla', 'Abdelhanin', 'Abdennaceur', 'Abdelhafid', 'Abderrafia', 'Abderzak', 'Abdeladim', 'Abdelakrim', 'Abdeloihab', 'Abdelouhab', 'Abdelbari', 'Abdesslem', 'Abdelasis', 'Abdalahe', 'Aaya', 'Abdelbaki', 'Abdelfettah', 'Abderrazzaq', 'Abdesslam', 'Abby', 'Abdelkadir', 'Abdeldjalil', 'Abdelmadjid', 'Abderhim', 'Abdessadeq', 'Abdessalam', 'Abdessadek', 'Abdela', 'Abdelkamal', 'Abderrafik', 'Abdeselam', 'Abdelaali', 'Abdennabi', 'Abdelwahid', 'Abdelmayid', 'Abdelkamel', 'Abdelmoumen', 'Abdennacer', 'Abdelazize', 'Abdelwahad', 'Abbas', 'Abdelouahid', 'Abdelhabib', 'Aatika', 'Abdelouahed', 'Abdelhamid', 'Abdeljalal', 'Aamar', 'Abdelqader', 'Abdennasar', 'Abdessamie', 'Abdelatif', 'Abdelkebir', 'Abdalah', 'Abdenasser', 'Abdelkhalik', 'Aali', 'Abdennaim', 'Abdennaser', 'Abdelkabir', 'Abderahmane', 'Abdelfattah', 'Abdelhay', 'Abdelfetah', 'Abdelmalek', 'Abdelmonim', 'Abdelmaoula', 'Abdeluahid', 'Abdellahi', 'Abdelhadi', 'Aaron', 'Abdelrhani', 'Abdelhila', 'Abbes', 'Abdelillah', 'Abdelkhaleq', 'Abdelouafi', 'Abderezak', 'Abderrahman', 'Abdelouahab', 'Abdelali', 'Abdelkbir', 'Abdelmounim', 'Abdennassar', 'Abdennasser', 'Abderazzak', 'Abderraouf', 'Abdeslem', 'Abderrachid', 'Abdesalam', 'Abdel', 'Abdenour', 'Abdelazis', 'Abdelhamed', 'Abdeljebbar', 'Abdelwahab', 'Abad', 'Abdeljabar', 'Abdeloihed', 'Aadil', 'Aali', 'Aaliyah', 'Aaltje', 'Aamar', 'Aamer', 'Aamir', 'Aaron', 'Aase', 'Aatika', 'Aaya', 'Aba', 'Ababacar', 'Abad', 'Abarca', 'Abarne', 'Abass', 'Abasse', 'Abba', 'Abbas', 'Abbass', 'Abbes', 'Abby', 'Abdala', 'Abdalah', 'Abdalahe', 'Abdalahi', 'Abdalla', 'Abdallah', 'Abdallahi', 'Abdel', 'Abdela', 'Abdelaali', 'Abdelaati', 'Abdelaaziz', 'Abdeladim', 'Abdelah', 'Abdelakrim', 'Abdelali', 'Abdelasis', 'Abdelati', 'Abdelatif', 'Abdelazis', 'Abdelaziz', 'Abdelazize', 'Abdelbaki', 'Abdelbari', 'Abdelbasset', 'Abdeldjalil', 'Abdelelah', 'Abdelfatah', 'Abdelfattah', 'Abdelfetah', 'Abdelfettah', 'Abdelghafour', 'Abdelghani', 'Abdelhabib', 'Abdelhadi', 'Abdelhafid', 'Abdelhai', 'Abdelhak', 'Abdelhakem', 'Abdelhakim', 'Abdelhalak', 'Abdelhalim', 'Abdelhamed', 'Abdelhamid', 'Abdelhanin', 'Abdelhaq', 'Abdelhay', 'Abdelhila', 'Abdelhilah', 'Abdelilah', 'Abdelillah', 'Abdeljabar', 'Abdeljabbar', 'Abdeljalak', 'Abdeljalal', 'Abdeljalil', 'Abdeljaouad', 'Abdeljebbar', 'Abdelkabir', 'Abdelkader', 'Abdelkadir', 'Abdelkamal', 'Abdelkamel', 'Abdelkarim', 'Abdelkarin', 'Abdelkbir', 'Abdelkebir', 'Abdelkerim', 'Abdelkhalak', 'Abdelkhalek', 'Abdelkhaleq', 'Abdelkhalik', 'Abdelkrim', 'Abdellah', 'Abdellahi', 'Abdellali', 'Abdellatif', 'Abdellaziz', 'Abdellilah', 'Abdelmadjid', 'Abdelmajid', 'Abdelmalek', 'Abdelmalik', 'Abdelmaoula', 'Abdelmayid', 'Abdelmjid', 'Abdelmoghit', 'Abdelmonaim', 'Abdelmonim', 'Abdelmoughit', 'Abdelmoula', 'Abdelmoumen', 'Abdelmounaim', 'Abdelmounim', 'Abdeloihab', 'Abdeloihed', 'Abdeloihid', 'Abdelouadoud', 'Abdelouafi', 'Abdelouahab', 'Abdelouahad', 'Abdelouahd', 'Abdelouahed', 'Abdelouahhab', 'Abdelouahid', 'Abdelouhab', 'Abdelqader', 'Abdelrahim', 'Abdelrahman', 'Abdelrhani', 'Abdeltif', 'Abdeluahed', 'Abdeluahid', 'Abdelwahab', 'Abdelwahad', 'Abdelwahed', 'Abdelwahid', 'Abdenabi', 'Abdenacer', 'Abdenaji', 'Abdenasser', 'Abdenbi', 'Abdennabi', 'Abdennacer', 'Abdennaceur', 'Abdennaim', 'Abdennaji', 'Abdennasar', 'Abdennaser', 'Abdennassar', 'Abdennasser', 'Abdennebi', 'Abdennour', 'Abdenour', 'Abderahim', 'Abderahman', 'Abderahmane', 'Abderazak', 'Abderazzak', 'Abderezak', 'Abderhim', 'Abderrachid', 'Abderrafia', 'Abderrafie', 'Abderrafik', 'Abderrahaman', 'Abderrahim', 'Abderrahime', 'Abderrahman', 'Abderrahmane', 'Abderrahmen', 'Abderraman', 'Abderraouf', 'Abderrazak', 'Abderrazaq', 'Abderrazek', 'Abderrazzak', 'Abderrazzaq', 'Abderrezak', 'Abderrezzak', 'Abderzak', 'Abdesalam', 'Abdesamad', 'Abdeselam', 'Abdeslam', 'Abdeslem', 'Abdessadek', 'Abdessadeq', 'Abdessadik', 'Abdessalam', 'Abdessalem', 'Abdessamad', 'Abdessamed', 'Abdessamie', 'Abdesselam', 'Abdesslam', 'Abdesslem']\n",
            "Time taken to capitalize all names: 6.198883056640625e-05\n"
          ]
        }
      ],
      "source": [
        "# Write your code below this line\n",
        "# Again, defining names here since the above cell has already been run\n",
        "names = ['aatika', 'aatika', 'aatika', 'aatika', 'aaya', 'aaya', 'aaya', 'aaya', 'aba', 'aba', 'aba', 'aba', 'abarca', 'abarca', 'abarca', 'abarca', 'abba', 'abba', 'abba', 'abba', 'abdala', 'abdala', 'abdala', 'abdala', 'abdalla', 'abdalla', 'abdalla', 'abdalla', 'abdela', 'abdela', 'abdela', 'abdela', 'abdelhila', 'abdelhila', 'abdelhila', 'abdelhila', 'abdelmaoula', 'abdelmaoula', 'abdelmaoula', 'abdelmaoula', 'abdelmoula', 'abdelmoula', 'abdelmoula', 'abdelmoula', 'abderrafia', 'abderrafia', 'abderrafia', 'abderrafia', 'abdelilah', 'abdalla', 'abdelhanin', 'abdennaceur', 'abdelhafid', 'abderrafia', 'abderzak', 'abdeladim', 'abdelakrim', 'abdeloihab', 'abdelouhab', 'abdelbari', 'abdesslem', 'abdelasis', 'abdalahe', 'aaya', 'abdelbaki', 'abdelfettah', 'abderrazzaq', 'abdesslam', 'abby', 'abdelkadir', 'abdeldjalil', 'abdelmadjid', 'abderhim', 'abdessadeq', 'abdessalam', 'abdessadek', 'abdela', 'abdelkamal', 'abderrafik', 'abdeselam', 'abdelaali', 'abdennabi', 'abdelwahid', 'abdelmayid', 'abdelkamel', 'abdelmoumen', 'abdennacer', 'abdelazize', 'abdelwahad', 'abbas', 'abdelouahid', 'abdelhabib', 'aatika', 'abdelouahed', 'abdelhamid', 'abdeljalal', 'aamar', 'abdelqader', 'abdennasar', 'abdessamie', 'abdelatif', 'abdelkebir', 'abdalah', 'abdenasser', 'abdelkhalik', 'aali', 'abdennaim', 'abdennaser', 'abdelkabir', 'abderahmane', 'abdelfattah', 'abdelhay', 'abdelfetah', 'abdelmalek', 'abdelmonim', 'abdelmaoula', 'abdeluahid', 'abdellahi', 'abdelhadi', 'aaron', 'abdelrhani', 'abdelhila', 'abbes', 'abdelillah', 'abdelkhaleq', 'abdelouafi', 'abderezak', 'abderrahman', 'abdelouahab', 'abdelali', 'abdelkbir', 'abdelmounim', 'abdennassar', 'abdennasser', 'abderazzak', 'abderraouf', 'abdeslem', 'abderrachid', 'abdesalam', 'abdel', 'abdenour', 'abdelazis', 'abdelhamed', 'abdeljebbar', 'abdelwahab', 'abad', 'abdeljabar', 'abdeloihed', 'aadil', 'aali', 'aaliyah', 'aaltje', 'aamar', 'aamer', 'aamir', 'aaron', 'aase', 'aatika', 'aaya', 'aba', 'ababacar', 'abad', 'abarca', 'abarne', 'abass', 'abasse', 'abba', 'abbas', 'abbass', 'abbes', 'abby', 'abdala', 'abdalah', 'abdalahe', 'abdalahi', 'abdalla', 'abdallah', 'abdallahi', 'abdel', 'abdela', 'abdelaali', 'abdelaati', 'abdelaaziz', 'abdeladim', 'abdelah', 'abdelakrim', 'abdelali', 'abdelasis', 'abdelati', 'abdelatif', 'abdelazis', 'abdelaziz', 'abdelazize', 'abdelbaki', 'abdelbari', 'abdelbasset', 'abdeldjalil', 'abdelelah', 'abdelfatah', 'abdelfattah', 'abdelfetah', 'abdelfettah', 'abdelghafour', 'abdelghani', 'abdelhabib', 'abdelhadi', 'abdelhafid', 'abdelhai', 'abdelhak', 'abdelhakem', 'abdelhakim', 'abdelhalak', 'abdelhalim', 'abdelhamed', 'abdelhamid', 'abdelhanin', 'abdelhaq', 'abdelhay', 'abdelhila', 'abdelhilah', 'abdelilah', 'abdelillah', 'abdeljabar', 'abdeljabbar', 'abdeljalak', 'abdeljalal', 'abdeljalil', 'abdeljaouad', 'abdeljebbar', 'abdelkabir', 'abdelkader', 'abdelkadir', 'abdelkamal', 'abdelkamel', 'abdelkarim', 'abdelkarin', 'abdelkbir', 'abdelkebir', 'abdelkerim', 'abdelkhalak', 'abdelkhalek', 'abdelkhaleq', 'abdelkhalik', 'abdelkrim', 'abdellah', 'abdellahi', 'abdellali', 'abdellatif', 'abdellaziz', 'abdellilah', 'abdelmadjid', 'abdelmajid', 'abdelmalek', 'abdelmalik', 'abdelmaoula', 'abdelmayid', 'abdelmjid', 'abdelmoghit', 'abdelmonaim', 'abdelmonim', 'abdelmoughit', 'abdelmoula', 'abdelmoumen', 'abdelmounaim', 'abdelmounim', 'abdeloihab', 'abdeloihed', 'abdeloihid', 'abdelouadoud', 'abdelouafi', 'abdelouahab', 'abdelouahad', 'abdelouahd', 'abdelouahed', 'abdelouahhab', 'abdelouahid', 'abdelouhab', 'abdelqader', 'abdelrahim', 'abdelrahman', 'abdelrhani', 'abdeltif', 'abdeluahed', 'abdeluahid', 'abdelwahab', 'abdelwahad', 'abdelwahed', 'abdelwahid', 'abdenabi', 'abdenacer', 'abdenaji', 'abdenasser', 'abdenbi', 'abdennabi', 'abdennacer', 'abdennaceur', 'abdennaim', 'abdennaji', 'abdennasar', 'abdennaser', 'abdennassar', 'abdennasser', 'abdennebi', 'abdennour', 'abdenour', 'abderahim', 'abderahman', 'abderahmane', 'abderazak', 'abderazzak', 'abderezak', 'abderhim', 'abderrachid', 'abderrafia', 'abderrafie', 'abderrafik', 'abderrahaman', 'abderrahim', 'abderrahime', 'abderrahman', 'abderrahmane', 'abderrahmen', 'abderraman', 'abderraouf', 'abderrazak', 'abderrazaq', 'abderrazek', 'abderrazzak', 'abderrazzaq', 'abderrezak', 'abderrezzak', 'abderzak', 'abdesalam', 'abdesamad', 'abdeselam', 'abdeslam', 'abdeslem', 'abdessadek', 'abdessadeq', 'abdessadik', 'abdessalam', 'abdessalem', 'abdessamad', 'abdessamed', 'abdessamie', 'abdesselam', 'abdesslam', 'abdesslem']\n",
        "\n",
        "######### SOLUTION #########\n",
        "start_time = time.time() # Start time of the function\n",
        "names = [name.capitalize() for name in names] # Capitalize names with list comprehension\n",
        "end_time = time.time() # End time of the function\n",
        "t3 = end_time - start_time # Calculate the time taken\n",
        "print(names) # Print capitalized names\n",
        "print(\"Time taken to capitalize all names:\", t3) # Print the time taken\n",
        "\n",
        "######### SOLUTION END #########"
      ]
    },
    {
      "cell_type": "markdown",
      "metadata": {
        "id": "yuVz5uQifzj5"
      },
      "source": [
        "### Rubric\n",
        "\n",
        "- +3 for correctness (using list comprehension, and returning the desired output)\n",
        "- +1 for computing time properly\n",
        "- +1 for conciseness"
      ]
    },
    {
      "cell_type": "markdown",
      "metadata": {
        "id": "BjKIGVcVKl2e"
      },
      "source": [
        "## Conclusion\n",
        "\n",
        "Now that you have written three ways to solve the same problem, you would notice that one of these ways is much faster than the others. Which one is it?\n",
        "\n",
        "Now think about why that is the case?\n",
        "\n",
        "Each of the above three methods has its own pros and cons. For example, using simple loops in a function makes your code much more readable, whereas map and list comprehension are much more consice.\n",
        "\n",
        "There isn't a universally best way to use one method over the other. The performance of each method varies depending on the task at hand, and being a data scientist, if you are dealing with a large dataset, it may be important to use one method over the other, and hence conduct such performance evaluation tests on some subset of data first."
      ]
    },
    {
      "cell_type": "markdown",
      "metadata": {},
      "source": [
        "### Answer\n",
        "\n",
        "While all our functions in this case run very fast, I believe that list comprehension is the fastest method and will scale much better for larger datasets. This is because list comprehension is a Pythonic way of writing loops, and, from my understanding, Python is optimized to run such code faster. While `map` and `lambda` is also fairly fast, it must be noted that we also have the extra step of converting the `map` to a `list` before printing, which can take some additional time since it is an O(n) operation."
      ]
    }
  ],
  "metadata": {
    "colab": {
      "collapsed_sections": [
        "PUxdctIdxU6B",
        "UPMDlF4mjG6v"
      ],
      "provenance": [],
      "toc_visible": true
    },
    "kernelspec": {
      "display_name": "Python 3",
      "name": "python3"
    },
    "language_info": {
      "codemirror_mode": {
        "name": "ipython",
        "version": 3
      },
      "file_extension": ".py",
      "mimetype": "text/x-python",
      "name": "python",
      "nbconvert_exporter": "python",
      "pygments_lexer": "ipython3",
      "version": "3.11.0"
    }
  },
  "nbformat": 4,
  "nbformat_minor": 0
}
