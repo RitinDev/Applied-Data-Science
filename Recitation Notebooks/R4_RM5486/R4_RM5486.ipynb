{
  "cells": [
    {
      "cell_type": "markdown",
      "metadata": {
        "id": "PUxdctIdxU6B"
      },
      "source": [
        "---\n",
        "---\n",
        "Recitation 4: Regular Expressions\n",
        "\n",
        "Applied Data Science using Python\n",
        "\n",
        "New York University, Abu Dhabi\n",
        "\n",
        "Dated: 20th Sept 2023\n",
        "\n",
        "---\n",
        "---\n",
        "#Start Here\n",
        "## Learning Goals\n",
        "### General Goals\n",
        "- Learn the basics of text processing\n",
        "- Learn the basics of regular expressions\n",
        "\n",
        "### Specific Goals\n",
        "- Learn basic regex functions and operators\n",
        "- Learn patterns and character classes\n",
        "- Learn how to use quantifiers\n",
        "- Learn how to use groups\n",
        "- Learn about look-ahead and look-behind matching\n",
        "\n",
        "## Distribution of Class Materials\n",
        "These problem sets and recitations are intellectual property of NYUAD, and we request the students to **not** distribute them or their solutions to other students who have not signed up for this class, and/or intend to sign up in the future. We also request you don't post these problem sets, and recitations online or on any public platforms.\n",
        "\n",
        "## Submission\n",
        "You will submit all your code as a Python Notebook through [Brightspace](https://brightspace.nyu.edu/) as **R4_YOUR NETID.ipynb**.\n",
        "\n",
        "---\n",
        "\n",
        "\n"
      ]
    },
    {
      "cell_type": "markdown",
      "metadata": {
        "id": "UPMDlF4mjG6v"
      },
      "source": [
        "# General Instructions\n",
        "This recitation is worth 50 points. It has 2 parts. All the parts need to be completed in a Jupyter (Colab) Notebook attached with this handout.\n",
        "\n"
      ]
    },
    {
      "cell_type": "markdown",
      "metadata": {
        "id": "3SWf22cCjQNY"
      },
      "source": [
        "# Part I: Building an Email spam detector (25 points)\n",
        "\n",
        "The faculty in the NYUAD social science division has been receiving a lot of spam emails lately. The default spam detector within gmail is not able to classify emails as spam, and so the faculty has reached out to the data scientists in the community to help create a customized spam detector.\n",
        "\n",
        "From visual inspection, it is noticed that all the spam emails usually have one thing in common: In the body of the email, they all tend to ask the addressee to contact them at an email address with a blacklisted email domain. What is an email domain? An email domain is the web address that comes after the **@** symbol in an email address.\n",
        "\n",
        "Conside the following spam email:\n",
        "\n",
        "> URGENT! This email is being sent to all the employees with NYUAD email address. For security reasons, we are resetting the passwords of all the users. To verify your identity, please send us your NYUAD email address, and password to NYUAD-ADMIN@mailinator.net. Note that, except a few email addresses, you should not share your password with anyone else. More specifically, only trusted email addresses are NYUAD-ADMIN@mailinator.net, cybersecurity-awareness-training@bobmail.info, and nyuad-it@sogetthis.com.\n",
        "\n",
        "In the above email body, there are three unique email addresses: NYUAD-ADMIN@mailinator.net,  cybersecurity-awareness-training@bobmail.info, and nyuad-it@sogetthis.com. Their domain names are *mailinator.net*, *bobmail.info*, and *sogetthis.com*. All three of these domains are black-listed.\n",
        "\n",
        "In this task, you will use your knowledge of regular expressions to create an email spam detector using the logic above.\n",
        "\n",
        "More precisely, write a function `is_spam(email_str, blacklisted_domains)` that takes in the body of the email as a string (as shown above), and a list of blacklisted domains, and returns `True` if the email body has a blacklisted domain name anywhere in the body of the email, and `False` if it does not."
      ]
    },
    {
      "cell_type": "code",
      "execution_count": 59,
      "metadata": {
        "id": "8jTPgJIO24Pa"
      },
      "outputs": [],
      "source": [
        "import re\n",
        "\n",
        "def is_spam(email_str, blacklisted_domains=[]):\n",
        "  # Write your implementation of the function below this line\n",
        "\n",
        "  ######### SOLUTION #########\n",
        "  # Use regex to find any email domains in the email string\n",
        "  # Also, remove any dots that may be at the end of the domain\n",
        "  domains = re.findall(r'@(\\w+\\.?\\w+)', email_str)\n",
        "  return any(domain in blacklisted_domains for domain in domains)\n",
        "\n",
        "  ######### SOLUTION END #########"
      ]
    },
    {
      "cell_type": "code",
      "execution_count": 60,
      "metadata": {
        "id": "uz-B_GgHicvo"
      },
      "outputs": [],
      "source": [
        "# Reading blacklisted domain names from file\n",
        "# In Google colab, you need to mount your drive to be access your files. If you are running jupyter notebook locally no need to do this step.\n",
        "# from google.colab import drive\n",
        "# drive.mount('/content/drive')\n",
        "\n",
        "# NOTE: I run this notebook locally, so I commented out the above code\n",
        "# Kindly uncomment the below code and set the path to the file containing the blacklisted domains"
      ]
    },
    {
      "cell_type": "code",
      "execution_count": 61,
      "metadata": {
        "id": "dHkC7HVivuWd"
      },
      "outputs": [
        {
          "name": "stdout",
          "output_type": "stream",
          "text": [
            "['mailinator.com', 'mailinator2.com', 'mailinator.net', 'chammy.info', 'binkmail.com', 'bobmail.info', 'devnullmail.com', 'gawab.com', 'letthemeatspam.com', 'notmailinator.com', 'putthisinyourspamdatabase.com', 'tempimbox.com', 'thisisnotmyrealemail.com', 'tradermail.info', 'safetymail.info', 'sendspamhere.com', 'sogetthis.com', 'spam.la', 'spamherelots.com', 'spamthisplease.com', 'supergreatmail.com', 'suremail.info', 'veryrealemail.com', 'zippymail.info', 'guerrillamail.com', 'guerrillamail.org', 'guerrillamail.net', 'guerrillamail.biz', 'guerrillamail.de', 'guerrillamailblock.com', 'sharklasers.com', 'spam4.me', 'nwldx.com', 'rmqkr.net', 'ms9.mailslite.com', 'zoaxe.com', 'fakemailgenerator.com', 'teleworm.com', 'dayrep.com', 'onewaymail.com', 'mobi.web.id', 'ag.us.to', 'gelitik.in', 'fixmail.tk', 'shitmail.org', 'crapmail.org', '1ce.us', 'big1.us', 'garliclife.com', 'irish2me.com', 'lifebyfood.com', 'lr7.us', 'lr78.com', 'luv2.us', 'soodomail.com', 'soodonims.com', 'winemaven.info', 'xoxox.cc', 'yogamaven.com', 'spambox.us', 'trillianpro.com', 'nospam.wins.com.br', 'kurzepost.de', 'objectmail.com', 'proxymail.eu', 'rcpt.at', 'trash-mail.at', 'trashmail.at', 'trashmail.me', 'trashmail.net', 'wegwerfmail.de', 'wegwerfmail.net', 'wegwerfmail.org', 'yopmail.com', 'yopmail.fr', 'yopmail.net', 'cool.fr.nf', 'courriel.fr.nf', 'jetable.fr.nf', 'nospam.ze.tc', 'nomail.xl.cx', 'mega.zik.dj', 'moncourrier.fr.nf', 'monemail.fr.nf', 'monmail.fr.nf', 'speed.1s.fr', 'ypmail.webarnak.fr.eu.org', 'mailmetrash.com', 'tempinbox.com', 'beefmilk.com', 'dingbone.com', 'fatflap.com', 'fudgerub.com', 'lookugly.com', 'smellfear.com', 'instantemailaddress.com', 'dacoolest.com', 'junk1e.com', 'throwawayemailaddress.com', 'tempail.com', 'iroid.com', 'uroid.com', 'dudmail.com', 'scatmail.com', 'trayna.com', 'spamdecoy.net', 'dharmatel.net', 'slave-auctions.net', 'deadchildren.org', 'ntlhelp.net', 'throwawaymail.com', 'tempmail2.com', '12minutemail.com', '20minutemail.com', '24hourmail.com', 'anonymbox.com', 'deadaddress.com', 'dispostable.com', 'emailisvalid.com', 'eyepaste.com', 'filzmail.com', 'fornow.eu', 'freemail.ms', 'hmamail.com', 'incognitomail.com', 'incognitomail.org', 'jetable.org', 'keepmymail.com', 'mailcatch.com', 'mailexpire.com', 'mailme24.com', 'mailnesia.com', 'meltmail.com', 'no-spam.ws', 'nospamfor.us', 'nowmymail.com', 'postacin.com', 'sneakemail.com', 'spam.su', 'spam-be-gone.com', 'spamavert.com', 'spamfree24.org', 'spamgourmet.com', 'sofimail.com', 'tempemail.net', 'trashmail.ws', 'receiveee.com', 'rk9.chickenkiller.com', 'receiveee.chickenkiller.com', 'mailseal.de']\n"
          ]
        }
      ],
      "source": [
        "with open(\"blacklisted.txt\",\"r\") as file:\n",
        "    # we'll read that into a variable called tweets\n",
        "    blacklisted_domains = list(map(lambda d: d.strip(), file.readlines()))\n",
        "\n",
        "print(blacklisted_domains)"
      ]
    },
    {
      "cell_type": "code",
      "execution_count": 62,
      "metadata": {
        "id": "f7JP9zMUwJPs"
      },
      "outputs": [],
      "source": [
        "# How we will test your implementation\n",
        "\n",
        "# Example of an email that should be classified as spam by your code\n",
        "example_spam = \"URGENT! This email is being sent to all the employees with NYUAD email address. For security reasons, we are resetting the passwords of all the users. To verify your identity, please send us your NYUAD email address, and password to NYUAD-ADMIN@mailinator.net. Note that, except a few email addresses, you should not share your password with anyone else. More specifically, only trusted email addresses are NYUAD-ADMIN@mailinator.net, cybersecurity-awareness-training@bobmail.info, and nyuad-it@sogetthis.com.\"\n",
        "\n",
        "# Example of an email that should be classified as not-spam by your code\n",
        "example_non_spam = \"Dear NYUAD community. This is to inform that we will have a scheduled workday maintainance on 28/3/2021. As a result, workday will be inaccessible on 28/3/2021. For any questions contact nyuad.it@nyu.edu. Best, NYUAD IT Team\"\n",
        "\n",
        "# Example of an email that is spam but should be classified as non-spam by your code\n",
        "example_non_spam2 = \"URGENT! I am a student at NYUAD, and I am seeking your help in transferring a sum of $100000 into your bank account. Please go to the following link: www.winbig.com\"\n",
        "\n",
        "# If your implementation is correct, the following lines should not give error\n",
        "assert(True == is_spam(example_spam, blacklisted_domains))\n",
        "assert(False == is_spam(example_non_spam, blacklisted_domains))\n",
        "assert(False == is_spam(example_non_spam2, blacklisted_domains))"
      ]
    },
    {
      "cell_type": "markdown",
      "metadata": {
        "id": "09pzHYo9SXcr"
      },
      "source": [
        "## Rubric\n",
        "\n",
        "- +20 points for correctness (regex pattern returns the desired output)\n",
        "- +5 points for conciseness (code and the regex pattern is concise)"
      ]
    },
    {
      "cell_type": "markdown",
      "metadata": {
        "id": "iYMDiX-KonUI"
      },
      "source": [
        "# Part II: You have just won $10000000 (25 points)\n",
        "\n",
        "If you give it some thought, you would understand that creating a perfect spam detector is a tough task. Modern spam detectors use machine learning-based algorithms. They are not perfect though, and arguably they never will be, simply because as spam detectors get better, so do the spammers.\n",
        "\n",
        "For a long time though, many of the email spam-detectors were actually an ensemble of *rule-based classifiers* as you just created above using regex. These rules can be arbitrarily complex.\n",
        "\n",
        "In this part, we want you to improve your implementation of the the spam detector above. Many of the spam emails like the `example_non_spam2` above actually specify a big amount in their emails that they are allegedly going to transfer to your bank account -- the classic case of *foreign lottery scam*.  In this task, we want you to write a function `is_lottery_spam(email_str)` that takes in an email string same as above, and returns `True` if the email body contains an amount greater than \\$100. If not, it returns `False`.\n",
        "\n",
        "Notes:\n",
        "\n",
        "1. For simplicity, you can assume that the amount is always preceded by a `$` sign and does not contain any decimals or commas.\n",
        "\n",
        "2. Your solution should be regex based, should not use iterations (loops, map, etc.), and should be no more than a couple of lines.\n",
        "\n",
        "3. Note that your final regex solution should not match \\$100, and only amount *greater* than \\$100 should match, so you can start forming your regex by relaxing that condition.\n"
      ]
    },
    {
      "cell_type": "code",
      "execution_count": 63,
      "metadata": {
        "id": "zzLjSt732XlQ"
      },
      "outputs": [],
      "source": [
        "# Write your code below this line\n",
        "\n",
        "######### SOLUTION #########\n",
        "def is_lottery_spam(email_str):\n",
        "    # Use regex to to find any amounts greater than $100 in the email string\n",
        "    \n",
        "    # Finding any strings with $ followed by 3 or more digits\n",
        "    # i.e., $100, $101, $999 etc.\n",
        "    amounts = re.findall(r'\\$(\\d{3,})', email_str)\n",
        "    # Check if any of the amounts is greater than $100\n",
        "    return any(int(amount) > 100 for amount in amounts)\n",
        "\n",
        "# Note that even something like $010, etc should work with our implementation\n",
        "# Since we cast all string amounts to integers before checking if they are greater than 100\n",
        "\n",
        "######### SOLUTION END #########\n"
      ]
    },
    {
      "cell_type": "code",
      "execution_count": 64,
      "metadata": {
        "id": "-g_y0-JQ_rTb"
      },
      "outputs": [
        {
          "name": "stdout",
          "output_type": "stream",
          "text": [
            "All Passed\n"
          ]
        }
      ],
      "source": [
        "'''\n",
        "- If your implementation is correct, the following lines should not give error.\n",
        "- If you may notice, we have created sort of an ensemble here checking if the\n",
        "email is spam using both of the detectors you have created.\n",
        "'''\n",
        "\n",
        "assert(True == is_lottery_spam(example_spam) or is_spam(example_spam, blacklisted_domains))\n",
        "assert(False == is_lottery_spam(example_non_spam) or is_spam(example_non_spam, blacklisted_domains))\n",
        "assert(True == is_lottery_spam(example_non_spam2) or is_spam(example_non_spam2, blacklisted_domains))\n",
        "\n",
        "# Testing edge cases\n",
        "example_non_spam3 = \"URGENT! I am a student at NYUAD, and I am seeking your help in transferring a sum of 100 into your bank account. Please go to the following link: www.winbig.com\"\n",
        "example_non_spam4 = \"URGENT! I am a student at NYUAD, and I am seeking your help in transferring a sum of $100 into your bank account. Please go to the following link: www.winbig.com\"\n",
        "example_non_spam5 = \"URGENT! I am a student at NYUAD, and I am seeking your help in transferring a sum of $ 1010 into your bank account. Please go to the following link: www.winbig.com\"\n",
        "example_non_spam6 = \"URGENT! I am a student at NYUAD, and I am seeking your help in transferring a sum of $000 into your bank account. Please go to the following link: www.winbig.com\"\n",
        "example_non_spam7 = \"URGENT! I am a student at NYUAD, and I am seeking your help in transferring a sum of $99 into your bank account. Please go to the following link: www.winbig.com\"\n",
        "example_non_spam8 = \"URGENT! I am a student at NYUAD, and I am seeking your help in transferring a sum of $11 into your bank account. Please go to the following link: www.winbig.com\"\n",
        "\n",
        "assert(False == is_lottery_spam(example_non_spam3))\n",
        "assert(False == is_lottery_spam(example_non_spam4))\n",
        "assert(False == is_lottery_spam(example_non_spam5))\n",
        "assert(False == is_lottery_spam(example_non_spam6))\n",
        "assert(False == is_lottery_spam(example_non_spam7))\n",
        "assert(False == is_lottery_spam(example_non_spam8))\n",
        "\n",
        "example_spam2 = \"URGENT! I am a student at NYUAD, and I am seeking your help in transferring a sum of $1000 into your bank account. Please go to the following link: www.winbig.com\"\n",
        "example_spam3 = \"URGENT! I am a student at NYUAD, and I am seeking your help in transferring a sum of $101 into your bank account. Please go to the following link: www.winbig.com\"\n",
        "example_spam4 = \"URGENT! I am a student at NYUAD, and I am seeking your help in transferring a sum of $2010 into your bank account. Please go to the following link: www.winbig.com\"\n",
        "\n",
        "assert(True == is_lottery_spam(example_spam2))\n",
        "assert(True == is_lottery_spam(example_spam3))\n",
        "assert(True == is_lottery_spam(example_spam4))\n",
        "print(\"All Passed\")"
      ]
    },
    {
      "cell_type": "markdown",
      "metadata": {
        "id": "SYERJ6rwSaP_"
      },
      "source": [
        "## Rubric\n",
        "\n",
        "- +20 points for correctness (regex pattern returns the desired output)\n",
        "- +5 points for conciseness (code and the regex pattern is concise)"
      ]
    }
  ],
  "metadata": {
    "colab": {
      "collapsed_sections": [
        "PUxdctIdxU6B"
      ],
      "provenance": [],
      "toc_visible": true
    },
    "kernelspec": {
      "display_name": "Python 3",
      "name": "python3"
    },
    "language_info": {
      "codemirror_mode": {
        "name": "ipython",
        "version": 3
      },
      "file_extension": ".py",
      "mimetype": "text/x-python",
      "name": "python",
      "nbconvert_exporter": "python",
      "pygments_lexer": "ipython3",
      "version": "3.11.0"
    }
  },
  "nbformat": 4,
  "nbformat_minor": 0
}
