{
  "cells": [
    {
      "cell_type": "markdown",
      "metadata": {
        "id": "PUxdctIdxU6B"
      },
      "source": [
        "---\n",
        "---\n",
        "Recitation 5: Pandas I\n",
        "\n",
        "Applied Data Science in Python for Social Scientists\n",
        "\n",
        "New York University, Abu Dhabi\n",
        "\n",
        "Dated: 26th Sept 2023\n",
        "\n",
        "---\n",
        "---\n",
        "#Start Here\n",
        "## Learning Goals\n",
        "### General Goals\n",
        "- Get hands on experience on data processing\n",
        "- Learn Pandas library\n",
        "\n",
        "### Specific Goals\n",
        "- Accessing Data in DataFrames/Series\n",
        "- Loading and indexing DataFrames/Series\n",
        "- Vectorization and Boradcasting\n",
        "- Querying DataFrames using Boolean Masks\n",
        "\n",
        "## Distribution of Class Materials\n",
        "These problem sets and recitations are intellectual property of NYUAD, and we request the students to **not** distribute them or their solutions to other students who have not signed up for this class, and/or intend to sign up in the future. We also request you don't post these problem sets, and recitations online or on any public platforms.\n",
        "\n",
        "## Submission\n",
        "You will submit all your code as a Python Notebook through [Brightspace](https://brightspace.nyu.edu/) as **R5_YOUR NETID.ipynb**.\n",
        "\n",
        "---\n",
        "\n",
        "\n"
      ]
    },
    {
      "cell_type": "markdown",
      "metadata": {
        "id": "UPMDlF4mjG6v"
      },
      "source": [
        "# General Instructions\n",
        "This recitation is worth 50 points. It has 5 parts. All the parts need to be completed in a Jupyter (Colab) Notebook attached with this handout.\n",
        "\n"
      ]
    },
    {
      "cell_type": "markdown",
      "metadata": {
        "id": "MGy3gQL-NKvr"
      },
      "source": [
        "# How happy are you, and why?\n",
        "\n",
        "Think of a ladder as a way of picturing your life. The top of the ladder represents the best possible life for you. The bottom rung of the ladder represents the worst possible life for you. If the ladder has 10 steps, where would you describe your current life to be?\n",
        "\n",
        "What are the factors explaining that score: Your income?; freedom to make life choices?; health?; corruption around you?; your social support?; or something else?\n",
        "\n",
        "How do you think this score differs across countries?\n",
        "\n",
        "![split-apply-combine](https://drive.google.com/uc?id=1QC2rFCO54XfDo51qwH1Am_T-ijmQW9C-)\n",
        "\n",
        "This score is known as **Cantril ladder** or **Ladder score** named after the famous psychologist *Hadley Cantril* from Princeton.\n",
        "\n",
        "Now *Gallup* is an American analytics and advisory company that conducts worldwide surveys and polls every year. One of their annual published reports, called the **World Happiness Report**, *ranks* countries based on the aforementioned subjective ladder score. To understand what factors contribute to that score, they also juxtapose this score with following other variables:\n",
        "\n",
        "1. *GDP per capita*: Computed using the World Development Indicators (WDI) released by the World Bank.\n",
        "\n",
        "2. *Health life expectancy* : Based on data from the World Health Organization (WHO) Global Health Observatory data repository.\n",
        "\n",
        "3. *Social support*: The national average of the binary responses (either 0 or 1) to the Gallup World Poll (GWP) question **\"If you were in trouble, do you have relatives or friends you can count on to help you whenever you need them, or not?\"**\n",
        "\n",
        "4. *Freedom to make life choices*: The national average of binary responses to the GWP question **\"Are you satisfied or dissatisfied with your freedom to choose what you do with your life?\"**\n",
        "\n",
        "5. *Perception of corruption*: The average of binary answers to two questions: **\"Is corruption widespread throughout the government or not?\"** and **\"Is corruption widespread within businesses or not?\"**\n",
        "\n",
        "For all the variables above, the larger the value the better except for *Perception of corruption*.\n",
        "\n",
        "The report is typically based on surveying about 1000 subjects per country. For this recitation, we will assume the number of subjects surveyed per country was *exactly* 1000.\n",
        "\n",
        "We have provided you this data as a \"csv\" file called *happiness.csv*.\n",
        "\n",
        "In this recitation, you will use your knoweldge of pandas from class to do some data exploration using this file."
      ]
    },
    {
      "cell_type": "markdown",
      "metadata": {
        "id": "3SWf22cCjQNY"
      },
      "source": [
        "## Part I: Warming Up (5 points)\n",
        "\n",
        "Load the *happiness.csv* file as a DataFrame, and view the top 10 rows."
      ]
    },
    {
      "cell_type": "code",
      "execution_count": 57,
      "metadata": {
        "id": "8jTPgJIO24Pa"
      },
      "outputs": [
        {
          "data": {
            "text/html": [
              "<div>\n",
              "<style scoped>\n",
              "    .dataframe tbody tr th:only-of-type {\n",
              "        vertical-align: middle;\n",
              "    }\n",
              "\n",
              "    .dataframe tbody tr th {\n",
              "        vertical-align: top;\n",
              "    }\n",
              "\n",
              "    .dataframe thead th {\n",
              "        text-align: right;\n",
              "    }\n",
              "</style>\n",
              "<table border=\"1\" class=\"dataframe\">\n",
              "  <thead>\n",
              "    <tr style=\"text-align: right;\">\n",
              "      <th></th>\n",
              "      <th>Country name</th>\n",
              "      <th>Regional indicator</th>\n",
              "      <th>Ladder score</th>\n",
              "      <th>Logged GDP per capita</th>\n",
              "      <th>Social support</th>\n",
              "      <th>Healthy life expectancy</th>\n",
              "      <th>Freedom to make life choices</th>\n",
              "      <th>Generosity</th>\n",
              "      <th>Perceptions of corruption</th>\n",
              "    </tr>\n",
              "  </thead>\n",
              "  <tbody>\n",
              "    <tr>\n",
              "      <th>0</th>\n",
              "      <td>Luxembourg</td>\n",
              "      <td>Western Europe</td>\n",
              "      <td>7.2375</td>\n",
              "      <td>11.450681</td>\n",
              "      <td>0.906912</td>\n",
              "      <td>72.599998</td>\n",
              "      <td>0.905636</td>\n",
              "      <td>-0.004621</td>\n",
              "      <td>0.367084</td>\n",
              "    </tr>\n",
              "    <tr>\n",
              "      <th>1</th>\n",
              "      <td>Singapore</td>\n",
              "      <td>Southeast Asia</td>\n",
              "      <td>6.3771</td>\n",
              "      <td>11.395521</td>\n",
              "      <td>0.910269</td>\n",
              "      <td>76.804581</td>\n",
              "      <td>0.926645</td>\n",
              "      <td>0.029879</td>\n",
              "      <td>0.109784</td>\n",
              "    </tr>\n",
              "    <tr>\n",
              "      <th>2</th>\n",
              "      <td>Ireland</td>\n",
              "      <td>Western Europe</td>\n",
              "      <td>7.0937</td>\n",
              "      <td>11.160978</td>\n",
              "      <td>0.942082</td>\n",
              "      <td>72.300789</td>\n",
              "      <td>0.886983</td>\n",
              "      <td>0.145785</td>\n",
              "      <td>0.357184</td>\n",
              "    </tr>\n",
              "    <tr>\n",
              "      <th>3</th>\n",
              "      <td>United Arab Emirates</td>\n",
              "      <td>Middle East and North Africa</td>\n",
              "      <td>6.7908</td>\n",
              "      <td>11.109999</td>\n",
              "      <td>0.849181</td>\n",
              "      <td>67.082787</td>\n",
              "      <td>0.941346</td>\n",
              "      <td>0.123451</td>\n",
              "      <td>0.594502</td>\n",
              "    </tr>\n",
              "    <tr>\n",
              "      <th>4</th>\n",
              "      <td>Kuwait</td>\n",
              "      <td>Middle East and North Africa</td>\n",
              "      <td>6.1021</td>\n",
              "      <td>11.089825</td>\n",
              "      <td>0.846475</td>\n",
              "      <td>66.767647</td>\n",
              "      <td>0.872366</td>\n",
              "      <td>-0.100185</td>\n",
              "      <td>0.760849</td>\n",
              "    </tr>\n",
              "    <tr>\n",
              "      <th>5</th>\n",
              "      <td>Norway</td>\n",
              "      <td>Western Europe</td>\n",
              "      <td>7.4880</td>\n",
              "      <td>11.087804</td>\n",
              "      <td>0.952487</td>\n",
              "      <td>73.200783</td>\n",
              "      <td>0.955750</td>\n",
              "      <td>0.134533</td>\n",
              "      <td>0.263218</td>\n",
              "    </tr>\n",
              "    <tr>\n",
              "      <th>6</th>\n",
              "      <td>Switzerland</td>\n",
              "      <td>Western Europe</td>\n",
              "      <td>7.5599</td>\n",
              "      <td>10.979933</td>\n",
              "      <td>0.942847</td>\n",
              "      <td>74.102448</td>\n",
              "      <td>0.921337</td>\n",
              "      <td>0.105911</td>\n",
              "      <td>0.303728</td>\n",
              "    </tr>\n",
              "    <tr>\n",
              "      <th>7</th>\n",
              "      <td>Hong Kong S.A.R. of China</td>\n",
              "      <td>East Asia</td>\n",
              "      <td>5.5104</td>\n",
              "      <td>10.934671</td>\n",
              "      <td>0.845969</td>\n",
              "      <td>76.771706</td>\n",
              "      <td>0.779834</td>\n",
              "      <td>0.134980</td>\n",
              "      <td>0.420607</td>\n",
              "    </tr>\n",
              "    <tr>\n",
              "      <th>8</th>\n",
              "      <td>United States</td>\n",
              "      <td>North America and ANZ</td>\n",
              "      <td>6.9396</td>\n",
              "      <td>10.925769</td>\n",
              "      <td>0.914219</td>\n",
              "      <td>68.299500</td>\n",
              "      <td>0.842620</td>\n",
              "      <td>0.149892</td>\n",
              "      <td>0.699715</td>\n",
              "    </tr>\n",
              "    <tr>\n",
              "      <th>9</th>\n",
              "      <td>Netherlands</td>\n",
              "      <td>Western Europe</td>\n",
              "      <td>7.4489</td>\n",
              "      <td>10.812712</td>\n",
              "      <td>0.939139</td>\n",
              "      <td>72.300919</td>\n",
              "      <td>0.908548</td>\n",
              "      <td>0.207612</td>\n",
              "      <td>0.364717</td>\n",
              "    </tr>\n",
              "  </tbody>\n",
              "</table>\n",
              "</div>"
            ],
            "text/plain": [
              "                Country name            Regional indicator  Ladder score  \\\n",
              "0                 Luxembourg                Western Europe        7.2375   \n",
              "1                  Singapore                Southeast Asia        6.3771   \n",
              "2                    Ireland                Western Europe        7.0937   \n",
              "3       United Arab Emirates  Middle East and North Africa        6.7908   \n",
              "4                     Kuwait  Middle East and North Africa        6.1021   \n",
              "5                     Norway                Western Europe        7.4880   \n",
              "6                Switzerland                Western Europe        7.5599   \n",
              "7  Hong Kong S.A.R. of China                     East Asia        5.5104   \n",
              "8              United States         North America and ANZ        6.9396   \n",
              "9                Netherlands                Western Europe        7.4489   \n",
              "\n",
              "   Logged GDP per capita  Social support  Healthy life expectancy  \\\n",
              "0              11.450681        0.906912                72.599998   \n",
              "1              11.395521        0.910269                76.804581   \n",
              "2              11.160978        0.942082                72.300789   \n",
              "3              11.109999        0.849181                67.082787   \n",
              "4              11.089825        0.846475                66.767647   \n",
              "5              11.087804        0.952487                73.200783   \n",
              "6              10.979933        0.942847                74.102448   \n",
              "7              10.934671        0.845969                76.771706   \n",
              "8              10.925769        0.914219                68.299500   \n",
              "9              10.812712        0.939139                72.300919   \n",
              "\n",
              "   Freedom to make life choices  Generosity  Perceptions of corruption  \n",
              "0                      0.905636   -0.004621                   0.367084  \n",
              "1                      0.926645    0.029879                   0.109784  \n",
              "2                      0.886983    0.145785                   0.357184  \n",
              "3                      0.941346    0.123451                   0.594502  \n",
              "4                      0.872366   -0.100185                   0.760849  \n",
              "5                      0.955750    0.134533                   0.263218  \n",
              "6                      0.921337    0.105911                   0.303728  \n",
              "7                      0.779834    0.134980                   0.420607  \n",
              "8                      0.842620    0.149892                   0.699715  \n",
              "9                      0.908548    0.207612                   0.364717  "
            ]
          },
          "execution_count": 57,
          "metadata": {},
          "output_type": "execute_result"
        }
      ],
      "source": [
        "# Write your implementation of the function below this line\n",
        "\n",
        "######### SOLUTION #########\n",
        "import pandas as pd\n",
        "\n",
        "happiness_df = pd.read_csv('./happiness.csv') # Please use the appropriate path to the dataset on your machine\n",
        "happiness_df.head(10) # Display the first 10 rows of the dataset\n",
        "\n",
        "######### SOLUTION END #########"
      ]
    },
    {
      "cell_type": "markdown",
      "metadata": {
        "id": "TgIwxwQQXtMp"
      },
      "source": [
        "### Rubric\n",
        "\n",
        "- +5 points for correctness"
      ]
    },
    {
      "cell_type": "markdown",
      "metadata": {
        "id": "AORs-0rkn9Rf"
      },
      "source": [
        "## Part II: Dropping Data (10 points)\n",
        "\n",
        "There is an extra column in the csv file with the name *Generosity* that we would like to drop. We would also like to drop all the rows with NaNs. Write code below to do that using Pandas.\n",
        "\n",
        "Your code should be no more than 2 lines of code."
      ]
    },
    {
      "cell_type": "code",
      "execution_count": 58,
      "metadata": {
        "id": "LZrWB7-KnPIc"
      },
      "outputs": [],
      "source": [
        "# Write your code below this line\n",
        "\n",
        "######### SOLUTION #########\n",
        "happiness_df.drop('Generosity', axis=1, inplace=True) # Drop the Generosity column\n",
        "happiness_df.dropna(inplace=True) # Drop all rows with missing values\n",
        "\n",
        "######### SOLUTION END #########"
      ]
    },
    {
      "cell_type": "markdown",
      "metadata": {
        "id": "s9Vpw3zDXro4"
      },
      "source": [
        "### Rubric\n",
        "\n",
        "- +5 points for correctness\n",
        "- +3 points for conciseness\n",
        "- +2 points for comments"
      ]
    },
    {
      "cell_type": "markdown",
      "metadata": {
        "id": "PtkdcVRKkakn"
      },
      "source": [
        "## Part III: Renaming Columns (5 points)\n",
        "\n",
        "For the ease of access, we would like to change the casing of all the columns in the DataFrame to lower case. Write code below to accomplish that.\n",
        "\n",
        "Your code should be no more than 3 lines of code."
      ]
    },
    {
      "cell_type": "code",
      "execution_count": 59,
      "metadata": {
        "id": "IWKYTHN7lPId"
      },
      "outputs": [],
      "source": [
        "# Write your code below this line\n",
        "\n",
        "######### SOLUTION #########\n",
        "# Make all columns lowercase\n",
        "happiness_df.columns = [column.lower() for column in happiness_df.columns]\n",
        "\n",
        "######### SOLUTION END #########"
      ]
    },
    {
      "cell_type": "markdown",
      "metadata": {
        "id": "G2hAKfjvXouz"
      },
      "source": [
        "### Rubric\n",
        "\n",
        "- +5 points for correctness\n",
        "- +3 points for conciseness\n",
        "- +2 points for comments"
      ]
    },
    {
      "cell_type": "markdown",
      "metadata": {
        "id": "iYMDiX-KonUI"
      },
      "source": [
        "## Part IV: Where should you migrate? (10 points)\n",
        "\n",
        "Everybody wants to live a happy life, and so you have decided that after graduation you would like to move to a country where you can live a happy life. Your criteria is to find a country with\n",
        "\n",
        "1. high ladder score (> 6.0)\n",
        "1. high logged GDP per capita (> 11.0)\n",
        "2. high social support (> 0.80)\n",
        "3. high healthy life expectancy (> 65.0)\n",
        "4. high freedom to make life choices (> 0.90)\n",
        "5. low perceived corruption (<= 0.60)\n",
        "\n",
        "Which countries qualify for migration? Are you living in a happy country? :)\n",
        "\n",
        "Your code should be no more than two to three lines of code."
      ]
    },
    {
      "cell_type": "code",
      "execution_count": 60,
      "metadata": {
        "id": "zzLjSt732XlQ"
      },
      "outputs": [
        {
          "data": {
            "text/html": [
              "<div>\n",
              "<style scoped>\n",
              "    .dataframe tbody tr th:only-of-type {\n",
              "        vertical-align: middle;\n",
              "    }\n",
              "\n",
              "    .dataframe tbody tr th {\n",
              "        vertical-align: top;\n",
              "    }\n",
              "\n",
              "    .dataframe thead th {\n",
              "        text-align: right;\n",
              "    }\n",
              "</style>\n",
              "<table border=\"1\" class=\"dataframe\">\n",
              "  <thead>\n",
              "    <tr style=\"text-align: right;\">\n",
              "      <th></th>\n",
              "      <th>country name</th>\n",
              "      <th>regional indicator</th>\n",
              "      <th>ladder score</th>\n",
              "      <th>logged gdp per capita</th>\n",
              "      <th>social support</th>\n",
              "      <th>healthy life expectancy</th>\n",
              "      <th>freedom to make life choices</th>\n",
              "      <th>perceptions of corruption</th>\n",
              "    </tr>\n",
              "  </thead>\n",
              "  <tbody>\n",
              "    <tr>\n",
              "      <th>0</th>\n",
              "      <td>Luxembourg</td>\n",
              "      <td>Western Europe</td>\n",
              "      <td>7.2375</td>\n",
              "      <td>11.450681</td>\n",
              "      <td>0.906912</td>\n",
              "      <td>72.599998</td>\n",
              "      <td>0.905636</td>\n",
              "      <td>0.367084</td>\n",
              "    </tr>\n",
              "    <tr>\n",
              "      <th>1</th>\n",
              "      <td>Singapore</td>\n",
              "      <td>Southeast Asia</td>\n",
              "      <td>6.3771</td>\n",
              "      <td>11.395521</td>\n",
              "      <td>0.910269</td>\n",
              "      <td>76.804581</td>\n",
              "      <td>0.926645</td>\n",
              "      <td>0.109784</td>\n",
              "    </tr>\n",
              "    <tr>\n",
              "      <th>3</th>\n",
              "      <td>United Arab Emirates</td>\n",
              "      <td>Middle East and North Africa</td>\n",
              "      <td>6.7908</td>\n",
              "      <td>11.109999</td>\n",
              "      <td>0.849181</td>\n",
              "      <td>67.082787</td>\n",
              "      <td>0.941346</td>\n",
              "      <td>0.594502</td>\n",
              "    </tr>\n",
              "    <tr>\n",
              "      <th>5</th>\n",
              "      <td>Norway</td>\n",
              "      <td>Western Europe</td>\n",
              "      <td>7.4880</td>\n",
              "      <td>11.087804</td>\n",
              "      <td>0.952487</td>\n",
              "      <td>73.200783</td>\n",
              "      <td>0.955750</td>\n",
              "      <td>0.263218</td>\n",
              "    </tr>\n",
              "  </tbody>\n",
              "</table>\n",
              "</div>"
            ],
            "text/plain": [
              "           country name            regional indicator  ladder score  \\\n",
              "0            Luxembourg                Western Europe        7.2375   \n",
              "1             Singapore                Southeast Asia        6.3771   \n",
              "3  United Arab Emirates  Middle East and North Africa        6.7908   \n",
              "5                Norway                Western Europe        7.4880   \n",
              "\n",
              "   logged gdp per capita  social support  healthy life expectancy  \\\n",
              "0              11.450681        0.906912                72.599998   \n",
              "1              11.395521        0.910269                76.804581   \n",
              "3              11.109999        0.849181                67.082787   \n",
              "5              11.087804        0.952487                73.200783   \n",
              "\n",
              "   freedom to make life choices  perceptions of corruption  \n",
              "0                      0.905636                   0.367084  \n",
              "1                      0.926645                   0.109784  \n",
              "3                      0.941346                   0.594502  \n",
              "5                      0.955750                   0.263218  "
            ]
          },
          "execution_count": 60,
          "metadata": {},
          "output_type": "execute_result"
        }
      ],
      "source": [
        "# Write your code below this line\n",
        "\n",
        "######### SOLUTION #########\n",
        "happiness_df[(happiness_df['ladder score'] > 6.0) & (happiness_df['logged gdp per capita'] > 11.0) & (happiness_df['social support'] > 0.80) & (happiness_df['healthy life expectancy'] > 65.0) & (happiness_df['freedom to make life choices'] > 0.90) & (happiness_df['perceptions of corruption'] <= 0.60)]\n",
        "\n",
        "######### SOLUTION END #########"
      ]
    },
    {
      "cell_type": "markdown",
      "metadata": {
        "id": "Z8gJUQ89XYiG"
      },
      "source": [
        "### Rubric\n",
        "\n",
        "- +5 points for correctness\n",
        "- +3 points for conciseness\n",
        "- +2 points for comments"
      ]
    },
    {
      "cell_type": "markdown",
      "metadata": {
        "id": "i7AJgPwZj0_l"
      },
      "source": [
        "## Part V: Happy regions (20 points)\n",
        "\n",
        "If you may notice, the data you loaded has a column indicating regions. We would like to compute the mean ladder score of all the different regions. To accomplish that:\n",
        "\n",
        "1. Identify all the unique regions in your data.\n",
        "2. Compute the average ladder score per region.\n",
        "3. Create a new dataframe with two columns **\"region\"** and **\"ladder score\"**.\n",
        "\n",
        "Which region is the happiest as per the average ladder score?\n",
        "\n",
        "In the next class, we will see a much efficient method to accomplish this task.\n",
        "\n",
        "Our reference solution is no more than 7 lines of code.\n"
      ]
    },
    {
      "cell_type": "code",
      "execution_count": 61,
      "metadata": {
        "id": "Kz4ANcJynn6s"
      },
      "outputs": [
        {
          "name": "stdout",
          "output_type": "stream",
          "text": [
            "                                    ladder score\n",
            "regional indicator                              \n",
            "Central and Eastern Europe              5.853844\n",
            "Commonwealth of Independent States      5.358342\n",
            "East Asia                               5.714850\n",
            "Latin America and Caribbean             5.981786\n",
            "Middle East and North Africa            5.227159\n",
            "North America and ANZ                   7.173525\n",
            "South Asia                              4.475443\n",
            "Southeast Asia                          5.383367\n",
            "Sub-Saharan Africa                      4.373358\n",
            "Western Europe                          6.899219\n",
            "The happiest region is North America and ANZ with a mean ladder score of 7.17352497575\n"
          ]
        }
      ],
      "source": [
        "# Write your code below this line\n",
        "\n",
        "######### SOLUTION #########\n",
        "unique_regions = happiness_df['regional indicator'].unique() # identify the unique regions\n",
        "mean_ladder_score = happiness_df.groupby('regional indicator')['ladder score'].mean() # compute the mean ladder score per region\n",
        "mean_ladder_score_df = pd.DataFrame(mean_ladder_score) # create a dataframe from the mean ladder score\n",
        "\n",
        "print(mean_ladder_score_df)\n",
        "happiest_region, highest_ladder_score =  mean_ladder_score_df.idxmax(), mean_ladder_score_df.max() # identify the happiest region\n",
        "print(f'The happiest region is {happiest_region[0]} with a mean ladder score of {highest_ladder_score[0]}')\n",
        "\n",
        "######### SOLUTION END #########"
      ]
    },
    {
      "cell_type": "markdown",
      "metadata": {
        "id": "exIC2pziXV1V"
      },
      "source": [
        "### Rubric\n",
        "\n",
        "- +10 points for correctness\n",
        "- +8 points for conciseness\n",
        "- +2 points for comments\n"
      ]
    }
  ],
  "metadata": {
    "colab": {
      "collapsed_sections": [
        "PUxdctIdxU6B"
      ],
      "provenance": [],
      "toc_visible": true
    },
    "kernelspec": {
      "display_name": "Python 3",
      "name": "python3"
    },
    "language_info": {
      "codemirror_mode": {
        "name": "ipython",
        "version": 3
      },
      "file_extension": ".py",
      "mimetype": "text/x-python",
      "name": "python",
      "nbconvert_exporter": "python",
      "pygments_lexer": "ipython3",
      "version": "3.11.0"
    }
  },
  "nbformat": 4,
  "nbformat_minor": 0
}
